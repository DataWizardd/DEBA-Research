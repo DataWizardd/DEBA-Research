{
 "cells": [
  {
   "cell_type": "markdown",
   "id": "f0450752",
   "metadata": {},
   "source": [
    "## 글로벌과 한국의 Ageism 검색 트렌드 분석 및 24년도 전망 <a class=\"anchor\" id=\"chapter1\"></a>\n",
    "\n",
    "\n",
    "- 구글에서 Ageism 관련 검색의 트렌드가 과거 10년전부터 현재에 이르기까기 어떻게 달라지고 있는지 분석하고, 인공지능으로 과거 데이터를 학습하여 2024년을 예측\n",
    "\n",
    "\n",
    "> **\"전 세계적인 저출산/고령화 이슈로 Ageism 관심이 증가하고 있고 그 중에서 한국의 인구구조 급격한 변화로 그 관심이 더욱 증가되는 경향\"**\n",
    "\n",
    "> - **글로벌 관심도:** **92% 정확성**으로 **24년도에도 지속적 증가**할 것으로 예측\n",
    "\n",
    "> - **한국 관심도:** **95% 정확성**으로 **24년도에는 한국의 저출산 및 고령화로 급격하게 증가**할 것으로 예측\n",
    "\n",
    "\n",
    "<center><img src='Result/GT.png' width='1200'></center>\n",
    "\n"
   ]
  },
  {
   "cell_type": "markdown",
   "id": "968140db",
   "metadata": {},
   "source": [
    "## 한국의 Ageism 관련 뉴스 데이터 <a class=\"anchor\" id=\"chapter2\"></a>\n",
    "\n",
    "- 한국의 구글과 네이버 뉴스에서 Ageism 관련 검색으로 보도되는 기사를 분석\n",
    "\n",
    "> **\"2013년 ~ 2023년까지 약 24만6,213건의 뉴스가 발행되었고, 고령화(64.4%)가 Ageism 관련 검색어로 기사에 가장 많이 등장하는 단어이며, 매일경제(8.09%)가 가장 많이 Ageism 관련된 기사를 발행\"**\n",
    "> - Ageism 관련 **검색어 약 40종**에 대한 **방송사 5종 + 전국일간지 11종 + 경제일간지 8종 + 전문지 2종** 대상 **국제 + 경제 + 사회 + 문화** 섹션의 데이터 수집\n",
    "> 1. KBS, MBC, SBS, YTN, OBS\n",
    "> 2. 경향신문, 국민일보, 내일신문, 동아일보, 문화일보, 서울신문, 세계일보, 조선일보, 중앙일보, 한겨례, 한국일보\n",
    "> 3. 매일경제, 머니투데이, 서울경제, 아시아경제, 아주경제, 파이낸셜뉴스, 한국경제, 헤럴드경제\n",
    "> 4. 디지털타임즈, 전자신문\n",
    ">\n",
    "> - 전체 약 24만건 중 **고령화(64.4%) > 세대 갈등(11.9%) > 안락사(6.03%) > 노인 의료(5.23%) > 알츠하이머(4.78%)** 가 Ageism 관련 뉴스의 Top5 검색어로 도출 \n",
    ">\n",
    "> <center><img src='Result/News_StatKeywordFilter.png' width='800'></center>\n",
    ">\n",
    "> - 기사 약 24만건 중 **매일경제(8.09%)** 가 Ageism 뉴스를 가장 많이 발행하였고 이어서 헤럴드경제(7.75%) > 아시아경제(7.05%) 순으로 보도 \n",
    ">\n",
    "> <center><img src='Result/News_StatPress.png' width='800'></center>"
   ]
  },
  {
   "cell_type": "markdown",
   "id": "427f4e8d",
   "metadata": {},
   "source": [
    "## 한국의 Ageism 뉴스 트렌드 <a class=\"anchor\" id=\"chapter3\"></a>\n",
    "\n",
    "- 한국의 구글 및 네이버 뉴스에서 Ageism 관련 검색어로 보도되는 기사 분석\n",
    "\n",
    "> **\"한국은 가장 빠르게 고령화되고 있는 초고령사회에 진입을 앞둔 국가로,  Ageism 관련 뉴스 발행의 양도 빠르게 증가하는 중\"**\n",
    "> - **사회 분야 뉴스가 고령사회 진입 이후 42.99%로 가장 많이 증가**했고 **경제(22.32%) > 국제(12.48%) > 문화(6.62%) 순서**로 파악\n",
    ">\n",
    "> <center><img src='Result/News_TrendCategory.png' width='800'></center>\n",
    "\n",
    "\n",
    ">\n",
    "> - 2018년 고령사회 진입 전 **월 평균 약 121.82건**이던 Ageism 뉴스는 고령사회 진입 후 **월 평균 171.96건** 으로 약 41.16% 증가\n",
    ">\n",
    "> <center><img src='Result/News_TrendMeanStd.png' width='800'></center>\n",
    "\n",
    "\n",
    ">\n",
    "> **\"고령화, 노인소득, 노인주거, 노인혐오, 돌봄서비스, 세대갈등, 연령통합 등의 키워드가 지속적으로, 최근 증가하는 Ageism 관심 검색어\"**\n",
    "\n",
    "\n",
    "> - 코로나19 시기로 인해 급격히 감소했던 **고령화** 키워드는 대신, 비슷한 시기에 **노인+의료** 로 대체되어 증폭되는 현상 발생\n",
    ">\n",
    "\n",
    "> - 점차 증가하는 노인 인구로 인해 이들을 부양해야 하는 **다른 세대의 경제적 부담**이 커지게 되었고 이러한 현실을 보도하는 뉴스가 지속적으로 발행됨에 따라, 전 연령대의 대중에게도 **반복적으로 학습되어 갈등을 극대화**\n",
    ">\n",
    "\n",
    "> - 고령사회 진입 이후 **노년층의 경제적 자립**에 대해서도 강조하게 되었고, 노인과 관련된 **주거 및 노인 대상의 돌봄서비스** 키워드의 검색어도 증가하는 추세\n",
    ">\n",
    "\n",
    "> - 부정적인 **사회 분야**의 뉴스 기사가 많아질수록, **세대 갈등이나 노인 혐오**에 대한 키워드도 증가하였고 이와 **동시에 세대 간 갈등을 봉합하기 위한 세대 통합** 역시 강조\n",
    ">\n",
    "\n",
    "> - 사회적, 정책적, 경제적인 측면에서 **다양한 연령대 및 세대 간의 이해의 필요성과 세대 간 관계 개선 및 협력을 촉진하기 위한 정책과 사회적 공감에 대한 강조가 지속적으로 등장**\n",
    "\n",
    "\n",
    "> \n",
    "> <center><img src='Result/News_TrendKeyword1.png' width='800'></center>\n",
    ">\n",
    "> <center><img src='Result/News_TrendKeyword2.png' width='800'></center>\n"
   ]
  },
  {
   "cell_type": "markdown",
   "id": "a3ece0b4",
   "metadata": {},
   "source": [
    "## 한국의 Ageism 뉴스 컨텐츠 한눈에\n",
    "\n",
    "- **\"2018년 고령사회 진입 전후**로 Ageism 관련 키워드 투입 시, 검색되는 기사들의 주요 키워드를 **워드 클라우드 분석으로 수행**한 결과, **삶과 직결될 수 있는 건강(치매), 일자리, 경제, 지원과 같은 단어가 주로 등장하는 것을 발견\"**\n",
    "\n",
    "\n",
    "> - **고령사회 이전** 에는 **건강 > 치매 > 일자리 > 경제 > 지원 > 고령화 > 노후 등** 의 순으로 키워드가 강조되었고, **예방이나, 복지, 가족, 재취업** 등의 키워드가 존재했으며, **청년** 키워드도 겨우 **20위권에 등장** \n",
    "\n",
    "\n",
    "> - **고령사회 이후**에는 건강 중에서도 구체적으로 폭발적인 관심을 받은 **치매 > 지원 > 일자리 > 경제 > 확대 > 사회 > 필요 > 위험 등** 의 순으로 키워드가 등장한 반면, **상위권에 등장했던 노후와 고령화는 아래로 하락**, **고용 키워드의 등장**, 그리고 **청년 키워드는 상위로 급등**\n",
    "\n",
    "> \n",
    "> <center><img src='Result/News_TrendSummary.png' width='1000'></center>\n",
    "\n",
    "---\n",
    "\n",
    "- 뉴스에 담겨있는 **감정을 분석**함으로써 대중에게 어떤 뉘앙스로 영향을 미치고 있는지 파악하는 **감성 분석 실시**\n",
    "\n",
    "> **\"대중에게 Ageism 관련하여 지속적으로 부정적인 뉴스가 더 많이 보도되고 있고, 고령사회 진입을 기점으로 더욱 급격히 증가하는 추세\"**\n",
    "\n",
    "> - **고령사회 진입 이후**로 노인과 관련된 **부정적인 뉴스가 증가**하고 있으며, 그 중에서도 앞서 언급한 바와 같이 특히 사회 섹션에서 인구 구조상 늘어가는 노년층을 대상화하여 **부정적 뉴스 가파르게 폭증**\n",
    "\n",
    ">\n",
    "> <center><img src='Result/News_SentimentAll.png' width='800'></center>\n",
    ">\n",
    "> <center><img src='Result/News_SentimentSocial.png' width='800'></center>\n",
    ">\n",
    "\n",
    "> - 사회면에서 다뤄지는 부정적인 기사들 속 키워드 중에는 **고령화**가 있으며, 특히 **급속도로 고령화되고 있는 우리나라 국민들에게 저출산 고령화의 문제를 인식**시키고 경각심을 갖게 하기 위해 **부정적 뉴스도 함께 증가**\n",
    ">\n",
    "> <center><img src='Result/News_Sentiment_고령화.png' width='800'></center>\n",
    ">\n",
    "\n",
    "> - 늘어가는 노인 인구, 이러한 노인 인구를 부양해야 하는 중장년 및 청년세대의 부양 부담으로 인해 **노후에 대한 키워드도 증가**\n",
    ">\n",
    "> <center><img src='Result/News_Sentiment_노후.png' width='800'></center>\n",
    "\n",
    ">\n",
    "> - 아울러 **사회적으로 돌봄**이 필요한 대상인 **노인들을 케어하기 위해 복지시설에 대한 키워드**를 다루는 기사 역시 **증가**하는 추세\n",
    ">\n",
    "> <center><img src='Result/News_Sentiment_복지시설.png' width='800'></center>\n",
    ">\n",
    "\n",
    "> - 핵가족화, 핵개인화, 독거노인을 비롯한 1인가구의 증가 등 **전통적으로 인식하던 가족의 의미가 달라지고, 세대 + 가족에 대한 기사들도 부정적인 어조로 발행**\n",
    ">\n",
    "> <center><img src='Result/News_Sentiment_세대가족.png' width='800'></center>\n",
    "\n",
    ">\n",
    "> - 이러한 단면들이 쌓여 **세대 간 갈등이 증가**하게 되었고, **세대 간 교류 및 이해 증진을 필요로 하는 연령 통합의 중요성**에도 그렇지 못한 현 작금의 사태에 대해 꼬집는 **부정적인 기사가 증가하는 추세**\n",
    ">\n",
    "> <center><img src='Result/News_Sentiment_세대갈등.png' width='800'></center>\n",
    ">\n",
    "\n",
    "> <center><img src='Result/News_Sentiment_연령통합.png' width='800'></center>\n"
   ]
  }
 ],
 "metadata": {
  "hide_input": false,
  "kernelspec": {
   "display_name": "Python 3 (ipykernel)",
   "language": "python",
   "name": "python3"
  },
  "language_info": {
   "codemirror_mode": {
    "name": "ipython",
    "version": 3
   },
   "file_extension": ".py",
   "mimetype": "text/x-python",
   "name": "python",
   "nbconvert_exporter": "python",
   "pygments_lexer": "ipython3",
   "version": "3.11.5"
  },
  "toc": {
   "base_numbering": 1,
   "nav_menu": {},
   "number_sections": true,
   "sideBar": true,
   "skip_h1_title": false,
   "title_cell": "Table of Contents",
   "title_sidebar": "Contents",
   "toc_cell": false,
   "toc_position": {
    "height": "calc(100% - 180px)",
    "left": "10px",
    "top": "150px",
    "width": "255.594px"
   },
   "toc_section_display": true,
   "toc_window_display": true
  },
  "varInspector": {
   "cols": {
    "lenName": 16,
    "lenType": 16,
    "lenVar": 40
   },
   "kernels_config": {
    "python": {
     "delete_cmd_postfix": "",
     "delete_cmd_prefix": "del ",
     "library": "var_list.py",
     "varRefreshCmd": "print(var_dic_list())"
    },
    "r": {
     "delete_cmd_postfix": ") ",
     "delete_cmd_prefix": "rm(",
     "library": "var_list.r",
     "varRefreshCmd": "cat(var_dic_list()) "
    }
   },
   "types_to_exclude": [
    "module",
    "function",
    "builtin_function_or_method",
    "instance",
    "_Feature"
   ],
   "window_display": false
  }
 },
 "nbformat": 4,
 "nbformat_minor": 5
}
