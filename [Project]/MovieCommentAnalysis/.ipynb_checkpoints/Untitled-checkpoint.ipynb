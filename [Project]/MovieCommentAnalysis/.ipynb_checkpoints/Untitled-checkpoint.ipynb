{
 "cells": [
  {
   "cell_type": "code",
   "execution_count": 5,
   "id": "587535fe-8714-4d35-8cfa-abbe94826401",
   "metadata": {
    "execution": {
     "iopub.execute_input": "2025-02-04T06:02:42.975796Z",
     "iopub.status.busy": "2025-02-04T06:02:42.974965Z",
     "iopub.status.idle": "2025-02-04T06:02:43.260733Z",
     "shell.execute_reply": "2025-02-04T06:02:43.260105Z",
     "shell.execute_reply.started": "2025-02-04T06:02:42.975752Z"
    }
   },
   "outputs": [
    {
     "name": "stdout",
     "output_type": "stream",
     "text": [
      "Cuda is Ready?  True\n",
      "\n",
      "Tensorflow Version:  2.18.0\n",
      "Keras Version:  3.7.0\n",
      "Torch Version:  2.5.0+cu124\n"
     ]
    }
   ],
   "source": [
    "# Ignore the warnings\n",
    "import warnings\n",
    "# warnings.filterwarnings('always')\n",
    "warnings.filterwarnings('ignore')\n",
    "\n",
    "# System related and data input controls\n",
    "import os\n",
    "\n",
    "# Auto reload of library\n",
    "%reload_ext autoreload\n",
    "%autoreload 2\n",
    "\n",
    "# Python path\n",
    "import sys\n",
    "base_folder = 'DataScience'\n",
    "location_base = os.path.join(os.getcwd().split(base_folder)[0], base_folder)\n",
    "location_module = [os.path.join(location_base, 'Module')] \n",
    "for each in location_module:\n",
    "    if each not in sys.path:\n",
    "        sys.path.append(each)\n",
    "\n",
    "from import_KK import *\n",
    "DeviceStrategy_CPU()\n",
    "from data_KK import *\n",
    "from description_KK import *\n",
    "from preprocessing_KK import *\n",
    "from preprocessing_text_KK import * ##\n",
    "from algorithm_textmining_KK import * ##\n",
    "from evaluation_KK import *\n",
    "from visualization_KK import *"
   ]
  },
  {
   "cell_type": "markdown",
   "id": "300b77ad-7ef6-4580-9b4d-85c4d8f451f6",
   "metadata": {},
   "source": [
    "# Hyperparameters"
   ]
  },
  {
   "cell_type": "code",
   "execution_count": null,
   "id": "c1936e09-5f28-456a-ad85-7170b39206cd",
   "metadata": {
    "execution": {
     "iopub.execute_input": "2025-02-04T06:02:48.671064Z",
     "iopub.status.busy": "2025-02-04T06:02:48.669346Z",
     "iopub.status.idle": "2025-02-04T06:05:33.886161Z",
     "shell.execute_reply": "2025-02-04T06:05:33.885149Z",
     "shell.execute_reply.started": "2025-02-04T06:02:48.670987Z"
    }
   },
   "outputs": [],
   "source": [
    "# Hyperparameters\n",
    "## Preprocessing\n",
    "# MODEL_NAME = 'kykim/bert-kor-base'\n",
    "MODEL_NAME = 'beomi/kcbert-base'\n",
    "LABEL_LIST = [1,0]\n",
    "VAL_SIZE = 0.2\n",
    "RANDOM_SEED = 123\n",
    "WORD_MAXLEN = 256\n",
    "## Modeling\n",
    "SAMPLE_SIZE = None\n",
    "EPOCHS = 10\n",
    "BATCH = 256\n",
    "LOSS = 'accuracy'\n",
    "EVAL_STRATEGY = 'epoch'\n",
    "OUTPUT_DIR = 'outputs'\n",
    "## Prediction\n",
    "TASK = 'text-classification'\n",
    "MODEL_SAVE_PATH = os.path.join('.', 'Model')"
   ]
  },
  {
   "cell_type": "markdown",
   "id": "0150c156-bc28-4b36-973f-466a6c0569ac",
   "metadata": {},
   "source": [
    "# Sentiment Analysis"
   ]
  },
  {
   "cell_type": "code",
   "execution_count": null,
   "id": "8f67d805-ac3d-46fc-842a-b5b4fea7d0f5",
   "metadata": {
    "execution": {
     "iopub.execute_input": "2025-02-04T06:02:48.671064Z",
     "iopub.status.busy": "2025-02-04T06:02:48.669346Z",
     "iopub.status.idle": "2025-02-04T06:05:33.886161Z",
     "shell.execute_reply": "2025-02-04T06:05:33.885149Z",
     "shell.execute_reply.started": "2025-02-04T06:02:48.670987Z"
    }
   },
   "outputs": [
    {
     "data": {
      "application/vnd.jupyter.widget-view+json": {
       "model_id": "52646b92976b4e44a9e7f6715bd95273",
       "version_major": 2,
       "version_minor": 0
      },
      "text/plain": [
       "Map:   0%|          | 0/9201 [00:00<?, ? examples/s]"
      ]
     },
     "metadata": {},
     "output_type": "display_data"
    },
    {
     "data": {
      "application/vnd.jupyter.widget-view+json": {
       "model_id": "c814a418a7ee4c46ad21276315b55adf",
       "version_major": 2,
       "version_minor": 0
      },
      "text/plain": [
       "Map:   0%|          | 0/2301 [00:00<?, ? examples/s]"
      ]
     },
     "metadata": {},
     "output_type": "display_data"
    },
    {
     "data": {
      "application/vnd.jupyter.widget-view+json": {
       "model_id": "e3ea2afdc2224eedb2def472431ebb83",
       "version_major": 2,
       "version_minor": 0
      },
      "text/plain": [
       "Map:   0%|          | 0/49301 [00:00<?, ? examples/s]"
      ]
     },
     "metadata": {},
     "output_type": "display_data"
    },
    {
     "name": "stderr",
     "output_type": "stream",
     "text": [
      "Some weights of BertForSequenceClassification were not initialized from the model checkpoint at beomi/kcbert-base and are newly initialized: ['classifier.bias', 'classifier.weight']\n",
      "You should probably TRAIN this model on a down-stream task to be able to use it for predictions and inference.\n"
     ]
    },
    {
     "data": {
      "text/html": [
       "\n",
       "    <div>\n",
       "      \n",
       "      <progress value='9' max='9' style='width:300px; height:20px; vertical-align: middle;'></progress>\n",
       "      [9/9 02:19, Epoch 2/3]\n",
       "    </div>\n",
       "    <table border=\"1\" class=\"dataframe\">\n",
       "  <thead>\n",
       " <tr style=\"text-align: left;\">\n",
       "      <th>Epoch</th>\n",
       "      <th>Training Loss</th>\n",
       "      <th>Validation Loss</th>\n",
       "      <th>Accuracy</th>\n",
       "    </tr>\n",
       "  </thead>\n",
       "  <tbody>\n",
       "    <tr>\n",
       "      <td>1</td>\n",
       "      <td>No log</td>\n",
       "      <td>0.705214</td>\n",
       "      <td>0.490000</td>\n",
       "    </tr>\n",
       "    <tr>\n",
       "      <td>2</td>\n",
       "      <td>No log</td>\n",
       "      <td>0.700442</td>\n",
       "      <td>0.520000</td>\n",
       "    </tr>\n",
       "  </tbody>\n",
       "</table><p>"
      ],
      "text/plain": [
       "<IPython.core.display.HTML object>"
      ]
     },
     "metadata": {},
     "output_type": "display_data"
    }
   ],
   "source": [
    "# Data Loading\n",
    "df = df_total = pd.read_csv(os.path.join(os.getcwd(), 'Data', 'df_moviefilter_prep_(1,3).csv'), encoding='utf-8-sig')\n",
    "df['Rating_Binary'] = df.Rating.apply(lambda x: 1 if x>=7 else (0 if 0<=x<=3 else -1))\n",
    "df['Rating_Multi'] = df.Rating.apply(lambda x: 10 if x>=9 else (8 if x>=7 else (6 if x>=5 else (4 if x>=3 else (2 if x>=1 else (0 if x>=0 else -1))))))\n",
    "df['Like_Binary'] = df.Like.apply(lambda x: 1 if x > 0 else 0)\n",
    "df['Dislike_Binary'] = df.Dislike.apply(lambda x: -1 if x > 0 else 0)\n",
    "df = df[['Movie', 'Opening', 'Source', 'User', 'Viewing', 'Rating', 'Rating_Binary', 'Rating_Multi',\n",
    "         'Like', 'Like_Binary', 'Dislike', 'Dislike_Binary', 'Comment', 'Comment_Prep', \n",
    "         'Token_SoyNLP', 'Token_TF-IDF', 'Token_KeyBERT']]\n",
    "\n",
    "ds = preprocessing_df2Datasets(MODEL_NAME, df[['Rating_Binary', 'Comment']], \n",
    "                               label_list=LABEL_LIST, val_size=VAL_SIZE, \n",
    "                               random_seed=RANDOM_SEED, max_length=WORD_MAXLEN)\n",
    "\n",
    "# Modeling\n",
    "trainer = modeling_SequenceClassification(MODEL_NAME, \n",
    "                                          ds, sample_size=SAMPLE_SIZE,\n",
    "                                          train_epochs=EPOCHS,\n",
    "                                          loss=LOSS,\n",
    "                                          eval_strategy=EVAL_STRATEGY,\n",
    "                                          output_dir=OUTPUT_DIR)    \n",
    "\n",
    "# Prediction\n",
    "test_pred = prediction_SequenceClassification(task=TASK, model_path=MODEL_SAVE_PATH, \n",
    "                                              ds_test_text=ds['test']['text'])"
   ]
  },
  {
   "cell_type": "code",
   "execution_count": null,
   "id": "b9af9bd6-5a37-46f2-aada-7cc5e99d6cc6",
   "metadata": {},
   "outputs": [],
   "source": [
    "# df Rating_Binary에 붙이기\n",
    "# 전처리에서 영어발라내기"
   ]
  },
  {
   "cell_type": "code",
   "execution_count": null,
   "id": "7d988c95-71e8-4041-be11-37902034db2c",
   "metadata": {},
   "outputs": [],
   "source": []
  },
  {
   "cell_type": "code",
   "execution_count": null,
   "id": "bbc4c90c-5111-46c1-a416-1ac4b3cded01",
   "metadata": {},
   "outputs": [],
   "source": []
  },
  {
   "cell_type": "code",
   "execution_count": null,
   "id": "46590a54-8409-4852-89db-9ef6b551ea3d",
   "metadata": {},
   "outputs": [],
   "source": []
  },
  {
   "cell_type": "code",
   "execution_count": null,
   "id": "f2ecc609-2bc7-49a5-afe6-f67ff6bc6b9e",
   "metadata": {},
   "outputs": [],
   "source": []
  },
  {
   "cell_type": "code",
   "execution_count": null,
   "id": "00009556-27bd-43fc-b312-008f63de3942",
   "metadata": {},
   "outputs": [],
   "source": []
  }
 ],
 "metadata": {
  "kernelspec": {
   "display_name": "py312_cuda126dnn960",
   "language": "python",
   "name": "py312_cuda126dnn960"
  },
  "language_info": {
   "codemirror_mode": {
    "name": "ipython",
    "version": 3
   },
   "file_extension": ".py",
   "mimetype": "text/x-python",
   "name": "python",
   "nbconvert_exporter": "python",
   "pygments_lexer": "ipython3",
   "version": "3.12.2"
  }
 },
 "nbformat": 4,
 "nbformat_minor": 5
}
