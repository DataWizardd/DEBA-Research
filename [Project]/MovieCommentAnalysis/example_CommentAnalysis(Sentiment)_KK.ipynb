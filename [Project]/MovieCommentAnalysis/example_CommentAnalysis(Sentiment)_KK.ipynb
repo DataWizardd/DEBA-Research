{
 "cells": [
  {
   "cell_type": "code",
   "execution_count": 2,
   "id": "587535fe-8714-4d35-8cfa-abbe94826401",
   "metadata": {
    "execution": {
     "iopub.execute_input": "2025-02-25T12:46:45.802279Z",
     "iopub.status.busy": "2025-02-25T12:46:45.801351Z",
     "iopub.status.idle": "2025-02-25T12:46:46.162783Z",
     "shell.execute_reply": "2025-02-25T12:46:46.161506Z",
     "shell.execute_reply.started": "2025-02-25T12:46:45.802253Z"
    }
   },
   "outputs": [
    {
     "name": "stdout",
     "output_type": "stream",
     "text": [
      "Cuda is Ready?  True\n",
      "Cuda Version:  12.5.1\n",
      "Cudnn Version:  9 \n",
      "\n",
      "Tensorflow Version:  2.18.0\n",
      "Keras Version:  3.7.0\n",
      "Torch Version:  2.5.0+cu124\n",
      "Torch Cuda Version: 12.4\n",
      "Torch Cudnn Version:90600 \n",
      "\n",
      "There are 1 GPU(s) available.\n",
      "We will use the GPU: NVIDIA GeForce RTX 4070 Laptop GPU\n"
     ]
    },
    {
     "name": "stderr",
     "output_type": "stream",
     "text": [
      "2025-02-25 21:46:47,840\tINFO worker.py:1777 -- Started a local Ray instance. View the dashboard at \u001b[1m\u001b[32mhttp://127.0.0.1:8266 \u001b[39m\u001b[22m\n",
      "[nltk_data] Downloading package stopwords to /home/kk/nltk_data...\n",
      "[nltk_data]   Package stopwords is already up-to-date!\n",
      "[nltk_data] Downloading package punkt to /home/kk/nltk_data...\n",
      "[nltk_data]   Package punkt is already up-to-date!\n"
     ]
    }
   ],
   "source": [
    "# Ignore the warnings\n",
    "import warnings\n",
    "# warnings.filterwarnings('always')\n",
    "warnings.filterwarnings('ignore')\n",
    "\n",
    "# System related and data input controls\n",
    "import os\n",
    "\n",
    "# Auto reload of library\n",
    "%reload_ext autoreload\n",
    "%autoreload 2\n",
    "\n",
    "# Python path\n",
    "import sys\n",
    "base_folder = 'DataScience'\n",
    "location_base = os.path.join(os.getcwd().split(base_folder)[0], base_folder)\n",
    "location_module = [os.path.join(location_base, 'Module')] \n",
    "for each in location_module:\n",
    "    if each not in sys.path:\n",
    "        sys.path.append(each)\n",
    "\n",
    "from import_KK import *\n",
    "DeviceStrategy_GPU()\n",
    "from data_KK import *\n",
    "from description_KK import *\n",
    "from preprocessing_KK import *\n",
    "from preprocessing_text_KK import * ##\n",
    "from algorithm_textmining_KK import * ##\n",
    "from evaluation_KK import *\n",
    "from visualization_KK import *\n",
    "\n",
    "FONT_NAME = 'malgun'\n",
    "plt.rc('font', family=FONT_NAME) \n",
    "plt.rcParams['font.family'] = FONT_NAME\n",
    "mpl.rc('font', family=FONT_NAME)\n",
    "sns.set(font=FONT_NAME) \n",
    "sys_font = font_manager.findSystemFonts()\n",
    "FONT_PATHS = [path for path in sys_font if 'malgun' in path]\n",
    "if len(FONT_PATHS) != 0:\n",
    "    rc('font', family=font_manager.FontProperties(fname=FONT_PATHS[0]).get_name())"
   ]
  },
  {
   "cell_type": "markdown",
   "id": "0150c156-bc28-4b36-973f-466a6c0569ac",
   "metadata": {},
   "source": [
    "# Sentiment Analysis (3 Labels)"
   ]
  },
  {
   "cell_type": "code",
   "execution_count": null,
   "id": "48a99660-30a4-44bc-a542-95b61ac43214",
   "metadata": {},
   "outputs": [],
   "source": [
    "# 데이터 파라미터\n",
    "SOURCE_NAME = 'df_prep_(1,2).csv'\n",
    "COLNAME_LABEL = 'Rating_Multi'\n",
    "COLNAME_TARGET = 'Comment_Prep'\n",
    "# 전처리모델 파라미터\n",
    "# MODEL_NAME = 'tabularisai/multilingual-sentiment-analysis'\n",
    "# MODEL_NAME = 'daekeun-ml/koelectra-small-v3-nsmc'\n",
    "# MODEL_NAME = 'klue/bert-base'\n",
    "# MODEL_NAME = 'hun3359/klue-bert-base-sentiment'\n",
    "MODEL_NAME = 'kykim/bert-kor-base'\n",
    "# MODEL_NAME = 'beomi/kcbert-base'\n",
    "BINS = [0,3,8,10]\n",
    "LABELS = list(range(len(BINS)))[:-1]\n",
    "VAL_SIZE = 0.2\n",
    "RANDOM_SEED = 123\n",
    "WORD_MAXLEN = 512\n",
    "SAMPLE_SIZE = None\n",
    "EPOCHS = 10\n",
    "BATCH = 256\n",
    "LOSS = 'accuracy'\n",
    "EVAL_STRATEGY = 'epoch'\n",
    "OUTPUT_DIR = 'outputs'\n",
    "# 예측 파라미터\n",
    "TASK = 'text-classification'\n",
    "SAVE_PATH_MODEL = os.path.join('.', 'Model', MODEL_NAME.split('/')[1]+'_'+str(len(LABELS))+'Label_'+SOURCE_NAME.split('.')[0])"
   ]
  },
  {
   "cell_type": "code",
   "execution_count": null,
   "id": "429113aa-62a2-4102-ac0d-b1b2f196f4f9",
   "metadata": {
    "execution": {
     "iopub.execute_input": "2025-02-25T13:18:10.443585Z",
     "iopub.status.busy": "2025-02-25T13:18:10.443292Z",
     "iopub.status.idle": "2025-02-25T13:18:24.295663Z",
     "shell.execute_reply": "2025-02-25T13:18:24.293680Z",
     "shell.execute_reply.started": "2025-02-25T13:18:10.443556Z"
    }
   },
   "outputs": [],
   "source": [
    "# Data Loading\n",
    "df = pd.read_csv(os.path.join('.', 'Data', SOURCE_NAME), encoding='utf-8-sig')\n",
    "df[COLNAME_LABEL] = feature_num_CategBin(df['Rating'], bins=BINS, labels=LABELS)\n",
    "ds = preprocessing_df2Datasets(MODEL_NAME, df[[COLNAME_LABEL, COLNAME_TARGET]], \n",
    "                               label_list=LABELS, val_size=VAL_SIZE, \n",
    "                               random_seed=RANDOM_SEED, max_length=WORD_MAXLEN)"
   ]
  },
  {
   "cell_type": "code",
   "execution_count": null,
   "id": "d8d27599-edd5-4d78-8cac-3ded9caf3134",
   "metadata": {
    "execution": {
     "iopub.execute_input": "2025-02-25T13:18:10.443585Z",
     "iopub.status.busy": "2025-02-25T13:18:10.443292Z",
     "iopub.status.idle": "2025-02-25T13:18:24.295663Z",
     "shell.execute_reply": "2025-02-25T13:18:24.293680Z",
     "shell.execute_reply.started": "2025-02-25T13:18:10.443556Z"
    }
   },
   "outputs": [
    {
     "data": {
      "text/html": [
       "<div>\n",
       "<style scoped>\n",
       "    .dataframe tbody tr th:only-of-type {\n",
       "        vertical-align: middle;\n",
       "    }\n",
       "\n",
       "    .dataframe tbody tr th {\n",
       "        vertical-align: top;\n",
       "    }\n",
       "\n",
       "    .dataframe thead th {\n",
       "        text-align: right;\n",
       "    }\n",
       "</style>\n",
       "<table border=\"1\" class=\"dataframe\">\n",
       "  <thead>\n",
       "    <tr style=\"text-align: right;\">\n",
       "      <th></th>\n",
       "      <th>count</th>\n",
       "    </tr>\n",
       "    <tr>\n",
       "      <th>Rating</th>\n",
       "      <th></th>\n",
       "    </tr>\n",
       "  </thead>\n",
       "  <tbody>\n",
       "    <tr>\n",
       "      <th>0</th>\n",
       "      <td>5193</td>\n",
       "    </tr>\n",
       "    <tr>\n",
       "      <th>1</th>\n",
       "      <td>20167</td>\n",
       "    </tr>\n",
       "    <tr>\n",
       "      <th>2</th>\n",
       "      <td>5315</td>\n",
       "    </tr>\n",
       "    <tr>\n",
       "      <th>-1</th>\n",
       "      <td>30128</td>\n",
       "    </tr>\n",
       "  </tbody>\n",
       "</table>\n",
       "</div>"
      ],
      "text/plain": [
       "        count\n",
       "Rating       \n",
       "0        5193\n",
       "1       20167\n",
       "2        5315\n",
       "-1      30128"
      ]
     },
     "metadata": {},
     "output_type": "display_data"
    },
    {
     "data": {
      "application/vnd.jupyter.widget-view+json": {
       "model_id": "2648a9ba9b8647069bdd31983caac47d",
       "version_major": 2,
       "version_minor": 0
      },
      "text/plain": [
       "Map:   0%|          | 0/24540 [00:00<?, ? examples/s]"
      ]
     },
     "metadata": {},
     "output_type": "display_data"
    },
    {
     "data": {
      "application/vnd.jupyter.widget-view+json": {
       "model_id": "a68531ba8faa4582858b4669a747ae75",
       "version_major": 2,
       "version_minor": 0
      },
      "text/plain": [
       "Map:   0%|          | 0/6135 [00:00<?, ? examples/s]"
      ]
     },
     "metadata": {},
     "output_type": "display_data"
    },
    {
     "data": {
      "application/vnd.jupyter.widget-view+json": {
       "model_id": "930b6707e07f4f638b48dbeaa211108b",
       "version_major": 2,
       "version_minor": 0
      },
      "text/plain": [
       "Map:   0%|          | 0/30128 [00:00<?, ? examples/s]"
      ]
     },
     "metadata": {},
     "output_type": "display_data"
    }
   ],
   "source": [
    "# Modeling\n",
    "trainer, history = modeling_SequenceClassification(MODEL_NAME, \n",
    "                                                   ds, sample_size=SAMPLE_SIZE,\n",
    "                                                   train_epochs=EPOCHS,\n",
    "                                                   loss=LOSS,\n",
    "                                                   eval_strategy=EVAL_STRATEGY,\n",
    "                                                   output_dir=OUTPUT_DIR,\n",
    "                                                   save_folder=SAVE_PATH_MODEL)    \n",
    "\n",
    "# Prediction\n",
    "test_pred = prediction_SequenceClassification(task=TASK, model_path=SAVE_PATH_MODEL, \n",
    "                                              ds_test_text=ds['test']['text'])\n",
    "## Replacing\n",
    "for idx, pred in zip(df[df[COLNAME_LABEL] == -1].index, test_pred):\n",
    "    df.loc[idx, COLNAME_LABEL] = pred[0]\n",
    "    df.loc[idx, COLNAME_LABEL+'_Prob'] = pred[1]\n",
    "df.to_csv(os.path.join('.', 'Data', SOURCE_NAME.split('.')[0]+'_pred('+MODEL_NAME.split('/')[1]+'_'+str(len(LABELS))+'Label).csv'), \n",
    "          encoding='utf-8-sig')"
   ]
  },
  {
   "cell_type": "markdown",
   "id": "98cb3179-2e5e-4989-a033-26af04d4b983",
   "metadata": {},
   "source": [
    "# Sentiment Analysis (2 Labels)"
   ]
  },
  {
   "cell_type": "code",
   "execution_count": 39,
   "id": "8df9763f-14ce-4604-98e3-583dae181b31",
   "metadata": {
    "execution": {
     "iopub.execute_input": "2025-02-25T13:30:01.620610Z",
     "iopub.status.busy": "2025-02-25T13:30:01.619983Z",
     "iopub.status.idle": "2025-02-25T13:30:01.807977Z",
     "shell.execute_reply": "2025-02-25T13:30:01.807295Z",
     "shell.execute_reply.started": "2025-02-25T13:30:01.620573Z"
    }
   },
   "outputs": [],
   "source": [
    "# 데이터 파라미터\n",
    "SOURCE_NAME = 'df_prep_(1,2).csv'\n",
    "COLNAME_LABEL = 'Rating_Multi'\n",
    "COLNAME_TARGET = 'Comment_Prep'\n",
    "# 전처리모델 파라미터\n",
    "# MODEL_NAME = 'tabularisai/multilingual-sentiment-analysis'\n",
    "# MODEL_NAME = 'daekeun-ml/koelectra-small-v3-nsmc'\n",
    "# MODEL_NAME = 'klue/bert-base'\n",
    "# MODEL_NAME = 'hun3359/klue-bert-base-sentiment'\n",
    "MODEL_NAME = 'kykim/bert-kor-base'\n",
    "# MODEL_NAME = 'beomi/kcbert-base'\n",
    "BINS = [0,5,10]\n",
    "LABELS = list(range(len(BINS)))[:-1]\n",
    "VAL_SIZE = 0.2\n",
    "RANDOM_SEED = 123\n",
    "WORD_MAXLEN = 512\n",
    "SAMPLE_SIZE = None\n",
    "EPOCHS = 10\n",
    "BATCH = 256\n",
    "LOSS = 'accuracy'\n",
    "EVAL_STRATEGY = 'epoch'\n",
    "OUTPUT_DIR = 'outputs'\n",
    "# 예측 파라미터\n",
    "TASK = 'text-classification'\n",
    "SAVE_PATH_MODEL = os.path.join('.', 'Model', MODEL_NAME.split('/')[1]+'_'+str(len(LABELS))+'Label_'+SOURCE_NAME.split('.')[0])"
   ]
  },
  {
   "cell_type": "code",
   "execution_count": 40,
   "id": "057fc62f-9fca-4caa-8160-5207df6f9d0c",
   "metadata": {
    "execution": {
     "iopub.execute_input": "2025-02-25T13:30:02.139776Z",
     "iopub.status.busy": "2025-02-25T13:30:02.139500Z",
     "iopub.status.idle": "2025-02-25T13:30:10.534509Z",
     "shell.execute_reply": "2025-02-25T13:30:10.532722Z",
     "shell.execute_reply.started": "2025-02-25T13:30:02.139754Z"
    }
   },
   "outputs": [
    {
     "data": {
      "text/html": [
       "<div>\n",
       "<style scoped>\n",
       "    .dataframe tbody tr th:only-of-type {\n",
       "        vertical-align: middle;\n",
       "    }\n",
       "\n",
       "    .dataframe tbody tr th {\n",
       "        vertical-align: top;\n",
       "    }\n",
       "\n",
       "    .dataframe thead th {\n",
       "        text-align: right;\n",
       "    }\n",
       "</style>\n",
       "<table border=\"1\" class=\"dataframe\">\n",
       "  <thead>\n",
       "    <tr style=\"text-align: right;\">\n",
       "      <th></th>\n",
       "      <th>count</th>\n",
       "    </tr>\n",
       "    <tr>\n",
       "      <th>Rating</th>\n",
       "      <th></th>\n",
       "    </tr>\n",
       "  </thead>\n",
       "  <tbody>\n",
       "    <tr>\n",
       "      <th>0</th>\n",
       "      <td>24188</td>\n",
       "    </tr>\n",
       "    <tr>\n",
       "      <th>1</th>\n",
       "      <td>6487</td>\n",
       "    </tr>\n",
       "    <tr>\n",
       "      <th>-1</th>\n",
       "      <td>30128</td>\n",
       "    </tr>\n",
       "  </tbody>\n",
       "</table>\n",
       "</div>"
      ],
      "text/plain": [
       "        count\n",
       "Rating       \n",
       "0       24188\n",
       "1        6487\n",
       "-1      30128"
      ]
     },
     "metadata": {},
     "output_type": "display_data"
    },
    {
     "data": {
      "application/vnd.jupyter.widget-view+json": {
       "model_id": "d113b152b2c349ac86dae9edbf1dff7d",
       "version_major": 2,
       "version_minor": 0
      },
      "text/plain": [
       "Map:   0%|          | 0/24540 [00:00<?, ? examples/s]"
      ]
     },
     "metadata": {},
     "output_type": "display_data"
    },
    {
     "data": {
      "application/vnd.jupyter.widget-view+json": {
       "model_id": "0bb927665465470bb570bc86c5f1dcc7",
       "version_major": 2,
       "version_minor": 0
      },
      "text/plain": [
       "Map:   0%|          | 0/6135 [00:00<?, ? examples/s]"
      ]
     },
     "metadata": {},
     "output_type": "display_data"
    },
    {
     "data": {
      "application/vnd.jupyter.widget-view+json": {
       "model_id": "a058cfb17e854cf3a00271934e8e1166",
       "version_major": 2,
       "version_minor": 0
      },
      "text/plain": [
       "Map:   0%|          | 0/30128 [00:00<?, ? examples/s]"
      ]
     },
     "metadata": {},
     "output_type": "display_data"
    }
   ],
   "source": [
    "# Data Loading\n",
    "df = pd.read_csv(os.path.join('.', 'Data', SOURCE_NAME), encoding='utf-8-sig')\n",
    "df[COLNAME_LABEL] = feature_num_CategBin(df['Rating'], bins=BINS, labels=LABELS)\n",
    "ds = preprocessing_df2Datasets(MODEL_NAME, df[[COLNAME_LABEL, COLNAME_TARGET]], \n",
    "                               label_list=LABELS, val_size=VAL_SIZE, \n",
    "                               random_seed=RANDOM_SEED, max_length=WORD_MAXLEN)"
   ]
  },
  {
   "cell_type": "code",
   "execution_count": 41,
   "id": "8be1b686-807b-4b00-a4e5-da9b27532a60",
   "metadata": {
    "execution": {
     "iopub.execute_input": "2025-02-25T13:30:18.153147Z",
     "iopub.status.busy": "2025-02-25T13:30:18.152692Z",
     "iopub.status.idle": "2025-02-25T14:55:28.259774Z",
     "shell.execute_reply": "2025-02-25T14:55:28.258377Z",
     "shell.execute_reply.started": "2025-02-25T13:30:18.153120Z"
    }
   },
   "outputs": [
    {
     "name": "stderr",
     "output_type": "stream",
     "text": [
      "Some weights of BertForSequenceClassification were not initialized from the model checkpoint at kykim/bert-kor-base and are newly initialized: ['classifier.bias', 'classifier.weight']\n",
      "You should probably TRAIN this model on a down-stream task to be able to use it for predictions and inference.\n"
     ]
    },
    {
     "data": {
      "text/html": [
       "\n",
       "    <div>\n",
       "      \n",
       "      <progress value='7670' max='7670' style='width:300px; height:20px; vertical-align: middle;'></progress>\n",
       "      [7670/7670 1:20:33, Epoch 10/10]\n",
       "    </div>\n",
       "    <table border=\"1\" class=\"dataframe\">\n",
       "  <thead>\n",
       " <tr style=\"text-align: left;\">\n",
       "      <th>Epoch</th>\n",
       "      <th>Training Loss</th>\n",
       "      <th>Validation Loss</th>\n",
       "      <th>Accuracy</th>\n",
       "    </tr>\n",
       "  </thead>\n",
       "  <tbody>\n",
       "    <tr>\n",
       "      <td>1</td>\n",
       "      <td>0.422700</td>\n",
       "      <td>0.397635</td>\n",
       "      <td>0.852486</td>\n",
       "    </tr>\n",
       "    <tr>\n",
       "      <td>2</td>\n",
       "      <td>0.362100</td>\n",
       "      <td>0.447087</td>\n",
       "      <td>0.791361</td>\n",
       "    </tr>\n",
       "    <tr>\n",
       "      <td>3</td>\n",
       "      <td>0.285600</td>\n",
       "      <td>0.394001</td>\n",
       "      <td>0.837490</td>\n",
       "    </tr>\n",
       "    <tr>\n",
       "      <td>4</td>\n",
       "      <td>0.250300</td>\n",
       "      <td>0.432789</td>\n",
       "      <td>0.840098</td>\n",
       "    </tr>\n",
       "    <tr>\n",
       "      <td>5</td>\n",
       "      <td>0.217200</td>\n",
       "      <td>0.545247</td>\n",
       "      <td>0.828036</td>\n",
       "    </tr>\n",
       "    <tr>\n",
       "      <td>6</td>\n",
       "      <td>0.179400</td>\n",
       "      <td>0.536966</td>\n",
       "      <td>0.837816</td>\n",
       "    </tr>\n",
       "    <tr>\n",
       "      <td>7</td>\n",
       "      <td>0.154700</td>\n",
       "      <td>0.553820</td>\n",
       "      <td>0.836838</td>\n",
       "    </tr>\n",
       "    <tr>\n",
       "      <td>8</td>\n",
       "      <td>0.142100</td>\n",
       "      <td>0.563171</td>\n",
       "      <td>0.848900</td>\n",
       "    </tr>\n",
       "    <tr>\n",
       "      <td>9</td>\n",
       "      <td>0.127800</td>\n",
       "      <td>0.554462</td>\n",
       "      <td>0.839772</td>\n",
       "    </tr>\n",
       "    <tr>\n",
       "      <td>10</td>\n",
       "      <td>0.098600</td>\n",
       "      <td>0.623288</td>\n",
       "      <td>0.841402</td>\n",
       "    </tr>\n",
       "  </tbody>\n",
       "</table><p>"
      ],
      "text/plain": [
       "<IPython.core.display.HTML object>"
      ]
     },
     "metadata": {},
     "output_type": "display_data"
    },
    {
     "name": "stderr",
     "output_type": "stream",
     "text": [
      "Device set to use cuda:0\n"
     ]
    }
   ],
   "source": [
    "# Modeling\n",
    "trainer, history = modeling_SequenceClassification(MODEL_NAME, \n",
    "                                                   ds, sample_size=SAMPLE_SIZE,\n",
    "                                                   train_epochs=EPOCHS,\n",
    "                                                   loss=LOSS,\n",
    "                                                   eval_strategy=EVAL_STRATEGY,\n",
    "                                                   output_dir=OUTPUT_DIR,\n",
    "                                                   save_folder=SAVE_PATH_MODEL)    \n",
    "\n",
    "# Prediction\n",
    "test_pred = prediction_SequenceClassification(task=TASK, model_path=SAVE_PATH_MODEL, \n",
    "                                              ds_test_text=ds['test']['text'])\n",
    "## Replacing\n",
    "for idx, pred in zip(df[df[COLNAME_LABEL] == -1].index, test_pred):\n",
    "    df.loc[idx, COLNAME_LABEL] = pred[0]\n",
    "    df.loc[idx, COLNAME_LABEL+'_Prob'] = pred[1]\n",
    "df.to_csv(os.path.join('.', 'Data', SOURCE_NAME.split('.')[0]+'_pred('+MODEL_NAME.split('/')[1]+'_'+str(len(LABELS))+'Label).csv'), \n",
    "          encoding='utf-8-sig')"
   ]
  },
  {
   "cell_type": "code",
   "execution_count": null,
   "id": "973f1b89-31a1-4819-805b-bca092c71fdd",
   "metadata": {},
   "outputs": [],
   "source": []
  },
  {
   "cell_type": "code",
   "execution_count": null,
   "id": "d16e3be6-88f8-49bb-bd76-b649b2a503c0",
   "metadata": {},
   "outputs": [],
   "source": []
  },
  {
   "cell_type": "code",
   "execution_count": null,
   "id": "c385e942-98cc-4c43-a761-bb94e28e31eb",
   "metadata": {},
   "outputs": [],
   "source": []
  }
 ],
 "metadata": {
  "kernelspec": {
   "display_name": "Python 3 (ipykernel)",
   "language": "python",
   "name": "python3"
  },
  "language_info": {
   "codemirror_mode": {
    "name": "ipython",
    "version": 3
   },
   "file_extension": ".py",
   "mimetype": "text/x-python",
   "name": "python",
   "nbconvert_exporter": "python",
   "pygments_lexer": "ipython3",
   "version": "3.12.3"
  }
 },
 "nbformat": 4,
 "nbformat_minor": 5
}
