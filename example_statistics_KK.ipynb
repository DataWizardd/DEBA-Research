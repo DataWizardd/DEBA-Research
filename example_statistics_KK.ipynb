{
 "cells": [
  {
   "cell_type": "markdown",
   "id": "798cba35",
   "metadata": {},
   "source": [
    "# Library"
   ]
  },
  {
   "cell_type": "code",
   "execution_count": 3,
   "id": "5909664f",
   "metadata": {
    "ExecuteTime": {
     "end_time": "2024-02-05T05:38:43.613879Z",
     "start_time": "2024-02-05T05:38:40.016390Z"
    }
   },
   "outputs": [
    {
     "name": "stderr",
     "output_type": "stream",
     "text": [
      "2024-02-05 14:38:43,463\tINFO worker.py:1476 -- Calling ray.init() again after it has already been called.\n",
      "[nltk_data] Downloading package stopwords to\n",
      "[nltk_data]     C:\\Users\\KK\\AppData\\Roaming\\nltk_data...\n",
      "[nltk_data]   Package stopwords is already up-to-date!\n",
      "[nltk_data] Downloading package punkt to\n",
      "[nltk_data]     C:\\Users\\KK\\AppData\\Roaming\\nltk_data...\n",
      "[nltk_data]   Package punkt is already up-to-date!\n"
     ]
    }
   ],
   "source": [
    "# Ignore the warnings\n",
    "import warnings\n",
    "# warnings.filterwarnings('always')\n",
    "warnings.filterwarnings('ignore')\n",
    "\n",
    "# System related and data input controls\n",
    "import os\n",
    "\n",
    "# Auto reload of library\n",
    "%reload_ext autoreload\n",
    "%autoreload 2\n",
    "\n",
    "# Python path\n",
    "import sys\n",
    "base_folder = 'DataScience'\n",
    "location_base = os.path.join(os.getcwd().split(base_folder)[0], base_folder)\n",
    "location_module = [os.path.join(location_base, 'Module')] \n",
    "for each in location_module:\n",
    "    if each not in sys.path:\n",
    "        sys.path.append(each)\n",
    "        \n",
    "def get_data_from_path(folder_location, folder_name=False, concat_axis='row'):\n",
    "    # path_folder 하위의 모든 폴더위치와 내부 file 출력\n",
    "    df = pd.DataFrame()\n",
    "    print('Getting data from', len(os.listdir(folder_location)), 'folders...')\n",
    "    for (path, dir, files) in os.walk(folder_location):\n",
    "#         print(path)\n",
    "        for file in tqdm(files):\n",
    "            path_file = os.path.join(path, file)\n",
    "\n",
    "            ## 데이터 로딩\n",
    "            if path_file[-4:] == 'xlsx':\n",
    "                df_sub = pd.read_excel(path_file)\n",
    "            elif path_file[-3:] == 'csv':\n",
    "                df_sub = pd.read_csv(path_file)\n",
    "\n",
    "            ## 키워드 태깅 여부\n",
    "            if folder_name:\n",
    "                df_sub['Folder_Name'] = os.path.basename(path)\n",
    "            \n",
    "            ## 정리\n",
    "            if concat_axis == 'col':\n",
    "                df = pd.concat([df, df_sub], axis=1)\n",
    "            elif concat_axis == 'row':\n",
    "                df = pd.concat([df, df_sub], axis=0)\n",
    "                \n",
    "    return df\n",
    "\n",
    "from import_KK import *\n",
    "DeviceStrategy_CPU()\n",
    "from preprocessing_KK import *\n",
    "from preprocessing_text_KK import * ##\n",
    "from visualization_KK import * ##\n",
    "from algorithm_textmining_KK import *\n",
    "from algorithm_machinelearning_KK import *\n",
    "from algorithm_deeplearning_KK import *\n",
    "from evaluation_KK import *\n",
    "\n",
    "# 하이퍼파라미터\n",
    "DELETE_KEYWORD = ['100세', '거주환경']\n",
    "CATEGORY_BK = ['경제', '사회', '문화', '국제']\n",
    "CATEGORY_BK_Sub = ['경제>경제일반', '경제>국제경제', '경제>취업_창업',\n",
    "                   '사회>노동_복지', '사회>사건_사고', '사회>사회일반', '사회>여성', '사회>장애인', '사회>의료_건강',\n",
    "                   '문화>미술_건축', '문화>요리_여행', '문화>출판',\n",
    "                   '국제>중국', '국제>유럽_EU', '국제>일본', '국제>미국_북미', '국제>중동_아프리카',\n",
    "                   '국제>아시아', '국제>중남미', '국제>국제일반', '국제>러시아']\n",
    "CATEGORY_CR = ['세계', '경제', '생활/문화', '오피니언', '사회', 'IT/과학']\n",
    "IMAGE_LOCATION = os.path.join('.', 'Data', 'Image', 'baby-icon_ver1.png')\n",
    "# IMAGE_LOCATION = os.path.join('.', 'Data', 'Image', 'care.png')\n",
    "# IMAGE_LOCATION = os.path.join('.', 'Data', 'Image', 'elderly.png')\n",
    "COLNAME_CATEGORY = '일자'\n",
    "COLNAME_MINING = '제목'\n",
    "# SAVE_LOCATION = r'C:\\Users\\user\\Desktop\\Data'    # inu\n",
    "SAVE_LOCATION = r'C:\\Users\\KK\\Desktop\\Data'    # home"
   ]
  },
  {
   "cell_type": "markdown",
   "id": "60063ee1",
   "metadata": {},
   "source": [
    "# Data Loading"
   ]
  },
  {
   "cell_type": "code",
   "execution_count": 2,
   "id": "12442d8e",
   "metadata": {
    "ExecuteTime": {
     "end_time": "2024-01-30T06:15:39.174532Z",
     "start_time": "2024-01-30T06:13:46.937561Z"
    }
   },
   "outputs": [
    {
     "name": "stdout",
     "output_type": "stream",
     "text": [
      "Getting data from 39 folders...\n"
     ]
    },
    {
     "name": "stderr",
     "output_type": "stream",
     "text": [
      "0it [00:00, ?it/s]\n",
      "100%|██████████████████████████████████████████████████████████████████████████████████| 45/45 [00:01<00:00, 35.02it/s]\n",
      "100%|██████████████████████████████████████████████████████████████████████████████████| 45/45 [00:01<00:00, 31.47it/s]\n",
      "100%|██████████████████████████████████████████████████████████████████████████████████| 33/33 [00:01<00:00, 25.31it/s]\n",
      "100%|██████████████████████████████████████████████████████████████████████████████████| 45/45 [00:01<00:00, 25.32it/s]\n",
      "100%|██████████████████████████████████████████████████████████████████████████████████| 33/33 [00:01<00:00, 22.42it/s]\n",
      "100%|██████████████████████████████████████████████████████████████████████████████████| 45/45 [00:01<00:00, 30.08it/s]\n",
      "100%|██████████████████████████████████████████████████████████████████████████████████| 57/57 [00:02<00:00, 25.61it/s]\n",
      "100%|██████████████████████████████████████████████████████████████████████████████████| 33/33 [00:01<00:00, 29.56it/s]\n",
      "100%|██████████████████████████████████████████████████████████████████████████████████| 33/33 [00:01<00:00, 27.06it/s]\n",
      "100%|██████████████████████████████████████████████████████████████████████████████████| 45/45 [00:02<00:00, 17.15it/s]\n",
      "100%|██████████████████████████████████████████████████████████████████████████████████| 45/45 [00:01<00:00, 22.80it/s]\n",
      "100%|██████████████████████████████████████████████████████████████████████████████████| 45/45 [00:02<00:00, 19.75it/s]\n",
      "100%|██████████████████████████████████████████████████████████████████████████████████| 33/33 [00:01<00:00, 17.62it/s]\n",
      "100%|██████████████████████████████████████████████████████████████████████████████████| 45/45 [00:02<00:00, 17.52it/s]\n",
      "100%|██████████████████████████████████████████████████████████████████████████████████| 45/45 [00:03<00:00, 14.82it/s]\n",
      "100%|██████████████████████████████████████████████████████████████████████████████████| 45/45 [00:02<00:00, 18.68it/s]\n",
      "100%|██████████████████████████████████████████████████████████████████████████████████| 45/45 [00:02<00:00, 16.81it/s]\n",
      "100%|██████████████████████████████████████████████████████████████████████████████████| 45/45 [00:02<00:00, 20.61it/s]\n",
      "100%|██████████████████████████████████████████████████████████████████████████████████| 45/45 [00:02<00:00, 15.23it/s]\n",
      "100%|██████████████████████████████████████████████████████████████████████████████████| 45/45 [00:02<00:00, 18.27it/s]\n",
      "100%|██████████████████████████████████████████████████████████████████████████████████| 45/45 [00:02<00:00, 16.35it/s]\n",
      "100%|██████████████████████████████████████████████████████████████████████████████████| 45/45 [00:02<00:00, 15.35it/s]\n",
      "100%|██████████████████████████████████████████████████████████████████████████████████| 45/45 [00:03<00:00, 14.67it/s]\n",
      "100%|██████████████████████████████████████████████████████████████████████████████████| 45/45 [00:03<00:00, 14.99it/s]\n",
      "100%|██████████████████████████████████████████████████████████████████████████████████| 33/33 [00:02<00:00, 14.81it/s]\n",
      "100%|██████████████████████████████████████████████████████████████████████████████████| 45/45 [00:03<00:00, 11.71it/s]\n",
      "100%|██████████████████████████████████████████████████████████████████████████████████| 45/45 [00:03<00:00, 13.73it/s]\n",
      "100%|██████████████████████████████████████████████████████████████████████████████████| 45/45 [00:03<00:00, 13.18it/s]\n",
      "100%|██████████████████████████████████████████████████████████████████████████████████| 33/33 [00:03<00:00, 10.34it/s]\n",
      "100%|██████████████████████████████████████████████████████████████████████████████████| 33/33 [00:04<00:00,  8.24it/s]\n",
      "100%|██████████████████████████████████████████████████████████████████████████████████| 45/45 [00:04<00:00, 10.32it/s]\n",
      "100%|██████████████████████████████████████████████████████████████████████████████████| 45/45 [00:03<00:00, 12.00it/s]\n",
      "100%|██████████████████████████████████████████████████████████████████████████████████| 33/33 [00:02<00:00, 11.34it/s]\n",
      "100%|██████████████████████████████████████████████████████████████████████████████████| 45/45 [00:04<00:00, 11.16it/s]\n",
      "100%|██████████████████████████████████████████████████████████████████████████████████| 45/45 [00:04<00:00,  9.30it/s]\n",
      "100%|██████████████████████████████████████████████████████████████████████████████████| 45/45 [00:04<00:00, 10.29it/s]\n",
      "100%|██████████████████████████████████████████████████████████████████████████████████| 33/33 [00:03<00:00,  9.02it/s]\n",
      "100%|██████████████████████████████████████████████████████████████████████████████████| 45/45 [00:04<00:00,  9.72it/s]\n",
      "100%|██████████████████████████████████████████████████████████████████████████████████| 45/45 [00:04<00:00,  9.98it/s]\n",
      "100%|█████████████████████████████████████████████████████████████████████| 163580/163580 [00:00<00:00, 1969498.22it/s]\n"
     ]
    }
   ],
   "source": [
    "# 데이터로딩\n",
    "df_news = get_data_from_path(os.path.join(os.getcwd(), 'Data', 'NaverNews'), folder_name=True)\n",
    "\n",
    "# 필터링\n",
    "## 중복 처리\n",
    "df_news.drop_duplicates(subset=['Press', 'Title'], inplace=True, ignore_index=True)\n",
    "## 불필요 변수 삭제\n",
    "colname_delete = ['URL_Origin']\n",
    "df_news = df_news[[col for col in df_news.columns if col not in colname_delete]]\n",
    "## 카테고리 필터\n",
    "category_filter = [each for each in df_news.Category.unique() if each in CATEGORY_CR]\n",
    "df_news = df_news[df_news.Category.apply(lambda x: x in category_filter)].reset_index().iloc[:,1:]\n",
    "## 언론사 중복 필터\n",
    "df_news.Press = df_news.Press.progress_apply(lambda x: str(x).split('언론사 선정')[0])\n",
    "\n",
    "# 날짜 변환\n",
    "df_news.Date = pd.to_datetime(df_news.Date)\n",
    "## 연도 반영\n",
    "df_news['Date_Year'] = pd.to_datetime(df_news.Date.astype(str)).dt.year\n",
    "## 연도+월 반영\n",
    "df_news['Date_YearMonth'] = pd.to_datetime(df_news.Date.astype(str)).dt.strftime('%Y-%m')\n",
    "\n",
    "# 정리\n",
    "df_news = df_news[['Folder_Name', 'Date', 'Date_Year', 'Date_YearMonth', \n",
    "                   'Press', 'Category', 'Title', 'Content', 'Comment', 'URL_Naver']]\n"
   ]
  },
  {
   "cell_type": "code",
   "execution_count": 10,
   "id": "65332032",
   "metadata": {
    "ExecuteTime": {
     "end_time": "2024-01-30T08:48:04.386086Z",
     "start_time": "2024-01-30T07:45:13.335049Z"
    }
   },
   "outputs": [
    {
     "name": "stderr",
     "output_type": "stream",
     "text": [
      "100%|██████████████████████████████████████████████████████████████████████████| 89412/89412 [1:02:48<00:00, 23.73it/s]\n"
     ]
    }
   ],
   "source": [
    "df = df_news.copy()\n",
    "extranct_rule = '[0-9]+\\.?[0-9]+[%건명]'\n",
    "df = df[df.Content.str.contains(extranct_rule)]    # 1차 필터\n",
    "df.Content = df.Content.progress_apply(lambda x: statsentence_extractor(extranct_rule, x, window=2)) "
   ]
  },
  {
   "cell_type": "code",
   "execution_count": 73,
   "id": "5ac17320",
   "metadata": {
    "ExecuteTime": {
     "end_time": "2024-02-05T06:44:23.208417Z",
     "start_time": "2024-02-05T06:44:17.438858Z"
    }
   },
   "outputs": [],
   "source": [
    "# df.to_csv(os.path.join(SAVE_LOCATION, 'df_news_bigkinds_statsentence.csv'), index=False, encoding='utf-8-sig')\n",
    "df = pd.read_csv(os.path.join(SAVE_LOCATION, 'df_news_bigkinds_statsentence.csv'))"
   ]
  },
  {
   "cell_type": "markdown",
   "id": "755e47a3",
   "metadata": {},
   "source": [
    "# Data Analysis"
   ]
  },
  {
   "cell_type": "markdown",
   "id": "f0450752",
   "metadata": {},
   "source": [
    "## 글로벌과 한국의 Ageism 검색 트랜드 분석 및 24년도 전망\n",
    "\n",
    "- 구글에서 `Ageism 관련 검색` Trend가 `과거 10년전부터 현재까지` 어떠한지 분석하고 `인공지능으로 과거 데이터를 학습 후 24년 예측`\n",
    "\n",
    "> **\"전 세계적인 저출산/고령화 이슈로 Ageism 관심이 증가하고 있고 그 중에서 한국의 인구구조 급격한 변화로 그 관심이 더욱 증가되는 경향\"**\n",
    "> - **글로벌 관심도:** `92% 정확성`으로 `24년도에도 지속적 증가`할 것으로 예측\n",
    "> - **한국 관심도:** `95% 정확성`으로 `24년도에는 한국의 저출산 및 고령화로 급격하게 증가`할 것으로 예측\n",
    "\n",
    "<center><img src='Result/GT.png' width='1200'></center>"
   ]
  },
  {
   "cell_type": "code",
   "execution_count": 46,
   "id": "5dd59fed",
   "metadata": {
    "ExecuteTime": {
     "end_time": "2024-02-01T07:14:04.238880Z",
     "start_time": "2024-02-01T07:14:03.986098Z"
    }
   },
   "outputs": [],
   "source": [
    "# # hyperparameters\n",
    "# test_criteria = '2023-01-01'\n",
    "# SEQUENCE = 5\n",
    "# Y_SCALING = True\n",
    "# MOVING_TYPE = 'sliding'    # 'sliding', 'expanding'\n",
    "# TRAIN_WINDOW = 100\n",
    "# FORECASTING_PERIOD = 4+24\n",
    "# ################\n",
    "# # metrics.SCORERS.keys(): 'neg_mean_squared_error', 'neg_mean_absolute_error', 'neg_mean_absolute_percentage_error'\n",
    "# LOSS_ML = 'neg_mean_squared_error' \n",
    "# PARAMS_BAG = None\n",
    "# # PARAMS_BAG = {'n_estimators': [30, 50, 90],     \n",
    "# #           'max_depth': [20, 30, 40, 50],  \n",
    "# #           'max_leaf_nodes': [5, 10, 15]}\n",
    "# PARAMS_BOOST = None\n",
    "# # PARAMS_BOOST = {'n_estimators': [30, 50, 90],    \n",
    "# #           'max_depth': [20, 30, 40, 50],   \n",
    "# #           'num_leaves': [5, 10, 15],\n",
    "# #           'min_child_weight': [3, 5, 7],\n",
    "# #           'learning_rate': [0.1, 0.01],\n",
    "# #           'force_col_wise': [False], 'force_row_wise': [True]}\n",
    "# CV_SPLITS = 5\n",
    "# ################\n",
    "# KERNEL_SIZE = 2\n",
    "# STRIDE = 1\n",
    "# POOL_SIZE = 1\n",
    "# POOL_STRIDE = 1\n",
    "# HIDDEN_ACTIVATION = 'relu'\n",
    "# OUTPUT_ACTIVATION = 'linear'\n",
    "# REGULARIZER = None\n",
    "# DROPOUT_RATIO = 0.2\n",
    "# MODEL_SUMMARY = False\n",
    "# LOSS = 'mse'\n",
    "# LEARNING_RATE = 0.01\n",
    "# OPTIMIZER = keras.optimizers.Adam(learning_rate=LEARNING_RATE)\n",
    "# METRICS = ['mse']\n",
    "# VALIDATION_SPLIT = 0.2\n",
    "# VALIDATION_DATA = None\n",
    "# BATCH_SIZE = 32\n",
    "# EPOCHS = 500\n",
    "# VERBOSE = 0\n",
    "# ################\n",
    "# EARLYSTOP_PATIENT = EPOCHS*0.4\n",
    "# MONITOR = 'val_loss'\n",
    "# LEARNING_PLOT = False\n",
    "# PLOT_TITLE = \"How People's Interest Changes Over Time\"\n",
    "# PLOT_XLABEL = 'Time'\n",
    "# PLOT_YLABEL = 'Interest Forecasting'\n",
    "# ################"
   ]
  },
  {
   "cell_type": "code",
   "execution_count": 47,
   "id": "30ee1b8b",
   "metadata": {
    "ExecuteTime": {
     "end_time": "2024-02-01T07:14:04.484470Z",
     "start_time": "2024-02-01T07:14:04.254897Z"
    }
   },
   "outputs": [],
   "source": [
    "# # 데이터로딩\n",
    "# file_location = os.path.join(os.getcwd(), 'Data', 'ageism_survey_KK.xlsx')\n",
    "# df = pd.read_excel(file_location, sheet_name='GT_Trend', index_col='Time')\n",
    "# df_global = df[['Ageism']].copy()\n",
    "# df_local = df[['고령화']].copy()"
   ]
  },
  {
   "cell_type": "code",
   "execution_count": 72,
   "id": "28a6d21f",
   "metadata": {
    "ExecuteTime": {
     "end_time": "2024-02-05T06:44:04.727705Z",
     "start_time": "2024-02-05T06:44:04.321897Z"
    }
   },
   "outputs": [],
   "source": [
    "# for df in [df_global, df_local]:\n",
    "#     model, Score_te = modeling_RandomForestRegressor_slidingwindow1D(df, SEQUENCE=SEQUENCE, Y_SCALING=Y_SCALING, MOVING_TYPE=MOVING_TYPE,\n",
    "#                                                    TRAIN_WINDOW=TRAIN_WINDOW, FORECASTING_PERIOD=FORECASTING_PERIOD,\n",
    "#                                                    LOSS=LOSS_ML, GRIDSEARCH_PARAMS=PARAMS_BAG, CV_SPLITS=CV_SPLITS,\n",
    "#                                                    PLOT_TITLE=PLOT_TITLE, PLOT_XLABEL=PLOT_XLABEL, PLOT_YLABEL=PLOT_YLABEL)\n",
    "#     display(Score_te)"
   ]
  },
  {
   "cell_type": "code",
   "execution_count": null,
   "id": "b4eff625",
   "metadata": {},
   "outputs": [],
   "source": [
    "# for df in [df_global, df_local]:\n",
    "#     model, Score_te = modeling_LGBMRegressor_slidingwindow1D(df, SEQUENCE=SEQUENCE, Y_SCALING=Y_SCALING, MOVING_TYPE=MOVING_TYPE,\n",
    "#                                                    TRAIN_WINDOW=TRAIN_WINDOW, FORECASTING_PERIOD=FORECASTING_PERIOD,\n",
    "#                                                    LOSS=LOSS_ML, GRIDSEARCH_PARAMS=PARAMS_BOOST, CV_SPLITS=CV_SPLITS,\n",
    "#                                                    PLOT_TITLE=PLOT_TITLE, PLOT_XLABEL=PLOT_XLABEL, PLOT_YLABEL=PLOT_YLABEL)\n",
    "#     display(Score_te)"
   ]
  },
  {
   "cell_type": "markdown",
   "id": "968140db",
   "metadata": {},
   "source": [
    "## 한국의 Ageism 관련 뉴스 데이터\n",
    "\n",
    "- `한국의 구글과 네이버 뉴스`에서 Ageism 관련 검색어로 `보도되는 뉴스` 분석\n",
    "\n",
    "> **\"2013년 ~ 2023년까지 약 24만6213건의 뉴스가 발행되었고, 고령화(59%)가 Ageism 관련 검색어로 뉴스기사에 가장 많이 등장하는 단어이며, 매일경제(8.09%)가 가장 많이 Ageism 관련 기사를 발행\"**\n",
    "> - Ageism 관련 `검색어 약 40종`의 `방송사 5종 + 전국일간지 11종 + 경제일간지 8종 + 전문지 2종` 대상 `국제 + 경제 + 사회 + 문화` 데이터 수집\n",
    "> 1. `KBS, MBC, SBS, YTN, OBS`\n",
    "> 2. `경향신문, 국민일보, 내일신문, 동아일보, 문화일보, 서울신문, 세계일보, 조선일보, 중앙일보, 한겨례, 한국일보`\n",
    "> 3. `매일경제, 머니투데이, 서울경제, 아시아경제, 아주경제, 파이낸셜뉴스, 한국경제, 헤럴드경제`\n",
    "> 4. `디지털타임즈, 전자신문`\n",
    ">\n",
    "> - 전체 약 24만건 중 `고령화(59%) > 세대 갈등(10.9%) > 소회(8.8%) > 안락사(5.52%) > 노인 의료(4.79%)`이 Top5 Ageism 관련 검색어로 발행된 뉴스 \n",
    "> <center><img src='Result/News_StatKeywordFilter.png' width='800'></center>\n",
    ">\n",
    "> - `매일경제가 전체 약 24만건 중 가장 많은(8.09%) Ageism 뉴스를 발행`하고 뒤이어 헤럴드경제(7.75%) > 아시아경제(7.05%)가 뒤를 이음\n",
    ">\n",
    "> <center><img src='Result/News_StatPress.png' width='800'></center>"
   ]
  },
  {
   "cell_type": "code",
   "execution_count": 63,
   "id": "47a1d4a3",
   "metadata": {
    "ExecuteTime": {
     "end_time": "2024-02-05T06:35:36.658859Z",
     "start_time": "2024-02-05T06:35:36.250444Z"
    }
   },
   "outputs": [],
   "source": [
    "# # 필터링한 결과를 최종적으로 사용\n",
    "# df_news = pd.read_csv(os.path.join(SAVE_LOCATION, 'df_news_bigkinds.csv'))\n",
    "# plot_donut_wordfreq(df_news.groupby(['언론사'])['제목'].count().reset_index(), num_showkeyword=20)\n",
    "# plot_donut_wordfreq(df_news.groupby(['Folder_Name'])['제목'].count().reset_index(), num_showkeyword=20)\n",
    "# ## 증가변수 필터\n",
    "# RISING_CATEG = ['고령화', '노인+경제적+자립', '노인+봉사', '노인+의료', \n",
    "#                 '노인+주택+문제', '노인+혐오', '돌봄서비스', '세대+갈등', '소회', \n",
    "#                 '안락사', '알츠하이머', '연령+통합']\n",
    "# df_news_keyword = df_news[df_news.Folder_Name.isin(RISING_CATEG)].groupby(['Folder_Name', '일자_Year'])['제목'].count().unstack(level=0).fillna(0)\n",
    "# plot_donut_wordfreq(pd.DataFrame(df_news_keyword.T.sum(axis=1)).reset_index(), num_showkeyword=10)"
   ]
  },
  {
   "cell_type": "markdown",
   "id": "427f4e8d",
   "metadata": {},
   "source": [
    "## 한국의 Ageism 뉴스 트랜드\n",
    "\n",
    "- `한국의 구글과 네이버 뉴스`에서 Ageism 관련 검색어로 `보도되는 뉴스` 분석\n",
    "\n",
    "> **\"한국은 가장 빠르게 고령화에 진입하는 국가기 때문에 Ageism 관련 뉴스의 발행 양도 빠르게 증가하는 중\"**\n",
    "> - `사회 분야 뉴스가 고령사회 진입 후 42.99%로 가장 많이 증가`했고 `경제(22.32%) > 국제(12.48%) > 문화(6.62%) 순서`로 증가 중\n",
    ">\n",
    "> <center><img src='Result/News_TrendCategory.png' width='800'></center>\n",
    ">\n",
    "> - 2018년 고령사회 진입 전 `월 평균 약 121.82건`이던 Ageism 뉴스는 고령사회 진입 후 `월 평균 171.96건으로 약 41.16% 증가` \n",
    ">\n",
    "> <center><img src='Result/News_TrendMeanStd.png' width='800'></center>\n",
    ">\n",
    "> **\"고령화, 노인소득, 노인주거, 노인혐오, 돌봄서비스, 세대갈등, 알츠하이머, 연령통합 등이 지속적 또는 최근 증가하는 Ageism 관심 검색어\"**\n",
    "> - 코로나 시기로 인해 `감소하는 고령화 검색은 노인의료와 노인혐오 등의 부정적 검색의 증가로 변화`\n",
    "> - `노인을 대상으로 한 경제적 부담`의 뉴스기사가 `전 연령대의 시민들에게 반복적으로 학습되어 갈등의 깊이를 넓혀`\n",
    "> - 사회적, 정책적, 경제적인 측면에서 `다양한 연령층 간의 이해관계를 개선하고 협력을 촉진하기 위한 정책의 필요성`이 지속적으로 표현\n",
    "> \n",
    "> <center><img src='Result/News_TrendKeyword1.png' width='800'></center>\n",
    "> <center><img src='Result/News_TrendKeyword2.png' width='800'></center>\n",
    "---\n",
    "> <center><img src='Result/TimeSeries/PlotTimeSeries.png' width='800'></center>"
   ]
  },
  {
   "cell_type": "code",
   "execution_count": 70,
   "id": "937d820d",
   "metadata": {
    "ExecuteTime": {
     "end_time": "2024-02-05T06:42:46.953360Z",
     "start_time": "2024-02-05T06:42:46.549599Z"
    }
   },
   "outputs": [],
   "source": [
    "# ## 증가변수 필터\n",
    "# df_news_trend = df_news.groupby(['Folder_Name', '일자_YearMonth'])['제목'].count().unstack(level=0).fillna(0)\n",
    "# RISING_CATEG = ['고령화', '노인+경제적+자립', '노인+봉사', '노인+의료', \n",
    "#                 '노인+주택+문제', '노인+혐오', '돌봄서비스', '세대+갈등', '소회', \n",
    "#                 '안락사', '알츠하이머', '연령+통합']\n",
    "# df_news_trend = df_news_trend[RISING_CATEG].copy()\n",
    "# ## 시각화\n",
    "# plot_timeseries_dfmeanstd(df_news_trend, scaled=True, \n",
    "#                           save_local=False, save_name_initial='gt_total_scaled.png')\n",
    "# df_news_trend.mean(axis=1)[30:].mean() / df_news_trend.mean(axis=1)[:30].mean()"
   ]
  },
  {
   "cell_type": "code",
   "execution_count": 71,
   "id": "eb818f6f",
   "metadata": {
    "ExecuteTime": {
     "end_time": "2024-02-05T06:42:49.214400Z",
     "start_time": "2024-02-05T06:42:48.801705Z"
    }
   },
   "outputs": [],
   "source": [
    "# RISING_CATEG = ['고령화', '노인+경제적+자립', '노인+봉사', '노인+의료', \n",
    "#                 '노인+주택+문제', '노인+혐오', '돌봄서비스', '세대+갈등', '소회', \n",
    "#                 '안락사', '알츠하이머', '연령+통합']\n",
    "# df_news_trendcateg = df_news[df_news.Folder_Name.isin(RISING_CATEG)].groupby(['Category', '일자_YearMonth'])['제목'].count().unstack(level=0).fillna(0)\n",
    "# df_news_temp1 = pd.DataFrame(df_news_trendcateg[2:].mean())\n",
    "# df_news_temp1['Period'] = '고령사회 후'\n",
    "# df_news_temp1 = df_news_temp1.rename(columns={0:'연 평균 발행 뉴스기사 양'})\n",
    "# df_news_temp2 = pd.DataFrame(df_news_trendcateg[:2].mean())\n",
    "# df_news_temp2['Period'] = '고령사회 전'\n",
    "# df_news_temp2 = df_news_temp2.rename(columns={0:'연 평균 발행 뉴스기사 양'})\n",
    "# df_news_trendcateg = pd.concat([df_news_temp1.reset_index(), df_news_temp2.reset_index()], axis=0)\n",
    "\n",
    "# plt.figure(figsize=(10,5))\n",
    "# ax = sns.barplot(data=df_news_trendcateg, x='Category', y='연 평균 발행 뉴스기사 양', \n",
    "#                  hue='Period', order=['사회', '경제', '국제', '문화'])\n",
    "# for i in ax.containers:\n",
    "#     ax.bar_label(i,)\n",
    "# plt.xlabel('뉴스 카테고리', fontsize=16)\n",
    "# plt.ylabel('월 평균 발행 뉴스기사 양', fontsize=16)\n",
    "# plt.xticks(fontsize=14)\n",
    "# plt.yticks(fontsize=14)\n",
    "# plt.grid(axis='y')\n",
    "# plt.show()\n",
    "\n",
    "# df_news_temp1.iloc[:,0]/df_news_temp2.iloc[:,0]"
   ]
  },
  {
   "cell_type": "code",
   "execution_count": 99,
   "id": "425b80bb",
   "metadata": {
    "ExecuteTime": {
     "end_time": "2024-02-05T07:10:14.357196Z",
     "start_time": "2024-02-05T07:10:13.959529Z"
    },
    "scrolled": false
   },
   "outputs": [],
   "source": [
    "# # 검색어별 특이한 증가가 있는지\n",
    "# df_news_trend = df_news[df_news.Folder_Name.isin(RISING_CATEG)].groupby(['Folder_Name', '일자_YearMonth'])['제목'].count().unstack(level=0).fillna(0)\n",
    "\n",
    "# for col in df_news_trend.columns:\n",
    "#     plot_timeseries(df_news_trend.loc[:,[col]], \n",
    "#                     save_local=True, save_name_initial='PlotTS_'+col+'.png')\n",
    "# plot_timeseries(df_news_trend, save_local=True)"
   ]
  },
  {
   "cell_type": "markdown",
   "id": "a3ece0b4",
   "metadata": {},
   "source": [
    "## 한국의 Ageism 뉴스 컨텐츠 한눈에\n",
    "\n",
    "> **\"고령사회 진입 전후로 건강에 대한 관심이 증가하는 노인들의 일자리, 생계, 안위, 건강 등으로 대상화 진행중\"**\n",
    "> - `고령사회 전`에는 `건강 > 치매 > 여성 > 한국 > 일자리 등` 특정 대상없이 `모든 연령대의 주요 관심사`를 뉴스에서 다루며 시민들에게 전달\n",
    "> - `고령사회 후`에는 `치매 > 노인 > 코로나 > 일자리 > 지원 등` 증가하는 `70대 이상의 연령대를 대상으로 하는 이슈들`을 뉴스에서 주로 전달 \n",
    "> \n",
    "> <center><img src='Result/News_TrendSummary.png' width='800'></center>\n",
    "\n",
    "---\n",
    "\n",
    "- `뉴스에 담겨있는 감정을 분석`하여 `대중에게 어떤 뉘앙스의 영향`을 미치고 있는지 `감성 분석`\n",
    "\n",
    "> **\"대중들에게 Ageism 관련 부정적 뉴스가 많이 전달되고 있지만 다양한 연령층을 통합하려는 노력들도 증가중\"**\n",
    "> - 고령사회에 진입하면서 `부정적 뉴스의 발행이 증가`되는 추세\n",
    "> - `사회분야`는 대상화되는 고령층에 대한 부정적 뉴스가 `가장 가파르게 증가`하고 있는 반면 `문화분야`는 `다양한 연령층의 이해관계를 개선`하기 위한 정책적 기획안이 늘어나며 `상대적으로 긍정적 뉴스 많아짐`\n",
    ">\n",
    "> <center><img src='Result/News_SentimentAll.png' width='800'></center>\n",
    ">\n",
    "> <center><img src='Result/News_SentimentCategory.png' width='700'></center>\n",
    "\n",
    "> - 고령화가 가장 빠르게 이뤄지고 있는 `대한민국의 경각심을 위해 부정적인 뉴스가 증가`되고 있으며, 코로나 이슈로 시작된 돌봄서비스와 같은 `복지에 대한 부담이 부정적인 뉴스`로 나타나고 있음\n",
    "> - 아울러 `상대적으로 사회적 부담에 대한 저출산과 1인가족 증가에 대한 가족과 세대구성에 대한 경각심`도 부정적인 뉴스로 증가되고 있음\n",
    "> <center><img src='Result/News_SentimentIssue1.png' width='800'></center>\n",
    ">\n",
    "> - `모든 연령대가 공통적으로 경험할 노화는 다소 다양한 감성의 뉴스들이 골고루` 펼쳐지지만, `미래에 대한 대비나 준비가 노후는 부담이 되어 부정적`인 뉴스 빈도가 증가\n",
    "> - 또한 상대적으로 경제적 어려움을 겪는 분들의 사회적 봉사에 관한\n",
    "> <center><img src='Result/News_SentimentIssue2.png' width='800'></center>\n",
    ">\n",
    "> <center><img src='Result/News_SentimentIssue3.png' width='800'></center>\n"
   ]
  },
  {
   "cell_type": "code",
   "execution_count": null,
   "id": "eaeee7ab",
   "metadata": {},
   "outputs": [],
   "source": []
  },
  {
   "cell_type": "code",
   "execution_count": null,
   "id": "b4d86601",
   "metadata": {},
   "outputs": [],
   "source": []
  },
  {
   "cell_type": "code",
   "execution_count": null,
   "id": "798cb83d",
   "metadata": {},
   "outputs": [],
   "source": []
  },
  {
   "cell_type": "code",
   "execution_count": null,
   "id": "22e5c364",
   "metadata": {},
   "outputs": [],
   "source": []
  },
  {
   "cell_type": "code",
   "execution_count": null,
   "id": "4844aa4a",
   "metadata": {},
   "outputs": [],
   "source": []
  },
  {
   "cell_type": "code",
   "execution_count": null,
   "id": "60161060",
   "metadata": {},
   "outputs": [],
   "source": []
  },
  {
   "cell_type": "code",
   "execution_count": null,
   "id": "f6ab54e4",
   "metadata": {},
   "outputs": [],
   "source": []
  },
  {
   "cell_type": "code",
   "execution_count": null,
   "id": "8aef0088",
   "metadata": {},
   "outputs": [],
   "source": []
  },
  {
   "cell_type": "code",
   "execution_count": null,
   "id": "db9a7652",
   "metadata": {},
   "outputs": [],
   "source": []
  },
  {
   "cell_type": "code",
   "execution_count": null,
   "id": "2cbed729",
   "metadata": {},
   "outputs": [],
   "source": []
  }
 ],
 "metadata": {
  "hide_input": false,
  "kernelspec": {
   "display_name": "Python 3 (ipykernel)",
   "language": "python",
   "name": "python3"
  },
  "language_info": {
   "codemirror_mode": {
    "name": "ipython",
    "version": 3
   },
   "file_extension": ".py",
   "mimetype": "text/x-python",
   "name": "python",
   "nbconvert_exporter": "python",
   "pygments_lexer": "ipython3",
   "version": "3.11.4"
  },
  "toc": {
   "base_numbering": 1,
   "nav_menu": {},
   "number_sections": true,
   "sideBar": true,
   "skip_h1_title": false,
   "title_cell": "Table of Contents",
   "title_sidebar": "Contents",
   "toc_cell": false,
   "toc_position": {
    "height": "calc(100% - 180px)",
    "left": "10px",
    "top": "150px",
    "width": "255.594px"
   },
   "toc_section_display": true,
   "toc_window_display": false
  },
  "varInspector": {
   "cols": {
    "lenName": 16,
    "lenType": 16,
    "lenVar": 40
   },
   "kernels_config": {
    "python": {
     "delete_cmd_postfix": "",
     "delete_cmd_prefix": "del ",
     "library": "var_list.py",
     "varRefreshCmd": "print(var_dic_list())"
    },
    "r": {
     "delete_cmd_postfix": ") ",
     "delete_cmd_prefix": "rm(",
     "library": "var_list.r",
     "varRefreshCmd": "cat(var_dic_list()) "
    }
   },
   "types_to_exclude": [
    "module",
    "function",
    "builtin_function_or_method",
    "instance",
    "_Feature"
   ],
   "window_display": false
  }
 },
 "nbformat": 4,
 "nbformat_minor": 5
}
