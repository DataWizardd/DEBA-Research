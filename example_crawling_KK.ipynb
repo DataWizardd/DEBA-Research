{
 "cells": [
  {
   "cell_type": "markdown",
   "id": "78c63ee7",
   "metadata": {},
   "source": [
    "# Library"
   ]
  },
  {
   "cell_type": "code",
   "execution_count": 1,
   "id": "3d49aef6",
   "metadata": {
    "ExecuteTime": {
     "end_time": "2023-10-25T05:52:31.228390Z",
     "start_time": "2023-10-25T05:52:29.538927Z"
    }
   },
   "outputs": [],
   "source": [
    "# Ignore the warnings\n",
    "import warnings\n",
    "# warnings.filterwarnings('always')\n",
    "warnings.filterwarnings('ignore')\n",
    "\n",
    "# System related and data input controls\n",
    "import os\n",
    "\n",
    "# Auto reload of library\n",
    "%reload_ext autoreload\n",
    "%autoreload 2\n",
    "\n",
    "from data_naver import *"
   ]
  },
  {
   "cell_type": "markdown",
   "id": "bd8a6514",
   "metadata": {},
   "source": [
    "# Naver News Crawling"
   ]
  },
  {
   "cell_type": "code",
   "execution_count": 3,
   "id": "97fa1ae4",
   "metadata": {},
   "outputs": [
    {
     "name": "stdout",
     "output_type": "stream",
     "text": [
      "노후\n"
     ]
    },
    {
     "name": "stderr",
     "output_type": "stream",
     "text": [
      "100%|███████████████████████████████████████████████████████████████████████████████| 12/12 [2:45:09<00:00, 825.80s/it]\n"
     ]
    },
    {
     "name": "stdout",
     "output_type": "stream",
     "text": [
      "News Info Extracting Time:  2:45:10.238573\n",
      "알츠하이머\n"
     ]
    },
    {
     "name": "stderr",
     "output_type": "stream",
     "text": [
      "100%|███████████████████████████████████████████████████████████████████████████████| 12/12 [2:32:15<00:00, 761.26s/it]\n"
     ]
    },
    {
     "name": "stdout",
     "output_type": "stream",
     "text": [
      "News Info Extracting Time:  2:32:15.217218\n",
      "노인+혐오\n"
     ]
    },
    {
     "name": "stderr",
     "output_type": "stream",
     "text": [
      "100%|███████████████████████████████████████████████████████████████████████████████| 12/12 [2:18:58<00:00, 694.91s/it]\n"
     ]
    },
    {
     "name": "stdout",
     "output_type": "stream",
     "text": [
      "News Info Extracting Time:  2:18:58.950445\n",
      "돌봄서비스\n"
     ]
    },
    {
     "name": "stderr",
     "output_type": "stream",
     "text": [
      " 75%|█████████████████████████████████████████████████████████▊                   | 9/12 [7:33:11<2:31:03, 3021.24s/it]\n"
     ]
    },
    {
     "ename": "JSONDecodeError",
     "evalue": "Unterminated string starting at: line 1 column 31 (char 30)",
     "output_type": "error",
     "traceback": [
      "\u001b[1;31m---------------------------------------------------------------------------\u001b[0m",
      "\u001b[1;31mJSONDecodeError\u001b[0m                           Traceback (most recent call last)",
      "Cell \u001b[1;32mIn[3], line 14\u001b[0m\n\u001b[0;32m     12\u001b[0m \u001b[38;5;28;01mfor\u001b[39;00m QUERY \u001b[38;5;129;01min\u001b[39;00m QUERY_LIST:\n\u001b[0;32m     13\u001b[0m     \u001b[38;5;28mprint\u001b[39m(QUERY)\n\u001b[1;32m---> 14\u001b[0m     df \u001b[38;5;241m=\u001b[39m get_data_from_navernews(search_query\u001b[38;5;241m=\u001b[39mQUERY, start\u001b[38;5;241m=\u001b[39mSTART, end\u001b[38;5;241m=\u001b[39mEND, sort\u001b[38;5;241m=\u001b[39mSORT, \n\u001b[0;32m     15\u001b[0m                                  maxpage\u001b[38;5;241m=\u001b[39mMAXPAGE, maxpage_count\u001b[38;5;241m=\u001b[39mMAXPAGE_COUNT, save_local\u001b[38;5;241m=\u001b[39mSAVE)\n",
      "File \u001b[1;32mC:\\DataScience\\Lecture\\DEBA-Study\\data_naver.py:322\u001b[0m, in \u001b[0;36mget_data_from_navernews\u001b[1;34m(search_query, start, end, sort, maxpage, maxpage_count, save_local, folder_location)\u001b[0m\n\u001b[0;32m    319\u001b[0m df_news \u001b[38;5;241m=\u001b[39m pd\u001b[38;5;241m.\u001b[39mDataFrame()\n\u001b[0;32m    320\u001b[0m \u001b[38;5;28;01mfor\u001b[39;00m period \u001b[38;5;129;01min\u001b[39;00m tqdm(date_list):\n\u001b[0;32m    321\u001b[0m     \u001b[38;5;66;03m# 각 월별 데이터 수집\u001b[39;00m\n\u001b[1;32m--> 322\u001b[0m     df \u001b[38;5;241m=\u001b[39m get_navernews(search_query\u001b[38;5;241m=\u001b[39msearch_query, start\u001b[38;5;241m=\u001b[39mperiod[\u001b[38;5;241m0\u001b[39m], end\u001b[38;5;241m=\u001b[39mperiod[\u001b[38;5;241m1\u001b[39m], sort\u001b[38;5;241m=\u001b[39msort, \n\u001b[0;32m    323\u001b[0m                        maxpage\u001b[38;5;241m=\u001b[39mmaxpage, maxpage_count\u001b[38;5;241m=\u001b[39mmaxpage_count, \n\u001b[0;32m    324\u001b[0m                        save_local\u001b[38;5;241m=\u001b[39msave_local, folder_location\u001b[38;5;241m=\u001b[39mfolder_location)\n\u001b[0;32m    325\u001b[0m     sleep(random\u001b[38;5;241m.\u001b[39muniform(\u001b[38;5;241m3\u001b[39m,\u001b[38;5;241m10\u001b[39m))\n\u001b[0;32m    327\u001b[0m     \u001b[38;5;66;03m# 모든 데이터 결합\u001b[39;00m\n",
      "File \u001b[1;32mC:\\DataScience\\Lecture\\DEBA-Study\\data_naver.py:223\u001b[0m, in \u001b[0;36mget_navernews\u001b[1;34m(search_query, start, end, sort, maxpage, maxpage_count, save_local, folder_location)\u001b[0m\n\u001b[0;32m    221\u001b[0m \u001b[38;5;66;03m## 댓글\u001b[39;00m\n\u001b[0;32m    222\u001b[0m \u001b[38;5;28;01mif\u001b[39;00m \u001b[38;5;124m\"\u001b[39m\u001b[38;5;124mnews.naver.com\u001b[39m\u001b[38;5;124m\"\u001b[39m \u001b[38;5;129;01min\u001b[39;00m article\u001b[38;5;241m.\u001b[39mattrs[\u001b[38;5;124m'\u001b[39m\u001b[38;5;124mhref\u001b[39m\u001b[38;5;124m'\u001b[39m]: \n\u001b[1;32m--> 223\u001b[0m     comment \u001b[38;5;241m=\u001b[39m get_comments_from_navernews(article\u001b[38;5;241m.\u001b[39mattrs[\u001b[38;5;124m'\u001b[39m\u001b[38;5;124mhref\u001b[39m\u001b[38;5;124m'\u001b[39m])\n\u001b[0;32m    224\u001b[0m \u001b[38;5;28;01melse\u001b[39;00m:\n\u001b[0;32m    225\u001b[0m     comment \u001b[38;5;241m=\u001b[39m \u001b[38;5;28;01mNone\u001b[39;00m            \n",
      "File \u001b[1;32mC:\\DataScience\\Lecture\\DEBA-Study\\data_naver.py:133\u001b[0m, in \u001b[0;36mget_comments_from_navernews\u001b[1;34m(url)\u001b[0m\n\u001b[0;32m    131\u001b[0m response\u001b[38;5;241m.\u001b[39mencoding \u001b[38;5;241m=\u001b[39m \u001b[38;5;124m\"\u001b[39m\u001b[38;5;124mUTF-8-sig\u001b[39m\u001b[38;5;124m\"\u001b[39m\n\u001b[0;32m    132\u001b[0m res \u001b[38;5;241m=\u001b[39m response\u001b[38;5;241m.\u001b[39mtext\u001b[38;5;241m.\u001b[39mreplace(\u001b[38;5;124m\"\u001b[39m\u001b[38;5;124m_callback(\u001b[39m\u001b[38;5;124m\"\u001b[39m,\u001b[38;5;124m\"\u001b[39m\u001b[38;5;124m\"\u001b[39m)[:\u001b[38;5;241m-\u001b[39m\u001b[38;5;241m2\u001b[39m]\n\u001b[1;32m--> 133\u001b[0m temp\u001b[38;5;241m=\u001b[39mjson\u001b[38;5;241m.\u001b[39mloads(res)\n\u001b[0;32m    134\u001b[0m \u001b[38;5;28;01mtry\u001b[39;00m :\n\u001b[0;32m    135\u001b[0m     comment \u001b[38;5;241m=\u001b[39m \u001b[38;5;28mlist\u001b[39m(pd\u001b[38;5;241m.\u001b[39mDataFrame(temp[\u001b[38;5;124m'\u001b[39m\u001b[38;5;124mresult\u001b[39m\u001b[38;5;124m'\u001b[39m][\u001b[38;5;124m'\u001b[39m\u001b[38;5;124mcommentList\u001b[39m\u001b[38;5;124m'\u001b[39m])[\u001b[38;5;124m'\u001b[39m\u001b[38;5;124mcontents\u001b[39m\u001b[38;5;124m'\u001b[39m])\n",
      "File \u001b[1;32m~\\anaconda3\\Lib\\json\\__init__.py:346\u001b[0m, in \u001b[0;36mloads\u001b[1;34m(s, cls, object_hook, parse_float, parse_int, parse_constant, object_pairs_hook, **kw)\u001b[0m\n\u001b[0;32m    341\u001b[0m     s \u001b[38;5;241m=\u001b[39m s\u001b[38;5;241m.\u001b[39mdecode(detect_encoding(s), \u001b[38;5;124m'\u001b[39m\u001b[38;5;124msurrogatepass\u001b[39m\u001b[38;5;124m'\u001b[39m)\n\u001b[0;32m    343\u001b[0m \u001b[38;5;28;01mif\u001b[39;00m (\u001b[38;5;28mcls\u001b[39m \u001b[38;5;129;01mis\u001b[39;00m \u001b[38;5;28;01mNone\u001b[39;00m \u001b[38;5;129;01mand\u001b[39;00m object_hook \u001b[38;5;129;01mis\u001b[39;00m \u001b[38;5;28;01mNone\u001b[39;00m \u001b[38;5;129;01mand\u001b[39;00m\n\u001b[0;32m    344\u001b[0m         parse_int \u001b[38;5;129;01mis\u001b[39;00m \u001b[38;5;28;01mNone\u001b[39;00m \u001b[38;5;129;01mand\u001b[39;00m parse_float \u001b[38;5;129;01mis\u001b[39;00m \u001b[38;5;28;01mNone\u001b[39;00m \u001b[38;5;129;01mand\u001b[39;00m\n\u001b[0;32m    345\u001b[0m         parse_constant \u001b[38;5;129;01mis\u001b[39;00m \u001b[38;5;28;01mNone\u001b[39;00m \u001b[38;5;129;01mand\u001b[39;00m object_pairs_hook \u001b[38;5;129;01mis\u001b[39;00m \u001b[38;5;28;01mNone\u001b[39;00m \u001b[38;5;129;01mand\u001b[39;00m \u001b[38;5;129;01mnot\u001b[39;00m kw):\n\u001b[1;32m--> 346\u001b[0m     \u001b[38;5;28;01mreturn\u001b[39;00m _default_decoder\u001b[38;5;241m.\u001b[39mdecode(s)\n\u001b[0;32m    347\u001b[0m \u001b[38;5;28;01mif\u001b[39;00m \u001b[38;5;28mcls\u001b[39m \u001b[38;5;129;01mis\u001b[39;00m \u001b[38;5;28;01mNone\u001b[39;00m:\n\u001b[0;32m    348\u001b[0m     \u001b[38;5;28mcls\u001b[39m \u001b[38;5;241m=\u001b[39m JSONDecoder\n",
      "File \u001b[1;32m~\\anaconda3\\Lib\\json\\decoder.py:337\u001b[0m, in \u001b[0;36mJSONDecoder.decode\u001b[1;34m(self, s, _w)\u001b[0m\n\u001b[0;32m    332\u001b[0m \u001b[38;5;28;01mdef\u001b[39;00m \u001b[38;5;21mdecode\u001b[39m(\u001b[38;5;28mself\u001b[39m, s, _w\u001b[38;5;241m=\u001b[39mWHITESPACE\u001b[38;5;241m.\u001b[39mmatch):\n\u001b[0;32m    333\u001b[0m \u001b[38;5;250m    \u001b[39m\u001b[38;5;124;03m\"\"\"Return the Python representation of ``s`` (a ``str`` instance\u001b[39;00m\n\u001b[0;32m    334\u001b[0m \u001b[38;5;124;03m    containing a JSON document).\u001b[39;00m\n\u001b[0;32m    335\u001b[0m \n\u001b[0;32m    336\u001b[0m \u001b[38;5;124;03m    \"\"\"\u001b[39;00m\n\u001b[1;32m--> 337\u001b[0m     obj, end \u001b[38;5;241m=\u001b[39m \u001b[38;5;28mself\u001b[39m\u001b[38;5;241m.\u001b[39mraw_decode(s, idx\u001b[38;5;241m=\u001b[39m_w(s, \u001b[38;5;241m0\u001b[39m)\u001b[38;5;241m.\u001b[39mend())\n\u001b[0;32m    338\u001b[0m     end \u001b[38;5;241m=\u001b[39m _w(s, end)\u001b[38;5;241m.\u001b[39mend()\n\u001b[0;32m    339\u001b[0m     \u001b[38;5;28;01mif\u001b[39;00m end \u001b[38;5;241m!=\u001b[39m \u001b[38;5;28mlen\u001b[39m(s):\n",
      "File \u001b[1;32m~\\anaconda3\\Lib\\json\\decoder.py:353\u001b[0m, in \u001b[0;36mJSONDecoder.raw_decode\u001b[1;34m(self, s, idx)\u001b[0m\n\u001b[0;32m    344\u001b[0m \u001b[38;5;250m\u001b[39m\u001b[38;5;124;03m\"\"\"Decode a JSON document from ``s`` (a ``str`` beginning with\u001b[39;00m\n\u001b[0;32m    345\u001b[0m \u001b[38;5;124;03ma JSON document) and return a 2-tuple of the Python\u001b[39;00m\n\u001b[0;32m    346\u001b[0m \u001b[38;5;124;03mrepresentation and the index in ``s`` where the document ended.\u001b[39;00m\n\u001b[1;32m   (...)\u001b[0m\n\u001b[0;32m    350\u001b[0m \n\u001b[0;32m    351\u001b[0m \u001b[38;5;124;03m\"\"\"\u001b[39;00m\n\u001b[0;32m    352\u001b[0m \u001b[38;5;28;01mtry\u001b[39;00m:\n\u001b[1;32m--> 353\u001b[0m     obj, end \u001b[38;5;241m=\u001b[39m \u001b[38;5;28mself\u001b[39m\u001b[38;5;241m.\u001b[39mscan_once(s, idx)\n\u001b[0;32m    354\u001b[0m \u001b[38;5;28;01mexcept\u001b[39;00m \u001b[38;5;167;01mStopIteration\u001b[39;00m \u001b[38;5;28;01mas\u001b[39;00m err:\n\u001b[0;32m    355\u001b[0m     \u001b[38;5;28;01mraise\u001b[39;00m JSONDecodeError(\u001b[38;5;124m\"\u001b[39m\u001b[38;5;124mExpecting value\u001b[39m\u001b[38;5;124m\"\u001b[39m, s, err\u001b[38;5;241m.\u001b[39mvalue) \u001b[38;5;28;01mfrom\u001b[39;00m \u001b[38;5;28;01mNone\u001b[39;00m\n",
      "\u001b[1;31mJSONDecodeError\u001b[0m: Unterminated string starting at: line 1 column 31 (char 30)"
     ]
    }
   ],
   "source": [
    "# hyperparameters\n",
    "KEYWORD_LOCATION = os.path.join(os.getcwd(), '[Document]', 'Target_Keywords.xlsx')\n",
    "QUERY_LIST = list(pd.read_excel(KEYWORD_LOCATION)['실제검색어'])[-14:]\n",
    "# QUERY_LIST = ['노인+부양']\n",
    "START = \"20170101\"\n",
    "END = \"20171231\"\n",
    "SORT = 0\n",
    "MAXPAGE = 100\n",
    "MAXPAGE_COUNT = False\n",
    "SAVE = True\n",
    "# data loading\n",
    "for QUERY in QUERY_LIST:\n",
    "    print(QUERY)\n",
    "    df = get_data_from_navernews(search_query=QUERY, start=START, end=END, sort=SORT, \n",
    "                                 maxpage=MAXPAGE, maxpage_count=MAXPAGE_COUNT, save_local=SAVE)"
   ]
  },
  {
   "cell_type": "code",
   "execution_count": null,
   "id": "13c1d6ea",
   "metadata": {},
   "outputs": [],
   "source": []
  }
 ],
 "metadata": {
  "hide_input": false,
  "kernelspec": {
   "display_name": "Python 3 (ipykernel)",
   "language": "python",
   "name": "python3"
  },
  "language_info": {
   "codemirror_mode": {
    "name": "ipython",
    "version": 3
   },
   "file_extension": ".py",
   "mimetype": "text/x-python",
   "name": "python",
   "nbconvert_exporter": "python",
   "pygments_lexer": "ipython3",
   "version": "3.11.4"
  },
  "toc": {
   "base_numbering": 1,
   "nav_menu": {},
   "number_sections": true,
   "sideBar": true,
   "skip_h1_title": false,
   "title_cell": "Table of Contents",
   "title_sidebar": "Contents",
   "toc_cell": false,
   "toc_position": {
    "height": "calc(100% - 180px)",
    "left": "10px",
    "top": "150px",
    "width": "255.594px"
   },
   "toc_section_display": true,
   "toc_window_display": false
  },
  "varInspector": {
   "cols": {
    "lenName": 16,
    "lenType": 16,
    "lenVar": 40
   },
   "kernels_config": {
    "python": {
     "delete_cmd_postfix": "",
     "delete_cmd_prefix": "del ",
     "library": "var_list.py",
     "varRefreshCmd": "print(var_dic_list())"
    },
    "r": {
     "delete_cmd_postfix": ") ",
     "delete_cmd_prefix": "rm(",
     "library": "var_list.r",
     "varRefreshCmd": "cat(var_dic_list()) "
    }
   },
   "types_to_exclude": [
    "module",
    "function",
    "builtin_function_or_method",
    "instance",
    "_Feature"
   ],
   "window_display": false
  }
 },
 "nbformat": 4,
 "nbformat_minor": 5
}
