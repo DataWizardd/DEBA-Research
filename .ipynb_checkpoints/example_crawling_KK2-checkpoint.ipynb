{
 "cells": [
  {
   "cell_type": "markdown",
   "id": "78c63ee7",
   "metadata": {},
   "source": [
    "# Library"
   ]
  },
  {
   "cell_type": "code",
   "execution_count": 1,
   "id": "3d49aef6",
   "metadata": {
    "ExecuteTime": {
     "end_time": "2023-10-27T13:44:49.426138Z",
     "start_time": "2023-10-27T13:44:47.084983Z"
    }
   },
   "outputs": [],
   "source": [
    "# Ignore the warnings\n",
    "import warnings\n",
    "# warnings.filterwarnings('always')\n",
    "warnings.filterwarnings('ignore')\n",
    "\n",
    "# System related and data input controls\n",
    "import os\n",
    "\n",
    "# Auto reload of library\n",
    "%reload_ext autoreload\n",
    "%autoreload 2\n",
    "\n",
    "from data_naver import *"
   ]
  },
  {
   "cell_type": "markdown",
   "id": "bd8a6514",
   "metadata": {},
   "source": [
    "# Naver News Crawling"
   ]
  },
  {
   "cell_type": "code",
   "execution_count": 2,
   "id": "50d4d938",
   "metadata": {
    "ExecuteTime": {
     "end_time": "2023-10-27T15:02:39.135305Z",
     "start_time": "2023-10-27T13:45:10.530217Z"
    },
    "scrolled": false
   },
   "outputs": [
    {
     "name": "stdout",
     "output_type": "stream",
     "text": [
      "치매\n"
     ]
    },
    {
     "name": "stderr",
     "output_type": "stream",
     "text": [
      "100%|█████████████████████████████████████████████████████████████████████████████████| 6/6 [1:17:28<00:00, 774.70s/it]"
     ]
    },
    {
     "name": "stdout",
     "output_type": "stream",
     "text": [
      "News Info Extracting Time:  1:17:28.258552\n"
     ]
    },
    {
     "name": "stderr",
     "output_type": "stream",
     "text": [
      "\n"
     ]
    }
   ],
   "source": [
    "# hyperparameters\n",
    "KEYWORD_LOCATION = os.path.join(os.getcwd(), '[Document]', 'Target_Keywords.xlsx')\n",
    "QUERY_LIST = list(pd.read_excel(KEYWORD_LOCATION)['실제검색어'])[-2:]\n",
    "QUERY_LIST = ['치매']\n",
    "START = \"20210701\"\n",
    "END = \"20211231\"\n",
    "SORT = 0\n",
    "MAXPAGE = 100\n",
    "MAXPAGE_COUNT = False\n",
    "SAVE = True\n",
    "# data loading\n",
    "for QUERY in QUERY_LIST:\n",
    "    print(QUERY)\n",
    "    df = get_data_from_navernews(search_query=QUERY, start=START, end=END, sort=SORT, \n",
    "                                 maxpage=MAXPAGE, maxpage_count=MAXPAGE_COUNT, save_local=SAVE)"
   ]
  },
  {
   "cell_type": "code",
   "execution_count": 3,
   "id": "a6cd4ed4",
   "metadata": {
    "ExecuteTime": {
     "end_time": "2023-10-27T15:02:46.752365Z",
     "start_time": "2023-10-27T15:02:39.136318Z"
    }
   },
   "outputs": [
    {
     "name": "stdout",
     "output_type": "stream",
     "text": [
      "거주환경\n"
     ]
    },
    {
     "name": "stderr",
     "output_type": "stream",
     "text": [
      "  0%|                                                                                           | 0/12 [00:06<?, ?it/s]\n"
     ]
    },
    {
     "ename": "KeyboardInterrupt",
     "evalue": "",
     "output_type": "error",
     "traceback": [
      "\u001b[1;31m---------------------------------------------------------------------------\u001b[0m",
      "\u001b[1;31mKeyboardInterrupt\u001b[0m                         Traceback (most recent call last)",
      "Cell \u001b[1;32mIn[3], line 14\u001b[0m\n\u001b[0;32m     12\u001b[0m \u001b[38;5;28;01mfor\u001b[39;00m QUERY \u001b[38;5;129;01min\u001b[39;00m QUERY_LIST:\n\u001b[0;32m     13\u001b[0m     \u001b[38;5;28mprint\u001b[39m(QUERY)\n\u001b[1;32m---> 14\u001b[0m     df \u001b[38;5;241m=\u001b[39m get_data_from_navernews(search_query\u001b[38;5;241m=\u001b[39mQUERY, start\u001b[38;5;241m=\u001b[39mSTART, end\u001b[38;5;241m=\u001b[39mEND, sort\u001b[38;5;241m=\u001b[39mSORT, \n\u001b[0;32m     15\u001b[0m                                  maxpage\u001b[38;5;241m=\u001b[39mMAXPAGE, maxpage_count\u001b[38;5;241m=\u001b[39mMAXPAGE_COUNT, save_local\u001b[38;5;241m=\u001b[39mSAVE)\n",
      "File \u001b[1;32mC:\\DataScience\\Lecture\\DEBA-Study\\data_naver.py:322\u001b[0m, in \u001b[0;36mget_data_from_navernews\u001b[1;34m(search_query, start, end, sort, maxpage, maxpage_count, save_local, folder_location)\u001b[0m\n\u001b[0;32m    319\u001b[0m df_news \u001b[38;5;241m=\u001b[39m pd\u001b[38;5;241m.\u001b[39mDataFrame()\n\u001b[0;32m    320\u001b[0m \u001b[38;5;28;01mfor\u001b[39;00m period \u001b[38;5;129;01min\u001b[39;00m tqdm(date_list):\n\u001b[0;32m    321\u001b[0m     \u001b[38;5;66;03m# 각 월별 데이터 수집\u001b[39;00m\n\u001b[1;32m--> 322\u001b[0m     df \u001b[38;5;241m=\u001b[39m get_navernews(search_query\u001b[38;5;241m=\u001b[39msearch_query, start\u001b[38;5;241m=\u001b[39mperiod[\u001b[38;5;241m0\u001b[39m], end\u001b[38;5;241m=\u001b[39mperiod[\u001b[38;5;241m1\u001b[39m], sort\u001b[38;5;241m=\u001b[39msort, \n\u001b[0;32m    323\u001b[0m                        maxpage\u001b[38;5;241m=\u001b[39mmaxpage, maxpage_count\u001b[38;5;241m=\u001b[39mmaxpage_count, \n\u001b[0;32m    324\u001b[0m                        save_local\u001b[38;5;241m=\u001b[39msave_local, folder_location\u001b[38;5;241m=\u001b[39mfolder_location)\n\u001b[0;32m    325\u001b[0m     sleep(random\u001b[38;5;241m.\u001b[39muniform(\u001b[38;5;241m3\u001b[39m,\u001b[38;5;241m10\u001b[39m))\n\u001b[0;32m    327\u001b[0m     \u001b[38;5;66;03m# 모든 데이터 결합\u001b[39;00m\n",
      "File \u001b[1;32mC:\\DataScience\\Lecture\\DEBA-Study\\data_naver.py:175\u001b[0m, in \u001b[0;36mget_navernews\u001b[1;34m(search_query, start, end, sort, maxpage, maxpage_count, save_local, folder_location)\u001b[0m\n\u001b[0;32m    173\u001b[0m response \u001b[38;5;241m=\u001b[39m requests\u001b[38;5;241m.\u001b[39mget(pg, headers\u001b[38;5;241m=\u001b[39mheaders)\n\u001b[0;32m    174\u001b[0m soup \u001b[38;5;241m=\u001b[39m BeautifulSoup(response\u001b[38;5;241m.\u001b[39mtext, \u001b[38;5;124m'\u001b[39m\u001b[38;5;124mhtml.parser\u001b[39m\u001b[38;5;124m'\u001b[39m)\n\u001b[1;32m--> 175\u001b[0m sleep(random\u001b[38;5;241m.\u001b[39muniform(\u001b[38;5;241m3\u001b[39m,\u001b[38;5;241m10\u001b[39m)) \u001b[38;5;66;03m# 요청 사이 무작위로 시간 간격을 두어(3~10초) 일정한 시간간격의 비정상적인 접근 방지\u001b[39;00m\n\u001b[0;32m    177\u001b[0m \u001b[38;5;66;03m# 테스트\u001b[39;00m\n\u001b[0;32m    178\u001b[0m news_elements \u001b[38;5;241m=\u001b[39m soup\u001b[38;5;241m.\u001b[39mselect(\u001b[38;5;124m'\u001b[39m\u001b[38;5;124mdiv.news_wrap.api_ani_send\u001b[39m\u001b[38;5;124m'\u001b[39m)\n",
      "\u001b[1;31mKeyboardInterrupt\u001b[0m: "
     ]
    }
   ],
   "source": [
    "# hyperparameters\n",
    "KEYWORD_LOCATION = os.path.join(os.getcwd(), '[Document]', 'Target_Keywords.xlsx')\n",
    "QUERY_LIST = list(pd.read_excel(KEYWORD_LOCATION)['실제검색어'])[-2:]\n",
    "QUERY_LIST = ['거주환경']\n",
    "START = \"20210101\"\n",
    "END = \"20211231\"\n",
    "SORT = 0\n",
    "MAXPAGE = 100\n",
    "MAXPAGE_COUNT = False\n",
    "SAVE = True\n",
    "# data loading\n",
    "for QUERY in QUERY_LIST:\n",
    "    print(QUERY)\n",
    "    df = get_data_from_navernews(search_query=QUERY, start=START, end=END, sort=SORT, \n",
    "                                 maxpage=MAXPAGE, maxpage_count=MAXPAGE_COUNT, save_local=SAVE)"
   ]
  },
  {
   "cell_type": "code",
   "execution_count": null,
   "id": "97fa1ae4",
   "metadata": {},
   "outputs": [],
   "source": []
  }
 ],
 "metadata": {
  "hide_input": false,
  "kernelspec": {
   "display_name": "Python 3 (ipykernel)",
   "language": "python",
   "name": "python3"
  },
  "language_info": {
   "codemirror_mode": {
    "name": "ipython",
    "version": 3
   },
   "file_extension": ".py",
   "mimetype": "text/x-python",
   "name": "python",
   "nbconvert_exporter": "python",
   "pygments_lexer": "ipython3",
   "version": "3.11.4"
  },
  "toc": {
   "base_numbering": 1,
   "nav_menu": {},
   "number_sections": true,
   "sideBar": true,
   "skip_h1_title": false,
   "title_cell": "Table of Contents",
   "title_sidebar": "Contents",
   "toc_cell": false,
   "toc_position": {
    "height": "calc(100% - 180px)",
    "left": "10px",
    "top": "150px",
    "width": "255.594px"
   },
   "toc_section_display": true,
   "toc_window_display": false
  },
  "varInspector": {
   "cols": {
    "lenName": 16,
    "lenType": 16,
    "lenVar": 40
   },
   "kernels_config": {
    "python": {
     "delete_cmd_postfix": "",
     "delete_cmd_prefix": "del ",
     "library": "var_list.py",
     "varRefreshCmd": "print(var_dic_list())"
    },
    "r": {
     "delete_cmd_postfix": ") ",
     "delete_cmd_prefix": "rm(",
     "library": "var_list.r",
     "varRefreshCmd": "cat(var_dic_list()) "
    }
   },
   "types_to_exclude": [
    "module",
    "function",
    "builtin_function_or_method",
    "instance",
    "_Feature"
   ],
   "window_display": false
  }
 },
 "nbformat": 4,
 "nbformat_minor": 5
}
