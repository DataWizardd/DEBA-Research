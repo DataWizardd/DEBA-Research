{
 "cells": [
  {
   "cell_type": "code",
   "execution_count": 1,
   "id": "04ee8c85",
   "metadata": {
    "ExecuteTime": {
     "end_time": "2023-10-24T17:01:58.446592Z",
     "start_time": "2023-10-24T17:01:55.470683Z"
    }
   },
   "outputs": [],
   "source": [
    "# Ignore the warnings\n",
    "import warnings\n",
    "# warnings.filterwarnings('always')\n",
    "warnings.filterwarnings('ignore')\n",
    "\n",
    "# System related and data input controls\n",
    "import os\n",
    "\n",
    "# Auto reload of library\n",
    "%reload_ext autoreload\n",
    "%autoreload 2\n",
    "\n",
    "from data_naver import *"
   ]
  },
  {
   "cell_type": "code",
   "execution_count": null,
   "id": "6d7bff8a",
   "metadata": {},
   "outputs": [],
   "source": [
    "# hyperparameters\n",
    "KEYWORD_LOCATION = os.path.join(os.getcwd(), '[Document]', 'Target_Keywords.xlsx')\n",
    "QUERY_LIST = list(pd.read_excel(KEYWORD_LOCATION)['실제검색어'])\n",
    "START = \"20180101\"\n",
    "END = \"20181231\"\n",
    "SORT = 0\n",
    "MAXPAGE = 100\n",
    "MAXPAGE_COUNT = False\n",
    "SAVE = True\n",
    "# data loading\n",
    "for QUERY in QUERY_LIST:\n",
    "    print(QUERY)\n",
    "    df = get_data_from_navernews(search_query=QUERY, start=START, end=END, sort=SORT, \n",
    "                                 maxpage=MAXPAGE, maxpage_count=MAXPAGE_COUNT, save_local=SAVE)"
   ]
  }
 ],
 "metadata": {
  "kernelspec": {
   "display_name": "Python 3 (ipykernel)",
   "language": "python",
   "name": "python3"
  },
  "language_info": {
   "codemirror_mode": {
    "name": "ipython",
    "version": 3
   },
   "file_extension": ".py",
   "mimetype": "text/x-python",
   "name": "python",
   "nbconvert_exporter": "python",
   "pygments_lexer": "ipython3",
   "version": "3.11.4"
  },
  "toc": {
   "base_numbering": 1,
   "nav_menu": {},
   "number_sections": true,
   "sideBar": true,
   "skip_h1_title": false,
   "title_cell": "Table of Contents",
   "title_sidebar": "Contents",
   "toc_cell": false,
   "toc_position": {},
   "toc_section_display": true,
   "toc_window_display": false
  }
 },
 "nbformat": 4,
 "nbformat_minor": 5
}
