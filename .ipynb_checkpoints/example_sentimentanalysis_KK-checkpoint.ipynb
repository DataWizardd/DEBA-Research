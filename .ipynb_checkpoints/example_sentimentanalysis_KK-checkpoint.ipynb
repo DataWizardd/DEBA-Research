{
 "cells": [
  {
   "cell_type": "code",
   "execution_count": 16,
   "id": "d256f1d5",
   "metadata": {
    "ExecuteTime": {
     "end_time": "2023-11-16T18:59:42.655655Z",
     "start_time": "2023-11-16T18:59:42.249278Z"
    },
    "scrolled": false
   },
   "outputs": [
    {
     "name": "stdout",
     "output_type": "stream",
     "text": [
      "\n",
      "Tensorflow Version:  2.10.0\n",
      "Keras Version:  2.10.0\n",
      "Num of Physical GPUs Available:  1\n",
      "Cuda is Ready?  True\n",
      "Cuda Version:  64_112\n",
      "Cudnn Version:  64_8 \n",
      "\n",
      "Torch Version:  2.1.0\n",
      "Torch Cuda Version: 11.8\n",
      "Torch Cudnn Version:8700\n",
      "There are 1 GPU(s) available.\n",
      "We will use the GPU: NVIDIA GeForce RTX 4070 Laptop GPU\n"
     ]
    }
   ],
   "source": [
    "# Ignore the warnings\n",
    "import warnings\n",
    "# warnings.filterwarnings('always')\n",
    "warnings.filterwarnings('ignore')\n",
    "\n",
    "# System related and data input controls\n",
    "import os\n",
    "\n",
    "# Auto reload of library\n",
    "%reload_ext autoreload\n",
    "%autoreload 2\n",
    "\n",
    "# Python path\n",
    "import sys\n",
    "base_folder = 'DataScience'\n",
    "location_base = os.path.join(os.getcwd().split(base_folder)[0], base_folder)\n",
    "location_module = [os.path.join(location_base, 'Module')] \n",
    "for each in location_module:\n",
    "    if each not in sys.path:\n",
    "        sys.path.append(each)\n",
    "        \n",
    "from import_KK import *\n",
    "DeviceStrategy_GPU()\n",
    "from preprocessing_KK import *\n",
    "from preprocessing_text_KK import * ##\n",
    "from visualization_KK import * ##\n",
    "from algorithm_BERT_KK import *\n",
    "from evaluation_KK import *"
   ]
  },
  {
   "cell_type": "markdown",
   "id": "aaae979d",
   "metadata": {},
   "source": [
    "# Hyperparameters"
   ]
  },
  {
   "cell_type": "code",
   "execution_count": 17,
   "id": "40baf6cb",
   "metadata": {
    "ExecuteTime": {
     "end_time": "2023-11-16T18:59:45.945091Z",
     "start_time": "2023-11-16T18:59:45.222424Z"
    }
   },
   "outputs": [],
   "source": [
    "SEED = 123\n",
    "random.seed(SEED)\n",
    "np.random.seed(SEED)\n",
    "torch.manual_seed(SEED)\n",
    "torch.cuda.manual_seed_all(SEED)\n",
    "DEVICE = torch.device(\"cuda\" if torch.cuda.is_available() else \"cpu\")\n",
    "NUM_LABELS = 3\n",
    "SEQ_LEN = 64\n",
    "BATCH_SIZE = 64\n",
    "EPOCHS = 2\n",
    "LEARNING_RATE = 2.0e-5\n",
    "MODEL_NAME = 'bert-base-multilingual-cased'    # 'bert-base-multilingual-cased', 'klue/roberta-base', 'monologg/kobert'\n",
    "TOKENIZER = BertTokenizer.from_pretrained(MODEL_NAME, do_lower_case=False)  \n",
    "BESTMODEL_LOCATION = os.path.join(r'C:\\Users\\KK\\Desktop\\Model', \n",
    "                                  'modeling_BERTsentiment_'+datetime.datetime.now().strftime(\"%Y%m%d\")+'.pt')"
   ]
  },
  {
   "cell_type": "markdown",
   "id": "41e72cc0",
   "metadata": {},
   "source": [
    "# Data Preprocessing"
   ]
  },
  {
   "cell_type": "code",
   "execution_count": 3,
   "id": "49534367",
   "metadata": {
    "ExecuteTime": {
     "end_time": "2023-11-16T18:56:18.582966Z",
     "start_time": "2023-11-16T18:56:16.793381Z"
    }
   },
   "outputs": [],
   "source": [
    "# 데이터 로딩\n",
    "train = pd.read_csv(os.path.join(os.getcwd(), 'Data', 'MovieReview_NSMC', 'ratings_train.txt'), sep='\\t').sample(5000).reset_index().iloc[:,1:]\n",
    "test = pd.read_csv(os.path.join(os.getcwd(), 'Data', 'MovieReview_NSMC', 'ratings_test.txt'), sep='\\t').sample(5000).reset_index().iloc[:,1:]\n",
    "\n",
    "# 전처리\n",
    "X_train, Y_train = train['document'], train['label']\n",
    "X_test, Y_test = test['document'], test['label']\n",
    "train_dataloader = preprocessing_sentence_to_BERTinput(TOKENIZER, X_train, Y_train, \n",
    "                                                       seq_len=SEQ_LEN, batch_size=BATCH_SIZE)\n",
    "valid_dataloader = preprocessing_sentence_to_BERTinput(TOKENIZER, X_test, Y_test,\n",
    "                                                       seq_len=SEQ_LEN, batch_size=BATCH_SIZE)"
   ]
  },
  {
   "cell_type": "markdown",
   "id": "a1e6b45b",
   "metadata": {},
   "source": [
    "# Modeling"
   ]
  },
  {
   "cell_type": "code",
   "execution_count": 5,
   "id": "2f9c7d20",
   "metadata": {
    "ExecuteTime": {
     "end_time": "2023-11-16T17:47:52.721285Z",
     "start_time": "2023-11-16T17:46:45.963700Z"
    }
   },
   "outputs": [
    {
     "name": "stderr",
     "output_type": "stream",
     "text": [
      "Some weights of BertForSequenceClassification were not initialized from the model checkpoint at bert-base-multilingual-cased and are newly initialized: ['classifier.weight', 'classifier.bias']\n",
      "You should probably TRAIN this model on a down-stream task to be able to use it for predictions and inference.\n"
     ]
    },
    {
     "name": "stdout",
     "output_type": "stream",
     "text": [
      "\n",
      "======== Epoch 1 / 2 =======\n"
     ]
    },
    {
     "name": "stderr",
     "output_type": "stream",
     "text": [
      "100%|██████████████████████████████████████████████████████████████████████████████████| 79/79 [00:25<00:00,  3.14it/s]\n"
     ]
    },
    {
     "name": "stdout",
     "output_type": "stream",
     "text": [
      "Training Loss: 0.64  Accuracy: 0.66  Epoch Took: 0:00:25\n",
      "Validation Loss: 0.54  Accuracy: 0.74  Epoch Took: 0:00:07\n",
      "\n",
      "======== Epoch 2 / 2 =======\n"
     ]
    },
    {
     "name": "stderr",
     "output_type": "stream",
     "text": [
      "100%|██████████████████████████████████████████████████████████████████████████████████| 79/79 [00:23<00:00,  3.32it/s]\n"
     ]
    },
    {
     "name": "stdout",
     "output_type": "stream",
     "text": [
      "Training Loss: 0.47  Accuracy: 0.79  Epoch Took: 0:00:24\n",
      "Validation Loss: 0.51  Accuracy: 0.76  Epoch Took: 0:00:07\n"
     ]
    },
    {
     "data": {
      "image/png": "[encoded data removed]",
      "text/plain": [
       "<Figure size 1400x400 with 2 Axes>"
      ]
     },
     "metadata": {},
     "output_type": "display_data"
    },
    {
     "name": "stdout",
     "output_type": "stream",
     "text": [
      "\n",
      "Training complete!\n"
     ]
    }
   ],
   "source": [
    "model = modeling_BERTsentiment(DEVICE, MODEL_NAME, train_dataloader, valid_dataloader, \n",
    "                               num_labels=NUM_LABELS, epochs=EPOCHS, learning_rate=LEARNING_RATE,\n",
    "                               save_location=BESTMODEL_LOCATION)"
   ]
  },
  {
   "cell_type": "markdown",
   "id": "e93f1c03",
   "metadata": {},
   "source": [
    "# Prediction"
   ]
  },
  {
   "cell_type": "code",
   "execution_count": 19,
   "id": "c504246c",
   "metadata": {
    "ExecuteTime": {
     "end_time": "2023-11-16T19:00:04.878955Z",
     "start_time": "2023-11-16T19:00:00.389484Z"
    }
   },
   "outputs": [],
   "source": [
    "# 예측 데이터 로딩\n",
    "df_news = pd.read_csv(r'C:\\Users\\KK\\Desktop\\Data\\df_news_bigkinds.csv')\n",
    "DELETE_KEYWORD = ['100세', '거주환경']\n",
    "keyword_filter = [each for each in df_news['Folder_Name'].unique() if each not in DELETE_KEYWORD]\n",
    "df_news = df_news[df_news['Folder_Name'].apply(lambda x: x in keyword_filter)].reset_index().iloc[:,1:]\n",
    "CATEGORY_BK_Sub = ['경제>경제일반', '경제>국제경제', '경제>취업_창업',\n",
    "                   '사회>노동_복지', '사회>사건_사고', '사회>사회일반', '사회>여성', '사회>장애인', '사회>의료_건강',\n",
    "                   '문화>미술_건축', '문화>요리_여행', '문화>출판',\n",
    "                   '국제>중국', '국제>유럽_EU', '국제>일본', '국제>미국_북미', '국제>중동_아프리카',\n",
    "                   '국제>아시아', '국제>중남미', '국제>국제일반', '국제>러시아']\n",
    "category_filter = [each for each in df_news['통합 분류1'].unique() if each in CATEGORY_BK_Sub]\n",
    "df_news = df_news[df_news['통합 분류1'].apply(lambda x: x in category_filter)].reset_index().iloc[:,1:]"
   ]
  },
  {
   "cell_type": "code",
   "execution_count": 29,
   "id": "73a3854d",
   "metadata": {
    "ExecuteTime": {
     "end_time": "2023-11-16T19:05:43.650800Z",
     "start_time": "2023-11-16T19:05:41.143158Z"
    }
   },
   "outputs": [
    {
     "name": "stderr",
     "output_type": "stream",
     "text": [
      "Some weights of BertForSequenceClassification were not initialized from the model checkpoint at bert-base-multilingual-cased and are newly initialized: ['classifier.weight', 'classifier.bias']\n",
      "You should probably TRAIN this model on a down-stream task to be able to use it for predictions and inference.\n",
      "100%|████████████████████████████████████████████████████████████████████████████████████| 1/1 [00:00<00:00, 47.78it/s]\n"
     ]
    },
    {
     "data": {
      "text/html": [
       "<div>\n",
       "<style scoped>\n",
       "    .dataframe tbody tr th:only-of-type {\n",
       "        vertical-align: middle;\n",
       "    }\n",
       "\n",
       "    .dataframe tbody tr th {\n",
       "        vertical-align: top;\n",
       "    }\n",
       "\n",
       "    .dataframe thead th {\n",
       "        text-align: right;\n",
       "    }\n",
       "</style>\n",
       "<table border=\"1\" class=\"dataframe\">\n",
       "  <thead>\n",
       "    <tr style=\"text-align: right;\">\n",
       "      <th></th>\n",
       "      <th>제목</th>\n",
       "      <th>Prob_Label0</th>\n",
       "      <th>Prob_Label1</th>\n",
       "      <th>Prob_Label2</th>\n",
       "      <th>Sentiment</th>\n",
       "    </tr>\n",
       "  </thead>\n",
       "  <tbody>\n",
       "    <tr>\n",
       "      <th>0</th>\n",
       "      <td>시진핑 리스크까지 중진국 함정 빠지나</td>\n",
       "      <td>0.8930</td>\n",
       "      <td>0.1019</td>\n",
       "      <td>0.0051</td>\n",
       "      <td>0</td>\n",
       "    </tr>\n",
       "    <tr>\n",
       "      <th>1</th>\n",
       "      <td>출산율 07명도 위태 저출산 예산 176조로</td>\n",
       "      <td>0.8347</td>\n",
       "      <td>0.1598</td>\n",
       "      <td>0.0055</td>\n",
       "      <td>0</td>\n",
       "    </tr>\n",
       "    <tr>\n",
       "      <th>2</th>\n",
       "      <td>합계출산율 07명도 위태 내년 저출산 예산 176조원으로 확대</td>\n",
       "      <td>0.7663</td>\n",
       "      <td>0.2273</td>\n",
       "      <td>0.0064</td>\n",
       "      <td>0</td>\n",
       "    </tr>\n",
       "    <tr>\n",
       "      <th>3</th>\n",
       "      <td>늙어가는 울산 고령화에도 의료 수준 열악</td>\n",
       "      <td>0.5372</td>\n",
       "      <td>0.4587</td>\n",
       "      <td>0.0042</td>\n",
       "      <td>0</td>\n",
       "    </tr>\n",
       "    <tr>\n",
       "      <th>4</th>\n",
       "      <td>늙어가는 울산 고령화에도 의료수준 열악</td>\n",
       "      <td>0.4841</td>\n",
       "      <td>0.5117</td>\n",
       "      <td>0.0041</td>\n",
       "      <td>1</td>\n",
       "    </tr>\n",
       "    <tr>\n",
       "      <th>5</th>\n",
       "      <td>98세에도 강단 서는 영원한 학자 후학들에 지혜와 용기를 전하다 weekend 헬스</td>\n",
       "      <td>0.1117</td>\n",
       "      <td>0.8836</td>\n",
       "      <td>0.0047</td>\n",
       "      <td>1</td>\n",
       "    </tr>\n",
       "    <tr>\n",
       "      <th>6</th>\n",
       "      <td>광명시 노인정책 발굴</td>\n",
       "      <td>0.3872</td>\n",
       "      <td>0.6060</td>\n",
       "      <td>0.0068</td>\n",
       "      <td>1</td>\n",
       "    </tr>\n",
       "    <tr>\n",
       "      <th>7</th>\n",
       "      <td>4000만원으로 18세 국제결혼 매매혼 vs 축하 시끌</td>\n",
       "      <td>0.1088</td>\n",
       "      <td>0.8836</td>\n",
       "      <td>0.0077</td>\n",
       "      <td>1</td>\n",
       "    </tr>\n",
       "    <tr>\n",
       "      <th>8</th>\n",
       "      <td>윤영호의 퍼스펙티브 금융자산 관리하듯 건강자산 관리해야 웰빙 삶 가능</td>\n",
       "      <td>0.2645</td>\n",
       "      <td>0.7309</td>\n",
       "      <td>0.0046</td>\n",
       "      <td>1</td>\n",
       "    </tr>\n",
       "    <tr>\n",
       "      <th>9</th>\n",
       "      <td>고령화에 불붙는 정년연장론 청년층 밥그릇 뺏기 지적도</td>\n",
       "      <td>0.8376</td>\n",
       "      <td>0.1579</td>\n",
       "      <td>0.0045</td>\n",
       "      <td>0</td>\n",
       "    </tr>\n",
       "  </tbody>\n",
       "</table>\n",
       "</div>"
      ],
      "text/plain": [
       "                                               제목  Prob_Label0  Prob_Label1  \\\n",
       "0                            시진핑 리스크까지 중진국 함정 빠지나       0.8930       0.1019   \n",
       "1                        출산율 07명도 위태 저출산 예산 176조로       0.8347       0.1598   \n",
       "2              합계출산율 07명도 위태 내년 저출산 예산 176조원으로 확대       0.7663       0.2273   \n",
       "3                          늙어가는 울산 고령화에도 의료 수준 열악       0.5372       0.4587   \n",
       "4                           늙어가는 울산 고령화에도 의료수준 열악       0.4841       0.5117   \n",
       "5  98세에도 강단 서는 영원한 학자 후학들에 지혜와 용기를 전하다 weekend 헬스       0.1117       0.8836   \n",
       "6                                     광명시 노인정책 발굴       0.3872       0.6060   \n",
       "7                  4000만원으로 18세 국제결혼 매매혼 vs 축하 시끌       0.1088       0.8836   \n",
       "8          윤영호의 퍼스펙티브 금융자산 관리하듯 건강자산 관리해야 웰빙 삶 가능       0.2645       0.7309   \n",
       "9                   고령화에 불붙는 정년연장론 청년층 밥그릇 뺏기 지적도       0.8376       0.1579   \n",
       "\n",
       "   Prob_Label2  Sentiment  \n",
       "0       0.0051          0  \n",
       "1       0.0055          0  \n",
       "2       0.0064          0  \n",
       "3       0.0042          0  \n",
       "4       0.0041          1  \n",
       "5       0.0047          1  \n",
       "6       0.0068          1  \n",
       "7       0.0077          1  \n",
       "8       0.0046          1  \n",
       "9       0.0045          0  "
      ]
     },
     "execution_count": 29,
     "metadata": {},
     "output_type": "execute_result"
    }
   ],
   "source": [
    "def predict_sentiment_BERT(tokenizer, sentences,\n",
    "                           seq_len=128, batch_size=32):\n",
    "    # 문장을 입력 데이터로 변환\n",
    "    test_dataloader = preprocessing_sentence_to_BERTinput(tokenizer, sentences, [],\n",
    "                                                          seq_len=seq_len, batch_size=batch_size, sampler=None)\n",
    "\n",
    "    # 예측\n",
    "    model.eval()\n",
    "    for batch_id, (tokens, masks) in enumerate(tqdm(test_dataloader)):\n",
    "        b_input_ids = tokens.to(device)\n",
    "        b_input_mask = masks.to(device)\n",
    "        with torch.no_grad():    # 그래디언트 계산 안함\n",
    "            outputs = model(b_input_ids, token_type_ids=None, attention_mask=b_input_mask)    # Forward 수행\n",
    "\n",
    "        # 출력\n",
    "        logits = outputs[0].cpu().numpy()\n",
    "    \n",
    "    # 정리\n",
    "    probability = pd.DataFrame(softmax(logits), columns=['Prob_Label'+str(i) for i in range(np.shape(logits)[1])])\n",
    "    sentiment = pd.DataFrame(np.argmax(softmax(logits), axis=1), columns=['Sentiment'])\n",
    "    \n",
    "    return pd.concat([pd.Series(sentences), probability, sentiment], axis=1)\n",
    "\n",
    "# 예측\n",
    "# 모델 로딩\n",
    "model = BertForSequenceClassification.from_pretrained(MODEL_NAME, num_labels=NUM_LABELS).to(DEVICE)\n",
    "model.load_state_dict(torch.load(BESTMODEL_LOCATION))\n",
    "predict_sentiment_BERT(TOKENIZER, df_news['제목'][:10], seq_len=SEQ_LEN, batch_size=BATCH_SIZE)"
   ]
  },
  {
   "cell_type": "code",
   "execution_count": null,
   "id": "8695483b",
   "metadata": {},
   "outputs": [],
   "source": []
  },
  {
   "cell_type": "code",
   "execution_count": null,
   "id": "b4c10d40",
   "metadata": {},
   "outputs": [],
   "source": []
  },
  {
   "cell_type": "code",
   "execution_count": null,
   "id": "c10b2c20",
   "metadata": {},
   "outputs": [],
   "source": []
  }
 ],
 "metadata": {
  "kernelspec": {
   "display_name": "py39_dnn895",
   "language": "python",
   "name": "py39_dnn895"
  },
  "language_info": {
   "codemirror_mode": {
    "name": "ipython",
    "version": 3
   },
   "file_extension": ".py",
   "mimetype": "text/x-python",
   "name": "python",
   "nbconvert_exporter": "python",
   "pygments_lexer": "ipython3",
   "version": "3.9.18"
  },
  "toc": {
   "base_numbering": 1,
   "nav_menu": {},
   "number_sections": true,
   "sideBar": true,
   "skip_h1_title": false,
   "title_cell": "Table of Contents",
   "title_sidebar": "Contents",
   "toc_cell": false,
   "toc_position": {},
   "toc_section_display": true,
   "toc_window_display": false
  }
 },
 "nbformat": 4,
 "nbformat_minor": 5
}
