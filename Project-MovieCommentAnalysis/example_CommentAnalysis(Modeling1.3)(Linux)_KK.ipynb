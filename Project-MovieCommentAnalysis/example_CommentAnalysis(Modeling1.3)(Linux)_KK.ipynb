{
 "cells": [
  {
   "cell_type": "code",
   "execution_count": 177,
   "id": "1c367001",
   "metadata": {
    "ExecuteTime": {
     "end_time": "2024-12-03T13:19:24.491621Z",
     "start_time": "2024-12-03T13:18:40.727752Z"
    },
    "execution": {
     "iopub.execute_input": "2024-12-09T15:12:14.746453Z",
     "iopub.status.busy": "2024-12-09T15:12:14.746453Z",
     "iopub.status.idle": "2024-12-09T15:12:16.253253Z",
     "shell.execute_reply": "2024-12-09T15:12:16.252244Z",
     "shell.execute_reply.started": "2024-12-09T15:12:14.746453Z"
    }
   },
   "outputs": [
    {
     "name": "stdout",
     "output_type": "stream",
     "text": [
      "\n",
      "Tensorflow Version:  2.18.0\n",
      "Keras Version:  3.7.0\n",
      "Torch Version:  2.5.1\n"
     ]
    }
   ],
   "source": [
    "# Ignore the warnings\n",
    "import warnings\n",
    "# warnings.filterwarnings('always')\n",
    "warnings.filterwarnings('ignore')\n",
    "\n",
    "# System related and data input controls\n",
    "import os\n",
    "\n",
    "# Auto reload of library\n",
    "%reload_ext autoreload\n",
    "%autoreload 2\n",
    "\n",
    "# Python path\n",
    "import sys\n",
    "base_folder = 'DataScience'\n",
    "location_base = os.path.join(os.getcwd().split(base_folder)[0], base_folder)\n",
    "location_module = [os.path.join(location_base, 'Module')] \n",
    "for each in location_module:\n",
    "    if each not in sys.path:\n",
    "        sys.path.append(each)\n",
    "\n",
    "from import_KK import *\n",
    "DeviceStrategy_CPU()\n",
    "from data_KK import *\n",
    "from description_KK import *\n",
    "from preprocessing_KK import *\n",
    "from preprocessing_text_KK import * ##\n",
    "from algorithm_textmining_KK import * ##\n",
    "from evaluation_KK import *\n",
    "from visualization_KK import *"
   ]
  },
  {
   "cell_type": "code",
   "execution_count": 179,
   "id": "01c862e2",
   "metadata": {
    "ExecuteTime": {
     "end_time": "2024-12-03T13:19:24.858878Z",
     "start_time": "2024-12-03T13:19:24.493621Z"
    },
    "execution": {
     "iopub.execute_input": "2024-12-09T15:12:21.372642Z",
     "iopub.status.busy": "2024-12-09T15:12:21.372642Z",
     "iopub.status.idle": "2024-12-09T15:12:22.942316Z",
     "shell.execute_reply": "2024-12-09T15:12:22.941315Z",
     "shell.execute_reply.started": "2024-12-09T15:12:21.372642Z"
    }
   },
   "outputs": [],
   "source": [
    "def get_data_from_path(folder_location, folder_name=False, concat_axis='row', \n",
    "                       reset_index=False, date_column=None):\n",
    "    # path_folder 하위의 모든 폴더위치와 내부 file 출력\n",
    "    df = pd.DataFrame()\n",
    "    print('Getting data from', len(os.listdir(folder_location)), 'folders...')\n",
    "    for (path, dir, files) in os.walk(folder_location):\n",
    "#         print(path)\n",
    "        for file in tqdm(files):\n",
    "            path_file = os.path.join(path, file)\n",
    "\n",
    "            ## 데이터 로딩\n",
    "            if path_file[-4:] == 'xlsx':\n",
    "                df_sub = pd.read_excel(path_file)\n",
    "            elif path_file[-3:] == 'csv':\n",
    "                df_sub = pd.read_csv(path_file)\n",
    "                \n",
    "            ### 왓차피디어 변수명변경\n",
    "            if 'reviewDate' in df_sub.columns:\n",
    "                df_sub.rename(columns={'year':'date'}, inplace=True)\n",
    "            elif 'writer' in df_sub.columns:\n",
    "                df_sub.rename(columns={'writer':'username', 'comment':'review'}, inplace=True)\n",
    "\n",
    "            ## 키워드 태깅 여부\n",
    "            if folder_name:\n",
    "                df_sub['Folder_Name'] = file \n",
    "                df_sub['Opening'] = os.path.basename(path).split('(')[1].split(')')[0]\n",
    "                           \n",
    "            ## 결합\n",
    "            if concat_axis == 'col':\n",
    "                df = pd.concat([df, df_sub], axis=1)\n",
    "            elif concat_axis == 'row':\n",
    "                df = pd.concat([df, df_sub], axis=0)\n",
    "    \n",
    "    # 정리\n",
    "    if reset_index:\n",
    "        df = df.reset_index().iloc[:,1:]\n",
    "    if date_column != None:\n",
    "        df[date_column] = pd.to_datetime(df[date_column])\n",
    "                \n",
    "    return df"
   ]
  },
  {
   "cell_type": "markdown",
   "id": "9ab05743",
   "metadata": {},
   "source": [
    "# Hyperparameters"
   ]
  },
  {
   "cell_type": "code",
   "execution_count": 181,
   "id": "1d3480b2",
   "metadata": {
    "ExecuteTime": {
     "end_time": "2024-12-03T13:19:25.206282Z",
     "start_time": "2024-12-03T13:19:24.859917Z"
    },
    "execution": {
     "iopub.execute_input": "2024-12-09T15:12:34.501127Z",
     "iopub.status.busy": "2024-12-09T15:12:34.500127Z",
     "iopub.status.idle": "2024-12-09T15:12:36.120121Z",
     "shell.execute_reply": "2024-12-09T15:12:36.120121Z",
     "shell.execute_reply.started": "2024-12-09T15:12:34.501127Z"
    }
   },
   "outputs": [],
   "source": [
    "# 데이터 파라미터\n",
    "TARGET = 'Comment'\n",
    "CATEGORY = 'Opening'\n",
    "# 전처리모델 파라미터\n",
    "STOPWORDS = ['정보 없음', '없음', '정보', '영화', '너무', '정말']\n",
    "NGRAM_RANGE = (1,3)\n",
    "TFIDF_MAXCOL = 5000\n",
    "TFIDF_DELLOWFREQ = False\n",
    "RAY = True\n",
    "KEYBERT_TOPNKWD = 5\n",
    "NUM_SHOWKEYWORD = 100\n",
    "# 영화 필터링\n",
    "FILTER_MOVIE = ['살인자의 기억법']\n",
    "# 모델링 파라미터\n",
    "TOKENIZER = 'KeyBERT'\n",
    "# euclidean, manhattan, chebyshev, minkowski, canberra, braycurtis, mahalanobis, wminkowski, seuclidean, cosine, correlation\n",
    "# haversine, hamming, jaccard, dice, russelrao, kulsinski, ll_dirichlet, hellinger, rogerstanimoto, sokalmichener, sokalsneath, yule\n",
    "UMAP_METRIC = 'euclidean'\n",
    "UMAP_SEED = 123\n",
    "NUM_TOPICS = 'auto'\n",
    "NUM_TOPICWORDS = 10\n",
    "NUM_TOPICSAMPLES = 5\n",
    "# 저장\n",
    "SAVE_LOCAL = True\n",
    "SAVE_NAME_PREP = 'wordfreq'\n",
    "SAVE_NAME_LDA = 'Topics_byTokenLDA.xlsx'\n",
    "SAVE_NAME_BERTopic = 'Topics_byBERTopic.xlsx'"
   ]
  },
  {
   "cell_type": "markdown",
   "id": "4340d138",
   "metadata": {},
   "source": [
    "# Data & Preprocessing"
   ]
  },
  {
   "cell_type": "code",
   "execution_count": 83,
   "id": "3d1b2884",
   "metadata": {
    "ExecuteTime": {
     "end_time": "2024-11-27T15:28:00.795830Z",
     "start_time": "2024-11-27T15:27:04.844041Z"
    },
    "execution": {
     "iopub.execute_input": "2024-12-09T10:48:43.302739Z",
     "iopub.status.busy": "2024-12-09T10:48:43.301740Z",
     "iopub.status.idle": "2024-12-09T10:49:21.618680Z",
     "shell.execute_reply": "2024-12-09T10:49:21.618680Z",
     "shell.execute_reply.started": "2024-12-09T10:48:43.302739Z"
    },
    "scrolled": true
   },
   "outputs": [
    {
     "name": "stdout",
     "output_type": "stream",
     "text": [
      "Getting data from 35 folders...\n"
     ]
    },
    {
     "name": "stderr",
     "output_type": "stream",
     "text": [
      "0it [00:00, ?it/s]\n",
      "100%|████████████████████████████████████████████████████████████████████████████████████| 4/4 [00:00<00:00, 67.80it/s]\n",
      "100%|████████████████████████████████████████████████████████████████████████████████████| 3/3 [00:00<00:00, 54.55it/s]\n",
      "100%|████████████████████████████████████████████████████████████████████████████████████| 2/2 [00:00<00:00, 55.56it/s]\n",
      "100%|████████████████████████████████████████████████████████████████████████████████████| 1/1 [00:00<00:00, 47.61it/s]\n",
      "100%|████████████████████████████████████████████████████████████████████████████████████| 1/1 [00:00<00:00, 52.63it/s]\n",
      "100%|████████████████████████████████████████████████████████████████████████████████████| 4/4 [00:00<00:00, 47.05it/s]\n",
      "100%|████████████████████████████████████████████████████████████████████████████████████| 2/2 [00:00<00:00, 55.59it/s]\n",
      "100%|████████████████████████████████████████████████████████████████████████████████████| 1/1 [00:00<00:00, 45.47it/s]\n",
      "100%|████████████████████████████████████████████████████████████████████████████████████| 4/4 [00:00<00:00, 34.78it/s]\n",
      "100%|████████████████████████████████████████████████████████████████████████████████████| 1/1 [00:00<00:00, 27.04it/s]\n",
      "100%|████████████████████████████████████████████████████████████████████████████████████| 4/4 [00:00<00:00, 35.71it/s]\n",
      "100%|████████████████████████████████████████████████████████████████████████████████████| 4/4 [00:00<00:00, 44.31it/s]\n",
      "100%|████████████████████████████████████████████████████████████████████████████████████| 3/3 [00:00<00:00, 69.77it/s]\n",
      "100%|████████████████████████████████████████████████████████████████████████████████████| 1/1 [00:00<00:00, 31.25it/s]\n",
      "100%|████████████████████████████████████████████████████████████████████████████████████| 4/4 [00:00<00:00, 40.00it/s]\n",
      "100%|████████████████████████████████████████████████████████████████████████████████████| 4/4 [00:00<00:00, 34.78it/s]\n",
      "100%|████████████████████████████████████████████████████████████████████████████████████| 2/2 [00:00<00:00, 52.60it/s]\n",
      "100%|████████████████████████████████████████████████████████████████████████████████████| 2/2 [00:00<00:00, 58.80it/s]\n",
      "100%|████████████████████████████████████████████████████████████████████████████████████| 4/4 [00:00<00:00, 21.40it/s]\n",
      "100%|████████████████████████████████████████████████████████████████████████████████████| 1/1 [00:00<00:00, 33.33it/s]\n",
      "100%|████████████████████████████████████████████████████████████████████████████████████| 3/3 [00:00<00:00, 45.45it/s]\n",
      "100%|████████████████████████████████████████████████████████████████████████████████████| 2/2 [00:00<00:00, 47.61it/s]\n",
      "100%|████████████████████████████████████████████████████████████████████████████████████| 4/4 [00:00<00:00, 30.07it/s]\n",
      "100%|████████████████████████████████████████████████████████████████████████████████████| 3/3 [00:00<00:00, 34.09it/s]\n",
      "100%|████████████████████████████████████████████████████████████████████████████████████| 3/3 [00:00<00:00, 21.54it/s]\n",
      "100%|████████████████████████████████████████████████████████████████████████████████████| 3/3 [00:00<00:00, 35.29it/s]\n",
      "100%|████████████████████████████████████████████████████████████████████████████████████| 4/4 [00:00<00:00, 32.39it/s]\n",
      "100%|████████████████████████████████████████████████████████████████████████████████████| 4/4 [00:00<00:00, 30.41it/s]\n",
      "100%|████████████████████████████████████████████████████████████████████████████████████| 4/4 [00:00<00:00, 32.73it/s]\n",
      "100%|████████████████████████████████████████████████████████████████████████████████████| 4/4 [00:00<00:00, 31.96it/s]\n",
      "100%|████████████████████████████████████████████████████████████████████████████████████| 1/1 [00:00<00:00, 10.41it/s]\n",
      "100%|████████████████████████████████████████████████████████████████████████████████████| 4/4 [00:00<00:00, 25.47it/s]\n",
      "100%|████████████████████████████████████████████████████████████████████████████████████| 3/3 [00:00<00:00, 35.22it/s]\n",
      "100%|████████████████████████████████████████████████████████████████████████████████████| 4/4 [00:00<00:00, 30.52it/s]\n",
      "100%|████████████████████████████████████████████████████████████████████████████████████| 3/3 [00:00<00:00, 41.74it/s]\n",
      "100%|████████████████████████████████████████████████████████████████████████████████████| 4/4 [00:00<00:00, 50.61it/s]\n",
      "100%|████████████████████████████████████████████████████████████████████████████████████| 3/3 [00:00<00:00, 38.46it/s]\n",
      "100%|████████████████████████████████████████████████████████████████████████████████████| 2/2 [00:00<00:00, 42.48it/s]\n",
      "100%|████████████████████████████████████████████████████████████████████████████████████| 1/1 [00:00<00:00, 37.07it/s]\n",
      "100%|████████████████████████████████████████████████████████████████████████████████████| 1/1 [00:00<00:00, 33.36it/s]\n",
      "100%|████████████████████████████████████████████████████████████████████████████████████| 4/4 [00:00<00:00, 36.34it/s]\n",
      "100%|████████████████████████████████████████████████████████████████████████████████████| 2/2 [00:00<00:00, 33.33it/s]\n",
      "100%|████████████████████████████████████████████████████████████████████████████████████| 1/1 [00:00<00:00, 77.16it/s]\n",
      "100%|████████████████████████████████████████████████████████████████████████████████████| 4/4 [00:00<00:00, 29.85it/s]\n",
      "100%|████████████████████████████████████████████████████████████████████████████████████| 1/1 [00:00<00:00, 21.72it/s]\n",
      "100%|████████████████████████████████████████████████████████████████████████████████████| 4/4 [00:00<00:00, 25.40it/s]\n",
      "100%|████████████████████████████████████████████████████████████████████████████████████| 4/4 [00:00<00:00, 30.30it/s]\n",
      "100%|████████████████████████████████████████████████████████████████████████████████████| 3/3 [00:00<00:00, 36.42it/s]\n",
      "100%|████████████████████████████████████████████████████████████████████████████████████| 1/1 [00:00<00:00, 25.00it/s]\n",
      "100%|████████████████████████████████████████████████████████████████████████████████████| 4/4 [00:00<00:00, 29.66it/s]\n",
      "100%|████████████████████████████████████████████████████████████████████████████████████| 4/4 [00:00<00:00, 27.41it/s]\n",
      "100%|████████████████████████████████████████████████████████████████████████████████████| 2/2 [00:00<00:00, 31.03it/s]\n",
      "100%|████████████████████████████████████████████████████████████████████████████████████| 2/2 [00:00<00:00, 40.89it/s]\n",
      "100%|████████████████████████████████████████████████████████████████████████████████████| 4/4 [00:00<00:00, 18.88it/s]\n",
      "100%|████████████████████████████████████████████████████████████████████████████████████| 1/1 [00:00<00:00, 66.60it/s]\n",
      "100%|████████████████████████████████████████████████████████████████████████████████████| 3/3 [00:00<00:00, 31.67it/s]\n",
      "100%|████████████████████████████████████████████████████████████████████████████████████| 2/2 [00:00<00:00, 45.46it/s]\n",
      "100%|████████████████████████████████████████████████████████████████████████████████████| 4/4 [00:00<00:00, 18.43it/s]\n",
      "100%|████████████████████████████████████████████████████████████████████████████████████| 3/3 [00:00<00:00, 28.95it/s]\n",
      "100%|████████████████████████████████████████████████████████████████████████████████████| 3/3 [00:00<00:00, 17.44it/s]\n",
      "100%|████████████████████████████████████████████████████████████████████████████████████| 3/3 [00:00<00:00, 30.00it/s]\n",
      "100%|████████████████████████████████████████████████████████████████████████████████████| 4/4 [00:00<00:00, 31.25it/s]\n",
      "100%|████████████████████████████████████████████████████████████████████████████████████| 4/4 [00:00<00:00, 34.85it/s]\n",
      "100%|████████████████████████████████████████████████████████████████████████████████████| 4/4 [00:00<00:00, 26.49it/s]\n",
      "100%|████████████████████████████████████████████████████████████████████████████████████| 4/4 [00:00<00:00, 32.01it/s]\n",
      "100%|████████████████████████████████████████████████████████████████████████████████████| 1/1 [00:00<00:00,  9.18it/s]\n",
      "100%|████████████████████████████████████████████████████████████████████████████████████| 4/4 [00:00<00:00, 25.65it/s]\n",
      "100%|████████████████████████████████████████████████████████████████████████████████████| 3/3 [00:00<00:00, 30.00it/s]\n",
      "100%|████████████████████████████████████████████████████████████████████████████████████| 4/4 [00:00<00:00, 24.68it/s]\n",
      "100%|██████████████████████████████████████████████████████████████████████████| 95034/95034 [00:29<00:00, 3227.56it/s]\n"
     ]
    }
   ],
   "source": [
    "# # 데이터\n",
    "# ## 로딩\n",
    "# df = get_data_from_path(os.path.join(os.getcwd(), 'Data_Raw'), folder_name=True, concat_axis='row', \n",
    "#                         reset_index=True, date_column=None)\n",
    "# ## 변수명 변환\n",
    "# df.rename(columns={'Folder_Name':'Movie', 'username':'User', 'date':'Viewing', 'review':'Comment', 'rating':'Rating', \n",
    "#                    'likes':'Like', 'dislikes':'Dislike'}, inplace=True)\n",
    "# ## 전처리\n",
    "# df.Viewing = df.Viewing.apply(lambda x: str(x)[:4])\n",
    "# df['Source'] = df.Movie.apply(lambda x: x.split('(')[1].split(')')[0])\n",
    "# df.Source.replace({'네티즌':'Naver(Netizen)', '실관람객':'Naver(Audience)'}, inplace=True)\n",
    "# df.Source = df.Source.apply(lambda x: 'Watcha' if len(x) == 4 else x)\n",
    "# df.Movie = df.Movie.apply(lambda x: x.split('(')[0])\n",
    "# df['Rating'] = df['Rating'].fillna('-1')\n",
    "# df['Rating'] = df['Rating'].apply(lambda x: '-1' if x == '보고싶어요' else x)\n",
    "# df['Rating'] = df['Rating'].apply(lambda x: '-1' if x == '보는 중' else x)\n",
    "# df['Rating'] = df['Rating'].apply(lambda x: '-1' if x == '[]' else x)\n",
    "# df['Rating'] = df['Rating'].apply(lambda x: float(x))\n",
    "# df['Like'] = df['Like'].fillna('-1')\n",
    "# df['Like'] = df['Like'].apply(lambda x: '-1' if x == '[]' else x)\n",
    "# df['Like'] = df['Like'].apply(lambda x: int(str(x).replace(',','')))\n",
    "# df['Dislike'] = df['Dislike'].fillna('-1')\n",
    "# df['Dislike'] = df['Dislike'].apply(lambda x: int(x))\n",
    "# df['Viewing'] = df['Viewing'].apply(lambda x: '-1' if x == '[]' else x)\n",
    "# df['Viewing'] = df['Viewing'].apply(lambda x: 2024 if x in ['4시간 ', '5시간 ', '6시간 ', '7시간 ',\n",
    "#                                                              '8시간 ', '9시간 ', '10시간', '16시간', \n",
    "#                                                              '18시간', '20시간', '24시간', '23시간'] else x)\n",
    "# ## 삭제\n",
    "# df.drop(columns=['url', 'reviewDate'], inplace=True)\n",
    "# ## 결측치처리\n",
    "# df_sub = df[~df.Like.isnull()].fillna(0)\n",
    "# df = df.combine_first(df_sub)\n",
    "# ## 정리\n",
    "# df = df[['Movie', 'Opening', 'Source', 'User', 'Viewing', 'Rating', 'Like', 'Dislike', 'Comment']]\n",
    "# ## 무의견 삭제\n",
    "# df.dropna(subset=[TARGET], inplace=True)\n",
    "# df = df[df[TARGET] != '']\n",
    "# ## 중복 삭제\n",
    "# df = df.drop_duplicates(keep='first').reset_index().iloc[:,1:]\n",
    "# ## 텍스트 전처리\n",
    "# df[TARGET+'_Prep'] = df[TARGET].progress_apply(lambda x: text_preprocessor(x, del_number=False, \n",
    "#                                                                            del_bracket_content=False,\n",
    "#                                                                            stop_words=STOPWORDS))\n",
    "# ## 정리\n",
    "# df.dropna(subset=[TARGET+'_Prep'], inplace=True)\n",
    "# df = df[df[TARGET+'_Prep'] != '']\n",
    "# df = df[df[TARGET+'_Prep'] != 'nan']\n",
    "# df = df.reset_index().iloc[:,1:]\n",
    "# df.to_csv(os.path.join(os.getcwd(), 'Data', 'df_movie.csv'), index=False, encoding='utf-8-sig')"
   ]
  },
  {
   "cell_type": "code",
   "execution_count": 183,
   "id": "3bd7ba47-e230-48d0-a0ec-134a76d416e1",
   "metadata": {
    "execution": {
     "iopub.execute_input": "2024-12-09T15:12:44.451420Z",
     "iopub.status.busy": "2024-12-09T15:12:44.450424Z",
     "iopub.status.idle": "2024-12-09T15:12:45.828808Z",
     "shell.execute_reply": "2024-12-09T15:12:45.827804Z",
     "shell.execute_reply.started": "2024-12-09T15:12:44.451420Z"
    }
   },
   "outputs": [],
   "source": [
    "## 기초전처리 완료데이터 로딩\n",
    "df = pd.read_csv(os.path.join(os.getcwd(), 'Data', 'df_movie.csv'), encoding='utf-8-sig')"
   ]
  },
  {
   "cell_type": "code",
   "execution_count": 80,
   "id": "becf709c",
   "metadata": {
    "ExecuteTime": {
     "end_time": "2024-11-27T22:46:01.913428Z",
     "start_time": "2024-11-27T15:38:16.095676Z"
    },
    "execution": {
     "iopub.execute_input": "2024-12-09T05:50:24.087004Z",
     "iopub.status.busy": "2024-12-09T05:50:24.087004Z",
     "iopub.status.idle": "2024-12-09T09:03:29.685886Z",
     "shell.execute_reply": "2024-12-09T09:03:29.685886Z",
     "shell.execute_reply.started": "2024-12-09T05:50:24.087004Z"
    }
   },
   "outputs": [
    {
     "name": "stdout",
     "output_type": "stream",
     "text": [
      "Preprocessing...: SoyNLP 2024-12-09 14:50:24.636651\n",
      "training was done. used memory 2.396 Gbory 2.343 Gb\n",
      "all cohesion probabilities was computed. # words = 36394\n",
      "all branching entropies was computed # words = 48680\n",
      "all accessor variety was computed # words = 48680\n",
      "C:/Users/KK/anaconda3/envs/py312/Lib/site-packages/soynlp\n",
      "cannot access local variable 'f' where it is not associated with a value\n",
      "cannot access local variable 'f' where it is not associated with a value\n",
      "before postprocessing 40747\n",
      "_noun_scores_ 9354\n",
      "after postprocessing 5465\n",
      "Preprocessing...: TF-IDF 2024-12-09 14:51:42.104704\n",
      "Preprocessing...: KeyBERT 2024-12-09 14:51:53.090236\n",
      "Saving...: 2024-12-09 17:02:59.582286\n",
      "Sentence to Keywords...: 2024-12-09 17:02:59.823720\n"
     ]
    },
    {
     "name": "stderr",
     "output_type": "stream",
     "text": [
      "2024-12-09 17:03:00,596\tINFO worker.py:1619 -- Calling ray.init() again after it has already been called.\n",
      "2024-12-09 17:03:34,729\tINFO worker.py:1777 -- Started a local Ray instance. View the dashboard at \u001b[1m\u001b[32mhttp://127.0.0.1:8265 \u001b[39m\u001b[22m\n",
      "2024-12-09 17:04:59,047\tINFO worker.py:1777 -- Started a local Ray instance. View the dashboard at \u001b[1m\u001b[32mhttp://127.0.0.1:8265 \u001b[39m\u001b[22m\n"
     ]
    },
    {
     "name": "stdout",
     "output_type": "stream",
     "text": [
      "Results Concat!: 2024-12-09 18:03:28.907828\n"
     ]
    },
    {
     "data": {
      "text/html": [
       "<div>\n",
       "<style scoped>\n",
       "    .dataframe tbody tr th:only-of-type {\n",
       "        vertical-align: middle;\n",
       "    }\n",
       "\n",
       "    .dataframe tbody tr th {\n",
       "        vertical-align: top;\n",
       "    }\n",
       "\n",
       "    .dataframe thead th {\n",
       "        text-align: right;\n",
       "    }\n",
       "</style>\n",
       "<table border=\"1\" class=\"dataframe\">\n",
       "  <thead>\n",
       "    <tr style=\"text-align: right;\">\n",
       "      <th></th>\n",
       "      <th>Token by SoyNLP</th>\n",
       "      <th>Token by TF-IDF</th>\n",
       "      <th>Token by KeyBERT</th>\n",
       "      <th>Token(ADJ) by SoyNLP</th>\n",
       "      <th>Token(ADJ) by TF-IDF</th>\n",
       "      <th>Token(ADJ) by KeyBERT</th>\n",
       "    </tr>\n",
       "  </thead>\n",
       "  <tbody>\n",
       "    <tr>\n",
       "      <th>Length</th>\n",
       "      <td>1388</td>\n",
       "      <td>5000</td>\n",
       "      <td>198035</td>\n",
       "      <td>8920</td>\n",
       "      <td>10000</td>\n",
       "      <td>7428</td>\n",
       "    </tr>\n",
       "  </tbody>\n",
       "</table>\n",
       "</div>"
      ],
      "text/plain": [
       "        Token by SoyNLP  Token by TF-IDF  Token by KeyBERT  \\\n",
       "Length             1388             5000            198035   \n",
       "\n",
       "        Token(ADJ) by SoyNLP  Token(ADJ) by TF-IDF  Token(ADJ) by KeyBERT  \n",
       "Length                  8920                 10000                   7428  "
      ]
     },
     "metadata": {},
     "output_type": "display_data"
    }
   ],
   "source": [
    "## 단어빈도 추출과 변환\n",
    "word_freq, wordadj_freq, df_freq = preprocessing_wordfreq(df, colname_target=TARGET+'_Prep', colname_category=None, \n",
    "                                                          ngram_range=NGRAM_RANGE,\n",
    "                                                          tfidf_maxcol=TFIDF_MAXCOL, tfidf_dellowfreq=TFIDF_DELLOWFREQ,\n",
    "                                                          keybert_topnkwd=KEYBERT_TOPNKWD,\n",
    "                                                          sent2kwd_ray=RAY,\n",
    "                                                          num_showkeyword=NUM_SHOWKEYWORD, \n",
    "                                                          save_local=SAVE_LOCAL, save_name=SAVE_NAME_PREP)\n",
    "df_freq.to_csv(os.path.join(os.getcwd(), 'Data', 'df_movie_prep_(1,3).csv'), index=False, encoding='utf-8-sig')"
   ]
  },
  {
   "cell_type": "code",
   "execution_count": 81,
   "id": "8b7fa055",
   "metadata": {
    "execution": {
     "iopub.execute_input": "2024-12-09T09:03:29.687900Z",
     "iopub.status.busy": "2024-12-09T09:03:29.687900Z",
     "iopub.status.idle": "2024-12-09T09:15:48.720225Z",
     "shell.execute_reply": "2024-12-09T09:15:48.719221Z",
     "shell.execute_reply.started": "2024-12-09T09:03:29.687900Z"
    },
    "scrolled": true
   },
   "outputs": [
    {
     "name": "stderr",
     "output_type": "stream",
     "text": [
      "  0%|                                                                                           | 0/19 [00:00<?, ?it/s]"
     ]
    },
    {
     "name": "stdout",
     "output_type": "stream",
     "text": [
      "training was done. used memory 1.954 Gby 1.953 Gb\n",
      "all cohesion probabilities was computed. # words = 546\n",
      "all branching entropies was computed # words = 1239\n",
      "all accessor variety was computed # words = 1239\n",
      "C:/Users/KK/anaconda3/envs/py312/Lib/site-packages/soynlp\n",
      "cannot access local variable 'f' where it is not associated with a value\n",
      "cannot access local variable 'f' where it is not associated with a value\n",
      "before postprocessing 767\n",
      "_noun_scores_ 234\n",
      "after postprocessing 155\n"
     ]
    },
    {
     "name": "stderr",
     "output_type": "stream",
     "text": [
      "  5%|████▎                                                                              | 1/19 [01:26<25:57, 86.53s/it]"
     ]
    },
    {
     "name": "stdout",
     "output_type": "stream",
     "text": [
      "training was done. used memory 2.146 Gb 2.146 Gb\n",
      "all cohesion probabilities was computed. # words = 36\n",
      "all branching entropies was computed # words = 150\n",
      "all accessor variety was computed # words = 150\n",
      "C:/Users/KK/anaconda3/envs/py312/Lib/site-packages/soynlp\n",
      "cannot access local variable 'f' where it is not associated with a value\n",
      "cannot access local variable 'f' where it is not associated with a value\n",
      "before postprocessing 61\n",
      "_noun_scores_ 25\n",
      "after postprocessing 15\n"
     ]
    },
    {
     "name": "stderr",
     "output_type": "stream",
     "text": [
      " 11%|████████▋                                                                          | 2/19 [01:39<12:17, 43.37s/it]"
     ]
    },
    {
     "name": "stdout",
     "output_type": "stream",
     "text": [
      "training was done. used memory 2.304 Gbory 2.304 Gb\n",
      "all cohesion probabilities was computed. # words = 10418\n",
      "all branching entropies was computed # words = 14827\n",
      "all accessor variety was computed # words = 14827\n",
      "C:/Users/KK/anaconda3/envs/py312/Lib/site-packages/soynlp\n",
      "cannot access local variable 'f' where it is not associated with a value\n",
      "cannot access local variable 'f' where it is not associated with a value\n",
      "before postprocessing 11728\n",
      "_noun_scores_ 2729\n",
      "after postprocessing 1529\n"
     ]
    },
    {
     "name": "stderr",
     "output_type": "stream",
     "text": [
      " 11%|████████▍                                                                       | 2/19 [12:17<1:44:27, 368.69s/it]\n"
     ]
    },
    {
     "ename": "KeyboardInterrupt",
     "evalue": "",
     "output_type": "error",
     "traceback": [
      "\u001b[1;31m---------------------------------------------------------------------------\u001b[0m",
      "\u001b[1;31mKeyboardInterrupt\u001b[0m                         Traceback (most recent call last)",
      "Cell \u001b[1;32mIn[81], line 2\u001b[0m\n\u001b[0;32m      1\u001b[0m \u001b[38;5;66;03m## 단어빈도 추출과 변환\u001b[39;00m\n\u001b[1;32m----> 2\u001b[0m word_freq_categ, wordadj_freq_categ, df_freq_categ \u001b[38;5;241m=\u001b[39m preprocessing_wordfreq(df, colname_target\u001b[38;5;241m=\u001b[39mTARGET\u001b[38;5;241m+\u001b[39m\u001b[38;5;124m'\u001b[39m\u001b[38;5;124m_Prep\u001b[39m\u001b[38;5;124m'\u001b[39m, colname_category\u001b[38;5;241m=\u001b[39mCATEGORY,\n\u001b[0;32m      3\u001b[0m                                                                 ngram_range\u001b[38;5;241m=\u001b[39mNGRAM_RANGE,\n\u001b[0;32m      4\u001b[0m                                                                 tfidf_maxcol\u001b[38;5;241m=\u001b[39mTFIDF_MAXCOL, tfidf_dellowfreq\u001b[38;5;241m=\u001b[39mTFIDF_DELLOWFREQ,\n\u001b[0;32m      5\u001b[0m                                                                 keybert_topnkwd\u001b[38;5;241m=\u001b[39mKEYBERT_TOPNKWD,\n\u001b[0;32m      6\u001b[0m                                                                 sent2kwd_ray\u001b[38;5;241m=\u001b[39mRAY,\n\u001b[0;32m      7\u001b[0m                                                                 num_showkeyword\u001b[38;5;241m=\u001b[39mNUM_SHOWKEYWORD, \n\u001b[0;32m      8\u001b[0m                                                                 save_local\u001b[38;5;241m=\u001b[39mSAVE_LOCAL, save_name\u001b[38;5;241m=\u001b[39mSAVE_NAME_PREP)\n\u001b[0;32m      9\u001b[0m df_freq_categ\u001b[38;5;241m.\u001b[39mto_csv(os\u001b[38;5;241m.\u001b[39mpath\u001b[38;5;241m.\u001b[39mjoin(os\u001b[38;5;241m.\u001b[39mgetcwd(), \u001b[38;5;124m'\u001b[39m\u001b[38;5;124mData\u001b[39m\u001b[38;5;124m'\u001b[39m, \u001b[38;5;124m'\u001b[39m\u001b[38;5;124mdf_movie_prepcateg_(1,3).csv\u001b[39m\u001b[38;5;124m'\u001b[39m), index\u001b[38;5;241m=\u001b[39m\u001b[38;5;28;01mFalse\u001b[39;00m, encoding\u001b[38;5;241m=\u001b[39m\u001b[38;5;124m'\u001b[39m\u001b[38;5;124mutf-8-sig\u001b[39m\u001b[38;5;124m'\u001b[39m)\n",
      "File \u001b[1;32mC:\\DataScience\\Module\\preprocessing_text_KK.py:392\u001b[0m, in \u001b[0;36mpreprocessing_wordfreq\u001b[1;34m(df, colname_target, colname_category, ngram_range, tfidf_maxcol, tfidf_dellowfreq, keybert_topnkwd, sent2kwd_ray, num_showkeyword, save_local, save_name)\u001b[0m\n\u001b[0;32m    387\u001b[0m     \u001b[38;5;28;01mpass\u001b[39;00m\n\u001b[0;32m    389\u001b[0m \u001b[38;5;66;03m# unique value groupby???\u001b[39;00m\n\u001b[0;32m    390\u001b[0m \n\u001b[0;32m    391\u001b[0m \u001b[38;5;66;03m# keybert 요약\u001b[39;00m\n\u001b[1;32m--> 392\u001b[0m word_freq \u001b[38;5;241m=\u001b[39m preprocessing_keybert(df_sub[colname_target], ngram_range\u001b[38;5;241m=\u001b[39mngram_range, doc_topn_kwd\u001b[38;5;241m=\u001b[39mkeybert_topnkwd)\n\u001b[0;32m    393\u001b[0m \u001b[38;5;66;03m## 카테고리 추가\u001b[39;00m\n\u001b[0;32m    394\u001b[0m word_freq[\u001b[38;5;124m'\u001b[39m\u001b[38;5;124mcategory\u001b[39m\u001b[38;5;124m'\u001b[39m] \u001b[38;5;241m=\u001b[39m \u001b[38;5;28mstr\u001b[39m(category)\n",
      "File \u001b[1;32mC:\\DataScience\\Module\\preprocessing_text_KK.py:219\u001b[0m, in \u001b[0;36mpreprocessing_keybert\u001b[1;34m(df_series, ngram_range, doc_topn_kwd)\u001b[0m\n\u001b[0;32m    216\u001b[0m \u001b[38;5;28;01mdef\u001b[39;00m \u001b[38;5;21mpreprocessing_keybert\u001b[39m(df_series, ngram_range\u001b[38;5;241m=\u001b[39m(\u001b[38;5;241m1\u001b[39m,\u001b[38;5;241m1\u001b[39m), doc_topn_kwd\u001b[38;5;241m=\u001b[39m\u001b[38;5;241m5\u001b[39m):\n\u001b[0;32m    217\u001b[0m     \u001b[38;5;66;03m# 키워드 추출\u001b[39;00m\n\u001b[0;32m    218\u001b[0m     keyword_extractor \u001b[38;5;241m=\u001b[39m KeyBERT(\u001b[38;5;124m'\u001b[39m\u001b[38;5;124mdistilbert-base-nli-mean-tokens\u001b[39m\u001b[38;5;124m'\u001b[39m)\n\u001b[1;32m--> 219\u001b[0m     scores \u001b[38;5;241m=\u001b[39m df_series\u001b[38;5;241m.\u001b[39mapply(\u001b[38;5;28;01mlambda\u001b[39;00m x: keyword_extractor\u001b[38;5;241m.\u001b[39mextract_keywords(x, keyphrase_ngram_range\u001b[38;5;241m=\u001b[39mngram_range, top_n\u001b[38;5;241m=\u001b[39mdoc_topn_kwd))\n\u001b[0;32m    220\u001b[0m     scores \u001b[38;5;241m=\u001b[39m [score_1d \u001b[38;5;28;01mfor\u001b[39;00m score \u001b[38;5;129;01min\u001b[39;00m scores\u001b[38;5;241m.\u001b[39mtolist() \u001b[38;5;28;01mfor\u001b[39;00m score_1d \u001b[38;5;129;01min\u001b[39;00m score]\n\u001b[0;32m    222\u001b[0m     \u001b[38;5;66;03m# 정리\u001b[39;00m\n",
      "File \u001b[1;32m~\\anaconda3\\envs\\py312\\Lib\\site-packages\\pandas\\core\\series.py:4924\u001b[0m, in \u001b[0;36mSeries.apply\u001b[1;34m(self, func, convert_dtype, args, by_row, **kwargs)\u001b[0m\n\u001b[0;32m   4789\u001b[0m \u001b[38;5;28;01mdef\u001b[39;00m \u001b[38;5;21mapply\u001b[39m(\n\u001b[0;32m   4790\u001b[0m     \u001b[38;5;28mself\u001b[39m,\n\u001b[0;32m   4791\u001b[0m     func: AggFuncType,\n\u001b[1;32m   (...)\u001b[0m\n\u001b[0;32m   4796\u001b[0m     \u001b[38;5;241m*\u001b[39m\u001b[38;5;241m*\u001b[39mkwargs,\n\u001b[0;32m   4797\u001b[0m ) \u001b[38;5;241m-\u001b[39m\u001b[38;5;241m>\u001b[39m DataFrame \u001b[38;5;241m|\u001b[39m Series:\n\u001b[0;32m   4798\u001b[0m \u001b[38;5;250m    \u001b[39m\u001b[38;5;124;03m\"\"\"\u001b[39;00m\n\u001b[0;32m   4799\u001b[0m \u001b[38;5;124;03m    Invoke function on values of Series.\u001b[39;00m\n\u001b[0;32m   4800\u001b[0m \n\u001b[1;32m   (...)\u001b[0m\n\u001b[0;32m   4915\u001b[0m \u001b[38;5;124;03m    dtype: float64\u001b[39;00m\n\u001b[0;32m   4916\u001b[0m \u001b[38;5;124;03m    \"\"\"\u001b[39;00m\n\u001b[0;32m   4917\u001b[0m     \u001b[38;5;28;01mreturn\u001b[39;00m SeriesApply(\n\u001b[0;32m   4918\u001b[0m         \u001b[38;5;28mself\u001b[39m,\n\u001b[0;32m   4919\u001b[0m         func,\n\u001b[0;32m   4920\u001b[0m         convert_dtype\u001b[38;5;241m=\u001b[39mconvert_dtype,\n\u001b[0;32m   4921\u001b[0m         by_row\u001b[38;5;241m=\u001b[39mby_row,\n\u001b[0;32m   4922\u001b[0m         args\u001b[38;5;241m=\u001b[39margs,\n\u001b[0;32m   4923\u001b[0m         kwargs\u001b[38;5;241m=\u001b[39mkwargs,\n\u001b[1;32m-> 4924\u001b[0m     )\u001b[38;5;241m.\u001b[39mapply()\n",
      "File \u001b[1;32m~\\anaconda3\\envs\\py312\\Lib\\site-packages\\pandas\\core\\apply.py:1427\u001b[0m, in \u001b[0;36mSeriesApply.apply\u001b[1;34m(self)\u001b[0m\n\u001b[0;32m   1424\u001b[0m     \u001b[38;5;28;01mreturn\u001b[39;00m \u001b[38;5;28mself\u001b[39m\u001b[38;5;241m.\u001b[39mapply_compat()\n\u001b[0;32m   1426\u001b[0m \u001b[38;5;66;03m# self.func is Callable\u001b[39;00m\n\u001b[1;32m-> 1427\u001b[0m \u001b[38;5;28;01mreturn\u001b[39;00m \u001b[38;5;28mself\u001b[39m\u001b[38;5;241m.\u001b[39mapply_standard()\n",
      "File \u001b[1;32m~\\anaconda3\\envs\\py312\\Lib\\site-packages\\pandas\\core\\apply.py:1507\u001b[0m, in \u001b[0;36mSeriesApply.apply_standard\u001b[1;34m(self)\u001b[0m\n\u001b[0;32m   1501\u001b[0m \u001b[38;5;66;03m# row-wise access\u001b[39;00m\n\u001b[0;32m   1502\u001b[0m \u001b[38;5;66;03m# apply doesn't have a `na_action` keyword and for backward compat reasons\u001b[39;00m\n\u001b[0;32m   1503\u001b[0m \u001b[38;5;66;03m# we need to give `na_action=\"ignore\"` for categorical data.\u001b[39;00m\n\u001b[0;32m   1504\u001b[0m \u001b[38;5;66;03m# TODO: remove the `na_action=\"ignore\"` when that default has been changed in\u001b[39;00m\n\u001b[0;32m   1505\u001b[0m \u001b[38;5;66;03m#  Categorical (GH51645).\u001b[39;00m\n\u001b[0;32m   1506\u001b[0m action \u001b[38;5;241m=\u001b[39m \u001b[38;5;124m\"\u001b[39m\u001b[38;5;124mignore\u001b[39m\u001b[38;5;124m\"\u001b[39m \u001b[38;5;28;01mif\u001b[39;00m \u001b[38;5;28misinstance\u001b[39m(obj\u001b[38;5;241m.\u001b[39mdtype, CategoricalDtype) \u001b[38;5;28;01melse\u001b[39;00m \u001b[38;5;28;01mNone\u001b[39;00m\n\u001b[1;32m-> 1507\u001b[0m mapped \u001b[38;5;241m=\u001b[39m obj\u001b[38;5;241m.\u001b[39m_map_values(\n\u001b[0;32m   1508\u001b[0m     mapper\u001b[38;5;241m=\u001b[39mcurried, na_action\u001b[38;5;241m=\u001b[39maction, convert\u001b[38;5;241m=\u001b[39m\u001b[38;5;28mself\u001b[39m\u001b[38;5;241m.\u001b[39mconvert_dtype\n\u001b[0;32m   1509\u001b[0m )\n\u001b[0;32m   1511\u001b[0m \u001b[38;5;28;01mif\u001b[39;00m \u001b[38;5;28mlen\u001b[39m(mapped) \u001b[38;5;129;01mand\u001b[39;00m \u001b[38;5;28misinstance\u001b[39m(mapped[\u001b[38;5;241m0\u001b[39m], ABCSeries):\n\u001b[0;32m   1512\u001b[0m     \u001b[38;5;66;03m# GH#43986 Need to do list(mapped) in order to get treated as nested\u001b[39;00m\n\u001b[0;32m   1513\u001b[0m     \u001b[38;5;66;03m#  See also GH#25959 regarding EA support\u001b[39;00m\n\u001b[0;32m   1514\u001b[0m     \u001b[38;5;28;01mreturn\u001b[39;00m obj\u001b[38;5;241m.\u001b[39m_constructor_expanddim(\u001b[38;5;28mlist\u001b[39m(mapped), index\u001b[38;5;241m=\u001b[39mobj\u001b[38;5;241m.\u001b[39mindex)\n",
      "File \u001b[1;32m~\\anaconda3\\envs\\py312\\Lib\\site-packages\\pandas\\core\\base.py:921\u001b[0m, in \u001b[0;36mIndexOpsMixin._map_values\u001b[1;34m(self, mapper, na_action, convert)\u001b[0m\n\u001b[0;32m    918\u001b[0m \u001b[38;5;28;01mif\u001b[39;00m \u001b[38;5;28misinstance\u001b[39m(arr, ExtensionArray):\n\u001b[0;32m    919\u001b[0m     \u001b[38;5;28;01mreturn\u001b[39;00m arr\u001b[38;5;241m.\u001b[39mmap(mapper, na_action\u001b[38;5;241m=\u001b[39mna_action)\n\u001b[1;32m--> 921\u001b[0m \u001b[38;5;28;01mreturn\u001b[39;00m algorithms\u001b[38;5;241m.\u001b[39mmap_array(arr, mapper, na_action\u001b[38;5;241m=\u001b[39mna_action, convert\u001b[38;5;241m=\u001b[39mconvert)\n",
      "File \u001b[1;32m~\\anaconda3\\envs\\py312\\Lib\\site-packages\\pandas\\core\\algorithms.py:1743\u001b[0m, in \u001b[0;36mmap_array\u001b[1;34m(arr, mapper, na_action, convert)\u001b[0m\n\u001b[0;32m   1741\u001b[0m values \u001b[38;5;241m=\u001b[39m arr\u001b[38;5;241m.\u001b[39mastype(\u001b[38;5;28mobject\u001b[39m, copy\u001b[38;5;241m=\u001b[39m\u001b[38;5;28;01mFalse\u001b[39;00m)\n\u001b[0;32m   1742\u001b[0m \u001b[38;5;28;01mif\u001b[39;00m na_action \u001b[38;5;129;01mis\u001b[39;00m \u001b[38;5;28;01mNone\u001b[39;00m:\n\u001b[1;32m-> 1743\u001b[0m     \u001b[38;5;28;01mreturn\u001b[39;00m lib\u001b[38;5;241m.\u001b[39mmap_infer(values, mapper, convert\u001b[38;5;241m=\u001b[39mconvert)\n\u001b[0;32m   1744\u001b[0m \u001b[38;5;28;01melse\u001b[39;00m:\n\u001b[0;32m   1745\u001b[0m     \u001b[38;5;28;01mreturn\u001b[39;00m lib\u001b[38;5;241m.\u001b[39mmap_infer_mask(\n\u001b[0;32m   1746\u001b[0m         values, mapper, mask\u001b[38;5;241m=\u001b[39misna(values)\u001b[38;5;241m.\u001b[39mview(np\u001b[38;5;241m.\u001b[39muint8), convert\u001b[38;5;241m=\u001b[39mconvert\n\u001b[0;32m   1747\u001b[0m     )\n",
      "File \u001b[1;32mlib.pyx:2972\u001b[0m, in \u001b[0;36mpandas._libs.lib.map_infer\u001b[1;34m()\u001b[0m\n",
      "File \u001b[1;32mC:\\DataScience\\Module\\preprocessing_text_KK.py:219\u001b[0m, in \u001b[0;36mpreprocessing_keybert.<locals>.<lambda>\u001b[1;34m(x)\u001b[0m\n\u001b[0;32m    216\u001b[0m \u001b[38;5;28;01mdef\u001b[39;00m \u001b[38;5;21mpreprocessing_keybert\u001b[39m(df_series, ngram_range\u001b[38;5;241m=\u001b[39m(\u001b[38;5;241m1\u001b[39m,\u001b[38;5;241m1\u001b[39m), doc_topn_kwd\u001b[38;5;241m=\u001b[39m\u001b[38;5;241m5\u001b[39m):\n\u001b[0;32m    217\u001b[0m     \u001b[38;5;66;03m# 키워드 추출\u001b[39;00m\n\u001b[0;32m    218\u001b[0m     keyword_extractor \u001b[38;5;241m=\u001b[39m KeyBERT(\u001b[38;5;124m'\u001b[39m\u001b[38;5;124mdistilbert-base-nli-mean-tokens\u001b[39m\u001b[38;5;124m'\u001b[39m)\n\u001b[1;32m--> 219\u001b[0m     scores \u001b[38;5;241m=\u001b[39m df_series\u001b[38;5;241m.\u001b[39mapply(\u001b[38;5;28;01mlambda\u001b[39;00m x: keyword_extractor\u001b[38;5;241m.\u001b[39mextract_keywords(x, keyphrase_ngram_range\u001b[38;5;241m=\u001b[39mngram_range, top_n\u001b[38;5;241m=\u001b[39mdoc_topn_kwd))\n\u001b[0;32m    220\u001b[0m     scores \u001b[38;5;241m=\u001b[39m [score_1d \u001b[38;5;28;01mfor\u001b[39;00m score \u001b[38;5;129;01min\u001b[39;00m scores\u001b[38;5;241m.\u001b[39mtolist() \u001b[38;5;28;01mfor\u001b[39;00m score_1d \u001b[38;5;129;01min\u001b[39;00m score]\n\u001b[0;32m    222\u001b[0m     \u001b[38;5;66;03m# 정리\u001b[39;00m\n",
      "File \u001b[1;32m~\\anaconda3\\envs\\py312\\Lib\\site-packages\\keybert\\_model.py:195\u001b[0m, in \u001b[0;36mKeyBERT.extract_keywords\u001b[1;34m(self, docs, candidates, keyphrase_ngram_range, stop_words, top_n, min_df, use_maxsum, use_mmr, diversity, nr_candidates, vectorizer, highlight, seed_keywords, doc_embeddings, word_embeddings, threshold)\u001b[0m\n\u001b[0;32m    193\u001b[0m \u001b[38;5;66;03m# Extract embeddings\u001b[39;00m\n\u001b[0;32m    194\u001b[0m \u001b[38;5;28;01mif\u001b[39;00m doc_embeddings \u001b[38;5;129;01mis\u001b[39;00m \u001b[38;5;28;01mNone\u001b[39;00m:\n\u001b[1;32m--> 195\u001b[0m     doc_embeddings \u001b[38;5;241m=\u001b[39m \u001b[38;5;28mself\u001b[39m\u001b[38;5;241m.\u001b[39mmodel\u001b[38;5;241m.\u001b[39membed(docs)\n\u001b[0;32m    196\u001b[0m \u001b[38;5;28;01mif\u001b[39;00m word_embeddings \u001b[38;5;129;01mis\u001b[39;00m \u001b[38;5;28;01mNone\u001b[39;00m:\n\u001b[0;32m    197\u001b[0m     word_embeddings \u001b[38;5;241m=\u001b[39m \u001b[38;5;28mself\u001b[39m\u001b[38;5;241m.\u001b[39mmodel\u001b[38;5;241m.\u001b[39membed(words)\n",
      "File \u001b[1;32m~\\anaconda3\\envs\\py312\\Lib\\site-packages\\keybert\\backend\\_sentencetransformers.py:67\u001b[0m, in \u001b[0;36mSentenceTransformerBackend.embed\u001b[1;34m(self, documents, verbose)\u001b[0m\n\u001b[0;32m     55\u001b[0m \u001b[38;5;250m\u001b[39m\u001b[38;5;124;03m\"\"\"Embed a list of n documents/words into an n-dimensional\u001b[39;00m\n\u001b[0;32m     56\u001b[0m \u001b[38;5;124;03mmatrix of embeddings\u001b[39;00m\n\u001b[0;32m     57\u001b[0m \n\u001b[1;32m   (...)\u001b[0m\n\u001b[0;32m     64\u001b[0m \u001b[38;5;124;03m    that each have an embeddings size of `m`\u001b[39;00m\n\u001b[0;32m     65\u001b[0m \u001b[38;5;124;03m\"\"\"\u001b[39;00m\n\u001b[0;32m     66\u001b[0m \u001b[38;5;28mself\u001b[39m\u001b[38;5;241m.\u001b[39mencode_kwargs\u001b[38;5;241m.\u001b[39mupdate({\u001b[38;5;124m\"\u001b[39m\u001b[38;5;124mshow_progress_bar\u001b[39m\u001b[38;5;124m\"\u001b[39m: verbose})\n\u001b[1;32m---> 67\u001b[0m embeddings \u001b[38;5;241m=\u001b[39m \u001b[38;5;28mself\u001b[39m\u001b[38;5;241m.\u001b[39membedding_model\u001b[38;5;241m.\u001b[39mencode(documents, \u001b[38;5;241m*\u001b[39m\u001b[38;5;241m*\u001b[39m\u001b[38;5;28mself\u001b[39m\u001b[38;5;241m.\u001b[39mencode_kwargs)\n\u001b[0;32m     68\u001b[0m \u001b[38;5;28;01mreturn\u001b[39;00m embeddings\n",
      "File \u001b[1;32m~\\anaconda3\\envs\\py312\\Lib\\site-packages\\sentence_transformers\\SentenceTransformer.py:623\u001b[0m, in \u001b[0;36mSentenceTransformer.encode\u001b[1;34m(self, sentences, prompt_name, prompt, batch_size, show_progress_bar, output_value, precision, convert_to_numpy, convert_to_tensor, device, normalize_embeddings, **kwargs)\u001b[0m\n\u001b[0;32m    620\u001b[0m features\u001b[38;5;241m.\u001b[39mupdate(extra_features)\n\u001b[0;32m    622\u001b[0m \u001b[38;5;28;01mwith\u001b[39;00m torch\u001b[38;5;241m.\u001b[39mno_grad():\n\u001b[1;32m--> 623\u001b[0m     out_features \u001b[38;5;241m=\u001b[39m \u001b[38;5;28mself\u001b[39m\u001b[38;5;241m.\u001b[39mforward(features, \u001b[38;5;241m*\u001b[39m\u001b[38;5;241m*\u001b[39mkwargs)\n\u001b[0;32m    624\u001b[0m     \u001b[38;5;28;01mif\u001b[39;00m \u001b[38;5;28mself\u001b[39m\u001b[38;5;241m.\u001b[39mdevice\u001b[38;5;241m.\u001b[39mtype \u001b[38;5;241m==\u001b[39m \u001b[38;5;124m\"\u001b[39m\u001b[38;5;124mhpu\u001b[39m\u001b[38;5;124m\"\u001b[39m:\n\u001b[0;32m    625\u001b[0m         out_features \u001b[38;5;241m=\u001b[39m copy\u001b[38;5;241m.\u001b[39mdeepcopy(out_features)\n",
      "File \u001b[1;32m~\\anaconda3\\envs\\py312\\Lib\\site-packages\\sentence_transformers\\SentenceTransformer.py:690\u001b[0m, in \u001b[0;36mSentenceTransformer.forward\u001b[1;34m(self, input, **kwargs)\u001b[0m\n\u001b[0;32m    688\u001b[0m     module_kwarg_keys \u001b[38;5;241m=\u001b[39m \u001b[38;5;28mself\u001b[39m\u001b[38;5;241m.\u001b[39mmodule_kwargs\u001b[38;5;241m.\u001b[39mget(module_name, [])\n\u001b[0;32m    689\u001b[0m     module_kwargs \u001b[38;5;241m=\u001b[39m {key: value \u001b[38;5;28;01mfor\u001b[39;00m key, value \u001b[38;5;129;01min\u001b[39;00m kwargs\u001b[38;5;241m.\u001b[39mitems() \u001b[38;5;28;01mif\u001b[39;00m key \u001b[38;5;129;01min\u001b[39;00m module_kwarg_keys}\n\u001b[1;32m--> 690\u001b[0m     \u001b[38;5;28minput\u001b[39m \u001b[38;5;241m=\u001b[39m module(\u001b[38;5;28minput\u001b[39m, \u001b[38;5;241m*\u001b[39m\u001b[38;5;241m*\u001b[39mmodule_kwargs)\n\u001b[0;32m    691\u001b[0m \u001b[38;5;28;01mreturn\u001b[39;00m \u001b[38;5;28minput\u001b[39m\n",
      "File \u001b[1;32m~\\anaconda3\\envs\\py312\\Lib\\site-packages\\torch\\nn\\modules\\module.py:1736\u001b[0m, in \u001b[0;36mModule._wrapped_call_impl\u001b[1;34m(self, *args, **kwargs)\u001b[0m\n\u001b[0;32m   1734\u001b[0m     \u001b[38;5;28;01mreturn\u001b[39;00m \u001b[38;5;28mself\u001b[39m\u001b[38;5;241m.\u001b[39m_compiled_call_impl(\u001b[38;5;241m*\u001b[39margs, \u001b[38;5;241m*\u001b[39m\u001b[38;5;241m*\u001b[39mkwargs)  \u001b[38;5;66;03m# type: ignore[misc]\u001b[39;00m\n\u001b[0;32m   1735\u001b[0m \u001b[38;5;28;01melse\u001b[39;00m:\n\u001b[1;32m-> 1736\u001b[0m     \u001b[38;5;28;01mreturn\u001b[39;00m \u001b[38;5;28mself\u001b[39m\u001b[38;5;241m.\u001b[39m_call_impl(\u001b[38;5;241m*\u001b[39margs, \u001b[38;5;241m*\u001b[39m\u001b[38;5;241m*\u001b[39mkwargs)\n",
      "File \u001b[1;32m~\\anaconda3\\envs\\py312\\Lib\\site-packages\\torch\\nn\\modules\\module.py:1747\u001b[0m, in \u001b[0;36mModule._call_impl\u001b[1;34m(self, *args, **kwargs)\u001b[0m\n\u001b[0;32m   1742\u001b[0m \u001b[38;5;66;03m# If we don't have any hooks, we want to skip the rest of the logic in\u001b[39;00m\n\u001b[0;32m   1743\u001b[0m \u001b[38;5;66;03m# this function, and just call forward.\u001b[39;00m\n\u001b[0;32m   1744\u001b[0m \u001b[38;5;28;01mif\u001b[39;00m \u001b[38;5;129;01mnot\u001b[39;00m (\u001b[38;5;28mself\u001b[39m\u001b[38;5;241m.\u001b[39m_backward_hooks \u001b[38;5;129;01mor\u001b[39;00m \u001b[38;5;28mself\u001b[39m\u001b[38;5;241m.\u001b[39m_backward_pre_hooks \u001b[38;5;129;01mor\u001b[39;00m \u001b[38;5;28mself\u001b[39m\u001b[38;5;241m.\u001b[39m_forward_hooks \u001b[38;5;129;01mor\u001b[39;00m \u001b[38;5;28mself\u001b[39m\u001b[38;5;241m.\u001b[39m_forward_pre_hooks\n\u001b[0;32m   1745\u001b[0m         \u001b[38;5;129;01mor\u001b[39;00m _global_backward_pre_hooks \u001b[38;5;129;01mor\u001b[39;00m _global_backward_hooks\n\u001b[0;32m   1746\u001b[0m         \u001b[38;5;129;01mor\u001b[39;00m _global_forward_hooks \u001b[38;5;129;01mor\u001b[39;00m _global_forward_pre_hooks):\n\u001b[1;32m-> 1747\u001b[0m     \u001b[38;5;28;01mreturn\u001b[39;00m forward_call(\u001b[38;5;241m*\u001b[39margs, \u001b[38;5;241m*\u001b[39m\u001b[38;5;241m*\u001b[39mkwargs)\n\u001b[0;32m   1749\u001b[0m result \u001b[38;5;241m=\u001b[39m \u001b[38;5;28;01mNone\u001b[39;00m\n\u001b[0;32m   1750\u001b[0m called_always_called_hooks \u001b[38;5;241m=\u001b[39m \u001b[38;5;28mset\u001b[39m()\n",
      "File \u001b[1;32m~\\anaconda3\\envs\\py312\\Lib\\site-packages\\sentence_transformers\\models\\Transformer.py:393\u001b[0m, in \u001b[0;36mTransformer.forward\u001b[1;34m(self, features, **kwargs)\u001b[0m\n\u001b[0;32m    390\u001b[0m \u001b[38;5;28;01mif\u001b[39;00m \u001b[38;5;124m\"\u001b[39m\u001b[38;5;124mtoken_type_ids\u001b[39m\u001b[38;5;124m\"\u001b[39m \u001b[38;5;129;01min\u001b[39;00m features:\n\u001b[0;32m    391\u001b[0m     trans_features[\u001b[38;5;124m\"\u001b[39m\u001b[38;5;124mtoken_type_ids\u001b[39m\u001b[38;5;124m\"\u001b[39m] \u001b[38;5;241m=\u001b[39m features[\u001b[38;5;124m\"\u001b[39m\u001b[38;5;124mtoken_type_ids\u001b[39m\u001b[38;5;124m\"\u001b[39m]\n\u001b[1;32m--> 393\u001b[0m output_states \u001b[38;5;241m=\u001b[39m \u001b[38;5;28mself\u001b[39m\u001b[38;5;241m.\u001b[39mauto_model(\u001b[38;5;241m*\u001b[39m\u001b[38;5;241m*\u001b[39mtrans_features, \u001b[38;5;241m*\u001b[39m\u001b[38;5;241m*\u001b[39mkwargs, return_dict\u001b[38;5;241m=\u001b[39m\u001b[38;5;28;01mFalse\u001b[39;00m)\n\u001b[0;32m    394\u001b[0m output_tokens \u001b[38;5;241m=\u001b[39m output_states[\u001b[38;5;241m0\u001b[39m]\n\u001b[0;32m    396\u001b[0m \u001b[38;5;66;03m# If the AutoModel is wrapped with a PeftModelForFeatureExtraction, then it may have added virtual tokens\u001b[39;00m\n\u001b[0;32m    397\u001b[0m \u001b[38;5;66;03m# We need to extend the attention mask to include these virtual tokens, or the pooling will fail\u001b[39;00m\n",
      "File \u001b[1;32m~\\anaconda3\\envs\\py312\\Lib\\site-packages\\torch\\nn\\modules\\module.py:1736\u001b[0m, in \u001b[0;36mModule._wrapped_call_impl\u001b[1;34m(self, *args, **kwargs)\u001b[0m\n\u001b[0;32m   1734\u001b[0m     \u001b[38;5;28;01mreturn\u001b[39;00m \u001b[38;5;28mself\u001b[39m\u001b[38;5;241m.\u001b[39m_compiled_call_impl(\u001b[38;5;241m*\u001b[39margs, \u001b[38;5;241m*\u001b[39m\u001b[38;5;241m*\u001b[39mkwargs)  \u001b[38;5;66;03m# type: ignore[misc]\u001b[39;00m\n\u001b[0;32m   1735\u001b[0m \u001b[38;5;28;01melse\u001b[39;00m:\n\u001b[1;32m-> 1736\u001b[0m     \u001b[38;5;28;01mreturn\u001b[39;00m \u001b[38;5;28mself\u001b[39m\u001b[38;5;241m.\u001b[39m_call_impl(\u001b[38;5;241m*\u001b[39margs, \u001b[38;5;241m*\u001b[39m\u001b[38;5;241m*\u001b[39mkwargs)\n",
      "File \u001b[1;32m~\\anaconda3\\envs\\py312\\Lib\\site-packages\\torch\\nn\\modules\\module.py:1747\u001b[0m, in \u001b[0;36mModule._call_impl\u001b[1;34m(self, *args, **kwargs)\u001b[0m\n\u001b[0;32m   1742\u001b[0m \u001b[38;5;66;03m# If we don't have any hooks, we want to skip the rest of the logic in\u001b[39;00m\n\u001b[0;32m   1743\u001b[0m \u001b[38;5;66;03m# this function, and just call forward.\u001b[39;00m\n\u001b[0;32m   1744\u001b[0m \u001b[38;5;28;01mif\u001b[39;00m \u001b[38;5;129;01mnot\u001b[39;00m (\u001b[38;5;28mself\u001b[39m\u001b[38;5;241m.\u001b[39m_backward_hooks \u001b[38;5;129;01mor\u001b[39;00m \u001b[38;5;28mself\u001b[39m\u001b[38;5;241m.\u001b[39m_backward_pre_hooks \u001b[38;5;129;01mor\u001b[39;00m \u001b[38;5;28mself\u001b[39m\u001b[38;5;241m.\u001b[39m_forward_hooks \u001b[38;5;129;01mor\u001b[39;00m \u001b[38;5;28mself\u001b[39m\u001b[38;5;241m.\u001b[39m_forward_pre_hooks\n\u001b[0;32m   1745\u001b[0m         \u001b[38;5;129;01mor\u001b[39;00m _global_backward_pre_hooks \u001b[38;5;129;01mor\u001b[39;00m _global_backward_hooks\n\u001b[0;32m   1746\u001b[0m         \u001b[38;5;129;01mor\u001b[39;00m _global_forward_hooks \u001b[38;5;129;01mor\u001b[39;00m _global_forward_pre_hooks):\n\u001b[1;32m-> 1747\u001b[0m     \u001b[38;5;28;01mreturn\u001b[39;00m forward_call(\u001b[38;5;241m*\u001b[39margs, \u001b[38;5;241m*\u001b[39m\u001b[38;5;241m*\u001b[39mkwargs)\n\u001b[0;32m   1749\u001b[0m result \u001b[38;5;241m=\u001b[39m \u001b[38;5;28;01mNone\u001b[39;00m\n\u001b[0;32m   1750\u001b[0m called_always_called_hooks \u001b[38;5;241m=\u001b[39m \u001b[38;5;28mset\u001b[39m()\n",
      "File \u001b[1;32m~\\anaconda3\\envs\\py312\\Lib\\site-packages\\transformers\\models\\distilbert\\modeling_distilbert.py:798\u001b[0m, in \u001b[0;36mDistilBertModel.forward\u001b[1;34m(self, input_ids, attention_mask, head_mask, inputs_embeds, output_attentions, output_hidden_states, return_dict)\u001b[0m\n\u001b[0;32m    793\u001b[0m     \u001b[38;5;28;01mif\u001b[39;00m \u001b[38;5;28mself\u001b[39m\u001b[38;5;241m.\u001b[39m_use_sdpa \u001b[38;5;129;01mand\u001b[39;00m head_mask_is_none \u001b[38;5;129;01mand\u001b[39;00m \u001b[38;5;129;01mnot\u001b[39;00m output_attentions:\n\u001b[0;32m    794\u001b[0m         attention_mask \u001b[38;5;241m=\u001b[39m _prepare_4d_attention_mask_for_sdpa(\n\u001b[0;32m    795\u001b[0m             attention_mask, embeddings\u001b[38;5;241m.\u001b[39mdtype, tgt_len\u001b[38;5;241m=\u001b[39minput_shape[\u001b[38;5;241m1\u001b[39m]\n\u001b[0;32m    796\u001b[0m         )\n\u001b[1;32m--> 798\u001b[0m \u001b[38;5;28;01mreturn\u001b[39;00m \u001b[38;5;28mself\u001b[39m\u001b[38;5;241m.\u001b[39mtransformer(\n\u001b[0;32m    799\u001b[0m     x\u001b[38;5;241m=\u001b[39membeddings,\n\u001b[0;32m    800\u001b[0m     attn_mask\u001b[38;5;241m=\u001b[39mattention_mask,\n\u001b[0;32m    801\u001b[0m     head_mask\u001b[38;5;241m=\u001b[39mhead_mask,\n\u001b[0;32m    802\u001b[0m     output_attentions\u001b[38;5;241m=\u001b[39moutput_attentions,\n\u001b[0;32m    803\u001b[0m     output_hidden_states\u001b[38;5;241m=\u001b[39moutput_hidden_states,\n\u001b[0;32m    804\u001b[0m     return_dict\u001b[38;5;241m=\u001b[39mreturn_dict,\n\u001b[0;32m    805\u001b[0m )\n",
      "File \u001b[1;32m~\\anaconda3\\envs\\py312\\Lib\\site-packages\\torch\\nn\\modules\\module.py:1736\u001b[0m, in \u001b[0;36mModule._wrapped_call_impl\u001b[1;34m(self, *args, **kwargs)\u001b[0m\n\u001b[0;32m   1734\u001b[0m     \u001b[38;5;28;01mreturn\u001b[39;00m \u001b[38;5;28mself\u001b[39m\u001b[38;5;241m.\u001b[39m_compiled_call_impl(\u001b[38;5;241m*\u001b[39margs, \u001b[38;5;241m*\u001b[39m\u001b[38;5;241m*\u001b[39mkwargs)  \u001b[38;5;66;03m# type: ignore[misc]\u001b[39;00m\n\u001b[0;32m   1735\u001b[0m \u001b[38;5;28;01melse\u001b[39;00m:\n\u001b[1;32m-> 1736\u001b[0m     \u001b[38;5;28;01mreturn\u001b[39;00m \u001b[38;5;28mself\u001b[39m\u001b[38;5;241m.\u001b[39m_call_impl(\u001b[38;5;241m*\u001b[39margs, \u001b[38;5;241m*\u001b[39m\u001b[38;5;241m*\u001b[39mkwargs)\n",
      "File \u001b[1;32m~\\anaconda3\\envs\\py312\\Lib\\site-packages\\torch\\nn\\modules\\module.py:1747\u001b[0m, in \u001b[0;36mModule._call_impl\u001b[1;34m(self, *args, **kwargs)\u001b[0m\n\u001b[0;32m   1742\u001b[0m \u001b[38;5;66;03m# If we don't have any hooks, we want to skip the rest of the logic in\u001b[39;00m\n\u001b[0;32m   1743\u001b[0m \u001b[38;5;66;03m# this function, and just call forward.\u001b[39;00m\n\u001b[0;32m   1744\u001b[0m \u001b[38;5;28;01mif\u001b[39;00m \u001b[38;5;129;01mnot\u001b[39;00m (\u001b[38;5;28mself\u001b[39m\u001b[38;5;241m.\u001b[39m_backward_hooks \u001b[38;5;129;01mor\u001b[39;00m \u001b[38;5;28mself\u001b[39m\u001b[38;5;241m.\u001b[39m_backward_pre_hooks \u001b[38;5;129;01mor\u001b[39;00m \u001b[38;5;28mself\u001b[39m\u001b[38;5;241m.\u001b[39m_forward_hooks \u001b[38;5;129;01mor\u001b[39;00m \u001b[38;5;28mself\u001b[39m\u001b[38;5;241m.\u001b[39m_forward_pre_hooks\n\u001b[0;32m   1745\u001b[0m         \u001b[38;5;129;01mor\u001b[39;00m _global_backward_pre_hooks \u001b[38;5;129;01mor\u001b[39;00m _global_backward_hooks\n\u001b[0;32m   1746\u001b[0m         \u001b[38;5;129;01mor\u001b[39;00m _global_forward_hooks \u001b[38;5;129;01mor\u001b[39;00m _global_forward_pre_hooks):\n\u001b[1;32m-> 1747\u001b[0m     \u001b[38;5;28;01mreturn\u001b[39;00m forward_call(\u001b[38;5;241m*\u001b[39margs, \u001b[38;5;241m*\u001b[39m\u001b[38;5;241m*\u001b[39mkwargs)\n\u001b[0;32m   1749\u001b[0m result \u001b[38;5;241m=\u001b[39m \u001b[38;5;28;01mNone\u001b[39;00m\n\u001b[0;32m   1750\u001b[0m called_always_called_hooks \u001b[38;5;241m=\u001b[39m \u001b[38;5;28mset\u001b[39m()\n",
      "File \u001b[1;32m~\\anaconda3\\envs\\py312\\Lib\\site-packages\\transformers\\models\\distilbert\\modeling_distilbert.py:551\u001b[0m, in \u001b[0;36mTransformer.forward\u001b[1;34m(self, x, attn_mask, head_mask, output_attentions, output_hidden_states, return_dict)\u001b[0m\n\u001b[0;32m    543\u001b[0m     layer_outputs \u001b[38;5;241m=\u001b[39m \u001b[38;5;28mself\u001b[39m\u001b[38;5;241m.\u001b[39m_gradient_checkpointing_func(\n\u001b[0;32m    544\u001b[0m         layer_module\u001b[38;5;241m.\u001b[39m\u001b[38;5;21m__call__\u001b[39m,\n\u001b[0;32m    545\u001b[0m         hidden_state,\n\u001b[1;32m   (...)\u001b[0m\n\u001b[0;32m    548\u001b[0m         output_attentions,\n\u001b[0;32m    549\u001b[0m     )\n\u001b[0;32m    550\u001b[0m \u001b[38;5;28;01melse\u001b[39;00m:\n\u001b[1;32m--> 551\u001b[0m     layer_outputs \u001b[38;5;241m=\u001b[39m layer_module(\n\u001b[0;32m    552\u001b[0m         hidden_state,\n\u001b[0;32m    553\u001b[0m         attn_mask,\n\u001b[0;32m    554\u001b[0m         head_mask[i],\n\u001b[0;32m    555\u001b[0m         output_attentions,\n\u001b[0;32m    556\u001b[0m     )\n\u001b[0;32m    558\u001b[0m hidden_state \u001b[38;5;241m=\u001b[39m layer_outputs[\u001b[38;5;241m-\u001b[39m\u001b[38;5;241m1\u001b[39m]\n\u001b[0;32m    560\u001b[0m \u001b[38;5;28;01mif\u001b[39;00m output_attentions:\n",
      "File \u001b[1;32m~\\anaconda3\\envs\\py312\\Lib\\site-packages\\torch\\nn\\modules\\module.py:1736\u001b[0m, in \u001b[0;36mModule._wrapped_call_impl\u001b[1;34m(self, *args, **kwargs)\u001b[0m\n\u001b[0;32m   1734\u001b[0m     \u001b[38;5;28;01mreturn\u001b[39;00m \u001b[38;5;28mself\u001b[39m\u001b[38;5;241m.\u001b[39m_compiled_call_impl(\u001b[38;5;241m*\u001b[39margs, \u001b[38;5;241m*\u001b[39m\u001b[38;5;241m*\u001b[39mkwargs)  \u001b[38;5;66;03m# type: ignore[misc]\u001b[39;00m\n\u001b[0;32m   1735\u001b[0m \u001b[38;5;28;01melse\u001b[39;00m:\n\u001b[1;32m-> 1736\u001b[0m     \u001b[38;5;28;01mreturn\u001b[39;00m \u001b[38;5;28mself\u001b[39m\u001b[38;5;241m.\u001b[39m_call_impl(\u001b[38;5;241m*\u001b[39margs, \u001b[38;5;241m*\u001b[39m\u001b[38;5;241m*\u001b[39mkwargs)\n",
      "File \u001b[1;32m~\\anaconda3\\envs\\py312\\Lib\\site-packages\\torch\\nn\\modules\\module.py:1747\u001b[0m, in \u001b[0;36mModule._call_impl\u001b[1;34m(self, *args, **kwargs)\u001b[0m\n\u001b[0;32m   1742\u001b[0m \u001b[38;5;66;03m# If we don't have any hooks, we want to skip the rest of the logic in\u001b[39;00m\n\u001b[0;32m   1743\u001b[0m \u001b[38;5;66;03m# this function, and just call forward.\u001b[39;00m\n\u001b[0;32m   1744\u001b[0m \u001b[38;5;28;01mif\u001b[39;00m \u001b[38;5;129;01mnot\u001b[39;00m (\u001b[38;5;28mself\u001b[39m\u001b[38;5;241m.\u001b[39m_backward_hooks \u001b[38;5;129;01mor\u001b[39;00m \u001b[38;5;28mself\u001b[39m\u001b[38;5;241m.\u001b[39m_backward_pre_hooks \u001b[38;5;129;01mor\u001b[39;00m \u001b[38;5;28mself\u001b[39m\u001b[38;5;241m.\u001b[39m_forward_hooks \u001b[38;5;129;01mor\u001b[39;00m \u001b[38;5;28mself\u001b[39m\u001b[38;5;241m.\u001b[39m_forward_pre_hooks\n\u001b[0;32m   1745\u001b[0m         \u001b[38;5;129;01mor\u001b[39;00m _global_backward_pre_hooks \u001b[38;5;129;01mor\u001b[39;00m _global_backward_hooks\n\u001b[0;32m   1746\u001b[0m         \u001b[38;5;129;01mor\u001b[39;00m _global_forward_hooks \u001b[38;5;129;01mor\u001b[39;00m _global_forward_pre_hooks):\n\u001b[1;32m-> 1747\u001b[0m     \u001b[38;5;28;01mreturn\u001b[39;00m forward_call(\u001b[38;5;241m*\u001b[39margs, \u001b[38;5;241m*\u001b[39m\u001b[38;5;241m*\u001b[39mkwargs)\n\u001b[0;32m   1749\u001b[0m result \u001b[38;5;241m=\u001b[39m \u001b[38;5;28;01mNone\u001b[39;00m\n\u001b[0;32m   1750\u001b[0m called_always_called_hooks \u001b[38;5;241m=\u001b[39m \u001b[38;5;28mset\u001b[39m()\n",
      "File \u001b[1;32m~\\anaconda3\\envs\\py312\\Lib\\site-packages\\transformers\\models\\distilbert\\modeling_distilbert.py:477\u001b[0m, in \u001b[0;36mTransformerBlock.forward\u001b[1;34m(self, x, attn_mask, head_mask, output_attentions)\u001b[0m\n\u001b[0;32m    467\u001b[0m \u001b[38;5;250m\u001b[39m\u001b[38;5;124;03m\"\"\"\u001b[39;00m\n\u001b[0;32m    468\u001b[0m \u001b[38;5;124;03mParameters:\u001b[39;00m\n\u001b[0;32m    469\u001b[0m \u001b[38;5;124;03m    x: torch.tensor(bs, seq_length, dim)\u001b[39;00m\n\u001b[1;32m   (...)\u001b[0m\n\u001b[0;32m    474\u001b[0m \u001b[38;5;124;03m    torch.tensor(bs, seq_length, dim) The output of the transformer block contextualization.\u001b[39;00m\n\u001b[0;32m    475\u001b[0m \u001b[38;5;124;03m\"\"\"\u001b[39;00m\n\u001b[0;32m    476\u001b[0m \u001b[38;5;66;03m# Self-Attention\u001b[39;00m\n\u001b[1;32m--> 477\u001b[0m sa_output \u001b[38;5;241m=\u001b[39m \u001b[38;5;28mself\u001b[39m\u001b[38;5;241m.\u001b[39mattention(\n\u001b[0;32m    478\u001b[0m     query\u001b[38;5;241m=\u001b[39mx,\n\u001b[0;32m    479\u001b[0m     key\u001b[38;5;241m=\u001b[39mx,\n\u001b[0;32m    480\u001b[0m     value\u001b[38;5;241m=\u001b[39mx,\n\u001b[0;32m    481\u001b[0m     mask\u001b[38;5;241m=\u001b[39mattn_mask,\n\u001b[0;32m    482\u001b[0m     head_mask\u001b[38;5;241m=\u001b[39mhead_mask,\n\u001b[0;32m    483\u001b[0m     output_attentions\u001b[38;5;241m=\u001b[39moutput_attentions,\n\u001b[0;32m    484\u001b[0m )\n\u001b[0;32m    485\u001b[0m \u001b[38;5;28;01mif\u001b[39;00m output_attentions:\n\u001b[0;32m    486\u001b[0m     sa_output, sa_weights \u001b[38;5;241m=\u001b[39m sa_output  \u001b[38;5;66;03m# (bs, seq_length, dim), (bs, n_heads, seq_length, seq_length)\u001b[39;00m\n",
      "File \u001b[1;32m~\\anaconda3\\envs\\py312\\Lib\\site-packages\\torch\\nn\\modules\\module.py:1736\u001b[0m, in \u001b[0;36mModule._wrapped_call_impl\u001b[1;34m(self, *args, **kwargs)\u001b[0m\n\u001b[0;32m   1734\u001b[0m     \u001b[38;5;28;01mreturn\u001b[39;00m \u001b[38;5;28mself\u001b[39m\u001b[38;5;241m.\u001b[39m_compiled_call_impl(\u001b[38;5;241m*\u001b[39margs, \u001b[38;5;241m*\u001b[39m\u001b[38;5;241m*\u001b[39mkwargs)  \u001b[38;5;66;03m# type: ignore[misc]\u001b[39;00m\n\u001b[0;32m   1735\u001b[0m \u001b[38;5;28;01melse\u001b[39;00m:\n\u001b[1;32m-> 1736\u001b[0m     \u001b[38;5;28;01mreturn\u001b[39;00m \u001b[38;5;28mself\u001b[39m\u001b[38;5;241m.\u001b[39m_call_impl(\u001b[38;5;241m*\u001b[39margs, \u001b[38;5;241m*\u001b[39m\u001b[38;5;241m*\u001b[39mkwargs)\n",
      "File \u001b[1;32m~\\anaconda3\\envs\\py312\\Lib\\site-packages\\torch\\nn\\modules\\module.py:1747\u001b[0m, in \u001b[0;36mModule._call_impl\u001b[1;34m(self, *args, **kwargs)\u001b[0m\n\u001b[0;32m   1742\u001b[0m \u001b[38;5;66;03m# If we don't have any hooks, we want to skip the rest of the logic in\u001b[39;00m\n\u001b[0;32m   1743\u001b[0m \u001b[38;5;66;03m# this function, and just call forward.\u001b[39;00m\n\u001b[0;32m   1744\u001b[0m \u001b[38;5;28;01mif\u001b[39;00m \u001b[38;5;129;01mnot\u001b[39;00m (\u001b[38;5;28mself\u001b[39m\u001b[38;5;241m.\u001b[39m_backward_hooks \u001b[38;5;129;01mor\u001b[39;00m \u001b[38;5;28mself\u001b[39m\u001b[38;5;241m.\u001b[39m_backward_pre_hooks \u001b[38;5;129;01mor\u001b[39;00m \u001b[38;5;28mself\u001b[39m\u001b[38;5;241m.\u001b[39m_forward_hooks \u001b[38;5;129;01mor\u001b[39;00m \u001b[38;5;28mself\u001b[39m\u001b[38;5;241m.\u001b[39m_forward_pre_hooks\n\u001b[0;32m   1745\u001b[0m         \u001b[38;5;129;01mor\u001b[39;00m _global_backward_pre_hooks \u001b[38;5;129;01mor\u001b[39;00m _global_backward_hooks\n\u001b[0;32m   1746\u001b[0m         \u001b[38;5;129;01mor\u001b[39;00m _global_forward_hooks \u001b[38;5;129;01mor\u001b[39;00m _global_forward_pre_hooks):\n\u001b[1;32m-> 1747\u001b[0m     \u001b[38;5;28;01mreturn\u001b[39;00m forward_call(\u001b[38;5;241m*\u001b[39margs, \u001b[38;5;241m*\u001b[39m\u001b[38;5;241m*\u001b[39mkwargs)\n\u001b[0;32m   1749\u001b[0m result \u001b[38;5;241m=\u001b[39m \u001b[38;5;28;01mNone\u001b[39;00m\n\u001b[0;32m   1750\u001b[0m called_always_called_hooks \u001b[38;5;241m=\u001b[39m \u001b[38;5;28mset\u001b[39m()\n",
      "File \u001b[1;32m~\\anaconda3\\envs\\py312\\Lib\\site-packages\\transformers\\models\\distilbert\\modeling_distilbert.py:392\u001b[0m, in \u001b[0;36mDistilBertSdpaAttention.forward\u001b[1;34m(self, query, key, value, mask, head_mask, output_attentions)\u001b[0m\n\u001b[0;32m    389\u001b[0m     \u001b[38;5;28;01mreturn\u001b[39;00m x\u001b[38;5;241m.\u001b[39mtranspose(\u001b[38;5;241m1\u001b[39m, \u001b[38;5;241m2\u001b[39m)\u001b[38;5;241m.\u001b[39mcontiguous()\u001b[38;5;241m.\u001b[39mview(batch_size, \u001b[38;5;241m-\u001b[39m\u001b[38;5;241m1\u001b[39m, \u001b[38;5;28mself\u001b[39m\u001b[38;5;241m.\u001b[39mn_heads \u001b[38;5;241m*\u001b[39m dim_per_head)\n\u001b[0;32m    391\u001b[0m q \u001b[38;5;241m=\u001b[39m shape(\u001b[38;5;28mself\u001b[39m\u001b[38;5;241m.\u001b[39mq_lin(query))  \u001b[38;5;66;03m# (bs, n_heads, q_length, dim_per_head)\u001b[39;00m\n\u001b[1;32m--> 392\u001b[0m k \u001b[38;5;241m=\u001b[39m shape(\u001b[38;5;28mself\u001b[39m\u001b[38;5;241m.\u001b[39mk_lin(key))  \u001b[38;5;66;03m# (bs, n_heads, k_length, dim_per_head)\u001b[39;00m\n\u001b[0;32m    393\u001b[0m v \u001b[38;5;241m=\u001b[39m shape(\u001b[38;5;28mself\u001b[39m\u001b[38;5;241m.\u001b[39mv_lin(value))  \u001b[38;5;66;03m# (bs, n_heads, k_length, dim_per_head)\u001b[39;00m\n\u001b[0;32m    395\u001b[0m \u001b[38;5;66;03m# SDPA with memory-efficient backend is broken in torch==2.1.2 when using non-contiguous inputs and a custom\u001b[39;00m\n\u001b[0;32m    396\u001b[0m \u001b[38;5;66;03m# attn_mask, so we need to call `.contiguous()` here. This was fixed in torch==2.2.0.\u001b[39;00m\n\u001b[0;32m    397\u001b[0m \u001b[38;5;66;03m# Reference: https://github.com/pytorch/pytorch/issues/112577\u001b[39;00m\n",
      "File \u001b[1;32m~\\anaconda3\\envs\\py312\\Lib\\site-packages\\torch\\nn\\modules\\module.py:1736\u001b[0m, in \u001b[0;36mModule._wrapped_call_impl\u001b[1;34m(self, *args, **kwargs)\u001b[0m\n\u001b[0;32m   1734\u001b[0m     \u001b[38;5;28;01mreturn\u001b[39;00m \u001b[38;5;28mself\u001b[39m\u001b[38;5;241m.\u001b[39m_compiled_call_impl(\u001b[38;5;241m*\u001b[39margs, \u001b[38;5;241m*\u001b[39m\u001b[38;5;241m*\u001b[39mkwargs)  \u001b[38;5;66;03m# type: ignore[misc]\u001b[39;00m\n\u001b[0;32m   1735\u001b[0m \u001b[38;5;28;01melse\u001b[39;00m:\n\u001b[1;32m-> 1736\u001b[0m     \u001b[38;5;28;01mreturn\u001b[39;00m \u001b[38;5;28mself\u001b[39m\u001b[38;5;241m.\u001b[39m_call_impl(\u001b[38;5;241m*\u001b[39margs, \u001b[38;5;241m*\u001b[39m\u001b[38;5;241m*\u001b[39mkwargs)\n",
      "File \u001b[1;32m~\\anaconda3\\envs\\py312\\Lib\\site-packages\\torch\\nn\\modules\\module.py:1747\u001b[0m, in \u001b[0;36mModule._call_impl\u001b[1;34m(self, *args, **kwargs)\u001b[0m\n\u001b[0;32m   1742\u001b[0m \u001b[38;5;66;03m# If we don't have any hooks, we want to skip the rest of the logic in\u001b[39;00m\n\u001b[0;32m   1743\u001b[0m \u001b[38;5;66;03m# this function, and just call forward.\u001b[39;00m\n\u001b[0;32m   1744\u001b[0m \u001b[38;5;28;01mif\u001b[39;00m \u001b[38;5;129;01mnot\u001b[39;00m (\u001b[38;5;28mself\u001b[39m\u001b[38;5;241m.\u001b[39m_backward_hooks \u001b[38;5;129;01mor\u001b[39;00m \u001b[38;5;28mself\u001b[39m\u001b[38;5;241m.\u001b[39m_backward_pre_hooks \u001b[38;5;129;01mor\u001b[39;00m \u001b[38;5;28mself\u001b[39m\u001b[38;5;241m.\u001b[39m_forward_hooks \u001b[38;5;129;01mor\u001b[39;00m \u001b[38;5;28mself\u001b[39m\u001b[38;5;241m.\u001b[39m_forward_pre_hooks\n\u001b[0;32m   1745\u001b[0m         \u001b[38;5;129;01mor\u001b[39;00m _global_backward_pre_hooks \u001b[38;5;129;01mor\u001b[39;00m _global_backward_hooks\n\u001b[0;32m   1746\u001b[0m         \u001b[38;5;129;01mor\u001b[39;00m _global_forward_hooks \u001b[38;5;129;01mor\u001b[39;00m _global_forward_pre_hooks):\n\u001b[1;32m-> 1747\u001b[0m     \u001b[38;5;28;01mreturn\u001b[39;00m forward_call(\u001b[38;5;241m*\u001b[39margs, \u001b[38;5;241m*\u001b[39m\u001b[38;5;241m*\u001b[39mkwargs)\n\u001b[0;32m   1749\u001b[0m result \u001b[38;5;241m=\u001b[39m \u001b[38;5;28;01mNone\u001b[39;00m\n\u001b[0;32m   1750\u001b[0m called_always_called_hooks \u001b[38;5;241m=\u001b[39m \u001b[38;5;28mset\u001b[39m()\n",
      "File \u001b[1;32m~\\anaconda3\\envs\\py312\\Lib\\site-packages\\torch\\nn\\modules\\linear.py:125\u001b[0m, in \u001b[0;36mLinear.forward\u001b[1;34m(self, input)\u001b[0m\n\u001b[0;32m    124\u001b[0m \u001b[38;5;28;01mdef\u001b[39;00m \u001b[38;5;21mforward\u001b[39m(\u001b[38;5;28mself\u001b[39m, \u001b[38;5;28minput\u001b[39m: Tensor) \u001b[38;5;241m-\u001b[39m\u001b[38;5;241m>\u001b[39m Tensor:\n\u001b[1;32m--> 125\u001b[0m     \u001b[38;5;28;01mreturn\u001b[39;00m F\u001b[38;5;241m.\u001b[39mlinear(\u001b[38;5;28minput\u001b[39m, \u001b[38;5;28mself\u001b[39m\u001b[38;5;241m.\u001b[39mweight, \u001b[38;5;28mself\u001b[39m\u001b[38;5;241m.\u001b[39mbias)\n",
      "\u001b[1;31mKeyboardInterrupt\u001b[0m: "
     ]
    }
   ],
   "source": [
    "# ## 단어빈도 추출과 변환\n",
    "# word_freq_categ, wordadj_freq_categ, df_freq_categ = preprocessing_wordfreq(df, colname_target=TARGET+'_Prep', colname_category=CATEGORY,\n",
    "#                                                                 ngram_range=NGRAM_RANGE,\n",
    "#                                                                 tfidf_maxcol=TFIDF_MAXCOL, tfidf_dellowfreq=TFIDF_DELLOWFREQ,\n",
    "#                                                                 keybert_topnkwd=KEYBERT_TOPNKWD,\n",
    "#                                                                 sent2kwd_ray=RAY,\n",
    "#                                                                 num_showkeyword=NUM_SHOWKEYWORD, \n",
    "#                                                                 save_local=SAVE_LOCAL, save_name=SAVE_NAME_PREP)\n",
    "# df_freq_categ.to_csv(os.path.join(os.getcwd(), 'Data', 'df_movie_prepcateg_(1,3).csv'), index=False, encoding='utf-8-sig')"
   ]
  },
  {
   "cell_type": "markdown",
   "id": "10ba15b9",
   "metadata": {},
   "source": [
    "# Modeling\n",
    "\n",
    "## LDA\n",
    "\n",
    "- Latent Dirichlet Allocation (LDA)는 토픽모델링에 이용되는 대표적인 알고리즘\n",
    "\n",
    "> - 토픽 모델링이 제공하는 토픽은 어떤 주제를 구성하는 단어들인지로 정의되며,\n",
    "> - 문서 집합에서 이 단어 집합을 찾아 우리의 문서가 어떤 토픽인지 알 수 있음\n",
    "\n",
    "- LDA 모델을 학습하기 전에 몇 개의 토픽으로 나눌 것인지 먼저 결정해야 함\n",
    "\n",
    "> - 일반적으로 (1) perplexity와 coherence를 함께 고려하여 결정 + (2) 정성적인 토픽 갯수 고려하여 결정\n",
    ">> - perplexity: 모델이 얼마나 잘 예측하는지 나타내는 지표로, 낮은 perplexity 값은 모델이 문서에서 나타나는 단어를 더 잘 예측한다는 것을 의미\n",
    ">> - coherence: 발견된 토픽이 얼마나 의미있는지 나타내는 지표로, 높은 coherence 값은 토픽 내 단어들이 서로 관련성이 높다는 것을 의미\n",
    "\n",
    "- LDAvis\n",
    "\n",
    "> (1) Intertopic Distance Map (via multidimensional scaling)\n",
    "> - 각 토픽이 가진 고차원의 단어들을 PCA로 2차원 축소 시각화\n",
    "> - 원크기: 토픽의 단어들이 얼마나 포함 및 분포되어 있는지\n",
    "> - 원거리: 토픽간의 유사성 (2개의 원이 겹친다면 유사한 토픽이라는 의미)\n",
    ">\n",
    "> (2) Top-30 Most Relevant Terms for Topic\n",
    "> - 토픽 별로 가장 자주 등장하는 단어들(람디=1)과 토픽 간 차이가 많이나는 단어들(람다=0)을 종합적으로 고려 "
   ]
  },
  {
   "cell_type": "code",
   "execution_count": 167,
   "id": "9c1ce5b8-117f-4ffa-ba13-a26794933500",
   "metadata": {
    "ExecuteTime": {
     "end_time": "2024-12-03T13:19:28.123948Z",
     "start_time": "2024-12-03T13:19:25.207311Z"
    },
    "execution": {
     "iopub.execute_input": "2024-12-09T13:25:59.810334Z",
     "iopub.status.busy": "2024-12-09T13:25:59.810334Z",
     "iopub.status.idle": "2024-12-09T13:26:01.892578Z",
     "shell.execute_reply": "2024-12-09T13:26:01.892578Z",
     "shell.execute_reply.started": "2024-12-09T13:25:59.810334Z"
    }
   },
   "outputs": [],
   "source": [
    "if FILTER_MOVIE != []:\n",
    "    df_freq = df_freq[~df_freq.Movie.isin(filter_movie)].reset_index().iloc[:,1:]\n",
    "    df_freq_categ = df_freq_categ[~df_freq_categ.Movie.isin(filter_movie)].reset_index().iloc[:,1:]\n",
    "    word_freq = pd.read_csv(os.path.join(os.getcwd(), 'Result', 'Filter', 'WordFreq', 'wordfreq_total.csv'), encoding='utf-8-sig')\n",
    "    wordadj_freq = pd.read_csv(os.path.join(os.getcwd(), 'Result', 'Filter', 'WordFreq', 'wordfreq_totaladj.csv'), encoding='utf-8-sig')\n",
    "    word_freq_categ = pd.read_csv(os.path.join(os.getcwd(), 'Result', 'Filter', 'WordFreq', 'wordfreqcateg_total.csv'), encoding='utf-8-sig')\n",
    "    wordadj_freq_categ = pd.read_csv(os.path.join(os.getcwd(), 'Result', 'Filter', 'WordFreq', 'wordfreqcateg_totaladj.csv'), encoding='utf-8-sig')\n",
    "else:\n",
    "    df_freq = pd.read_csv(os.path.join(os.getcwd(), 'Data', 'df_movie_prep_(1,3).csv'), encoding='utf-8-sig')\n",
    "    df_freq_categ = pd.read_csv(os.path.join(os.getcwd(), 'Data', 'df_movie_prepcateg_(1,3).csv'), encoding='utf-8-sig')\n",
    "    word_freq = pd.read_csv(os.path.join(os.getcwd(), 'Result', 'Total', 'WordFreq', 'wordfreq_total.csv'), encoding='utf-8-sig')\n",
    "    wordadj_freq = pd.read_csv(os.path.join(os.getcwd(), 'Result', 'Total', 'WordFreq', 'wordfreq_totaladj.csv'), encoding='utf-8-sig')\n",
    "    word_freq_categ = pd.read_csv(os.path.join(os.getcwd(), 'Result', 'Total', 'WordFreq', 'wordfreqcateg_total.csv'), encoding='utf-8-sig')\n",
    "    wordadj_freq_categ = pd.read_csv(os.path.join(os.getcwd(), 'Result', 'Total', 'WordFreq', 'wordfreqcateg_totaladj.csv'), encoding='utf-8-sig')"
   ]
  },
  {
   "cell_type": "code",
   "execution_count": 171,
   "id": "e8710bfe-0be4-405c-be14-7fb31a34ff80",
   "metadata": {
    "execution": {
     "iopub.execute_input": "2024-12-09T13:26:05.685281Z",
     "iopub.status.busy": "2024-12-09T13:26:05.685281Z",
     "iopub.status.idle": "2024-12-09T13:28:07.617574Z",
     "shell.execute_reply": "2024-12-09T13:28:07.616568Z",
     "shell.execute_reply.started": "2024-12-09T13:26:05.685281Z"
    }
   },
   "outputs": [
    {
     "name": "stderr",
     "output_type": "stream",
     "text": [
      "2024-12-09 22:26:09,940\tINFO worker.py:1777 -- Started a local Ray instance. View the dashboard at \u001b[1m\u001b[32mhttp://127.0.0.1:8265 \u001b[39m\u001b[22m\n"
     ]
    },
    {
     "name": "stdout",
     "output_type": "stream",
     "text": [
      "Optimal Topic Number:  3\n"
     ]
    },
    {
     "data": {
      "text/html": [
       "<div>\n",
       "<style scoped>\n",
       "    .dataframe tbody tr th:only-of-type {\n",
       "        vertical-align: middle;\n",
       "    }\n",
       "\n",
       "    .dataframe tbody tr th {\n",
       "        vertical-align: top;\n",
       "    }\n",
       "\n",
       "    .dataframe thead th {\n",
       "        text-align: right;\n",
       "    }\n",
       "</style>\n",
       "<table border=\"1\" class=\"dataframe\">\n",
       "  <thead>\n",
       "    <tr style=\"text-align: right;\">\n",
       "      <th></th>\n",
       "      <th>Related Keywords</th>\n",
       "      <th>Number of Sentences</th>\n",
       "      <th>Percentage</th>\n",
       "    </tr>\n",
       "  </thead>\n",
       "  <tbody>\n",
       "    <tr>\n",
       "      <th>Topic 1</th>\n",
       "      <td>'감동(26.2%)', '연기(17.6%)', '반전(10.2%)', '보고(8.0%)', '배우(7.5%)', '진짜(7.0%)', '눈물이(6.4%)', '최고(5.9%...</td>\n",
       "      <td>21808</td>\n",
       "      <td>0.3583</td>\n",
       "    </tr>\n",
       "    <tr>\n",
       "      <th>Topic 2</th>\n",
       "      <td>'연기(15.1%)', '연기가(14.5%)', '치매(10.5%)', '부모님(9.9%)', '눈물(9.9%)', '가족(9.2%)', '서현진(8.6%)', '좋은(8....</td>\n",
       "      <td>17464</td>\n",
       "      <td>0.2869</td>\n",
       "    </tr>\n",
       "    <tr>\n",
       "      <th>Topic 3</th>\n",
       "      <td>'사랑(31.0%)', '하는(12.6%)', '하고(8.6%)', '기억(8.6%)', '엄마(8.6%)', '있는(7.5%)', '마음(6.9%)', '가는(6.3%)'...</td>\n",
       "      <td>21592</td>\n",
       "      <td>0.3548</td>\n",
       "    </tr>\n",
       "  </tbody>\n",
       "</table>\n",
       "</div>"
      ],
      "text/plain": [
       "                                                                                            Related Keywords  \\\n",
       "Topic 1  '감동(26.2%)', '연기(17.6%)', '반전(10.2%)', '보고(8.0%)', '배우(7.5%)', '진짜(7.0%)', '눈물이(6.4%)', '최고(5.9%...   \n",
       "Topic 2  '연기(15.1%)', '연기가(14.5%)', '치매(10.5%)', '부모님(9.9%)', '눈물(9.9%)', '가족(9.2%)', '서현진(8.6%)', '좋은(8....   \n",
       "Topic 3  '사랑(31.0%)', '하는(12.6%)', '하고(8.6%)', '기억(8.6%)', '엄마(8.6%)', '있는(7.5%)', '마음(6.9%)', '가는(6.3%)'...   \n",
       "\n",
       "         Number of Sentences  Percentage  \n",
       "Topic 1                21808      0.3583  \n",
       "Topic 2                17464      0.2869  \n",
       "Topic 3                21592      0.3548  "
      ]
     },
     "metadata": {},
     "output_type": "display_data"
    },
    {
     "data": {
      "text/html": [
       "<div>\n",
       "<style scoped>\n",
       "    .dataframe tbody tr th:only-of-type {\n",
       "        vertical-align: middle;\n",
       "    }\n",
       "\n",
       "    .dataframe tbody tr th {\n",
       "        vertical-align: top;\n",
       "    }\n",
       "\n",
       "    .dataframe thead th {\n",
       "        text-align: right;\n",
       "    }\n",
       "</style>\n",
       "<table border=\"1\" class=\"dataframe\">\n",
       "  <thead>\n",
       "    <tr style=\"text-align: right;\">\n",
       "      <th></th>\n",
       "      <th>Topic Number</th>\n",
       "      <th>Weight</th>\n",
       "      <th>Comment</th>\n",
       "    </tr>\n",
       "  </thead>\n",
       "  <tbody>\n",
       "    <tr>\n",
       "      <th>1173</th>\n",
       "      <td>Topic 1</td>\n",
       "      <td>0.9769</td>\n",
       "      <td>연출 매우 촌스러움. 배우들 연기 심각하게 못하는데 주연이 연기를 못해서 집중하기 힘듦. 필름메이커스에서 아무나 데려다가 쓴 수준. 스토리 매끄럽지 않음. 사투리연기들도 어...</td>\n",
       "    </tr>\n",
       "    <tr>\n",
       "      <th>33540</th>\n",
       "      <td>Topic 1</td>\n",
       "      <td>0.9719</td>\n",
       "      <td>오늘 이영화를 다시 봤는데....   배우들의 연기력만으로도 뻔하고 진부한 스토리를 이렇게나 감동적으로 만들어낼수 있음을 느꼈습니다. 특히 배종옥,김갑수씨의 불꽃연기는 보는...</td>\n",
       "    </tr>\n",
       "    <tr>\n",
       "      <th>20441</th>\n",
       "      <td>Topic 1</td>\n",
       "      <td>0.9702</td>\n",
       "      <td>촬영과 조명이 놀랄정도로 깔끔했고 가장 좋은건 오민애의 엄마 연기였다. 어머니의 얼굴로 영화를 보여주려하고 전달도 잘 받았지만 계속 누적되니 감정적으로 힘이 들고 전개마저 ...</td>\n",
       "    </tr>\n",
       "    <tr>\n",
       "      <th>60486</th>\n",
       "      <td>Topic 1</td>\n",
       "      <td>0.9685</td>\n",
       "      <td>영화 끝나고 나서도 펑펑 운 ㅜㅠ 서현진님 어떻게 이런 연기까지.. 병세 악화되면서 눈에 힘이 점점 풀리는데 소름 돋았어요.. 안성기님도 조곤조곤 아빠 역할에 너무 찰떡이셨...</td>\n",
       "    </tr>\n",
       "    <tr>\n",
       "      <th>4172</th>\n",
       "      <td>Topic 1</td>\n",
       "      <td>0.9672</td>\n",
       "      <td>처음엔, 아 저건 정우성이니까 가능하지. 중반엔, 정우성이 저렇다면 더더욱 가능하지. 후반부엔, 아 몰라 그냥 보이는 대로 느끼며 생각하자.  두 배우 비주얼도 훌륭하지만 ...</td>\n",
       "    </tr>\n",
       "    <tr>\n",
       "      <th>17038</th>\n",
       "      <td>Topic 2</td>\n",
       "      <td>0.9591</td>\n",
       "      <td>안소니 홉킨스경의 너무나도 현실적인 연기가 무섭게까지 느껴진다. 올리비아 콜만의 애정과 연민의 눈빛 연기도 가슴아팠다. 감정이입이 돼서 무섭고 서글프고 힘들었다.</td>\n",
       "    </tr>\n",
       "    <tr>\n",
       "      <th>59042</th>\n",
       "      <td>Topic 2</td>\n",
       "      <td>0.9579</td>\n",
       "      <td>시작부터 끝까지 눈을 떼지 못했던 감동적인 영화에요~\\n배우님들의 담담하면서도 현실감있는 연기에 더욱 몰입할 수 있었구요~ 특히 서현진배우님의 연기에 소름 쫙... 눈물 주...</td>\n",
       "    </tr>\n",
       "    <tr>\n",
       "      <th>996</th>\n",
       "      <td>Topic 2</td>\n",
       "      <td>0.9576</td>\n",
       "      <td>치매에 대한 소재가 너무 좋았지만 선동혁 배우님 혼자 영화를 끌고 가는 느낌이고 다른 배우님들의 연기가 조금 부자연스러웠고 음향이 높았다 낮았다 하는 느낌이 있어서 조금 아...</td>\n",
       "    </tr>\n",
       "    <tr>\n",
       "      <th>15186</th>\n",
       "      <td>Topic 2</td>\n",
       "      <td>0.9576</td>\n",
       "      <td>안소니 홉킨스의 생생한 연기때문에 나도 혼돈이..치매 환자의 시점에서 너무나 연기를 리얼하게 해서 아 치매 걸리면 이런 느낌이겠구나 했다.</td>\n",
       "    </tr>\n",
       "    <tr>\n",
       "      <th>14737</th>\n",
       "      <td>Topic 2</td>\n",
       "      <td>0.9560</td>\n",
       "      <td>\"내 잎사귀들이 다 지는 거 같아.\" / 그가 애타게 찾던 시계는, 잃어버린 시간들의 기억이었다. 왜 이러는지 알 수 없이 뒤섞이는 혼란스러움, 공포, 무력감...질병 그 ...</td>\n",
       "    </tr>\n",
       "    <tr>\n",
       "      <th>44729</th>\n",
       "      <td>Topic 3</td>\n",
       "      <td>0.9851</td>\n",
       "      <td>기억을 잃어버린  나는 더 이상 내가 아니다.  그러나 추억을 함께한 사람이 그 추억을 나와 함께 기억한다면  나는 나로 존재한다.  우리들이 살면서 불시에 다가오는 어려움...</td>\n",
       "    </tr>\n",
       "    <tr>\n",
       "      <th>7082</th>\n",
       "      <td>Topic 3</td>\n",
       "      <td>0.9825</td>\n",
       "      <td>“난 특별하지않다. 그냥 상식적인 보통 사람이다. 보통의 삶을 살았고, 날 기리는 기념비도 없으며, 내 이름은 곧 잊힐 것이다. 하지만 한 가지. 누구 못지않게 훌륭히 해낸...</td>\n",
       "    </tr>\n",
       "    <tr>\n",
       "      <th>42198</th>\n",
       "      <td>Topic 3</td>\n",
       "      <td>0.9812</td>\n",
       "      <td>사진기의 발명 이후 회화의 역할을 고민한 것처럼 네이버가 있는 세상에 예술의 작용이 무엇인가 배웠다. 빨간 안경이 내린 예술의 정의와 구분을 이해하게 되었다.  우디 앨런의...</td>\n",
       "    </tr>\n",
       "    <tr>\n",
       "      <th>56182</th>\n",
       "      <td>Topic 3</td>\n",
       "      <td>0.9809</td>\n",
       "      <td>누군가 나를 기억해주고 사랑해준다는건 정말 행복한일이다 기억을 잃어버린 딸을 위해 매일 같은 일상과 패턴을 반복하는 가족도 안쓰럽고 대단했지만 루시를 위해 모든걸 바치고 한...</td>\n",
       "    </tr>\n",
       "    <tr>\n",
       "      <th>44727</th>\n",
       "      <td>Topic 3</td>\n",
       "      <td>0.9794</td>\n",
       "      <td>사라져간다는 것에 대한 두려움. . . . . . . . . 두 영혼이 서로 얽혀 있다는 것.  내가 사라져가고 있음을 알고 사랑하는 사람을 잊어가고 있음을 알고 죽어간다는...</td>\n",
       "    </tr>\n",
       "  </tbody>\n",
       "</table>\n",
       "</div>"
      ],
      "text/plain": [
       "      Topic Number  Weight  \\\n",
       "1173       Topic 1  0.9769   \n",
       "33540      Topic 1  0.9719   \n",
       "20441      Topic 1  0.9702   \n",
       "60486      Topic 1  0.9685   \n",
       "4172       Topic 1  0.9672   \n",
       "17038      Topic 2  0.9591   \n",
       "59042      Topic 2  0.9579   \n",
       "996        Topic 2  0.9576   \n",
       "15186      Topic 2  0.9576   \n",
       "14737      Topic 2  0.9560   \n",
       "44729      Topic 3  0.9851   \n",
       "7082       Topic 3  0.9825   \n",
       "42198      Topic 3  0.9812   \n",
       "56182      Topic 3  0.9809   \n",
       "44727      Topic 3  0.9794   \n",
       "\n",
       "                                                                                                   Comment  \n",
       "1173   연출 매우 촌스러움. 배우들 연기 심각하게 못하는데 주연이 연기를 못해서 집중하기 힘듦. 필름메이커스에서 아무나 데려다가 쓴 수준. 스토리 매끄럽지 않음. 사투리연기들도 어...  \n",
       "33540  오늘 이영화를 다시 봤는데....   배우들의 연기력만으로도 뻔하고 진부한 스토리를 이렇게나 감동적으로 만들어낼수 있음을 느꼈습니다. 특히 배종옥,김갑수씨의 불꽃연기는 보는...  \n",
       "20441  촬영과 조명이 놀랄정도로 깔끔했고 가장 좋은건 오민애의 엄마 연기였다. 어머니의 얼굴로 영화를 보여주려하고 전달도 잘 받았지만 계속 누적되니 감정적으로 힘이 들고 전개마저 ...  \n",
       "60486  영화 끝나고 나서도 펑펑 운 ㅜㅠ 서현진님 어떻게 이런 연기까지.. 병세 악화되면서 눈에 힘이 점점 풀리는데 소름 돋았어요.. 안성기님도 조곤조곤 아빠 역할에 너무 찰떡이셨...  \n",
       "4172   처음엔, 아 저건 정우성이니까 가능하지. 중반엔, 정우성이 저렇다면 더더욱 가능하지. 후반부엔, 아 몰라 그냥 보이는 대로 느끼며 생각하자.  두 배우 비주얼도 훌륭하지만 ...  \n",
       "17038           안소니 홉킨스경의 너무나도 현실적인 연기가 무섭게까지 느껴진다. 올리비아 콜만의 애정과 연민의 눈빛 연기도 가슴아팠다. 감정이입이 돼서 무섭고 서글프고 힘들었다.  \n",
       "59042  시작부터 끝까지 눈을 떼지 못했던 감동적인 영화에요~\\n배우님들의 담담하면서도 현실감있는 연기에 더욱 몰입할 수 있었구요~ 특히 서현진배우님의 연기에 소름 쫙... 눈물 주...  \n",
       "996    치매에 대한 소재가 너무 좋았지만 선동혁 배우님 혼자 영화를 끌고 가는 느낌이고 다른 배우님들의 연기가 조금 부자연스러웠고 음향이 높았다 낮았다 하는 느낌이 있어서 조금 아...  \n",
       "15186                        안소니 홉킨스의 생생한 연기때문에 나도 혼돈이..치매 환자의 시점에서 너무나 연기를 리얼하게 해서 아 치매 걸리면 이런 느낌이겠구나 했다.  \n",
       "14737  \"내 잎사귀들이 다 지는 거 같아.\" / 그가 애타게 찾던 시계는, 잃어버린 시간들의 기억이었다. 왜 이러는지 알 수 없이 뒤섞이는 혼란스러움, 공포, 무력감...질병 그 ...  \n",
       "44729  기억을 잃어버린  나는 더 이상 내가 아니다.  그러나 추억을 함께한 사람이 그 추억을 나와 함께 기억한다면  나는 나로 존재한다.  우리들이 살면서 불시에 다가오는 어려움...  \n",
       "7082   “난 특별하지않다. 그냥 상식적인 보통 사람이다. 보통의 삶을 살았고, 날 기리는 기념비도 없으며, 내 이름은 곧 잊힐 것이다. 하지만 한 가지. 누구 못지않게 훌륭히 해낸...  \n",
       "42198  사진기의 발명 이후 회화의 역할을 고민한 것처럼 네이버가 있는 세상에 예술의 작용이 무엇인가 배웠다. 빨간 안경이 내린 예술의 정의와 구분을 이해하게 되었다.  우디 앨런의...  \n",
       "56182  누군가 나를 기억해주고 사랑해준다는건 정말 행복한일이다 기억을 잃어버린 딸을 위해 매일 같은 일상과 패턴을 반복하는 가족도 안쓰럽고 대단했지만 루시를 위해 모든걸 바치고 한...  \n",
       "44727  사라져간다는 것에 대한 두려움. . . . . . . . . 두 영혼이 서로 얽혀 있다는 것.  내가 사라져가고 있음을 알고 사랑하는 사람을 잊어가고 있음을 알고 죽어간다는...  "
      ]
     },
     "metadata": {},
     "output_type": "display_data"
    },
    {
     "data": {
      "text/html": [
       "<div>\n",
       "<style scoped>\n",
       "    .dataframe tbody tr th:only-of-type {\n",
       "        vertical-align: middle;\n",
       "    }\n",
       "\n",
       "    .dataframe tbody tr th {\n",
       "        vertical-align: top;\n",
       "    }\n",
       "\n",
       "    .dataframe thead th {\n",
       "        text-align: right;\n",
       "    }\n",
       "</style>\n",
       "<table border=\"1\" class=\"dataframe\">\n",
       "  <thead>\n",
       "    <tr style=\"text-align: right;\">\n",
       "      <th></th>\n",
       "      <th>Comment</th>\n",
       "      <th>Related Topic</th>\n",
       "      <th>Weight</th>\n",
       "      <th>Each Topic Weights</th>\n",
       "    </tr>\n",
       "  </thead>\n",
       "  <tbody>\n",
       "    <tr>\n",
       "      <th>0</th>\n",
       "      <td>배우들 연기가 어색하게 보이는 것은  배우들 문제가 아니다. 이야기 흐름이 자연스럽지 않은것이 단번에 느껴진다. 감독의 실수가 너무 크다.</td>\n",
       "      <td>2</td>\n",
       "      <td>0.7779</td>\n",
       "      <td>[(0, 0.09903963), (1, 0.7779165), (2, 0.12304392)]</td>\n",
       "    </tr>\n",
       "    <tr>\n",
       "      <th>1</th>\n",
       "      <td>살아남은 보단 남겨진 이들에게</td>\n",
       "      <td>3</td>\n",
       "      <td>0.8300</td>\n",
       "      <td>[(0, 0.08350324), (1, 0.08652841), (2, 0.82996833)]</td>\n",
       "    </tr>\n",
       "    <tr>\n",
       "      <th>2</th>\n",
       "      <td>국악을 알리는건 좋은데 왤케 피곤하지... 쓸데없는 장면 너무많고 필요없는연출너무많고 연기력은 너무부족하고 최악의 영화에 시간을 왤케 길고 보는게 진짜 고역이었다 지금세대가...</td>\n",
       "      <td>1</td>\n",
       "      <td>0.8775</td>\n",
       "      <td>[(0, 0.87745976), (1, 0.10276187), (2, 0.019778373)]</td>\n",
       "    </tr>\n",
       "    <tr>\n",
       "      <th>3</th>\n",
       "      <td>“어이가리”의 어이에는 세가지 정도의 뜻이 있다. 첫째는 “왜?”의 어이이고, 둘째는 ”어떻게“의 어이이며, 셋째는 ”어디를“의 어이이다. 영화에는 이 세가지 의미가 다 담...</td>\n",
       "      <td>2</td>\n",
       "      <td>0.4709</td>\n",
       "      <td>[(0, 0.12692937), (1, 0.47088233), (2, 0.4021883)]</td>\n",
       "    </tr>\n",
       "    <tr>\n",
       "      <th>4</th>\n",
       "      <td>실제 비슷한 생활을 해본 입장에서 조금은 어설프기도 한 공감하기 힘든 지루한 진행. 자꾸 그걸 느끼라고 하는데  자꾸 안 느껴지는..</td>\n",
       "      <td>3</td>\n",
       "      <td>0.9003</td>\n",
       "      <td>[(0, 0.03108539), (1, 0.06866159), (2, 0.90025306)]</td>\n",
       "    </tr>\n",
       "    <tr>\n",
       "      <th>...</th>\n",
       "      <td>...</td>\n",
       "      <td>...</td>\n",
       "      <td>...</td>\n",
       "      <td>...</td>\n",
       "    </tr>\n",
       "    <tr>\n",
       "      <th>60859</th>\n",
       "      <td>개봉관이 없어서 거재도 예술영화 상영관까지 가서 관람을 했었습니다.먼 길을 달려서 볼 충분한 가치가 있는 영화!여자친구와 함께 웃고 눈물흘리게 했던 장면들이 기억에 남네요.</td>\n",
       "      <td>1</td>\n",
       "      <td>0.7445</td>\n",
       "      <td>[(0, 0.7444927), (1, 0.20111333), (2, 0.054394037)]</td>\n",
       "    </tr>\n",
       "    <tr>\n",
       "      <th>60860</th>\n",
       "      <td>재미있다 재미없다보다는 느끼며 봐야 진실성을 느끼는 영화!!보고난후 나의 한마디는.... 정말 아름답다!!!</td>\n",
       "      <td>1</td>\n",
       "      <td>0.5316</td>\n",
       "      <td>[(0, 0.5316037), (1, 0.043949515), (2, 0.4244468)]</td>\n",
       "    </tr>\n",
       "    <tr>\n",
       "      <th>60861</th>\n",
       "      <td>생각했던거보다볼만해요</td>\n",
       "      <td>2</td>\n",
       "      <td>0.6666</td>\n",
       "      <td>[(0, 0.1667252), (1, 0.66655767), (2, 0.16671714)]</td>\n",
       "    </tr>\n",
       "    <tr>\n",
       "      <th>60862</th>\n",
       "      <td>기대를 많이 해서그런가 생각보다는 별로네요 감동도 그다지</td>\n",
       "      <td>2</td>\n",
       "      <td>0.5993</td>\n",
       "      <td>[(0, 0.35889181), (1, 0.5992743), (2, 0.041833885)]</td>\n",
       "    </tr>\n",
       "    <tr>\n",
       "      <th>60863</th>\n",
       "      <td>비슷한 내용이 여러 번 반복되어 다소 지루한 감이 있었다.</td>\n",
       "      <td>3</td>\n",
       "      <td>0.4897</td>\n",
       "      <td>[(0, 0.43228826), (1, 0.07805502), (2, 0.48965672)]</td>\n",
       "    </tr>\n",
       "  </tbody>\n",
       "</table>\n",
       "<p>60864 rows × 4 columns</p>\n",
       "</div>"
      ],
      "text/plain": [
       "                                                                                                   Comment  \\\n",
       "0                            배우들 연기가 어색하게 보이는 것은  배우들 문제가 아니다. 이야기 흐름이 자연스럽지 않은것이 단번에 느껴진다. 감독의 실수가 너무 크다.   \n",
       "1                                                                                         살아남은 보단 남겨진 이들에게   \n",
       "2      국악을 알리는건 좋은데 왤케 피곤하지... 쓸데없는 장면 너무많고 필요없는연출너무많고 연기력은 너무부족하고 최악의 영화에 시간을 왤케 길고 보는게 진짜 고역이었다 지금세대가...   \n",
       "3      “어이가리”의 어이에는 세가지 정도의 뜻이 있다. 첫째는 “왜?”의 어이이고, 둘째는 ”어떻게“의 어이이며, 셋째는 ”어디를“의 어이이다. 영화에는 이 세가지 의미가 다 담...   \n",
       "4                               실제 비슷한 생활을 해본 입장에서 조금은 어설프기도 한 공감하기 힘든 지루한 진행. 자꾸 그걸 느끼라고 하는데  자꾸 안 느껴지는..   \n",
       "...                                                                                                    ...   \n",
       "60859     개봉관이 없어서 거재도 예술영화 상영관까지 가서 관람을 했었습니다.먼 길을 달려서 볼 충분한 가치가 있는 영화!여자친구와 함께 웃고 눈물흘리게 했던 장면들이 기억에 남네요.   \n",
       "60860                                         재미있다 재미없다보다는 느끼며 봐야 진실성을 느끼는 영화!!보고난후 나의 한마디는.... 정말 아름답다!!!   \n",
       "60861                                                                                          생각했던거보다볼만해요   \n",
       "60862                                                                      기대를 많이 해서그런가 생각보다는 별로네요 감동도 그다지   \n",
       "60863                                                                     비슷한 내용이 여러 번 반복되어 다소 지루한 감이 있었다.   \n",
       "\n",
       "       Related Topic  Weight  \\\n",
       "0                  2  0.7779   \n",
       "1                  3  0.8300   \n",
       "2                  1  0.8775   \n",
       "3                  2  0.4709   \n",
       "4                  3  0.9003   \n",
       "...              ...     ...   \n",
       "60859              1  0.7445   \n",
       "60860              1  0.5316   \n",
       "60861              2  0.6666   \n",
       "60862              2  0.5993   \n",
       "60863              3  0.4897   \n",
       "\n",
       "                                         Each Topic Weights  \n",
       "0        [(0, 0.09903963), (1, 0.7779165), (2, 0.12304392)]  \n",
       "1       [(0, 0.08350324), (1, 0.08652841), (2, 0.82996833)]  \n",
       "2      [(0, 0.87745976), (1, 0.10276187), (2, 0.019778373)]  \n",
       "3        [(0, 0.12692937), (1, 0.47088233), (2, 0.4021883)]  \n",
       "4       [(0, 0.03108539), (1, 0.06866159), (2, 0.90025306)]  \n",
       "...                                                     ...  \n",
       "60859   [(0, 0.7444927), (1, 0.20111333), (2, 0.054394037)]  \n",
       "60860    [(0, 0.5316037), (1, 0.043949515), (2, 0.4244468)]  \n",
       "60861    [(0, 0.1667252), (1, 0.66655767), (2, 0.16671714)]  \n",
       "60862   [(0, 0.35889181), (1, 0.5992743), (2, 0.041833885)]  \n",
       "60863   [(0, 0.43228826), (1, 0.07805502), (2, 0.48965672)]  \n",
       "\n",
       "[60864 rows x 4 columns]"
      ]
     },
     "metadata": {},
     "output_type": "display_data"
    }
   ],
   "source": [
    "# 원래의견 기준 LDA\n",
    "save_name = SAVE_NAME_LDA.split('.')[0]+'_CommentAuto(1,3).xlsx'\n",
    "\n",
    "topic_kw_LDA, topic_doc_LDA, \\\n",
    "doc_topic_LDA, model_LDA = modeling_LDA(df_freq['Token_'+TOKENIZER], df_freq['Comment'],\n",
    "                                        num_topics=NUM_TOPICS, num_topicwords=NUM_TOPICWORDS, num_topicsamples=NUM_TOPICSAMPLES,\n",
    "                                        save_local=SAVE_LOCAL, save_name=save_name)\n",
    "display(topic_kw_LDA, topic_doc_LDA, doc_topic_LDA)"
   ]
  },
  {
   "cell_type": "code",
   "execution_count": null,
   "id": "79e6806c-16b8-4b23-bfa4-938b3ae13312",
   "metadata": {},
   "outputs": [],
   "source": [
    "# # 기초전처리의견 기준 LDA\n",
    "# save_name = SAVE_NAME_LDA.split('.')[0]+'_CommentPrepAuto(1,3).xlsx'\n",
    "\n",
    "# topic_kw_LDA, topic_doc_LDA, \\\n",
    "# doc_topic_LDA, model_LDA = modeling_LDA(df_freq['Token_'+TOKENIZER], df_freq['Comment_Prep'],\n",
    "#                                         num_topics=NUM_TOPICS, num_topicwords=NUM_TOPICWORDS, num_topicsamples=NUM_TOPICSAMPLES,\n",
    "#                                         save_local=SAVE_LOCAL, save_name=save_name)\n",
    "# display(topic_kw_LDA, topic_doc_LDA, doc_topic_LDA)"
   ]
  },
  {
   "cell_type": "code",
   "execution_count": 173,
   "id": "16532cc4-9d5c-4fca-a497-6af6828e7b99",
   "metadata": {
    "execution": {
     "iopub.execute_input": "2024-12-09T13:29:56.517674Z",
     "iopub.status.busy": "2024-12-09T13:29:56.517674Z",
     "iopub.status.idle": "2024-12-09T13:33:49.301646Z",
     "shell.execute_reply": "2024-12-09T13:33:49.301646Z",
     "shell.execute_reply.started": "2024-12-09T13:29:56.517674Z"
    },
    "scrolled": true
   },
   "outputs": [
    {
     "data": {
      "text/plain": [
       "(60864, 13)"
      ]
     },
     "metadata": {},
     "output_type": "display_data"
    },
    {
     "data": {
      "text/html": [
       "<div>\n",
       "<style scoped>\n",
       "    .dataframe tbody tr th:only-of-type {\n",
       "        vertical-align: middle;\n",
       "    }\n",
       "\n",
       "    .dataframe tbody tr th {\n",
       "        vertical-align: top;\n",
       "    }\n",
       "\n",
       "    .dataframe thead th {\n",
       "        text-align: right;\n",
       "    }\n",
       "</style>\n",
       "<table border=\"1\" class=\"dataframe\">\n",
       "  <thead>\n",
       "    <tr style=\"text-align: right;\">\n",
       "      <th></th>\n",
       "      <th>Related Keywords</th>\n",
       "      <th>Number of Sentences</th>\n",
       "      <th>Percentage</th>\n",
       "    </tr>\n",
       "  </thead>\n",
       "  <tbody>\n",
       "    <tr>\n",
       "      <th>Topic 1</th>\n",
       "      <td>'연기(21.5%)', '감동(21.5%)', '반전(8.2%)', '배우(8.2%)', '보고(7.6%)', '눈물(7.6%)', '하고(7.0%)', '서현진(7.0%)...</td>\n",
       "      <td>31169</td>\n",
       "      <td>0.5121</td>\n",
       "    </tr>\n",
       "    <tr>\n",
       "      <th>Topic 2</th>\n",
       "      <td>'사랑(20.8%)', '하는(13.1%)', '연기가(11.5%)', '가족(11.5%)', '치매(9.2%)', '있는(8.5%)', '하게(6.9%)', '알츠하이머(...</td>\n",
       "      <td>29695</td>\n",
       "      <td>0.4879</td>\n",
       "    </tr>\n",
       "  </tbody>\n",
       "</table>\n",
       "</div>"
      ],
      "text/plain": [
       "                                                                                            Related Keywords  \\\n",
       "Topic 1  '연기(21.5%)', '감동(21.5%)', '반전(8.2%)', '배우(8.2%)', '보고(7.6%)', '눈물(7.6%)', '하고(7.0%)', '서현진(7.0%)...   \n",
       "Topic 2  '사랑(20.8%)', '하는(13.1%)', '연기가(11.5%)', '가족(11.5%)', '치매(9.2%)', '있는(8.5%)', '하게(6.9%)', '알츠하이머(...   \n",
       "\n",
       "         Number of Sentences  Percentage  \n",
       "Topic 1                31169      0.5121  \n",
       "Topic 2                29695      0.4879  "
      ]
     },
     "metadata": {},
     "output_type": "display_data"
    },
    {
     "data": {
      "text/plain": [
       "(60864, 13)"
      ]
     },
     "metadata": {},
     "output_type": "display_data"
    },
    {
     "data": {
      "text/html": [
       "<div>\n",
       "<style scoped>\n",
       "    .dataframe tbody tr th:only-of-type {\n",
       "        vertical-align: middle;\n",
       "    }\n",
       "\n",
       "    .dataframe tbody tr th {\n",
       "        vertical-align: top;\n",
       "    }\n",
       "\n",
       "    .dataframe thead th {\n",
       "        text-align: right;\n",
       "    }\n",
       "</style>\n",
       "<table border=\"1\" class=\"dataframe\">\n",
       "  <thead>\n",
       "    <tr style=\"text-align: right;\">\n",
       "      <th></th>\n",
       "      <th>Related Keywords</th>\n",
       "      <th>Number of Sentences</th>\n",
       "      <th>Percentage</th>\n",
       "    </tr>\n",
       "  </thead>\n",
       "  <tbody>\n",
       "    <tr>\n",
       "      <th>Topic 1</th>\n",
       "      <td>'감동(26.2%)', '연기(17.6%)', '반전(10.2%)', '보고(8.0%)', '배우(7.5%)', '진짜(7.0%)', '눈물이(6.4%)', '최고(5.9%...</td>\n",
       "      <td>21808</td>\n",
       "      <td>0.3583</td>\n",
       "    </tr>\n",
       "    <tr>\n",
       "      <th>Topic 2</th>\n",
       "      <td>'연기(15.1%)', '연기가(14.5%)', '치매(10.5%)', '부모님(9.9%)', '눈물(9.9%)', '가족(9.2%)', '서현진(8.6%)', '좋은(8....</td>\n",
       "      <td>17464</td>\n",
       "      <td>0.2869</td>\n",
       "    </tr>\n",
       "    <tr>\n",
       "      <th>Topic 3</th>\n",
       "      <td>'사랑(31.0%)', '하는(12.6%)', '하고(8.6%)', '기억(8.6%)', '엄마(8.6%)', '있는(7.5%)', '마음(6.9%)', '가는(6.3%)'...</td>\n",
       "      <td>21592</td>\n",
       "      <td>0.3548</td>\n",
       "    </tr>\n",
       "  </tbody>\n",
       "</table>\n",
       "</div>"
      ],
      "text/plain": [
       "                                                                                            Related Keywords  \\\n",
       "Topic 1  '감동(26.2%)', '연기(17.6%)', '반전(10.2%)', '보고(8.0%)', '배우(7.5%)', '진짜(7.0%)', '눈물이(6.4%)', '최고(5.9%...   \n",
       "Topic 2  '연기(15.1%)', '연기가(14.5%)', '치매(10.5%)', '부모님(9.9%)', '눈물(9.9%)', '가족(9.2%)', '서현진(8.6%)', '좋은(8....   \n",
       "Topic 3  '사랑(31.0%)', '하는(12.6%)', '하고(8.6%)', '기억(8.6%)', '엄마(8.6%)', '있는(7.5%)', '마음(6.9%)', '가는(6.3%)'...   \n",
       "\n",
       "         Number of Sentences  Percentage  \n",
       "Topic 1                21808      0.3583  \n",
       "Topic 2                17464      0.2869  \n",
       "Topic 3                21592      0.3548  "
      ]
     },
     "metadata": {},
     "output_type": "display_data"
    },
    {
     "data": {
      "text/plain": [
       "(60864, 13)"
      ]
     },
     "metadata": {},
     "output_type": "display_data"
    },
    {
     "data": {
      "text/html": [
       "<div>\n",
       "<style scoped>\n",
       "    .dataframe tbody tr th:only-of-type {\n",
       "        vertical-align: middle;\n",
       "    }\n",
       "\n",
       "    .dataframe tbody tr th {\n",
       "        vertical-align: top;\n",
       "    }\n",
       "\n",
       "    .dataframe thead th {\n",
       "        text-align: right;\n",
       "    }\n",
       "</style>\n",
       "<table border=\"1\" class=\"dataframe\">\n",
       "  <thead>\n",
       "    <tr style=\"text-align: right;\">\n",
       "      <th></th>\n",
       "      <th>Related Keywords</th>\n",
       "      <th>Number of Sentences</th>\n",
       "      <th>Percentage</th>\n",
       "    </tr>\n",
       "  </thead>\n",
       "  <tbody>\n",
       "    <tr>\n",
       "      <th>Topic 1</th>\n",
       "      <td>'감동(25.8%)', '연기(20.3%)', '반전(10.1%)', '배우(7.8%)', '진짜(6.5%)', '최고(6.0%)', '서현진(6.0%)', '눈물이(6.0...</td>\n",
       "      <td>19227</td>\n",
       "      <td>0.3159</td>\n",
       "    </tr>\n",
       "    <tr>\n",
       "      <th>Topic 2</th>\n",
       "      <td>'연기(16.3%)', '눈물(13.6%)', '부모님(12.9%)', '연기가(12.2%)', '봤어요(9.5%)', '좋은(8.2%)', '서현진(6.8%)', '배우들...</td>\n",
       "      <td>12015</td>\n",
       "      <td>0.1974</td>\n",
       "    </tr>\n",
       "    <tr>\n",
       "      <th>Topic 3</th>\n",
       "      <td>'사랑(47.3%)', '하는(7.6%)', '봤습니다(7.6%)', '아름다운(6.0%)', '마음(6.0%)', '하고(5.4%)', '있는(5.4%)', '없다(5.4...</td>\n",
       "      <td>12398</td>\n",
       "      <td>0.2037</td>\n",
       "    </tr>\n",
       "    <tr>\n",
       "      <th>Topic 4</th>\n",
       "      <td>'가족(14.8%)', '하는(13.5%)', '엄마(12.9%)', '치매(10.3%)', '있는(9.7%)', '하고(9.0%)', '알츠하이머(8.4%)', '기억(7...</td>\n",
       "      <td>17224</td>\n",
       "      <td>0.2830</td>\n",
       "    </tr>\n",
       "  </tbody>\n",
       "</table>\n",
       "</div>"
      ],
      "text/plain": [
       "                                                                                            Related Keywords  \\\n",
       "Topic 1  '감동(25.8%)', '연기(20.3%)', '반전(10.1%)', '배우(7.8%)', '진짜(6.5%)', '최고(6.0%)', '서현진(6.0%)', '눈물이(6.0...   \n",
       "Topic 2  '연기(16.3%)', '눈물(13.6%)', '부모님(12.9%)', '연기가(12.2%)', '봤어요(9.5%)', '좋은(8.2%)', '서현진(6.8%)', '배우들...   \n",
       "Topic 3  '사랑(47.3%)', '하는(7.6%)', '봤습니다(7.6%)', '아름다운(6.0%)', '마음(6.0%)', '하고(5.4%)', '있는(5.4%)', '없다(5.4...   \n",
       "Topic 4  '가족(14.8%)', '하는(13.5%)', '엄마(12.9%)', '치매(10.3%)', '있는(9.7%)', '하고(9.0%)', '알츠하이머(8.4%)', '기억(7...   \n",
       "\n",
       "         Number of Sentences  Percentage  \n",
       "Topic 1                19227      0.3159  \n",
       "Topic 2                12015      0.1974  \n",
       "Topic 3                12398      0.2037  \n",
       "Topic 4                17224      0.2830  "
      ]
     },
     "metadata": {},
     "output_type": "display_data"
    },
    {
     "data": {
      "text/plain": [
       "(60864, 13)"
      ]
     },
     "metadata": {},
     "output_type": "display_data"
    },
    {
     "data": {
      "text/html": [
       "<div>\n",
       "<style scoped>\n",
       "    .dataframe tbody tr th:only-of-type {\n",
       "        vertical-align: middle;\n",
       "    }\n",
       "\n",
       "    .dataframe tbody tr th {\n",
       "        vertical-align: top;\n",
       "    }\n",
       "\n",
       "    .dataframe thead th {\n",
       "        text-align: right;\n",
       "    }\n",
       "</style>\n",
       "<table border=\"1\" class=\"dataframe\">\n",
       "  <thead>\n",
       "    <tr style=\"text-align: right;\">\n",
       "      <th></th>\n",
       "      <th>Related Keywords</th>\n",
       "      <th>Number of Sentences</th>\n",
       "      <th>Percentage</th>\n",
       "    </tr>\n",
       "  </thead>\n",
       "  <tbody>\n",
       "    <tr>\n",
       "      <th>Topic 1</th>\n",
       "      <td>'연기(25.3%)', '감동(23.3%)', '배우(9.4%)', '연기가(8.2%)', '눈물(6.1%)', '서현진(6.1%)', '진짜(5.7%)', '눈물이(5.7...</td>\n",
       "      <td>18267</td>\n",
       "      <td>0.3001</td>\n",
       "    </tr>\n",
       "    <tr>\n",
       "      <th>Topic 2</th>\n",
       "      <td>'눈물(16.7%)', '봤어요(13.0%)', '부모님(12.3%)', '치매(10.9%)', '영화네요(10.1%)', '감동적인(9.4%)', '뻔한(8.0%)', '...</td>\n",
       "      <td>8301</td>\n",
       "      <td>0.1364</td>\n",
       "    </tr>\n",
       "    <tr>\n",
       "      <th>Topic 3</th>\n",
       "      <td>'사랑(33.8%)', '하는(11.0%)', '반전(10.5%)', '엄마(9.5%)', '하고(7.6%)', '있는(6.7%)', '마음(6.2%)', '대한(5.2%)...</td>\n",
       "      <td>13433</td>\n",
       "      <td>0.2207</td>\n",
       "    </tr>\n",
       "    <tr>\n",
       "      <th>Topic 4</th>\n",
       "      <td>'가족(13.8%)', '하는(11.6%)', '알츠하이머(10.9%)', '있는(10.9%)', '치매(10.1%)', '생각(9.4%)', '기억(8.7%)', '하고(...</td>\n",
       "      <td>13543</td>\n",
       "      <td>0.2225</td>\n",
       "    </tr>\n",
       "    <tr>\n",
       "      <th>Topic 5</th>\n",
       "      <td>'봤습니다(27.7%)', '좋았습니다(13.9%)', '아름다운(9.2%)', '슬픈(8.1%)', '보고(7.5%)', '봐도(7.5%)', '사랑(6.9%)', '카시...</td>\n",
       "      <td>7320</td>\n",
       "      <td>0.1203</td>\n",
       "    </tr>\n",
       "  </tbody>\n",
       "</table>\n",
       "</div>"
      ],
      "text/plain": [
       "                                                                                            Related Keywords  \\\n",
       "Topic 1  '연기(25.3%)', '감동(23.3%)', '배우(9.4%)', '연기가(8.2%)', '눈물(6.1%)', '서현진(6.1%)', '진짜(5.7%)', '눈물이(5.7...   \n",
       "Topic 2  '눈물(16.7%)', '봤어요(13.0%)', '부모님(12.3%)', '치매(10.9%)', '영화네요(10.1%)', '감동적인(9.4%)', '뻔한(8.0%)', '...   \n",
       "Topic 3  '사랑(33.8%)', '하는(11.0%)', '반전(10.5%)', '엄마(9.5%)', '하고(7.6%)', '있는(6.7%)', '마음(6.2%)', '대한(5.2%)...   \n",
       "Topic 4  '가족(13.8%)', '하는(11.6%)', '알츠하이머(10.9%)', '있는(10.9%)', '치매(10.1%)', '생각(9.4%)', '기억(8.7%)', '하고(...   \n",
       "Topic 5  '봤습니다(27.7%)', '좋았습니다(13.9%)', '아름다운(9.2%)', '슬픈(8.1%)', '보고(7.5%)', '봐도(7.5%)', '사랑(6.9%)', '카시...   \n",
       "\n",
       "         Number of Sentences  Percentage  \n",
       "Topic 1                18267      0.3001  \n",
       "Topic 2                 8301      0.1364  \n",
       "Topic 3                13433      0.2207  \n",
       "Topic 4                13543      0.2225  \n",
       "Topic 5                 7320      0.1203  "
      ]
     },
     "metadata": {},
     "output_type": "display_data"
    },
    {
     "data": {
      "text/plain": [
       "(60864, 13)"
      ]
     },
     "metadata": {},
     "output_type": "display_data"
    },
    {
     "data": {
      "text/html": [
       "<div>\n",
       "<style scoped>\n",
       "    .dataframe tbody tr th:only-of-type {\n",
       "        vertical-align: middle;\n",
       "    }\n",
       "\n",
       "    .dataframe tbody tr th {\n",
       "        vertical-align: top;\n",
       "    }\n",
       "\n",
       "    .dataframe thead th {\n",
       "        text-align: right;\n",
       "    }\n",
       "</style>\n",
       "<table border=\"1\" class=\"dataframe\">\n",
       "  <thead>\n",
       "    <tr style=\"text-align: right;\">\n",
       "      <th></th>\n",
       "      <th>Related Keywords</th>\n",
       "      <th>Number of Sentences</th>\n",
       "      <th>Percentage</th>\n",
       "    </tr>\n",
       "  </thead>\n",
       "  <tbody>\n",
       "    <tr>\n",
       "      <th>Topic 1</th>\n",
       "      <td>'연기(27.8%)', '감동(22.4%)', '배우(10.4%)', '연기가(8.5%)', '서현진(6.2%)', '진짜(5.8%)', '스토리(5.0%)', '눈물이(4...</td>\n",
       "      <td>16283</td>\n",
       "      <td>0.2675</td>\n",
       "    </tr>\n",
       "    <tr>\n",
       "      <th>Topic 2</th>\n",
       "      <td>'눈물(17.6%)', '부모님(14.2%)', '반전(13.1%)', '봤어요(10.2%)', '생각(8.0%)', '가슴(8.0%)', '영화네요(7.4%)', '영화입...</td>\n",
       "      <td>9330</td>\n",
       "      <td>0.1533</td>\n",
       "    </tr>\n",
       "    <tr>\n",
       "      <th>Topic 3</th>\n",
       "      <td>'기억(18.4%)', '봤습니다(16.7%)', '사랑(16.1%)', '하는(9.2%)', '없다(8.0%)', '마음(7.5%)', '재미있게(7.5%)', '하고(5...</td>\n",
       "      <td>8594</td>\n",
       "      <td>0.1412</td>\n",
       "    </tr>\n",
       "    <tr>\n",
       "      <th>Topic 4</th>\n",
       "      <td>'가족(15.0%)', '치매(13.4%)', '엄마(12.8%)', '하는(12.3%)', '있는(9.1%)', '알츠하이머(8.6%)', '가는(7.5%)', '하고(7...</td>\n",
       "      <td>11926</td>\n",
       "      <td>0.1959</td>\n",
       "    </tr>\n",
       "    <tr>\n",
       "      <th>Topic 5</th>\n",
       "      <td>'좋았어요(18.0%)', '감동(12.6%)', '좋았습니다(11.2%)', '그냥(10.7%)', '최고(9.7%)', '좋아요(9.7%)', '좋은(8.7%)', '슬...</td>\n",
       "      <td>6460</td>\n",
       "      <td>0.1061</td>\n",
       "    </tr>\n",
       "    <tr>\n",
       "      <th>Topic 6</th>\n",
       "      <td>'사랑(46.5%)', '보고(8.0%)', '나도(7.5%)', '하고(6.1%)', '있을까(5.6%)', '하는(5.6%)', '펑펑(5.6%)', '나는(5.2%)'...</td>\n",
       "      <td>8271</td>\n",
       "      <td>0.1359</td>\n",
       "    </tr>\n",
       "  </tbody>\n",
       "</table>\n",
       "</div>"
      ],
      "text/plain": [
       "                                                                                            Related Keywords  \\\n",
       "Topic 1  '연기(27.8%)', '감동(22.4%)', '배우(10.4%)', '연기가(8.5%)', '서현진(6.2%)', '진짜(5.8%)', '스토리(5.0%)', '눈물이(4...   \n",
       "Topic 2  '눈물(17.6%)', '부모님(14.2%)', '반전(13.1%)', '봤어요(10.2%)', '생각(8.0%)', '가슴(8.0%)', '영화네요(7.4%)', '영화입...   \n",
       "Topic 3  '기억(18.4%)', '봤습니다(16.7%)', '사랑(16.1%)', '하는(9.2%)', '없다(8.0%)', '마음(7.5%)', '재미있게(7.5%)', '하고(5...   \n",
       "Topic 4  '가족(15.0%)', '치매(13.4%)', '엄마(12.8%)', '하는(12.3%)', '있는(9.1%)', '알츠하이머(8.6%)', '가는(7.5%)', '하고(7...   \n",
       "Topic 5  '좋았어요(18.0%)', '감동(12.6%)', '좋았습니다(11.2%)', '그냥(10.7%)', '최고(9.7%)', '좋아요(9.7%)', '좋은(8.7%)', '슬...   \n",
       "Topic 6  '사랑(46.5%)', '보고(8.0%)', '나도(7.5%)', '하고(6.1%)', '있을까(5.6%)', '하는(5.6%)', '펑펑(5.6%)', '나는(5.2%)'...   \n",
       "\n",
       "         Number of Sentences  Percentage  \n",
       "Topic 1                16283      0.2675  \n",
       "Topic 2                 9330      0.1533  \n",
       "Topic 3                 8594      0.1412  \n",
       "Topic 4                11926      0.1959  \n",
       "Topic 5                 6460      0.1061  \n",
       "Topic 6                 8271      0.1359  "
      ]
     },
     "metadata": {},
     "output_type": "display_data"
    },
    {
     "data": {
      "text/plain": [
       "(60864, 13)"
      ]
     },
     "metadata": {},
     "output_type": "display_data"
    },
    {
     "data": {
      "text/html": [
       "<div>\n",
       "<style scoped>\n",
       "    .dataframe tbody tr th:only-of-type {\n",
       "        vertical-align: middle;\n",
       "    }\n",
       "\n",
       "    .dataframe tbody tr th {\n",
       "        vertical-align: top;\n",
       "    }\n",
       "\n",
       "    .dataframe thead th {\n",
       "        text-align: right;\n",
       "    }\n",
       "</style>\n",
       "<table border=\"1\" class=\"dataframe\">\n",
       "  <thead>\n",
       "    <tr style=\"text-align: right;\">\n",
       "      <th></th>\n",
       "      <th>Related Keywords</th>\n",
       "      <th>Number of Sentences</th>\n",
       "      <th>Percentage</th>\n",
       "    </tr>\n",
       "  </thead>\n",
       "  <tbody>\n",
       "    <tr>\n",
       "      <th>Topic 1</th>\n",
       "      <td>'연기(30.0%)', '감동(17.2%)', '배우(11.2%)', '연기가(8.3%)', '서현진(6.6%)', '최고(6.6%)', '진짜(5.6%)', '반전이(5....</td>\n",
       "      <td>12339</td>\n",
       "      <td>0.2027</td>\n",
       "    </tr>\n",
       "    <tr>\n",
       "      <th>Topic 2</th>\n",
       "      <td>'반전(22.9%)', '눈물(15.4%)', '봤어요(12.1%)', '영화입니다(8.8%)', '감동적인(8.8%)', '연기가(8.8%)', '잔잔한(6.7%)', '...</td>\n",
       "      <td>5979</td>\n",
       "      <td>0.0982</td>\n",
       "    </tr>\n",
       "    <tr>\n",
       "      <th>Topic 3</th>\n",
       "      <td>'감동(11.8%)', '마음(11.8%)', '뻔한(11.8%)', '없다(11.1%)', '스토리(9.7%)', '그냥(9.7%)', '하는(9.7%)', '대한(9.0...</td>\n",
       "      <td>5551</td>\n",
       "      <td>0.0912</td>\n",
       "    </tr>\n",
       "    <tr>\n",
       "      <th>Topic 4</th>\n",
       "      <td>'하는(14.7%)', '가족(14.7%)', '치매(12.6%)', '기억(10.0%)', '있는(8.9%)', '알츠하이머(8.9%)', '하고(8.9%)', '가는(7...</td>\n",
       "      <td>14680</td>\n",
       "      <td>0.2412</td>\n",
       "    </tr>\n",
       "    <tr>\n",
       "      <th>Topic 5</th>\n",
       "      <td>'영화는(13.5%)', '감동(12.7%)', '반전(11.9%)', '봐도(9.5%)', '로맨스(9.5%)', '하고(9.5%)', '보기(8.7%)', '지루(8.7...</td>\n",
       "      <td>6170</td>\n",
       "      <td>0.1014</td>\n",
       "    </tr>\n",
       "    <tr>\n",
       "      <th>Topic 6</th>\n",
       "      <td>'사랑(51.4%)', '엄마(13.6%)', '나도(6.1%)', '있는(5.0%)', '하고(4.3%)', '아빠(4.3%)', '있을까(4.3%)', '아름다운(3.9...</td>\n",
       "      <td>6968</td>\n",
       "      <td>0.1145</td>\n",
       "    </tr>\n",
       "    <tr>\n",
       "      <th>Topic 7</th>\n",
       "      <td>'부모님(14.7%)', '봤습니다(13.3%)', '감동(12.4%)', '보고(11.6%)', '좋았어요(11.1%)', '눈물(8.0%)', '펑펑(8.0%)', '보...</td>\n",
       "      <td>9177</td>\n",
       "      <td>0.1508</td>\n",
       "    </tr>\n",
       "  </tbody>\n",
       "</table>\n",
       "</div>"
      ],
      "text/plain": [
       "                                                                                            Related Keywords  \\\n",
       "Topic 1  '연기(30.0%)', '감동(17.2%)', '배우(11.2%)', '연기가(8.3%)', '서현진(6.6%)', '최고(6.6%)', '진짜(5.6%)', '반전이(5....   \n",
       "Topic 2  '반전(22.9%)', '눈물(15.4%)', '봤어요(12.1%)', '영화입니다(8.8%)', '감동적인(8.8%)', '연기가(8.8%)', '잔잔한(6.7%)', '...   \n",
       "Topic 3  '감동(11.8%)', '마음(11.8%)', '뻔한(11.8%)', '없다(11.1%)', '스토리(9.7%)', '그냥(9.7%)', '하는(9.7%)', '대한(9.0...   \n",
       "Topic 4  '하는(14.7%)', '가족(14.7%)', '치매(12.6%)', '기억(10.0%)', '있는(8.9%)', '알츠하이머(8.9%)', '하고(8.9%)', '가는(7...   \n",
       "Topic 5  '영화는(13.5%)', '감동(12.7%)', '반전(11.9%)', '봐도(9.5%)', '로맨스(9.5%)', '하고(9.5%)', '보기(8.7%)', '지루(8.7...   \n",
       "Topic 6  '사랑(51.4%)', '엄마(13.6%)', '나도(6.1%)', '있는(5.0%)', '하고(4.3%)', '아빠(4.3%)', '있을까(4.3%)', '아름다운(3.9...   \n",
       "Topic 7  '부모님(14.7%)', '봤습니다(13.3%)', '감동(12.4%)', '보고(11.6%)', '좋았어요(11.1%)', '눈물(8.0%)', '펑펑(8.0%)', '보...   \n",
       "\n",
       "         Number of Sentences  Percentage  \n",
       "Topic 1                12339      0.2027  \n",
       "Topic 2                 5979      0.0982  \n",
       "Topic 3                 5551      0.0912  \n",
       "Topic 4                14680      0.2412  \n",
       "Topic 5                 6170      0.1014  \n",
       "Topic 6                 6968      0.1145  \n",
       "Topic 7                 9177      0.1508  "
      ]
     },
     "metadata": {},
     "output_type": "display_data"
    },
    {
     "data": {
      "text/plain": [
       "(60864, 13)"
      ]
     },
     "metadata": {},
     "output_type": "display_data"
    },
    {
     "data": {
      "text/html": [
       "<div>\n",
       "<style scoped>\n",
       "    .dataframe tbody tr th:only-of-type {\n",
       "        vertical-align: middle;\n",
       "    }\n",
       "\n",
       "    .dataframe tbody tr th {\n",
       "        vertical-align: top;\n",
       "    }\n",
       "\n",
       "    .dataframe thead th {\n",
       "        text-align: right;\n",
       "    }\n",
       "</style>\n",
       "<table border=\"1\" class=\"dataframe\">\n",
       "  <thead>\n",
       "    <tr style=\"text-align: right;\">\n",
       "      <th></th>\n",
       "      <th>Related Keywords</th>\n",
       "      <th>Number of Sentences</th>\n",
       "      <th>Percentage</th>\n",
       "    </tr>\n",
       "  </thead>\n",
       "  <tbody>\n",
       "    <tr>\n",
       "      <th>Topic 1</th>\n",
       "      <td>'감동(25.9%)', '연기(25.0%)', '연기가(9.8%)', '배우(8.5%)', '좋았어요(5.7%)', '서현진(5.4%)', '최고(5.4%)', '반전이(4...</td>\n",
       "      <td>11066</td>\n",
       "      <td>0.1818</td>\n",
       "    </tr>\n",
       "    <tr>\n",
       "      <th>Topic 2</th>\n",
       "      <td>'반전(24.7%)', '연기(12.5%)', '알츠하이머(11.0%)', '봤어요(10.3%)', '눈물(8.4%)', '치매(7.2%)', '역시(6.8%)', '스토리...</td>\n",
       "      <td>6171</td>\n",
       "      <td>0.1014</td>\n",
       "    </tr>\n",
       "    <tr>\n",
       "      <th>Topic 3</th>\n",
       "      <td>'사랑(18.7%)', '기억(15.4%)', '하는(12.0%)', '가족(11.1%)', '가는(8.2%)', '가족이(8.2%)', '대한(7.7%)', '마음(6.7...</td>\n",
       "      <td>8646</td>\n",
       "      <td>0.1421</td>\n",
       "    </tr>\n",
       "    <tr>\n",
       "      <th>Topic 4</th>\n",
       "      <td>'엄마(15.3%)', '치매(12.2%)', '가족(11.6%)', '하는(11.6%)', '현실(9.5%)', '매일(9.0%)', '하고(9.0%)', '기억을(7.9...</td>\n",
       "      <td>8120</td>\n",
       "      <td>0.1334</td>\n",
       "    </tr>\n",
       "    <tr>\n",
       "      <th>Topic 5</th>\n",
       "      <td>'슬픈(17.1%)', '그냥(16.0%)', '봐도(10.3%)', '로맨스(9.1%)', '보세요(9.1%)', '하다(8.6%)', '봐야(8.0%)', '영화였습니다...</td>\n",
       "      <td>4736</td>\n",
       "      <td>0.0778</td>\n",
       "    </tr>\n",
       "    <tr>\n",
       "      <th>Topic 6</th>\n",
       "      <td>'사랑(34.5%)', '많이(11.4%)', '영화입니다(8.3%)', '펑펑(7.6%)', '눈물이(6.8%)', '엄마(6.8%)', '진짜(6.4%)', '눈물(6....</td>\n",
       "      <td>6285</td>\n",
       "      <td>0.1033</td>\n",
       "    </tr>\n",
       "    <tr>\n",
       "      <th>Topic 7</th>\n",
       "      <td>'부모님(18.3%)', '봤습니다(17.0%)', '보고(14.5%)', '좋은(8.3%)', '영화네요(7.9%)', '가슴이(7.1%)', '오랜만에(7.1%)', '...</td>\n",
       "      <td>7133</td>\n",
       "      <td>0.1172</td>\n",
       "    </tr>\n",
       "    <tr>\n",
       "      <th>Topic 8</th>\n",
       "      <td>'있는(26.9%)', '하고(10.9%)', '사랑(10.3%)', '하는(10.3%)', '이야기(10.3%)', '가슴(7.7%)', '내가(7.7%)', '있고(5....</td>\n",
       "      <td>8707</td>\n",
       "      <td>0.1431</td>\n",
       "    </tr>\n",
       "  </tbody>\n",
       "</table>\n",
       "</div>"
      ],
      "text/plain": [
       "                                                                                            Related Keywords  \\\n",
       "Topic 1  '감동(25.9%)', '연기(25.0%)', '연기가(9.8%)', '배우(8.5%)', '좋았어요(5.7%)', '서현진(5.4%)', '최고(5.4%)', '반전이(4...   \n",
       "Topic 2  '반전(24.7%)', '연기(12.5%)', '알츠하이머(11.0%)', '봤어요(10.3%)', '눈물(8.4%)', '치매(7.2%)', '역시(6.8%)', '스토리...   \n",
       "Topic 3  '사랑(18.7%)', '기억(15.4%)', '하는(12.0%)', '가족(11.1%)', '가는(8.2%)', '가족이(8.2%)', '대한(7.7%)', '마음(6.7...   \n",
       "Topic 4  '엄마(15.3%)', '치매(12.2%)', '가족(11.6%)', '하는(11.6%)', '현실(9.5%)', '매일(9.0%)', '하고(9.0%)', '기억을(7.9...   \n",
       "Topic 5  '슬픈(17.1%)', '그냥(16.0%)', '봐도(10.3%)', '로맨스(9.1%)', '보세요(9.1%)', '하다(8.6%)', '봐야(8.0%)', '영화였습니다...   \n",
       "Topic 6  '사랑(34.5%)', '많이(11.4%)', '영화입니다(8.3%)', '펑펑(7.6%)', '눈물이(6.8%)', '엄마(6.8%)', '진짜(6.4%)', '눈물(6....   \n",
       "Topic 7  '부모님(18.3%)', '봤습니다(17.0%)', '보고(14.5%)', '좋은(8.3%)', '영화네요(7.9%)', '가슴이(7.1%)', '오랜만에(7.1%)', '...   \n",
       "Topic 8  '있는(26.9%)', '하고(10.9%)', '사랑(10.3%)', '하는(10.3%)', '이야기(10.3%)', '가슴(7.7%)', '내가(7.7%)', '있고(5....   \n",
       "\n",
       "         Number of Sentences  Percentage  \n",
       "Topic 1                11066      0.1818  \n",
       "Topic 2                 6171      0.1014  \n",
       "Topic 3                 8646      0.1421  \n",
       "Topic 4                 8120      0.1334  \n",
       "Topic 5                 4736      0.0778  \n",
       "Topic 6                 6285      0.1033  \n",
       "Topic 7                 7133      0.1172  \n",
       "Topic 8                 8707      0.1431  "
      ]
     },
     "metadata": {},
     "output_type": "display_data"
    },
    {
     "data": {
      "text/plain": [
       "(60864, 13)"
      ]
     },
     "metadata": {},
     "output_type": "display_data"
    },
    {
     "data": {
      "text/html": [
       "<div>\n",
       "<style scoped>\n",
       "    .dataframe tbody tr th:only-of-type {\n",
       "        vertical-align: middle;\n",
       "    }\n",
       "\n",
       "    .dataframe tbody tr th {\n",
       "        vertical-align: top;\n",
       "    }\n",
       "\n",
       "    .dataframe thead th {\n",
       "        text-align: right;\n",
       "    }\n",
       "</style>\n",
       "<table border=\"1\" class=\"dataframe\">\n",
       "  <thead>\n",
       "    <tr style=\"text-align: right;\">\n",
       "      <th></th>\n",
       "      <th>Related Keywords</th>\n",
       "      <th>Number of Sentences</th>\n",
       "      <th>Percentage</th>\n",
       "    </tr>\n",
       "  </thead>\n",
       "  <tbody>\n",
       "    <tr>\n",
       "      <th>Topic 1</th>\n",
       "      <td>'눈물(14.9%)', '진짜(13.2%)', '감동(13.2%)', '최고(12.8%)', '눈물이(10.3%)', '마지막(9.5%)', '펑펑(8.7%)', '보면(6...</td>\n",
       "      <td>8015</td>\n",
       "      <td>0.1317</td>\n",
       "    </tr>\n",
       "    <tr>\n",
       "      <th>Topic 2</th>\n",
       "      <td>'연기(35.2%)', '배우(13.1%)', '연기가(11.0%)', '서현진(9.9%)', '배우들의(7.0%)', '스토리(5.5%)', '눈물(5.2%)', '배우의...</td>\n",
       "      <td>6680</td>\n",
       "      <td>0.1098</td>\n",
       "    </tr>\n",
       "    <tr>\n",
       "      <th>Topic 3</th>\n",
       "      <td>'기억(18.4%)', '사랑(15.0%)', '하는(10.1%)', '대한(9.7%)', '마음(9.2%)', '없다(8.2%)', '인생(8.2%)', '나를(7.7%)...</td>\n",
       "      <td>5664</td>\n",
       "      <td>0.0931</td>\n",
       "    </tr>\n",
       "    <tr>\n",
       "      <th>Topic 4</th>\n",
       "      <td>'치매(18.0%)', '가족(14.0%)', '알츠하이머(10.5%)', '현실(9.5%)', '하는(9.5%)', '가는(9.0%)', '매일(8.0%)', '있는(7....</td>\n",
       "      <td>8501</td>\n",
       "      <td>0.1397</td>\n",
       "    </tr>\n",
       "    <tr>\n",
       "      <th>Topic 5</th>\n",
       "      <td>'반전(35.7%)', '슬픈(9.4%)', '영화는(9.1%)', '그냥(8.4%)', '슬프고(7.7%)', '봐도(6.3%)', '감동(6.3%)', '봤는데(6.3%...</td>\n",
       "      <td>5212</td>\n",
       "      <td>0.0856</td>\n",
       "    </tr>\n",
       "    <tr>\n",
       "      <th>Topic 6</th>\n",
       "      <td>'엄마(21.9%)', '반전이(14.5%)', '사랑(13.6%)', '아버지(10.3%)', '하는(8.7%)', '시를(7.4%)', '나도(6.2%)', '아빠(6....</td>\n",
       "      <td>5791</td>\n",
       "      <td>0.0951</td>\n",
       "    </tr>\n",
       "    <tr>\n",
       "      <th>Topic 7</th>\n",
       "      <td>'부모님(17.2%)', '봤습니다(16.9%)', '좋았어요(13.6%)', '봤어요(10.9%)', '좋았습니다(8.3%)', '영화네요(7.3%)', '배우들(7.3%...</td>\n",
       "      <td>5379</td>\n",
       "      <td>0.0884</td>\n",
       "    </tr>\n",
       "    <tr>\n",
       "      <th>Topic 8</th>\n",
       "      <td>'있는(15.6%)', '보는(12.9%)', '생각(10.2%)', '하고(9.7%)', '가족(9.1%)', '사랑(9.1%)', '하는(8.6%)', '재미(8.6%)...</td>\n",
       "      <td>9132</td>\n",
       "      <td>0.1500</td>\n",
       "    </tr>\n",
       "    <tr>\n",
       "      <th>Topic 9</th>\n",
       "      <td>'감동(41.5%)', '사랑(25.4%)', '있는(6.7%)', '잔잔한(5.6%)', '아름다운(4.7%)', '앨리스(4.4%)', '감독(3.2%)', '작품(2....</td>\n",
       "      <td>6490</td>\n",
       "      <td>0.1066</td>\n",
       "    </tr>\n",
       "  </tbody>\n",
       "</table>\n",
       "</div>"
      ],
      "text/plain": [
       "                                                                                            Related Keywords  \\\n",
       "Topic 1  '눈물(14.9%)', '진짜(13.2%)', '감동(13.2%)', '최고(12.8%)', '눈물이(10.3%)', '마지막(9.5%)', '펑펑(8.7%)', '보면(6...   \n",
       "Topic 2  '연기(35.2%)', '배우(13.1%)', '연기가(11.0%)', '서현진(9.9%)', '배우들의(7.0%)', '스토리(5.5%)', '눈물(5.2%)', '배우의...   \n",
       "Topic 3  '기억(18.4%)', '사랑(15.0%)', '하는(10.1%)', '대한(9.7%)', '마음(9.2%)', '없다(8.2%)', '인생(8.2%)', '나를(7.7%)...   \n",
       "Topic 4  '치매(18.0%)', '가족(14.0%)', '알츠하이머(10.5%)', '현실(9.5%)', '하는(9.5%)', '가는(9.0%)', '매일(8.0%)', '있는(7....   \n",
       "Topic 5  '반전(35.7%)', '슬픈(9.4%)', '영화는(9.1%)', '그냥(8.4%)', '슬프고(7.7%)', '봐도(6.3%)', '감동(6.3%)', '봤는데(6.3%...   \n",
       "Topic 6  '엄마(21.9%)', '반전이(14.5%)', '사랑(13.6%)', '아버지(10.3%)', '하는(8.7%)', '시를(7.4%)', '나도(6.2%)', '아빠(6....   \n",
       "Topic 7  '부모님(17.2%)', '봤습니다(16.9%)', '좋았어요(13.6%)', '봤어요(10.9%)', '좋았습니다(8.3%)', '영화네요(7.3%)', '배우들(7.3%...   \n",
       "Topic 8  '있는(15.6%)', '보는(12.9%)', '생각(10.2%)', '하고(9.7%)', '가족(9.1%)', '사랑(9.1%)', '하는(8.6%)', '재미(8.6%)...   \n",
       "Topic 9  '감동(41.5%)', '사랑(25.4%)', '있는(6.7%)', '잔잔한(5.6%)', '아름다운(4.7%)', '앨리스(4.4%)', '감독(3.2%)', '작품(2....   \n",
       "\n",
       "         Number of Sentences  Percentage  \n",
       "Topic 1                 8015      0.1317  \n",
       "Topic 2                 6680      0.1098  \n",
       "Topic 3                 5664      0.0931  \n",
       "Topic 4                 8501      0.1397  \n",
       "Topic 5                 5212      0.0856  \n",
       "Topic 6                 5791      0.0951  \n",
       "Topic 7                 5379      0.0884  \n",
       "Topic 8                 9132      0.1500  \n",
       "Topic 9                 6490      0.1066  "
      ]
     },
     "metadata": {},
     "output_type": "display_data"
    },
    {
     "data": {
      "text/plain": [
       "(60864, 13)"
      ]
     },
     "metadata": {},
     "output_type": "display_data"
    },
    {
     "data": {
      "text/html": [
       "<div>\n",
       "<style scoped>\n",
       "    .dataframe tbody tr th:only-of-type {\n",
       "        vertical-align: middle;\n",
       "    }\n",
       "\n",
       "    .dataframe tbody tr th {\n",
       "        vertical-align: top;\n",
       "    }\n",
       "\n",
       "    .dataframe thead th {\n",
       "        text-align: right;\n",
       "    }\n",
       "</style>\n",
       "<table border=\"1\" class=\"dataframe\">\n",
       "  <thead>\n",
       "    <tr style=\"text-align: right;\">\n",
       "      <th></th>\n",
       "      <th>Related Keywords</th>\n",
       "      <th>Number of Sentences</th>\n",
       "      <th>Percentage</th>\n",
       "    </tr>\n",
       "  </thead>\n",
       "  <tbody>\n",
       "    <tr>\n",
       "      <th>Topic 1</th>\n",
       "      <td>'연기(32.0%)', '눈물이(13.2%)', '최고(12.9%)', '배우(12.6%)', '서현진(7.1%)', '감동(4.9%)', '진짜(4.9%)', '입니다(4...</td>\n",
       "      <td>6520</td>\n",
       "      <td>0.1071</td>\n",
       "    </tr>\n",
       "    <tr>\n",
       "      <th>Topic 2</th>\n",
       "      <td>'연기가(20.0%)', '연기(19.4%)', '치매(11.7%)', '서현진(8.6%)', '배우들의(8.3%)', '배우(7.1%)', '알츠하이머(6.9%)', '배...</td>\n",
       "      <td>5679</td>\n",
       "      <td>0.0933</td>\n",
       "    </tr>\n",
       "    <tr>\n",
       "      <th>Topic 3</th>\n",
       "      <td>'하는(16.4%)', '기억(14.8%)', '시를(10.1%)', '사랑(9.0%)', '마음(9.0%)', '하고(8.5%)', '그냥(8.5%)', '나를(7.9%)...</td>\n",
       "      <td>6393</td>\n",
       "      <td>0.1050</td>\n",
       "    </tr>\n",
       "    <tr>\n",
       "      <th>Topic 4</th>\n",
       "      <td>'가는(16.1%)', '하는(11.7%)', '매일(10.6%)', '기억(10.0%)', '가족의(9.4%)', '기억을(8.9%)', '현실(8.9%)', '가족(8....</td>\n",
       "      <td>7242</td>\n",
       "      <td>0.1190</td>\n",
       "    </tr>\n",
       "    <tr>\n",
       "      <th>Topic 5</th>\n",
       "      <td>'반전(40.2%)', '좋은(8.1%)', '보기(8.1%)', '영화는(7.8%)', '슬픈(7.8%)', '봐도(6.8%)', '부모님(6.4%)', '다시(5.7%)...</td>\n",
       "      <td>4023</td>\n",
       "      <td>0.0661</td>\n",
       "    </tr>\n",
       "    <tr>\n",
       "      <th>Topic 6</th>\n",
       "      <td>'봤어요(20.9%)', '없는(18.6%)', '펑펑(13.0%)', '슬픔(11.5%)', '보고(8.7%)', '말이(6.7%)', '밖에(5.9%)', '기분(5.1...</td>\n",
       "      <td>3988</td>\n",
       "      <td>0.0655</td>\n",
       "    </tr>\n",
       "    <tr>\n",
       "      <th>Topic 7</th>\n",
       "      <td>'봤습니다(20.5%)', '좋았어요(16.2%)', '부모님(14.3%)', '아버지(10.7%)', '역시(8.8%)', '재미있게(7.1%)', '재밌게(6.8%)',...</td>\n",
       "      <td>4236</td>\n",
       "      <td>0.0696</td>\n",
       "    </tr>\n",
       "    <tr>\n",
       "      <th>Topic 8</th>\n",
       "      <td>'있는(15.2%)', '엄마(14.8%)', '사랑(14.0%)', '생각(11.5%)', '가족(9.9%)', '하고(9.1%)', '하는(8.2%)', '다시(6.6%...</td>\n",
       "      <td>9058</td>\n",
       "      <td>0.1488</td>\n",
       "    </tr>\n",
       "    <tr>\n",
       "      <th>Topic 9</th>\n",
       "      <td>'감동(36.4%)', '사랑(24.3%)', '아름다운(5.9%)', '연기(5.9%)', '있는(5.3%)', '잔잔한(5.1%)', '뻔한(4.8%)', '스토리(4....</td>\n",
       "      <td>6161</td>\n",
       "      <td>0.1012</td>\n",
       "    </tr>\n",
       "    <tr>\n",
       "      <th>Topic 10</th>\n",
       "      <td>'눈물(29.4%)', '감동(11.8%)', '진짜(11.4%)', '많이(8.8%)', '영화입니다(7.9%)', '좋아요(6.6%)', '영화네요(6.6%)', '봤는...</td>\n",
       "      <td>7564</td>\n",
       "      <td>0.1243</td>\n",
       "    </tr>\n",
       "  </tbody>\n",
       "</table>\n",
       "</div>"
      ],
      "text/plain": [
       "                                                                                             Related Keywords  \\\n",
       "Topic 1   '연기(32.0%)', '눈물이(13.2%)', '최고(12.9%)', '배우(12.6%)', '서현진(7.1%)', '감동(4.9%)', '진짜(4.9%)', '입니다(4...   \n",
       "Topic 2   '연기가(20.0%)', '연기(19.4%)', '치매(11.7%)', '서현진(8.6%)', '배우들의(8.3%)', '배우(7.1%)', '알츠하이머(6.9%)', '배...   \n",
       "Topic 3   '하는(16.4%)', '기억(14.8%)', '시를(10.1%)', '사랑(9.0%)', '마음(9.0%)', '하고(8.5%)', '그냥(8.5%)', '나를(7.9%)...   \n",
       "Topic 4   '가는(16.1%)', '하는(11.7%)', '매일(10.6%)', '기억(10.0%)', '가족의(9.4%)', '기억을(8.9%)', '현실(8.9%)', '가족(8....   \n",
       "Topic 5   '반전(40.2%)', '좋은(8.1%)', '보기(8.1%)', '영화는(7.8%)', '슬픈(7.8%)', '봐도(6.8%)', '부모님(6.4%)', '다시(5.7%)...   \n",
       "Topic 6   '봤어요(20.9%)', '없는(18.6%)', '펑펑(13.0%)', '슬픔(11.5%)', '보고(8.7%)', '말이(6.7%)', '밖에(5.9%)', '기분(5.1...   \n",
       "Topic 7   '봤습니다(20.5%)', '좋았어요(16.2%)', '부모님(14.3%)', '아버지(10.7%)', '역시(8.8%)', '재미있게(7.1%)', '재밌게(6.8%)',...   \n",
       "Topic 8   '있는(15.2%)', '엄마(14.8%)', '사랑(14.0%)', '생각(11.5%)', '가족(9.9%)', '하고(9.1%)', '하는(8.2%)', '다시(6.6%...   \n",
       "Topic 9   '감동(36.4%)', '사랑(24.3%)', '아름다운(5.9%)', '연기(5.9%)', '있는(5.3%)', '잔잔한(5.1%)', '뻔한(4.8%)', '스토리(4....   \n",
       "Topic 10  '눈물(29.4%)', '감동(11.8%)', '진짜(11.4%)', '많이(8.8%)', '영화입니다(7.9%)', '좋아요(6.6%)', '영화네요(6.6%)', '봤는...   \n",
       "\n",
       "          Number of Sentences  Percentage  \n",
       "Topic 1                  6520      0.1071  \n",
       "Topic 2                  5679      0.0933  \n",
       "Topic 3                  6393      0.1050  \n",
       "Topic 4                  7242      0.1190  \n",
       "Topic 5                  4023      0.0661  \n",
       "Topic 6                  3988      0.0655  \n",
       "Topic 7                  4236      0.0696  \n",
       "Topic 8                  9058      0.1488  \n",
       "Topic 9                  6161      0.1012  \n",
       "Topic 10                 7564      0.1243  "
      ]
     },
     "metadata": {},
     "output_type": "display_data"
    }
   ],
   "source": [
    "# 원래의견 기준 LDA 반복\n",
    "for i in range(2,11):\n",
    "    save_name = SAVE_NAME_LDA.split('.')[0]+'_CommentPrepAuto(1,3)_Topic{}.xlsx'.format(i)\n",
    "\n",
    "    topic_kw_LDA, topic_doc_LDA, \\\n",
    "    doc_topic_LDA, model_LDA = modeling_LDA(df_freq['Token_'+TOKENIZER], df_freq['Comment_Prep'],\n",
    "                                            num_topics=i, num_topicwords=NUM_TOPICWORDS, num_topicsamples=NUM_TOPICSAMPLES,\n",
    "                                            save_local=SAVE_LOCAL, save_name=save_name)\n",
    "    display(topic_kw_LDA)"
   ]
  },
  {
   "cell_type": "code",
   "execution_count": null,
   "id": "729c4fdb-6c00-4fa3-a02d-1dc322ad1be2",
   "metadata": {},
   "outputs": [],
   "source": [
    "# 원래의견 기준 LDA 최종\n",
    "NUM_TOPIC = ??\n",
    "save_name = SAVE_NAME_LDA.split('.')[0]+'_CommentPrepAuto(1,3)_Topic{}.xlsx'.format(NUM_TOPIC)\n",
    "\n",
    "topic_kw_LDA, topic_doc_LDA, \\\n",
    "doc_topic_LDA, model_LDA = modeling_LDA(df_freq['Token_'+TOKENIZER], df_freq['Comment_Prep'],\n",
    "                                        num_topics=NUM_TOPIC, num_topicwords=NUM_TOPICWORDS, num_topicsamples=NUM_TOPICSAMPLES,\n",
    "                                        save_local=SAVE_LOCAL, save_name=save_name)\n",
    "display(topic_kw_LDA, topic_doc_LDA, doc_topic_LDA)"
   ]
  },
  {
   "cell_type": "code",
   "execution_count": 115,
   "id": "5a1f5466",
   "metadata": {
    "ExecuteTime": {
     "end_time": "2024-12-03T13:45:33.359536Z",
     "start_time": "2024-12-03T13:45:27.838755Z"
    },
    "execution": {
     "iopub.execute_input": "2024-12-09T11:02:07.833187Z",
     "iopub.status.busy": "2024-12-09T11:02:07.833187Z",
     "iopub.status.idle": "2024-12-09T11:02:12.455742Z",
     "shell.execute_reply": "2024-12-09T11:02:12.455742Z",
     "shell.execute_reply.started": "2024-12-09T11:02:07.833187Z"
    }
   },
   "outputs": [
    {
     "data": {
      "text/html": [
       "<style type=\"text/css\">\n",
       "#T_e4e40_row0_col9, #T_e4e40_row1_col2, #T_e4e40_row2_col2, #T_e4e40_row3_col5, #T_e4e40_row4_col2, #T_e4e40_row5_col2, #T_e4e40_row6_col2, #T_e4e40_row7_col2, #T_e4e40_row8_col2, #T_e4e40_row9_col2, #T_e4e40_row10_col5, #T_e4e40_row11_col2, #T_e4e40_row12_col2, #T_e4e40_row13_col2, #T_e4e40_row14_col5, #T_e4e40_row15_col2, #T_e4e40_row16_col2, #T_e4e40_row17_col2, #T_e4e40_row18_col2, #T_e4e40_row19_col2, #T_e4e40_row20_col2, #T_e4e40_row21_col2, #T_e4e40_row22_col2, #T_e4e40_row23_col7, #T_e4e40_row24_col2, #T_e4e40_row25_col2, #T_e4e40_row26_col7, #T_e4e40_row27_col2, #T_e4e40_row28_col2, #T_e4e40_row29_col2, #T_e4e40_row30_col7, #T_e4e40_row31_col2 {\n",
       "  background-color: yellow;\n",
       "}\n",
       "</style>\n",
       "<table id=\"T_e4e40\">\n",
       "  <thead>\n",
       "    <tr>\n",
       "      <th class=\"blank level0\" >&nbsp;</th>\n",
       "      <th id=\"T_e4e40_level0_col0\" class=\"col_heading level0 col0\" >Topic1</th>\n",
       "      <th id=\"T_e4e40_level0_col1\" class=\"col_heading level0 col1\" >Topic2</th>\n",
       "      <th id=\"T_e4e40_level0_col2\" class=\"col_heading level0 col2\" >Topic3</th>\n",
       "      <th id=\"T_e4e40_level0_col3\" class=\"col_heading level0 col3\" >Topic4</th>\n",
       "      <th id=\"T_e4e40_level0_col4\" class=\"col_heading level0 col4\" >Topic5</th>\n",
       "      <th id=\"T_e4e40_level0_col5\" class=\"col_heading level0 col5\" >Topic6</th>\n",
       "      <th id=\"T_e4e40_level0_col6\" class=\"col_heading level0 col6\" >Topic7</th>\n",
       "      <th id=\"T_e4e40_level0_col7\" class=\"col_heading level0 col7\" >Topic8</th>\n",
       "      <th id=\"T_e4e40_level0_col8\" class=\"col_heading level0 col8\" >Topic9</th>\n",
       "      <th id=\"T_e4e40_level0_col9\" class=\"col_heading level0 col9\" >Topic10</th>\n",
       "    </tr>\n",
       "    <tr>\n",
       "      <th class=\"index_name level0\" >Movie</th>\n",
       "      <th class=\"blank col0\" >&nbsp;</th>\n",
       "      <th class=\"blank col1\" >&nbsp;</th>\n",
       "      <th class=\"blank col2\" >&nbsp;</th>\n",
       "      <th class=\"blank col3\" >&nbsp;</th>\n",
       "      <th class=\"blank col4\" >&nbsp;</th>\n",
       "      <th class=\"blank col5\" >&nbsp;</th>\n",
       "      <th class=\"blank col6\" >&nbsp;</th>\n",
       "      <th class=\"blank col7\" >&nbsp;</th>\n",
       "      <th class=\"blank col8\" >&nbsp;</th>\n",
       "      <th class=\"blank col9\" >&nbsp;</th>\n",
       "    </tr>\n",
       "  </thead>\n",
       "  <tbody>\n",
       "    <tr>\n",
       "      <th id=\"T_e4e40_level0_row0\" class=\"row_heading level0 row0\" >그대 어이가리</th>\n",
       "      <td id=\"T_e4e40_row0_col0\" class=\"data row0 col0\" >0.089465</td>\n",
       "      <td id=\"T_e4e40_row0_col1\" class=\"data row0 col1\" >0.053512</td>\n",
       "      <td id=\"T_e4e40_row0_col2\" class=\"data row0 col2\" >0.168060</td>\n",
       "      <td id=\"T_e4e40_row0_col3\" class=\"data row0 col3\" >0.065217</td>\n",
       "      <td id=\"T_e4e40_row0_col4\" class=\"data row0 col4\" >0.093645</td>\n",
       "      <td id=\"T_e4e40_row0_col5\" class=\"data row0 col5\" >0.122910</td>\n",
       "      <td id=\"T_e4e40_row0_col6\" class=\"data row0 col6\" >0.079431</td>\n",
       "      <td id=\"T_e4e40_row0_col7\" class=\"data row0 col7\" >0.053512</td>\n",
       "      <td id=\"T_e4e40_row0_col8\" class=\"data row0 col8\" >0.098662</td>\n",
       "      <td id=\"T_e4e40_row0_col9\" class=\"data row0 col9\" >0.175585</td>\n",
       "    </tr>\n",
       "    <tr>\n",
       "      <th id=\"T_e4e40_level0_row1\" class=\"row_heading level0 row1\" >그대를 사랑합니다</th>\n",
       "      <td id=\"T_e4e40_row1_col0\" class=\"data row1 col0\" >0.076746</td>\n",
       "      <td id=\"T_e4e40_row1_col1\" class=\"data row1 col1\" >0.091328</td>\n",
       "      <td id=\"T_e4e40_row1_col2\" class=\"data row1 col2\" >0.226401</td>\n",
       "      <td id=\"T_e4e40_row1_col3\" class=\"data row1 col3\" >0.087490</td>\n",
       "      <td id=\"T_e4e40_row1_col4\" class=\"data row1 col4\" >0.095932</td>\n",
       "      <td id=\"T_e4e40_row1_col5\" class=\"data row1 col5\" >0.075211</td>\n",
       "      <td id=\"T_e4e40_row1_col6\" class=\"data row1 col6\" >0.092863</td>\n",
       "      <td id=\"T_e4e40_row1_col7\" class=\"data row1 col7\" >0.084421</td>\n",
       "      <td id=\"T_e4e40_row1_col8\" class=\"data row1 col8\" >0.085188</td>\n",
       "      <td id=\"T_e4e40_row1_col9\" class=\"data row1 col9\" >0.084421</td>\n",
       "    </tr>\n",
       "    <tr>\n",
       "      <th id=\"T_e4e40_level0_row2\" class=\"row_heading level0 row2\" >금발의 초원</th>\n",
       "      <td id=\"T_e4e40_row2_col0\" class=\"data row2 col0\" >0.149123</td>\n",
       "      <td id=\"T_e4e40_row2_col1\" class=\"data row2 col1\" >0.049708</td>\n",
       "      <td id=\"T_e4e40_row2_col2\" class=\"data row2 col2\" >0.269006</td>\n",
       "      <td id=\"T_e4e40_row2_col3\" class=\"data row2 col3\" >0.040936</td>\n",
       "      <td id=\"T_e4e40_row2_col4\" class=\"data row2 col4\" >0.049708</td>\n",
       "      <td id=\"T_e4e40_row2_col5\" class=\"data row2 col5\" >0.119883</td>\n",
       "      <td id=\"T_e4e40_row2_col6\" class=\"data row2 col6\" >0.099415</td>\n",
       "      <td id=\"T_e4e40_row2_col7\" class=\"data row2 col7\" >0.061404</td>\n",
       "      <td id=\"T_e4e40_row2_col8\" class=\"data row2 col8\" >0.116959</td>\n",
       "      <td id=\"T_e4e40_row2_col9\" class=\"data row2 col9\" >0.043860</td>\n",
       "    </tr>\n",
       "    <tr>\n",
       "      <th id=\"T_e4e40_level0_row3\" class=\"row_heading level0 row3\" >기억</th>\n",
       "      <td id=\"T_e4e40_row3_col0\" class=\"data row3 col0\" >0.096774</td>\n",
       "      <td id=\"T_e4e40_row3_col1\" class=\"data row3 col1\" >0.056452</td>\n",
       "      <td id=\"T_e4e40_row3_col2\" class=\"data row3 col2\" >0.185484</td>\n",
       "      <td id=\"T_e4e40_row3_col3\" class=\"data row3 col3\" >0.040323</td>\n",
       "      <td id=\"T_e4e40_row3_col4\" class=\"data row3 col4\" >0.072581</td>\n",
       "      <td id=\"T_e4e40_row3_col5\" class=\"data row3 col5\" >0.201613</td>\n",
       "      <td id=\"T_e4e40_row3_col6\" class=\"data row3 col6\" >0.056452</td>\n",
       "      <td id=\"T_e4e40_row3_col7\" class=\"data row3 col7\" >0.096774</td>\n",
       "      <td id=\"T_e4e40_row3_col8\" class=\"data row3 col8\" >0.129032</td>\n",
       "      <td id=\"T_e4e40_row3_col9\" class=\"data row3 col9\" >0.064516</td>\n",
       "    </tr>\n",
       "    <tr>\n",
       "      <th id=\"T_e4e40_level0_row4\" class=\"row_heading level0 row4\" >나빌레라</th>\n",
       "      <td id=\"T_e4e40_row4_col0\" class=\"data row4 col0\" >0.116751</td>\n",
       "      <td id=\"T_e4e40_row4_col1\" class=\"data row4 col1\" >0.073604</td>\n",
       "      <td id=\"T_e4e40_row4_col2\" class=\"data row4 col2\" >0.302030</td>\n",
       "      <td id=\"T_e4e40_row4_col3\" class=\"data row4 col3\" >0.050761</td>\n",
       "      <td id=\"T_e4e40_row4_col4\" class=\"data row4 col4\" >0.045685</td>\n",
       "      <td id=\"T_e4e40_row4_col5\" class=\"data row4 col5\" >0.073604</td>\n",
       "      <td id=\"T_e4e40_row4_col6\" class=\"data row4 col6\" >0.096447</td>\n",
       "      <td id=\"T_e4e40_row4_col7\" class=\"data row4 col7\" >0.063452</td>\n",
       "      <td id=\"T_e4e40_row4_col8\" class=\"data row4 col8\" >0.152284</td>\n",
       "      <td id=\"T_e4e40_row4_col9\" class=\"data row4 col9\" >0.025381</td>\n",
       "    </tr>\n",
       "    <tr>\n",
       "      <th id=\"T_e4e40_level0_row5\" class=\"row_heading level0 row5\" >내 머리 속의 지우개</th>\n",
       "      <td id=\"T_e4e40_row5_col0\" class=\"data row5 col0\" >0.096719</td>\n",
       "      <td id=\"T_e4e40_row5_col1\" class=\"data row5 col1\" >0.083511</td>\n",
       "      <td id=\"T_e4e40_row5_col2\" class=\"data row5 col2\" >0.178952</td>\n",
       "      <td id=\"T_e4e40_row5_col3\" class=\"data row5 col3\" >0.065616</td>\n",
       "      <td id=\"T_e4e40_row5_col4\" class=\"data row5 col4\" >0.085641</td>\n",
       "      <td id=\"T_e4e40_row5_col5\" class=\"data row5 col5\" >0.102684</td>\n",
       "      <td id=\"T_e4e40_row5_col6\" class=\"data row5 col6\" >0.126971</td>\n",
       "      <td id=\"T_e4e40_row5_col7\" class=\"data row5 col7\" >0.069450</td>\n",
       "      <td id=\"T_e4e40_row5_col8\" class=\"data row5 col8\" >0.086493</td>\n",
       "      <td id=\"T_e4e40_row5_col9\" class=\"data row5 col9\" >0.103963</td>\n",
       "    </tr>\n",
       "    <tr>\n",
       "      <th id=\"T_e4e40_level0_row6\" class=\"row_heading level0 row6\" >내일의 기억</th>\n",
       "      <td id=\"T_e4e40_row6_col0\" class=\"data row6 col0\" >0.113514</td>\n",
       "      <td id=\"T_e4e40_row6_col1\" class=\"data row6 col1\" >0.091892</td>\n",
       "      <td id=\"T_e4e40_row6_col2\" class=\"data row6 col2\" >0.180180</td>\n",
       "      <td id=\"T_e4e40_row6_col3\" class=\"data row6 col3\" >0.059459</td>\n",
       "      <td id=\"T_e4e40_row6_col4\" class=\"data row6 col4\" >0.075676</td>\n",
       "      <td id=\"T_e4e40_row6_col5\" class=\"data row6 col5\" >0.090090</td>\n",
       "      <td id=\"T_e4e40_row6_col6\" class=\"data row6 col6\" >0.082883</td>\n",
       "      <td id=\"T_e4e40_row6_col7\" class=\"data row6 col7\" >0.061261</td>\n",
       "      <td id=\"T_e4e40_row6_col8\" class=\"data row6 col8\" >0.160360</td>\n",
       "      <td id=\"T_e4e40_row6_col9\" class=\"data row6 col9\" >0.084685</td>\n",
       "    </tr>\n",
       "    <tr>\n",
       "      <th id=\"T_e4e40_level0_row7\" class=\"row_heading level0 row7\" >노인들</th>\n",
       "      <td id=\"T_e4e40_row7_col0\" class=\"data row7 col0\" >0.103448</td>\n",
       "      <td id=\"T_e4e40_row7_col1\" class=\"data row7 col1\" >0.034483</td>\n",
       "      <td id=\"T_e4e40_row7_col2\" class=\"data row7 col2\" >0.620690</td>\n",
       "      <td id=\"T_e4e40_row7_col3\" class=\"data row7 col3\" >0.068966</td>\n",
       "      <td id=\"T_e4e40_row7_col4\" class=\"data row7 col4\" >0.000000</td>\n",
       "      <td id=\"T_e4e40_row7_col5\" class=\"data row7 col5\" >0.000000</td>\n",
       "      <td id=\"T_e4e40_row7_col6\" class=\"data row7 col6\" >0.034483</td>\n",
       "      <td id=\"T_e4e40_row7_col7\" class=\"data row7 col7\" >0.034483</td>\n",
       "      <td id=\"T_e4e40_row7_col8\" class=\"data row7 col8\" >0.068966</td>\n",
       "      <td id=\"T_e4e40_row7_col9\" class=\"data row7 col9\" >0.034483</td>\n",
       "    </tr>\n",
       "    <tr>\n",
       "      <th id=\"T_e4e40_level0_row8\" class=\"row_heading level0 row8\" >노트북</th>\n",
       "      <td id=\"T_e4e40_row8_col0\" class=\"data row8 col0\" >0.075159</td>\n",
       "      <td id=\"T_e4e40_row8_col1\" class=\"data row8 col1\" >0.051294</td>\n",
       "      <td id=\"T_e4e40_row8_col2\" class=\"data row8 col2\" >0.395785</td>\n",
       "      <td id=\"T_e4e40_row8_col3\" class=\"data row8 col3\" >0.110026</td>\n",
       "      <td id=\"T_e4e40_row8_col4\" class=\"data row8 col4\" >0.068495</td>\n",
       "      <td id=\"T_e4e40_row8_col5\" class=\"data row8 col5\" >0.045870</td>\n",
       "      <td id=\"T_e4e40_row8_col6\" class=\"data row8 col6\" >0.076399</td>\n",
       "      <td id=\"T_e4e40_row8_col7\" class=\"data row8 col7\" >0.054393</td>\n",
       "      <td id=\"T_e4e40_row8_col8\" class=\"data row8 col8\" >0.071905</td>\n",
       "      <td id=\"T_e4e40_row8_col9\" class=\"data row8 col9\" >0.050674</td>\n",
       "    </tr>\n",
       "    <tr>\n",
       "      <th id=\"T_e4e40_level0_row9\" class=\"row_heading level0 row9\" >눈이 부시게</th>\n",
       "      <td id=\"T_e4e40_row9_col0\" class=\"data row9 col0\" >0.155182</td>\n",
       "      <td id=\"T_e4e40_row9_col1\" class=\"data row9 col1\" >0.105964</td>\n",
       "      <td id=\"T_e4e40_row9_col2\" class=\"data row9 col2\" >0.325999</td>\n",
       "      <td id=\"T_e4e40_row9_col3\" class=\"data row9 col3\" >0.040533</td>\n",
       "      <td id=\"T_e4e40_row9_col4\" class=\"data row9 col4\" >0.048060</td>\n",
       "      <td id=\"T_e4e40_row9_col5\" class=\"data row9 col5\" >0.085698</td>\n",
       "      <td id=\"T_e4e40_row9_col6\" class=\"data row9 col6\" >0.051534</td>\n",
       "      <td id=\"T_e4e40_row9_col7\" class=\"data row9 col7\" >0.072380</td>\n",
       "      <td id=\"T_e4e40_row9_col8\" class=\"data row9 col8\" >0.075854</td>\n",
       "      <td id=\"T_e4e40_row9_col9\" class=\"data row9 col9\" >0.038796</td>\n",
       "    </tr>\n",
       "    <tr>\n",
       "      <th id=\"T_e4e40_level0_row10\" class=\"row_heading level0 row10\" >더 파더</th>\n",
       "      <td id=\"T_e4e40_row10_col0\" class=\"data row10 col0\" >0.097606</td>\n",
       "      <td id=\"T_e4e40_row10_col1\" class=\"data row10 col1\" >0.059862</td>\n",
       "      <td id=\"T_e4e40_row10_col2\" class=\"data row10 col2\" >0.160106</td>\n",
       "      <td id=\"T_e4e40_row10_col3\" class=\"data row10 col3\" >0.054992</td>\n",
       "      <td id=\"T_e4e40_row10_col4\" class=\"data row10 col4\" >0.038758</td>\n",
       "      <td id=\"T_e4e40_row10_col5\" class=\"data row10 col5\" >0.291396</td>\n",
       "      <td id=\"T_e4e40_row10_col6\" class=\"data row10 col6\" >0.065341</td>\n",
       "      <td id=\"T_e4e40_row10_col7\" class=\"data row10 col7\" >0.030438</td>\n",
       "      <td id=\"T_e4e40_row10_col8\" class=\"data row10 col8\" >0.125406</td>\n",
       "      <td id=\"T_e4e40_row10_col9\" class=\"data row10 col9\" >0.076096</td>\n",
       "    </tr>\n",
       "    <tr>\n",
       "      <th id=\"T_e4e40_level0_row11\" class=\"row_heading level0 row11\" >딸에 대하여</th>\n",
       "      <td id=\"T_e4e40_row11_col0\" class=\"data row11 col0\" >0.130468</td>\n",
       "      <td id=\"T_e4e40_row11_col1\" class=\"data row11 col1\" >0.049829</td>\n",
       "      <td id=\"T_e4e40_row11_col2\" class=\"data row11 col2\" >0.233169</td>\n",
       "      <td id=\"T_e4e40_row11_col3\" class=\"data row11 col3\" >0.079118</td>\n",
       "      <td id=\"T_e4e40_row11_col4\" class=\"data row11 col4\" >0.064283</td>\n",
       "      <td id=\"T_e4e40_row11_col5\" class=\"data row11 col5\" >0.116014</td>\n",
       "      <td id=\"T_e4e40_row11_col6\" class=\"data row11 col6\" >0.073792</td>\n",
       "      <td id=\"T_e4e40_row11_col7\" class=\"data row11 col7\" >0.063903</td>\n",
       "      <td id=\"T_e4e40_row11_col8\" class=\"data row11 col8\" >0.054774</td>\n",
       "      <td id=\"T_e4e40_row11_col9\" class=\"data row11 col9\" >0.134652</td>\n",
       "    </tr>\n",
       "    <tr>\n",
       "      <th id=\"T_e4e40_level0_row12\" class=\"row_heading level0 row12\" >러블리, 스틸</th>\n",
       "      <td id=\"T_e4e40_row12_col0\" class=\"data row12 col0\" >0.122093</td>\n",
       "      <td id=\"T_e4e40_row12_col1\" class=\"data row12 col1\" >0.058140</td>\n",
       "      <td id=\"T_e4e40_row12_col2\" class=\"data row12 col2\" >0.244186</td>\n",
       "      <td id=\"T_e4e40_row12_col3\" class=\"data row12 col3\" >0.081395</td>\n",
       "      <td id=\"T_e4e40_row12_col4\" class=\"data row12 col4\" >0.093023</td>\n",
       "      <td id=\"T_e4e40_row12_col5\" class=\"data row12 col5\" >0.081395</td>\n",
       "      <td id=\"T_e4e40_row12_col6\" class=\"data row12 col6\" >0.052326</td>\n",
       "      <td id=\"T_e4e40_row12_col7\" class=\"data row12 col7\" >0.110465</td>\n",
       "      <td id=\"T_e4e40_row12_col8\" class=\"data row12 col8\" >0.098837</td>\n",
       "      <td id=\"T_e4e40_row12_col9\" class=\"data row12 col9\" >0.058140</td>\n",
       "    </tr>\n",
       "    <tr>\n",
       "      <th id=\"T_e4e40_level0_row13\" class=\"row_heading level0 row13\" >레저 시커</th>\n",
       "      <td id=\"T_e4e40_row13_col0\" class=\"data row13 col0\" >0.122449</td>\n",
       "      <td id=\"T_e4e40_row13_col1\" class=\"data row13 col1\" >0.020408</td>\n",
       "      <td id=\"T_e4e40_row13_col2\" class=\"data row13 col2\" >0.510204</td>\n",
       "      <td id=\"T_e4e40_row13_col3\" class=\"data row13 col3\" >0.061224</td>\n",
       "      <td id=\"T_e4e40_row13_col4\" class=\"data row13 col4\" >0.061224</td>\n",
       "      <td id=\"T_e4e40_row13_col5\" class=\"data row13 col5\" >0.061224</td>\n",
       "      <td id=\"T_e4e40_row13_col6\" class=\"data row13 col6\" >0.142857</td>\n",
       "      <td id=\"T_e4e40_row13_col7\" class=\"data row13 col7\" >0.020408</td>\n",
       "      <td id=\"T_e4e40_row13_col8\" class=\"data row13 col8\" >0.000000</td>\n",
       "      <td id=\"T_e4e40_row13_col9\" class=\"data row13 col9\" >0.000000</td>\n",
       "    </tr>\n",
       "    <tr>\n",
       "      <th id=\"T_e4e40_level0_row14\" class=\"row_heading level0 row14\" >로망</th>\n",
       "      <td id=\"T_e4e40_row14_col0\" class=\"data row14 col0\" >0.074736</td>\n",
       "      <td id=\"T_e4e40_row14_col1\" class=\"data row14 col1\" >0.104998</td>\n",
       "      <td id=\"T_e4e40_row14_col2\" class=\"data row14 col2\" >0.090326</td>\n",
       "      <td id=\"T_e4e40_row14_col3\" class=\"data row14 col3\" >0.130674</td>\n",
       "      <td id=\"T_e4e40_row14_col4\" class=\"data row14 col4\" >0.095369</td>\n",
       "      <td id=\"T_e4e40_row14_col5\" class=\"data row14 col5\" >0.146722</td>\n",
       "      <td id=\"T_e4e40_row14_col6\" class=\"data row14 col6\" >0.071068</td>\n",
       "      <td id=\"T_e4e40_row14_col7\" class=\"data row14 col7\" >0.090784</td>\n",
       "      <td id=\"T_e4e40_row14_col8\" class=\"data row14 col8\" >0.069234</td>\n",
       "      <td id=\"T_e4e40_row14_col9\" class=\"data row14 col9\" >0.126089</td>\n",
       "    </tr>\n",
       "    <tr>\n",
       "      <th id=\"T_e4e40_level0_row15\" class=\"row_heading level0 row15\" >사랑의 기적</th>\n",
       "      <td id=\"T_e4e40_row15_col0\" class=\"data row15 col0\" >0.066667</td>\n",
       "      <td id=\"T_e4e40_row15_col1\" class=\"data row15 col1\" >0.047917</td>\n",
       "      <td id=\"T_e4e40_row15_col2\" class=\"data row15 col2\" >0.402083</td>\n",
       "      <td id=\"T_e4e40_row15_col3\" class=\"data row15 col3\" >0.064583</td>\n",
       "      <td id=\"T_e4e40_row15_col4\" class=\"data row15 col4\" >0.054167</td>\n",
       "      <td id=\"T_e4e40_row15_col5\" class=\"data row15 col5\" >0.102083</td>\n",
       "      <td id=\"T_e4e40_row15_col6\" class=\"data row15 col6\" >0.079167</td>\n",
       "      <td id=\"T_e4e40_row15_col7\" class=\"data row15 col7\" >0.083333</td>\n",
       "      <td id=\"T_e4e40_row15_col8\" class=\"data row15 col8\" >0.060417</td>\n",
       "      <td id=\"T_e4e40_row15_col9\" class=\"data row15 col9\" >0.039583</td>\n",
       "    </tr>\n",
       "    <tr>\n",
       "      <th id=\"T_e4e40_level0_row16\" class=\"row_heading level0 row16\" >살인자의 기억_복수</th>\n",
       "      <td id=\"T_e4e40_row16_col0\" class=\"data row16 col0\" >0.100000</td>\n",
       "      <td id=\"T_e4e40_row16_col1\" class=\"data row16 col1\" >0.092857</td>\n",
       "      <td id=\"T_e4e40_row16_col2\" class=\"data row16 col2\" >0.264286</td>\n",
       "      <td id=\"T_e4e40_row16_col3\" class=\"data row16 col3\" >0.071429</td>\n",
       "      <td id=\"T_e4e40_row16_col4\" class=\"data row16 col4\" >0.014286</td>\n",
       "      <td id=\"T_e4e40_row16_col5\" class=\"data row16 col5\" >0.078571</td>\n",
       "      <td id=\"T_e4e40_row16_col6\" class=\"data row16 col6\" >0.085714</td>\n",
       "      <td id=\"T_e4e40_row16_col7\" class=\"data row16 col7\" >0.078571</td>\n",
       "      <td id=\"T_e4e40_row16_col8\" class=\"data row16 col8\" >0.157143</td>\n",
       "      <td id=\"T_e4e40_row16_col9\" class=\"data row16 col9\" >0.057143</td>\n",
       "    </tr>\n",
       "    <tr>\n",
       "      <th id=\"T_e4e40_level0_row17\" class=\"row_heading level0 row17\" >세비지스</th>\n",
       "      <td id=\"T_e4e40_row17_col0\" class=\"data row17 col0\" >0.125000</td>\n",
       "      <td id=\"T_e4e40_row17_col1\" class=\"data row17 col1\" >0.083333</td>\n",
       "      <td id=\"T_e4e40_row17_col2\" class=\"data row17 col2\" >0.291667</td>\n",
       "      <td id=\"T_e4e40_row17_col3\" class=\"data row17 col3\" >0.125000</td>\n",
       "      <td id=\"T_e4e40_row17_col4\" class=\"data row17 col4\" >0.083333</td>\n",
       "      <td id=\"T_e4e40_row17_col5\" class=\"data row17 col5\" >0.041667</td>\n",
       "      <td id=\"T_e4e40_row17_col6\" class=\"data row17 col6\" >0.041667</td>\n",
       "      <td id=\"T_e4e40_row17_col7\" class=\"data row17 col7\" >0.000000</td>\n",
       "      <td id=\"T_e4e40_row17_col8\" class=\"data row17 col8\" >0.208333</td>\n",
       "      <td id=\"T_e4e40_row17_col9\" class=\"data row17 col9\" >0.000000</td>\n",
       "    </tr>\n",
       "    <tr>\n",
       "      <th id=\"T_e4e40_level0_row18\" class=\"row_heading level0 row18\" >세상에서 가장 아름다운 이별</th>\n",
       "      <td id=\"T_e4e40_row18_col0\" class=\"data row18 col0\" >0.103597</td>\n",
       "      <td id=\"T_e4e40_row18_col1\" class=\"data row18 col1\" >0.076259</td>\n",
       "      <td id=\"T_e4e40_row18_col2\" class=\"data row18 col2\" >0.146043</td>\n",
       "      <td id=\"T_e4e40_row18_col3\" class=\"data row18 col3\" >0.069784</td>\n",
       "      <td id=\"T_e4e40_row18_col4\" class=\"data row18 col4\" >0.097122</td>\n",
       "      <td id=\"T_e4e40_row18_col5\" class=\"data row18 col5\" >0.080576</td>\n",
       "      <td id=\"T_e4e40_row18_col6\" class=\"data row18 col6\" >0.064029</td>\n",
       "      <td id=\"T_e4e40_row18_col7\" class=\"data row18 col7\" >0.140288</td>\n",
       "      <td id=\"T_e4e40_row18_col8\" class=\"data row18 col8\" >0.089928</td>\n",
       "      <td id=\"T_e4e40_row18_col9\" class=\"data row18 col9\" >0.132374</td>\n",
       "    </tr>\n",
       "    <tr>\n",
       "      <th id=\"T_e4e40_level0_row19\" class=\"row_heading level0 row19\" >소중한 사람</th>\n",
       "      <td id=\"T_e4e40_row19_col0\" class=\"data row19 col0\" >0.055556</td>\n",
       "      <td id=\"T_e4e40_row19_col1\" class=\"data row19 col1\" >0.097222</td>\n",
       "      <td id=\"T_e4e40_row19_col2\" class=\"data row19 col2\" >0.208333</td>\n",
       "      <td id=\"T_e4e40_row19_col3\" class=\"data row19 col3\" >0.138889</td>\n",
       "      <td id=\"T_e4e40_row19_col4\" class=\"data row19 col4\" >0.125000</td>\n",
       "      <td id=\"T_e4e40_row19_col5\" class=\"data row19 col5\" >0.041667</td>\n",
       "      <td id=\"T_e4e40_row19_col6\" class=\"data row19 col6\" >0.055556</td>\n",
       "      <td id=\"T_e4e40_row19_col7\" class=\"data row19 col7\" >0.152778</td>\n",
       "      <td id=\"T_e4e40_row19_col8\" class=\"data row19 col8\" >0.083333</td>\n",
       "      <td id=\"T_e4e40_row19_col9\" class=\"data row19 col9\" >0.041667</td>\n",
       "    </tr>\n",
       "    <tr>\n",
       "      <th id=\"T_e4e40_level0_row20\" class=\"row_heading level0 row20\" >스틸 앨리스</th>\n",
       "      <td id=\"T_e4e40_row20_col0\" class=\"data row20 col0\" >0.089503</td>\n",
       "      <td id=\"T_e4e40_row20_col1\" class=\"data row20 col1\" >0.063883</td>\n",
       "      <td id=\"T_e4e40_row20_col2\" class=\"data row20 col2\" >0.253036</td>\n",
       "      <td id=\"T_e4e40_row20_col3\" class=\"data row20 col3\" >0.146232</td>\n",
       "      <td id=\"T_e4e40_row20_col4\" class=\"data row20 col4\" >0.034271</td>\n",
       "      <td id=\"T_e4e40_row20_col5\" class=\"data row20 col5\" >0.187989</td>\n",
       "      <td id=\"T_e4e40_row20_col6\" class=\"data row20 col6\" >0.047579</td>\n",
       "      <td id=\"T_e4e40_row20_col7\" class=\"data row20 col7\" >0.052737</td>\n",
       "      <td id=\"T_e4e40_row20_col8\" class=\"data row20 col8\" >0.079188</td>\n",
       "      <td id=\"T_e4e40_row20_col9\" class=\"data row20 col9\" >0.045583</td>\n",
       "    </tr>\n",
       "    <tr>\n",
       "      <th id=\"T_e4e40_level0_row21\" class=\"row_heading level0 row21\" >시</th>\n",
       "      <td id=\"T_e4e40_row21_col0\" class=\"data row21 col0\" >0.151476</td>\n",
       "      <td id=\"T_e4e40_row21_col1\" class=\"data row21 col1\" >0.044929</td>\n",
       "      <td id=\"T_e4e40_row21_col2\" class=\"data row21 col2\" >0.468549</td>\n",
       "      <td id=\"T_e4e40_row21_col3\" class=\"data row21 col3\" >0.068357</td>\n",
       "      <td id=\"T_e4e40_row21_col4\" class=\"data row21 col4\" >0.025032</td>\n",
       "      <td id=\"T_e4e40_row21_col5\" class=\"data row21 col5\" >0.052311</td>\n",
       "      <td id=\"T_e4e40_row21_col6\" class=\"data row21 col6\" >0.038832</td>\n",
       "      <td id=\"T_e4e40_row21_col7\" class=\"data row21 col7\" >0.034339</td>\n",
       "      <td id=\"T_e4e40_row21_col8\" class=\"data row21 col8\" >0.083761</td>\n",
       "      <td id=\"T_e4e40_row21_col9\" class=\"data row21 col9\" >0.032413</td>\n",
       "    </tr>\n",
       "    <tr>\n",
       "      <th id=\"T_e4e40_level0_row22\" class=\"row_heading level0 row22\" >어웨이 프롬 허</th>\n",
       "      <td id=\"T_e4e40_row22_col0\" class=\"data row22 col0\" >0.079832</td>\n",
       "      <td id=\"T_e4e40_row22_col1\" class=\"data row22 col1\" >0.042017</td>\n",
       "      <td id=\"T_e4e40_row22_col2\" class=\"data row22 col2\" >0.415966</td>\n",
       "      <td id=\"T_e4e40_row22_col3\" class=\"data row22 col3\" >0.071429</td>\n",
       "      <td id=\"T_e4e40_row22_col4\" class=\"data row22 col4\" >0.067227</td>\n",
       "      <td id=\"T_e4e40_row22_col5\" class=\"data row22 col5\" >0.058824</td>\n",
       "      <td id=\"T_e4e40_row22_col6\" class=\"data row22 col6\" >0.071429</td>\n",
       "      <td id=\"T_e4e40_row22_col7\" class=\"data row22 col7\" >0.037815</td>\n",
       "      <td id=\"T_e4e40_row22_col8\" class=\"data row22 col8\" >0.100840</td>\n",
       "      <td id=\"T_e4e40_row22_col9\" class=\"data row22 col9\" >0.054622</td>\n",
       "    </tr>\n",
       "    <tr>\n",
       "      <th id=\"T_e4e40_level0_row23\" class=\"row_heading level0 row23\" >엄마의 공책</th>\n",
       "      <td id=\"T_e4e40_row23_col0\" class=\"data row23 col0\" >0.093567</td>\n",
       "      <td id=\"T_e4e40_row23_col1\" class=\"data row23 col1\" >0.076023</td>\n",
       "      <td id=\"T_e4e40_row23_col2\" class=\"data row23 col2\" >0.154971</td>\n",
       "      <td id=\"T_e4e40_row23_col3\" class=\"data row23 col3\" >0.105263</td>\n",
       "      <td id=\"T_e4e40_row23_col4\" class=\"data row23 col4\" >0.076023</td>\n",
       "      <td id=\"T_e4e40_row23_col5\" class=\"data row23 col5\" >0.131579</td>\n",
       "      <td id=\"T_e4e40_row23_col6\" class=\"data row23 col6\" >0.040936</td>\n",
       "      <td id=\"T_e4e40_row23_col7\" class=\"data row23 col7\" >0.175439</td>\n",
       "      <td id=\"T_e4e40_row23_col8\" class=\"data row23 col8\" >0.070175</td>\n",
       "      <td id=\"T_e4e40_row23_col9\" class=\"data row23 col9\" >0.076023</td>\n",
       "    </tr>\n",
       "    <tr>\n",
       "      <th id=\"T_e4e40_level0_row24\" class=\"row_heading level0 row24\" >왓 데이 해드</th>\n",
       "      <td id=\"T_e4e40_row24_col0\" class=\"data row24 col0\" >0.112546</td>\n",
       "      <td id=\"T_e4e40_row24_col1\" class=\"data row24 col1\" >0.062731</td>\n",
       "      <td id=\"T_e4e40_row24_col2\" class=\"data row24 col2\" >0.267528</td>\n",
       "      <td id=\"T_e4e40_row24_col3\" class=\"data row24 col3\" >0.119926</td>\n",
       "      <td id=\"T_e4e40_row24_col4\" class=\"data row24 col4\" >0.077491</td>\n",
       "      <td id=\"T_e4e40_row24_col5\" class=\"data row24 col5\" >0.105166</td>\n",
       "      <td id=\"T_e4e40_row24_col6\" class=\"data row24 col6\" >0.053506</td>\n",
       "      <td id=\"T_e4e40_row24_col7\" class=\"data row24 col7\" >0.066421</td>\n",
       "      <td id=\"T_e4e40_row24_col8\" class=\"data row24 col8\" >0.073801</td>\n",
       "      <td id=\"T_e4e40_row24_col9\" class=\"data row24 col9\" >0.060886</td>\n",
       "    </tr>\n",
       "    <tr>\n",
       "      <th id=\"T_e4e40_level0_row25\" class=\"row_heading level0 row25\" >이터널 메모리</th>\n",
       "      <td id=\"T_e4e40_row25_col0\" class=\"data row25 col0\" >0.056604</td>\n",
       "      <td id=\"T_e4e40_row25_col1\" class=\"data row25 col1\" >0.071698</td>\n",
       "      <td id=\"T_e4e40_row25_col2\" class=\"data row25 col2\" >0.384906</td>\n",
       "      <td id=\"T_e4e40_row25_col3\" class=\"data row25 col3\" >0.075472</td>\n",
       "      <td id=\"T_e4e40_row25_col4\" class=\"data row25 col4\" >0.083019</td>\n",
       "      <td id=\"T_e4e40_row25_col5\" class=\"data row25 col5\" >0.045283</td>\n",
       "      <td id=\"T_e4e40_row25_col6\" class=\"data row25 col6\" >0.022642</td>\n",
       "      <td id=\"T_e4e40_row25_col7\" class=\"data row25 col7\" >0.022642</td>\n",
       "      <td id=\"T_e4e40_row25_col8\" class=\"data row25 col8\" >0.139623</td>\n",
       "      <td id=\"T_e4e40_row25_col9\" class=\"data row25 col9\" >0.098113</td>\n",
       "    </tr>\n",
       "    <tr>\n",
       "      <th id=\"T_e4e40_level0_row26\" class=\"row_heading level0 row26\" >장수상회</th>\n",
       "      <td id=\"T_e4e40_row26_col0\" class=\"data row26 col0\" >0.059137</td>\n",
       "      <td id=\"T_e4e40_row26_col1\" class=\"data row26 col1\" >0.087029</td>\n",
       "      <td id=\"T_e4e40_row26_col2\" class=\"data row26 col2\" >0.080820</td>\n",
       "      <td id=\"T_e4e40_row26_col3\" class=\"data row26 col3\" >0.094027</td>\n",
       "      <td id=\"T_e4e40_row26_col4\" class=\"data row26 col4\" >0.111177</td>\n",
       "      <td id=\"T_e4e40_row26_col5\" class=\"data row26 col5\" >0.123793</td>\n",
       "      <td id=\"T_e4e40_row26_col6\" class=\"data row26 col6\" >0.071851</td>\n",
       "      <td id=\"T_e4e40_row26_col7\" class=\"data row26 col7\" >0.186379</td>\n",
       "      <td id=\"T_e4e40_row26_col8\" class=\"data row26 col8\" >0.087325</td>\n",
       "      <td id=\"T_e4e40_row26_col9\" class=\"data row26 col9\" >0.098462</td>\n",
       "    </tr>\n",
       "    <tr>\n",
       "      <th id=\"T_e4e40_level0_row27\" class=\"row_heading level0 row27\" >조금씩, 천천히 안녕</th>\n",
       "      <td id=\"T_e4e40_row27_col0\" class=\"data row27 col0\" >0.087079</td>\n",
       "      <td id=\"T_e4e40_row27_col1\" class=\"data row27 col1\" >0.028090</td>\n",
       "      <td id=\"T_e4e40_row27_col2\" class=\"data row27 col2\" >0.207865</td>\n",
       "      <td id=\"T_e4e40_row27_col3\" class=\"data row27 col3\" >0.164326</td>\n",
       "      <td id=\"T_e4e40_row27_col4\" class=\"data row27 col4\" >0.054775</td>\n",
       "      <td id=\"T_e4e40_row27_col5\" class=\"data row27 col5\" >0.113764</td>\n",
       "      <td id=\"T_e4e40_row27_col6\" class=\"data row27 col6\" >0.091292</td>\n",
       "      <td id=\"T_e4e40_row27_col7\" class=\"data row27 col7\" >0.084270</td>\n",
       "      <td id=\"T_e4e40_row27_col8\" class=\"data row27 col8\" >0.084270</td>\n",
       "      <td id=\"T_e4e40_row27_col9\" class=\"data row27 col9\" >0.084270</td>\n",
       "    </tr>\n",
       "    <tr>\n",
       "      <th id=\"T_e4e40_level0_row28\" class=\"row_heading level0 row28\" >천일의 약속</th>\n",
       "      <td id=\"T_e4e40_row28_col0\" class=\"data row28 col0\" >0.184615</td>\n",
       "      <td id=\"T_e4e40_row28_col1\" class=\"data row28 col1\" >0.061538</td>\n",
       "      <td id=\"T_e4e40_row28_col2\" class=\"data row28 col2\" >0.200000</td>\n",
       "      <td id=\"T_e4e40_row28_col3\" class=\"data row28 col3\" >0.015385</td>\n",
       "      <td id=\"T_e4e40_row28_col4\" class=\"data row28 col4\" >0.076923</td>\n",
       "      <td id=\"T_e4e40_row28_col5\" class=\"data row28 col5\" >0.123077</td>\n",
       "      <td id=\"T_e4e40_row28_col6\" class=\"data row28 col6\" >0.092308</td>\n",
       "      <td id=\"T_e4e40_row28_col7\" class=\"data row28 col7\" >0.076923</td>\n",
       "      <td id=\"T_e4e40_row28_col8\" class=\"data row28 col8\" >0.107692</td>\n",
       "      <td id=\"T_e4e40_row28_col9\" class=\"data row28 col9\" >0.061538</td>\n",
       "    </tr>\n",
       "    <tr>\n",
       "      <th id=\"T_e4e40_level0_row29\" class=\"row_heading level0 row29\" >첫 키스만 50번째</th>\n",
       "      <td id=\"T_e4e40_row29_col0\" class=\"data row29 col0\" >0.072219</td>\n",
       "      <td id=\"T_e4e40_row29_col1\" class=\"data row29 col1\" >0.072219</td>\n",
       "      <td id=\"T_e4e40_row29_col2\" class=\"data row29 col2\" >0.346535</td>\n",
       "      <td id=\"T_e4e40_row29_col3\" class=\"data row29 col3\" >0.061153</td>\n",
       "      <td id=\"T_e4e40_row29_col4\" class=\"data row29 col4\" >0.061736</td>\n",
       "      <td id=\"T_e4e40_row29_col5\" class=\"data row29 col5\" >0.078626</td>\n",
       "      <td id=\"T_e4e40_row29_col6\" class=\"data row29 col6\" >0.123471</td>\n",
       "      <td id=\"T_e4e40_row29_col7\" class=\"data row29 col7\" >0.059406</td>\n",
       "      <td id=\"T_e4e40_row29_col8\" class=\"data row29 col8\" >0.068142</td>\n",
       "      <td id=\"T_e4e40_row29_col9\" class=\"data row29 col9\" >0.056494</td>\n",
       "    </tr>\n",
       "    <tr>\n",
       "      <th id=\"T_e4e40_level0_row30\" class=\"row_heading level0 row30\" >친정엄마</th>\n",
       "      <td id=\"T_e4e40_row30_col0\" class=\"data row30 col0\" >0.075175</td>\n",
       "      <td id=\"T_e4e40_row30_col1\" class=\"data row30 col1\" >0.090909</td>\n",
       "      <td id=\"T_e4e40_row30_col2\" class=\"data row30 col2\" >0.136364</td>\n",
       "      <td id=\"T_e4e40_row30_col3\" class=\"data row30 col3\" >0.043706</td>\n",
       "      <td id=\"T_e4e40_row30_col4\" class=\"data row30 col4\" >0.071678</td>\n",
       "      <td id=\"T_e4e40_row30_col5\" class=\"data row30 col5\" >0.132867</td>\n",
       "      <td id=\"T_e4e40_row30_col6\" class=\"data row30 col6\" >0.066434</td>\n",
       "      <td id=\"T_e4e40_row30_col7\" class=\"data row30 col7\" >0.225524</td>\n",
       "      <td id=\"T_e4e40_row30_col8\" class=\"data row30 col8\" >0.055944</td>\n",
       "      <td id=\"T_e4e40_row30_col9\" class=\"data row30 col9\" >0.101399</td>\n",
       "    </tr>\n",
       "    <tr>\n",
       "      <th id=\"T_e4e40_level0_row31\" class=\"row_heading level0 row31\" >해피엔딩 프로젝트</th>\n",
       "      <td id=\"T_e4e40_row31_col0\" class=\"data row31 col0\" >0.096491</td>\n",
       "      <td id=\"T_e4e40_row31_col1\" class=\"data row31 col1\" >0.061404</td>\n",
       "      <td id=\"T_e4e40_row31_col2\" class=\"data row31 col2\" >0.350877</td>\n",
       "      <td id=\"T_e4e40_row31_col3\" class=\"data row31 col3\" >0.087719</td>\n",
       "      <td id=\"T_e4e40_row31_col4\" class=\"data row31 col4\" >0.017544</td>\n",
       "      <td id=\"T_e4e40_row31_col5\" class=\"data row31 col5\" >0.035088</td>\n",
       "      <td id=\"T_e4e40_row31_col6\" class=\"data row31 col6\" >0.096491</td>\n",
       "      <td id=\"T_e4e40_row31_col7\" class=\"data row31 col7\" >0.052632</td>\n",
       "      <td id=\"T_e4e40_row31_col8\" class=\"data row31 col8\" >0.114035</td>\n",
       "      <td id=\"T_e4e40_row31_col9\" class=\"data row31 col9\" >0.087719</td>\n",
       "    </tr>\n",
       "  </tbody>\n",
       "</table>\n"
      ],
      "text/plain": [
       "<pandas.io.formats.style.Styler at 0x163a5f67b30>"
      ]
     },
     "metadata": {},
     "output_type": "display_data"
    },
    {
     "data": {
      "text/html": [
       "<div>\n",
       "<style scoped>\n",
       "    .dataframe tbody tr th:only-of-type {\n",
       "        vertical-align: middle;\n",
       "    }\n",
       "\n",
       "    .dataframe tbody tr th {\n",
       "        vertical-align: top;\n",
       "    }\n",
       "\n",
       "    .dataframe thead th {\n",
       "        text-align: right;\n",
       "    }\n",
       "</style>\n",
       "<table border=\"1\" class=\"dataframe\">\n",
       "  <thead>\n",
       "    <tr style=\"text-align: right;\">\n",
       "      <th></th>\n",
       "      <th>Topic Rank</th>\n",
       "    </tr>\n",
       "    <tr>\n",
       "      <th>Movie</th>\n",
       "      <th></th>\n",
       "    </tr>\n",
       "  </thead>\n",
       "  <tbody>\n",
       "    <tr>\n",
       "      <th>그대 어이가리</th>\n",
       "      <td>10 &gt; 3 &gt; 6 &gt; 9 &gt; 5 &gt; 1 &gt; 7 &gt; 4 &gt; 2 &gt; 8</td>\n",
       "    </tr>\n",
       "    <tr>\n",
       "      <th>그대를 사랑합니다</th>\n",
       "      <td>3 &gt; 5 &gt; 7 &gt; 2 &gt; 4 &gt; 9 &gt; 8 &gt; 10 &gt; 1 &gt; 6</td>\n",
       "    </tr>\n",
       "    <tr>\n",
       "      <th>금발의 초원</th>\n",
       "      <td>3 &gt; 1 &gt; 6 &gt; 9 &gt; 7 &gt; 8 &gt; 2 &gt; 5 &gt; 10 &gt; 4</td>\n",
       "    </tr>\n",
       "    <tr>\n",
       "      <th>기억</th>\n",
       "      <td>6 &gt; 3 &gt; 9 &gt; 1 &gt; 8 &gt; 5 &gt; 10 &gt; 2 &gt; 7 &gt; 4</td>\n",
       "    </tr>\n",
       "    <tr>\n",
       "      <th>나빌레라</th>\n",
       "      <td>3 &gt; 9 &gt; 1 &gt; 7 &gt; 2 &gt; 6 &gt; 8 &gt; 4 &gt; 5 &gt; 10</td>\n",
       "    </tr>\n",
       "    <tr>\n",
       "      <th>내 머리 속의 지우개</th>\n",
       "      <td>3 &gt; 7 &gt; 10 &gt; 6 &gt; 1 &gt; 9 &gt; 5 &gt; 2 &gt; 8 &gt; 4</td>\n",
       "    </tr>\n",
       "    <tr>\n",
       "      <th>내일의 기억</th>\n",
       "      <td>3 &gt; 9 &gt; 1 &gt; 2 &gt; 6 &gt; 10 &gt; 7 &gt; 5 &gt; 8 &gt; 4</td>\n",
       "    </tr>\n",
       "    <tr>\n",
       "      <th>노인들</th>\n",
       "      <td>3 &gt; 1 &gt; 4 &gt; 9 &gt; 2 &gt; 7 &gt; 8 &gt; 10</td>\n",
       "    </tr>\n",
       "    <tr>\n",
       "      <th>노트북</th>\n",
       "      <td>3 &gt; 4 &gt; 7 &gt; 1 &gt; 9 &gt; 5 &gt; 8 &gt; 2 &gt; 10 &gt; 6</td>\n",
       "    </tr>\n",
       "    <tr>\n",
       "      <th>눈이 부시게</th>\n",
       "      <td>3 &gt; 1 &gt; 2 &gt; 6 &gt; 9 &gt; 8 &gt; 7 &gt; 5 &gt; 4 &gt; 10</td>\n",
       "    </tr>\n",
       "    <tr>\n",
       "      <th>더 파더</th>\n",
       "      <td>6 &gt; 3 &gt; 9 &gt; 1 &gt; 10 &gt; 7 &gt; 2 &gt; 4 &gt; 5 &gt; 8</td>\n",
       "    </tr>\n",
       "    <tr>\n",
       "      <th>딸에 대하여</th>\n",
       "      <td>3 &gt; 10 &gt; 1 &gt; 6 &gt; 4 &gt; 7 &gt; 5 &gt; 8 &gt; 9 &gt; 2</td>\n",
       "    </tr>\n",
       "    <tr>\n",
       "      <th>러블리, 스틸</th>\n",
       "      <td>3 &gt; 1 &gt; 8 &gt; 9 &gt; 5 &gt; 4 &gt; 6 &gt; 2 &gt; 10 &gt; 7</td>\n",
       "    </tr>\n",
       "    <tr>\n",
       "      <th>레저 시커</th>\n",
       "      <td>3 &gt; 7 &gt; 1 &gt; 4 &gt; 5 &gt; 6 &gt; 2 &gt; 8</td>\n",
       "    </tr>\n",
       "    <tr>\n",
       "      <th>로망</th>\n",
       "      <td>6 &gt; 4 &gt; 10 &gt; 2 &gt; 5 &gt; 8 &gt; 3 &gt; 1 &gt; 7 &gt; 9</td>\n",
       "    </tr>\n",
       "    <tr>\n",
       "      <th>사랑의 기적</th>\n",
       "      <td>3 &gt; 6 &gt; 8 &gt; 7 &gt; 1 &gt; 4 &gt; 9 &gt; 5 &gt; 2 &gt; 10</td>\n",
       "    </tr>\n",
       "    <tr>\n",
       "      <th>살인자의 기억_복수</th>\n",
       "      <td>3 &gt; 9 &gt; 1 &gt; 2 &gt; 7 &gt; 6 &gt; 8 &gt; 4 &gt; 10 &gt; 5</td>\n",
       "    </tr>\n",
       "    <tr>\n",
       "      <th>세비지스</th>\n",
       "      <td>3 &gt; 9 &gt; 1 &gt; 4 &gt; 2 &gt; 5 &gt; 6 &gt; 7</td>\n",
       "    </tr>\n",
       "    <tr>\n",
       "      <th>세상에서 가장 아름다운 이별</th>\n",
       "      <td>3 &gt; 8 &gt; 10 &gt; 1 &gt; 5 &gt; 9 &gt; 6 &gt; 2 &gt; 4 &gt; 7</td>\n",
       "    </tr>\n",
       "    <tr>\n",
       "      <th>소중한 사람</th>\n",
       "      <td>3 &gt; 8 &gt; 4 &gt; 5 &gt; 2 &gt; 9 &gt; 1 &gt; 7 &gt; 6 &gt; 10</td>\n",
       "    </tr>\n",
       "    <tr>\n",
       "      <th>스틸 앨리스</th>\n",
       "      <td>3 &gt; 6 &gt; 4 &gt; 1 &gt; 9 &gt; 2 &gt; 8 &gt; 7 &gt; 10 &gt; 5</td>\n",
       "    </tr>\n",
       "    <tr>\n",
       "      <th>시</th>\n",
       "      <td>3 &gt; 1 &gt; 9 &gt; 4 &gt; 6 &gt; 2 &gt; 7 &gt; 8 &gt; 10 &gt; 5</td>\n",
       "    </tr>\n",
       "    <tr>\n",
       "      <th>어웨이 프롬 허</th>\n",
       "      <td>3 &gt; 9 &gt; 1 &gt; 4 &gt; 7 &gt; 5 &gt; 6 &gt; 10 &gt; 2 &gt; 8</td>\n",
       "    </tr>\n",
       "    <tr>\n",
       "      <th>엄마의 공책</th>\n",
       "      <td>8 &gt; 3 &gt; 6 &gt; 4 &gt; 1 &gt; 2 &gt; 5 &gt; 10 &gt; 9 &gt; 7</td>\n",
       "    </tr>\n",
       "    <tr>\n",
       "      <th>왓 데이 해드</th>\n",
       "      <td>3 &gt; 4 &gt; 1 &gt; 6 &gt; 5 &gt; 9 &gt; 8 &gt; 2 &gt; 10 &gt; 7</td>\n",
       "    </tr>\n",
       "    <tr>\n",
       "      <th>이터널 메모리</th>\n",
       "      <td>3 &gt; 9 &gt; 10 &gt; 5 &gt; 4 &gt; 2 &gt; 1 &gt; 6 &gt; 7 &gt; 8</td>\n",
       "    </tr>\n",
       "    <tr>\n",
       "      <th>장수상회</th>\n",
       "      <td>8 &gt; 6 &gt; 5 &gt; 10 &gt; 4 &gt; 9 &gt; 2 &gt; 3 &gt; 7 &gt; 1</td>\n",
       "    </tr>\n",
       "    <tr>\n",
       "      <th>조금씩, 천천히 안녕</th>\n",
       "      <td>3 &gt; 4 &gt; 6 &gt; 7 &gt; 1 &gt; 8 &gt; 9 &gt; 10 &gt; 5 &gt; 2</td>\n",
       "    </tr>\n",
       "    <tr>\n",
       "      <th>천일의 약속</th>\n",
       "      <td>3 &gt; 1 &gt; 6 &gt; 9 &gt; 7 &gt; 5 &gt; 8 &gt; 2 &gt; 10 &gt; 4</td>\n",
       "    </tr>\n",
       "    <tr>\n",
       "      <th>첫 키스만 50번째</th>\n",
       "      <td>3 &gt; 7 &gt; 6 &gt; 1 &gt; 2 &gt; 9 &gt; 5 &gt; 4 &gt; 8 &gt; 10</td>\n",
       "    </tr>\n",
       "    <tr>\n",
       "      <th>친정엄마</th>\n",
       "      <td>8 &gt; 3 &gt; 6 &gt; 10 &gt; 2 &gt; 1 &gt; 5 &gt; 7 &gt; 9 &gt; 4</td>\n",
       "    </tr>\n",
       "    <tr>\n",
       "      <th>해피엔딩 프로젝트</th>\n",
       "      <td>3 &gt; 9 &gt; 1 &gt; 7 &gt; 4 &gt; 10 &gt; 2 &gt; 8 &gt; 6 &gt; 5</td>\n",
       "    </tr>\n",
       "  </tbody>\n",
       "</table>\n",
       "</div>"
      ],
      "text/plain": [
       "                                             Topic Rank\n",
       "Movie                                                  \n",
       "그대 어이가리          10 > 3 > 6 > 9 > 5 > 1 > 7 > 4 > 2 > 8\n",
       "그대를 사랑합니다        3 > 5 > 7 > 2 > 4 > 9 > 8 > 10 > 1 > 6\n",
       "금발의 초원           3 > 1 > 6 > 9 > 7 > 8 > 2 > 5 > 10 > 4\n",
       "기억               6 > 3 > 9 > 1 > 8 > 5 > 10 > 2 > 7 > 4\n",
       "나빌레라             3 > 9 > 1 > 7 > 2 > 6 > 8 > 4 > 5 > 10\n",
       "내 머리 속의 지우개      3 > 7 > 10 > 6 > 1 > 9 > 5 > 2 > 8 > 4\n",
       "내일의 기억           3 > 9 > 1 > 2 > 6 > 10 > 7 > 5 > 8 > 4\n",
       "노인들                      3 > 1 > 4 > 9 > 2 > 7 > 8 > 10\n",
       "노트북              3 > 4 > 7 > 1 > 9 > 5 > 8 > 2 > 10 > 6\n",
       "눈이 부시게           3 > 1 > 2 > 6 > 9 > 8 > 7 > 5 > 4 > 10\n",
       "더 파더             6 > 3 > 9 > 1 > 10 > 7 > 2 > 4 > 5 > 8\n",
       "딸에 대하여           3 > 10 > 1 > 6 > 4 > 7 > 5 > 8 > 9 > 2\n",
       "러블리, 스틸          3 > 1 > 8 > 9 > 5 > 4 > 6 > 2 > 10 > 7\n",
       "레저 시커                     3 > 7 > 1 > 4 > 5 > 6 > 2 > 8\n",
       "로망               6 > 4 > 10 > 2 > 5 > 8 > 3 > 1 > 7 > 9\n",
       "사랑의 기적           3 > 6 > 8 > 7 > 1 > 4 > 9 > 5 > 2 > 10\n",
       "살인자의 기억_복수       3 > 9 > 1 > 2 > 7 > 6 > 8 > 4 > 10 > 5\n",
       "세비지스                      3 > 9 > 1 > 4 > 2 > 5 > 6 > 7\n",
       "세상에서 가장 아름다운 이별  3 > 8 > 10 > 1 > 5 > 9 > 6 > 2 > 4 > 7\n",
       "소중한 사람           3 > 8 > 4 > 5 > 2 > 9 > 1 > 7 > 6 > 10\n",
       "스틸 앨리스           3 > 6 > 4 > 1 > 9 > 2 > 8 > 7 > 10 > 5\n",
       "시                3 > 1 > 9 > 4 > 6 > 2 > 7 > 8 > 10 > 5\n",
       "어웨이 프롬 허         3 > 9 > 1 > 4 > 7 > 5 > 6 > 10 > 2 > 8\n",
       "엄마의 공책           8 > 3 > 6 > 4 > 1 > 2 > 5 > 10 > 9 > 7\n",
       "왓 데이 해드          3 > 4 > 1 > 6 > 5 > 9 > 8 > 2 > 10 > 7\n",
       "이터널 메모리          3 > 9 > 10 > 5 > 4 > 2 > 1 > 6 > 7 > 8\n",
       "장수상회             8 > 6 > 5 > 10 > 4 > 9 > 2 > 3 > 7 > 1\n",
       "조금씩, 천천히 안녕      3 > 4 > 6 > 7 > 1 > 8 > 9 > 10 > 5 > 2\n",
       "천일의 약속           3 > 1 > 6 > 9 > 7 > 5 > 8 > 2 > 10 > 4\n",
       "첫 키스만 50번째       3 > 7 > 6 > 1 > 2 > 9 > 5 > 4 > 8 > 10\n",
       "친정엄마             8 > 3 > 6 > 10 > 2 > 1 > 5 > 7 > 9 > 4\n",
       "해피엔딩 프로젝트        3 > 9 > 1 > 7 > 4 > 10 > 2 > 8 > 6 > 5"
      ]
     },
     "metadata": {},
     "output_type": "display_data"
    },
    {
     "data": {
      "text/html": [
       "<style type=\"text/css\">\n",
       "#T_77b40_row0_col5, #T_77b40_row1_col2, #T_77b40_row2_col5, #T_77b40_row3_col2, #T_77b40_row4_col2, #T_77b40_row5_col2, #T_77b40_row6_col2, #T_77b40_row6_col5, #T_77b40_row7_col2, #T_77b40_row8_col2, #T_77b40_row9_col3, #T_77b40_row10_col2, #T_77b40_row11_col2, #T_77b40_row12_col2, #T_77b40_row13_col2, #T_77b40_row14_col5, #T_77b40_row15_col2, #T_77b40_row16_col2, #T_77b40_row17_col2, #T_77b40_row18_col2, #T_77b40_row19_col5, #T_77b40_row20_col2, #T_77b40_row21_col2, #T_77b40_row22_col2, #T_77b40_row23_col5, #T_77b40_row24_col2, #T_77b40_row25_col2, #T_77b40_row26_col2, #T_77b40_row27_col2, #T_77b40_row28_col2, #T_77b40_row29_col2, #T_77b40_row30_col5, #T_77b40_row31_col5 {\n",
       "  background-color: yellow;\n",
       "}\n",
       "</style>\n",
       "<table id=\"T_77b40\">\n",
       "  <thead>\n",
       "    <tr>\n",
       "      <th class=\"blank level0\" >&nbsp;</th>\n",
       "      <th id=\"T_77b40_level0_col0\" class=\"col_heading level0 col0\" >Rating0</th>\n",
       "      <th id=\"T_77b40_level0_col1\" class=\"col_heading level0 col1\" >Rating2</th>\n",
       "      <th id=\"T_77b40_level0_col2\" class=\"col_heading level0 col2\" >Rating4</th>\n",
       "      <th id=\"T_77b40_level0_col3\" class=\"col_heading level0 col3\" >Rating6</th>\n",
       "      <th id=\"T_77b40_level0_col4\" class=\"col_heading level0 col4\" >Rating8</th>\n",
       "      <th id=\"T_77b40_level0_col5\" class=\"col_heading level0 col5\" >Rating10</th>\n",
       "    </tr>\n",
       "    <tr>\n",
       "      <th class=\"index_name level0\" >Movie</th>\n",
       "      <th class=\"blank col0\" >&nbsp;</th>\n",
       "      <th class=\"blank col1\" >&nbsp;</th>\n",
       "      <th class=\"blank col2\" >&nbsp;</th>\n",
       "      <th class=\"blank col3\" >&nbsp;</th>\n",
       "      <th class=\"blank col4\" >&nbsp;</th>\n",
       "      <th class=\"blank col5\" >&nbsp;</th>\n",
       "    </tr>\n",
       "  </thead>\n",
       "  <tbody>\n",
       "    <tr>\n",
       "      <th id=\"T_77b40_level0_row0\" class=\"row_heading level0 row0\" >그대 어이가리</th>\n",
       "      <td id=\"T_77b40_row0_col0\" class=\"data row0 col0\" >0.007463</td>\n",
       "      <td id=\"T_77b40_row0_col1\" class=\"data row0 col1\" >0.082090</td>\n",
       "      <td id=\"T_77b40_row0_col2\" class=\"data row0 col2\" >0.037313</td>\n",
       "      <td id=\"T_77b40_row0_col3\" class=\"data row0 col3\" >0.000000</td>\n",
       "      <td id=\"T_77b40_row0_col4\" class=\"data row0 col4\" >0.097015</td>\n",
       "      <td id=\"T_77b40_row0_col5\" class=\"data row0 col5\" >0.776119</td>\n",
       "    </tr>\n",
       "    <tr>\n",
       "      <th id=\"T_77b40_level0_row1\" class=\"row_heading level0 row1\" >그대를 사랑합니다</th>\n",
       "      <td id=\"T_77b40_row1_col0\" class=\"data row1 col0\" >0.008832</td>\n",
       "      <td id=\"T_77b40_row1_col1\" class=\"data row1 col1\" >0.063788</td>\n",
       "      <td id=\"T_77b40_row1_col2\" class=\"data row1 col2\" >0.530913</td>\n",
       "      <td id=\"T_77b40_row1_col3\" class=\"data row1 col3\" >0.108930</td>\n",
       "      <td id=\"T_77b40_row1_col4\" class=\"data row1 col4\" >0.005888</td>\n",
       "      <td id=\"T_77b40_row1_col5\" class=\"data row1 col5\" >0.281649</td>\n",
       "    </tr>\n",
       "    <tr>\n",
       "      <th id=\"T_77b40_level0_row2\" class=\"row_heading level0 row2\" >금발의 초원</th>\n",
       "      <td id=\"T_77b40_row2_col0\" class=\"data row2 col0\" >0.002924</td>\n",
       "      <td id=\"T_77b40_row2_col1\" class=\"data row2 col1\" >0.040936</td>\n",
       "      <td id=\"T_77b40_row2_col2\" class=\"data row2 col2\" >0.149123</td>\n",
       "      <td id=\"T_77b40_row2_col3\" class=\"data row2 col3\" >0.096491</td>\n",
       "      <td id=\"T_77b40_row2_col4\" class=\"data row2 col4\" >0.210526</td>\n",
       "      <td id=\"T_77b40_row2_col5\" class=\"data row2 col5\" >0.500000</td>\n",
       "    </tr>\n",
       "    <tr>\n",
       "      <th id=\"T_77b40_level0_row3\" class=\"row_heading level0 row3\" >기억</th>\n",
       "      <td id=\"T_77b40_row3_col0\" class=\"data row3 col0\" >0.008130</td>\n",
       "      <td id=\"T_77b40_row3_col1\" class=\"data row3 col1\" >0.081301</td>\n",
       "      <td id=\"T_77b40_row3_col2\" class=\"data row3 col2\" >0.642276</td>\n",
       "      <td id=\"T_77b40_row3_col3\" class=\"data row3 col3\" >0.268293</td>\n",
       "      <td id=\"T_77b40_row3_col4\" class=\"data row3 col4\" >0.000000</td>\n",
       "      <td id=\"T_77b40_row3_col5\" class=\"data row3 col5\" >0.000000</td>\n",
       "    </tr>\n",
       "    <tr>\n",
       "      <th id=\"T_77b40_level0_row4\" class=\"row_heading level0 row4\" >나빌레라</th>\n",
       "      <td id=\"T_77b40_row4_col0\" class=\"data row4 col0\" >0.008000</td>\n",
       "      <td id=\"T_77b40_row4_col1\" class=\"data row4 col1\" >0.050667</td>\n",
       "      <td id=\"T_77b40_row4_col2\" class=\"data row4 col2\" >0.650667</td>\n",
       "      <td id=\"T_77b40_row4_col3\" class=\"data row4 col3\" >0.290667</td>\n",
       "      <td id=\"T_77b40_row4_col4\" class=\"data row4 col4\" >0.000000</td>\n",
       "      <td id=\"T_77b40_row4_col5\" class=\"data row4 col5\" >0.000000</td>\n",
       "    </tr>\n",
       "    <tr>\n",
       "      <th id=\"T_77b40_level0_row5\" class=\"row_heading level0 row5\" >내 머리 속의 지우개</th>\n",
       "      <td id=\"T_77b40_row5_col0\" class=\"data row5 col0\" >0.011915</td>\n",
       "      <td id=\"T_77b40_row5_col1\" class=\"data row5 col1\" >0.117829</td>\n",
       "      <td id=\"T_77b40_row5_col2\" class=\"data row5 col2\" >0.599735</td>\n",
       "      <td id=\"T_77b40_row5_col3\" class=\"data row5 col3\" >0.134157</td>\n",
       "      <td id=\"T_77b40_row5_col4\" class=\"data row5 col4\" >0.006620</td>\n",
       "      <td id=\"T_77b40_row5_col5\" class=\"data row5 col5\" >0.129744</td>\n",
       "    </tr>\n",
       "    <tr>\n",
       "      <th id=\"T_77b40_level0_row6\" class=\"row_heading level0 row6\" >내일의 기억</th>\n",
       "      <td id=\"T_77b40_row6_col0\" class=\"data row6 col0\" >0.000000</td>\n",
       "      <td id=\"T_77b40_row6_col1\" class=\"data row6 col1\" >0.041591</td>\n",
       "      <td id=\"T_77b40_row6_col2\" class=\"data row6 col2\" >0.401447</td>\n",
       "      <td id=\"T_77b40_row6_col3\" class=\"data row6 col3\" >0.065099</td>\n",
       "      <td id=\"T_77b40_row6_col4\" class=\"data row6 col4\" >0.090416</td>\n",
       "      <td id=\"T_77b40_row6_col5\" class=\"data row6 col5\" >0.401447</td>\n",
       "    </tr>\n",
       "    <tr>\n",
       "      <th id=\"T_77b40_level0_row7\" class=\"row_heading level0 row7\" >노인들</th>\n",
       "      <td id=\"T_77b40_row7_col0\" class=\"data row7 col0\" >0.000000</td>\n",
       "      <td id=\"T_77b40_row7_col1\" class=\"data row7 col1\" >0.035714</td>\n",
       "      <td id=\"T_77b40_row7_col2\" class=\"data row7 col2\" >0.750000</td>\n",
       "      <td id=\"T_77b40_row7_col3\" class=\"data row7 col3\" >0.214286</td>\n",
       "      <td id=\"T_77b40_row7_col4\" class=\"data row7 col4\" >0.000000</td>\n",
       "      <td id=\"T_77b40_row7_col5\" class=\"data row7 col5\" >0.000000</td>\n",
       "    </tr>\n",
       "    <tr>\n",
       "      <th id=\"T_77b40_level0_row8\" class=\"row_heading level0 row8\" >노트북</th>\n",
       "      <td id=\"T_77b40_row8_col0\" class=\"data row8 col0\" >0.012115</td>\n",
       "      <td id=\"T_77b40_row8_col1\" class=\"data row8 col1\" >0.111417</td>\n",
       "      <td id=\"T_77b40_row8_col2\" class=\"data row8 col2\" >0.536160</td>\n",
       "      <td id=\"T_77b40_row8_col3\" class=\"data row8 col3\" >0.256057</td>\n",
       "      <td id=\"T_77b40_row8_col4\" class=\"data row8 col4\" >0.007342</td>\n",
       "      <td id=\"T_77b40_row8_col5\" class=\"data row8 col5\" >0.076909</td>\n",
       "    </tr>\n",
       "    <tr>\n",
       "      <th id=\"T_77b40_level0_row9\" class=\"row_heading level0 row9\" >눈이 부시게</th>\n",
       "      <td id=\"T_77b40_row9_col0\" class=\"data row9 col0\" >0.007130</td>\n",
       "      <td id=\"T_77b40_row9_col1\" class=\"data row9 col1\" >0.020202</td>\n",
       "      <td id=\"T_77b40_row9_col2\" class=\"data row9 col2\" >0.470588</td>\n",
       "      <td id=\"T_77b40_row9_col3\" class=\"data row9 col3\" >0.502080</td>\n",
       "      <td id=\"T_77b40_row9_col4\" class=\"data row9 col4\" >0.000000</td>\n",
       "      <td id=\"T_77b40_row9_col5\" class=\"data row9 col5\" >0.000000</td>\n",
       "    </tr>\n",
       "    <tr>\n",
       "      <th id=\"T_77b40_level0_row10\" class=\"row_heading level0 row10\" >더 파더</th>\n",
       "      <td id=\"T_77b40_row10_col0\" class=\"data row10 col0\" >0.002796</td>\n",
       "      <td id=\"T_77b40_row10_col1\" class=\"data row10 col1\" >0.013982</td>\n",
       "      <td id=\"T_77b40_row10_col2\" class=\"data row10 col2\" >0.704698</td>\n",
       "      <td id=\"T_77b40_row10_col3\" class=\"data row10 col3\" >0.085011</td>\n",
       "      <td id=\"T_77b40_row10_col4\" class=\"data row10 col4\" >0.048098</td>\n",
       "      <td id=\"T_77b40_row10_col5\" class=\"data row10 col5\" >0.145414</td>\n",
       "    </tr>\n",
       "    <tr>\n",
       "      <th id=\"T_77b40_level0_row11\" class=\"row_heading level0 row11\" >딸에 대하여</th>\n",
       "      <td id=\"T_77b40_row11_col0\" class=\"data row11 col0\" >0.005445</td>\n",
       "      <td id=\"T_77b40_row11_col1\" class=\"data row11 col1\" >0.034483</td>\n",
       "      <td id=\"T_77b40_row11_col2\" class=\"data row11 col2\" >0.626134</td>\n",
       "      <td id=\"T_77b40_row11_col3\" class=\"data row11 col3\" >0.070780</td>\n",
       "      <td id=\"T_77b40_row11_col4\" class=\"data row11 col4\" >0.079855</td>\n",
       "      <td id=\"T_77b40_row11_col5\" class=\"data row11 col5\" >0.183303</td>\n",
       "    </tr>\n",
       "    <tr>\n",
       "      <th id=\"T_77b40_level0_row12\" class=\"row_heading level0 row12\" >러블리, 스틸</th>\n",
       "      <td id=\"T_77b40_row12_col0\" class=\"data row12 col0\" >0.000000</td>\n",
       "      <td id=\"T_77b40_row12_col1\" class=\"data row12 col1\" >0.095238</td>\n",
       "      <td id=\"T_77b40_row12_col2\" class=\"data row12 col2\" >0.392857</td>\n",
       "      <td id=\"T_77b40_row12_col3\" class=\"data row12 col3\" >0.107143</td>\n",
       "      <td id=\"T_77b40_row12_col4\" class=\"data row12 col4\" >0.089286</td>\n",
       "      <td id=\"T_77b40_row12_col5\" class=\"data row12 col5\" >0.315476</td>\n",
       "    </tr>\n",
       "    <tr>\n",
       "      <th id=\"T_77b40_level0_row13\" class=\"row_heading level0 row13\" >레저 시커</th>\n",
       "      <td id=\"T_77b40_row13_col0\" class=\"data row13 col0\" >0.000000</td>\n",
       "      <td id=\"T_77b40_row13_col1\" class=\"data row13 col1\" >0.063830</td>\n",
       "      <td id=\"T_77b40_row13_col2\" class=\"data row13 col2\" >0.872340</td>\n",
       "      <td id=\"T_77b40_row13_col3\" class=\"data row13 col3\" >0.063830</td>\n",
       "      <td id=\"T_77b40_row13_col4\" class=\"data row13 col4\" >0.000000</td>\n",
       "      <td id=\"T_77b40_row13_col5\" class=\"data row13 col5\" >0.000000</td>\n",
       "    </tr>\n",
       "    <tr>\n",
       "      <th id=\"T_77b40_level0_row14\" class=\"row_heading level0 row14\" >로망</th>\n",
       "      <td id=\"T_77b40_row14_col0\" class=\"data row14 col0\" >0.014749</td>\n",
       "      <td id=\"T_77b40_row14_col1\" class=\"data row14 col1\" >0.112094</td>\n",
       "      <td id=\"T_77b40_row14_col2\" class=\"data row14 col2\" >0.144543</td>\n",
       "      <td id=\"T_77b40_row14_col3\" class=\"data row14 col3\" >0.035398</td>\n",
       "      <td id=\"T_77b40_row14_col4\" class=\"data row14 col4\" >0.079646</td>\n",
       "      <td id=\"T_77b40_row14_col5\" class=\"data row14 col5\" >0.613569</td>\n",
       "    </tr>\n",
       "    <tr>\n",
       "      <th id=\"T_77b40_level0_row15\" class=\"row_heading level0 row15\" >사랑의 기적</th>\n",
       "      <td id=\"T_77b40_row15_col0\" class=\"data row15 col0\" >0.002092</td>\n",
       "      <td id=\"T_77b40_row15_col1\" class=\"data row15 col1\" >0.018828</td>\n",
       "      <td id=\"T_77b40_row15_col2\" class=\"data row15 col2\" >0.430962</td>\n",
       "      <td id=\"T_77b40_row15_col3\" class=\"data row15 col3\" >0.092050</td>\n",
       "      <td id=\"T_77b40_row15_col4\" class=\"data row15 col4\" >0.073222</td>\n",
       "      <td id=\"T_77b40_row15_col5\" class=\"data row15 col5\" >0.382845</td>\n",
       "    </tr>\n",
       "    <tr>\n",
       "      <th id=\"T_77b40_level0_row16\" class=\"row_heading level0 row16\" >살인자의 기억_복수</th>\n",
       "      <td id=\"T_77b40_row16_col0\" class=\"data row16 col0\" >0.000000</td>\n",
       "      <td id=\"T_77b40_row16_col1\" class=\"data row16 col1\" >0.064748</td>\n",
       "      <td id=\"T_77b40_row16_col2\" class=\"data row16 col2\" >0.769784</td>\n",
       "      <td id=\"T_77b40_row16_col3\" class=\"data row16 col3\" >0.043165</td>\n",
       "      <td id=\"T_77b40_row16_col4\" class=\"data row16 col4\" >0.079137</td>\n",
       "      <td id=\"T_77b40_row16_col5\" class=\"data row16 col5\" >0.043165</td>\n",
       "    </tr>\n",
       "    <tr>\n",
       "      <th id=\"T_77b40_level0_row17\" class=\"row_heading level0 row17\" >세비지스</th>\n",
       "      <td id=\"T_77b40_row17_col0\" class=\"data row17 col0\" >0.000000</td>\n",
       "      <td id=\"T_77b40_row17_col1\" class=\"data row17 col1\" >0.130435</td>\n",
       "      <td id=\"T_77b40_row17_col2\" class=\"data row17 col2\" >0.826087</td>\n",
       "      <td id=\"T_77b40_row17_col3\" class=\"data row17 col3\" >0.043478</td>\n",
       "      <td id=\"T_77b40_row17_col4\" class=\"data row17 col4\" >0.000000</td>\n",
       "      <td id=\"T_77b40_row17_col5\" class=\"data row17 col5\" >0.000000</td>\n",
       "    </tr>\n",
       "    <tr>\n",
       "      <th id=\"T_77b40_level0_row18\" class=\"row_heading level0 row18\" >세상에서 가장 아름다운 이별</th>\n",
       "      <td id=\"T_77b40_row18_col0\" class=\"data row18 col0\" >0.009680</td>\n",
       "      <td id=\"T_77b40_row18_col1\" class=\"data row18 col1\" >0.088608</td>\n",
       "      <td id=\"T_77b40_row18_col2\" class=\"data row18 col2\" >0.460908</td>\n",
       "      <td id=\"T_77b40_row18_col3\" class=\"data row18 col3\" >0.227103</td>\n",
       "      <td id=\"T_77b40_row18_col4\" class=\"data row18 col4\" >0.005212</td>\n",
       "      <td id=\"T_77b40_row18_col5\" class=\"data row18 col5\" >0.208488</td>\n",
       "    </tr>\n",
       "    <tr>\n",
       "      <th id=\"T_77b40_level0_row19\" class=\"row_heading level0 row19\" >소중한 사람</th>\n",
       "      <td id=\"T_77b40_row19_col0\" class=\"data row19 col0\" >0.000000</td>\n",
       "      <td id=\"T_77b40_row19_col1\" class=\"data row19 col1\" >0.069444</td>\n",
       "      <td id=\"T_77b40_row19_col2\" class=\"data row19 col2\" >0.152778</td>\n",
       "      <td id=\"T_77b40_row19_col3\" class=\"data row19 col3\" >0.027778</td>\n",
       "      <td id=\"T_77b40_row19_col4\" class=\"data row19 col4\" >0.097222</td>\n",
       "      <td id=\"T_77b40_row19_col5\" class=\"data row19 col5\" >0.652778</td>\n",
       "    </tr>\n",
       "    <tr>\n",
       "      <th id=\"T_77b40_level0_row20\" class=\"row_heading level0 row20\" >스틸 앨리스</th>\n",
       "      <td id=\"T_77b40_row20_col0\" class=\"data row20 col0\" >0.000736</td>\n",
       "      <td id=\"T_77b40_row20_col1\" class=\"data row20 col1\" >0.029055</td>\n",
       "      <td id=\"T_77b40_row20_col2\" class=\"data row20 col2\" >0.697315</td>\n",
       "      <td id=\"T_77b40_row20_col3\" class=\"data row20 col3\" >0.069511</td>\n",
       "      <td id=\"T_77b40_row20_col4\" class=\"data row20 col4\" >0.070246</td>\n",
       "      <td id=\"T_77b40_row20_col5\" class=\"data row20 col5\" >0.133137</td>\n",
       "    </tr>\n",
       "    <tr>\n",
       "      <th id=\"T_77b40_level0_row21\" class=\"row_heading level0 row21\" >시</th>\n",
       "      <td id=\"T_77b40_row21_col0\" class=\"data row21 col0\" >0.009094</td>\n",
       "      <td id=\"T_77b40_row21_col1\" class=\"data row21 col1\" >0.028256</td>\n",
       "      <td id=\"T_77b40_row21_col2\" class=\"data row21 col2\" >0.586879</td>\n",
       "      <td id=\"T_77b40_row21_col3\" class=\"data row21 col3\" >0.276713</td>\n",
       "      <td id=\"T_77b40_row21_col4\" class=\"data row21 col4\" >0.006171</td>\n",
       "      <td id=\"T_77b40_row21_col5\" class=\"data row21 col5\" >0.092887</td>\n",
       "    </tr>\n",
       "    <tr>\n",
       "      <th id=\"T_77b40_level0_row22\" class=\"row_heading level0 row22\" >어웨이 프롬 허</th>\n",
       "      <td id=\"T_77b40_row22_col0\" class=\"data row22 col0\" >0.004274</td>\n",
       "      <td id=\"T_77b40_row22_col1\" class=\"data row22 col1\" >0.068376</td>\n",
       "      <td id=\"T_77b40_row22_col2\" class=\"data row22 col2\" >0.397436</td>\n",
       "      <td id=\"T_77b40_row22_col3\" class=\"data row22 col3\" >0.085470</td>\n",
       "      <td id=\"T_77b40_row22_col4\" class=\"data row22 col4\" >0.158120</td>\n",
       "      <td id=\"T_77b40_row22_col5\" class=\"data row22 col5\" >0.286325</td>\n",
       "    </tr>\n",
       "    <tr>\n",
       "      <th id=\"T_77b40_level0_row23\" class=\"row_heading level0 row23\" >엄마의 공책</th>\n",
       "      <td id=\"T_77b40_row23_col0\" class=\"data row23 col0\" >0.005051</td>\n",
       "      <td id=\"T_77b40_row23_col1\" class=\"data row23 col1\" >0.196970</td>\n",
       "      <td id=\"T_77b40_row23_col2\" class=\"data row23 col2\" >0.136364</td>\n",
       "      <td id=\"T_77b40_row23_col3\" class=\"data row23 col3\" >0.035354</td>\n",
       "      <td id=\"T_77b40_row23_col4\" class=\"data row23 col4\" >0.050505</td>\n",
       "      <td id=\"T_77b40_row23_col5\" class=\"data row23 col5\" >0.575758</td>\n",
       "    </tr>\n",
       "    <tr>\n",
       "      <th id=\"T_77b40_level0_row24\" class=\"row_heading level0 row24\" >왓 데이 해드</th>\n",
       "      <td id=\"T_77b40_row24_col0\" class=\"data row24 col0\" >0.000000</td>\n",
       "      <td id=\"T_77b40_row24_col1\" class=\"data row24 col1\" >0.024194</td>\n",
       "      <td id=\"T_77b40_row24_col2\" class=\"data row24 col2\" >0.677419</td>\n",
       "      <td id=\"T_77b40_row24_col3\" class=\"data row24 col3\" >0.064516</td>\n",
       "      <td id=\"T_77b40_row24_col4\" class=\"data row24 col4\" >0.104839</td>\n",
       "      <td id=\"T_77b40_row24_col5\" class=\"data row24 col5\" >0.129032</td>\n",
       "    </tr>\n",
       "    <tr>\n",
       "      <th id=\"T_77b40_level0_row25\" class=\"row_heading level0 row25\" >이터널 메모리</th>\n",
       "      <td id=\"T_77b40_row25_col0\" class=\"data row25 col0\" >0.026667</td>\n",
       "      <td id=\"T_77b40_row25_col1\" class=\"data row25 col1\" >0.093333</td>\n",
       "      <td id=\"T_77b40_row25_col2\" class=\"data row25 col2\" >0.506667</td>\n",
       "      <td id=\"T_77b40_row25_col3\" class=\"data row25 col3\" >0.120000</td>\n",
       "      <td id=\"T_77b40_row25_col4\" class=\"data row25 col4\" >0.120000</td>\n",
       "      <td id=\"T_77b40_row25_col5\" class=\"data row25 col5\" >0.133333</td>\n",
       "    </tr>\n",
       "    <tr>\n",
       "      <th id=\"T_77b40_level0_row26\" class=\"row_heading level0 row26\" >장수상회</th>\n",
       "      <td id=\"T_77b40_row26_col0\" class=\"data row26 col0\" >0.015038</td>\n",
       "      <td id=\"T_77b40_row26_col1\" class=\"data row26 col1\" >0.165883</td>\n",
       "      <td id=\"T_77b40_row26_col2\" class=\"data row26 col2\" >0.496711</td>\n",
       "      <td id=\"T_77b40_row26_col3\" class=\"data row26 col3\" >0.050282</td>\n",
       "      <td id=\"T_77b40_row26_col4\" class=\"data row26 col4\" >0.031955</td>\n",
       "      <td id=\"T_77b40_row26_col5\" class=\"data row26 col5\" >0.240132</td>\n",
       "    </tr>\n",
       "    <tr>\n",
       "      <th id=\"T_77b40_level0_row27\" class=\"row_heading level0 row27\" >조금씩, 천천히 안녕</th>\n",
       "      <td id=\"T_77b40_row27_col0\" class=\"data row27 col0\" >0.006211</td>\n",
       "      <td id=\"T_77b40_row27_col1\" class=\"data row27 col1\" >0.161491</td>\n",
       "      <td id=\"T_77b40_row27_col2\" class=\"data row27 col2\" >0.372671</td>\n",
       "      <td id=\"T_77b40_row27_col3\" class=\"data row27 col3\" >0.062112</td>\n",
       "      <td id=\"T_77b40_row27_col4\" class=\"data row27 col4\" >0.099379</td>\n",
       "      <td id=\"T_77b40_row27_col5\" class=\"data row27 col5\" >0.298137</td>\n",
       "    </tr>\n",
       "    <tr>\n",
       "      <th id=\"T_77b40_level0_row28\" class=\"row_heading level0 row28\" >천일의 약속</th>\n",
       "      <td id=\"T_77b40_row28_col0\" class=\"data row28 col0\" >0.000000</td>\n",
       "      <td id=\"T_77b40_row28_col1\" class=\"data row28 col1\" >0.156250</td>\n",
       "      <td id=\"T_77b40_row28_col2\" class=\"data row28 col2\" >0.609375</td>\n",
       "      <td id=\"T_77b40_row28_col3\" class=\"data row28 col3\" >0.234375</td>\n",
       "      <td id=\"T_77b40_row28_col4\" class=\"data row28 col4\" >0.000000</td>\n",
       "      <td id=\"T_77b40_row28_col5\" class=\"data row28 col5\" >0.000000</td>\n",
       "    </tr>\n",
       "    <tr>\n",
       "      <th id=\"T_77b40_level0_row29\" class=\"row_heading level0 row29\" >첫 키스만 50번째</th>\n",
       "      <td id=\"T_77b40_row29_col0\" class=\"data row29 col0\" >0.009977</td>\n",
       "      <td id=\"T_77b40_row29_col1\" class=\"data row29 col1\" >0.082160</td>\n",
       "      <td id=\"T_77b40_row29_col2\" class=\"data row29 col2\" >0.522300</td>\n",
       "      <td id=\"T_77b40_row29_col3\" class=\"data row29 col3\" >0.116784</td>\n",
       "      <td id=\"T_77b40_row29_col4\" class=\"data row29 col4\" >0.038732</td>\n",
       "      <td id=\"T_77b40_row29_col5\" class=\"data row29 col5\" >0.230047</td>\n",
       "    </tr>\n",
       "    <tr>\n",
       "      <th id=\"T_77b40_level0_row30\" class=\"row_heading level0 row30\" >친정엄마</th>\n",
       "      <td id=\"T_77b40_row30_col0\" class=\"data row30 col0\" >0.003745</td>\n",
       "      <td id=\"T_77b40_row30_col1\" class=\"data row30 col1\" >0.067416</td>\n",
       "      <td id=\"T_77b40_row30_col2\" class=\"data row30 col2\" >0.267790</td>\n",
       "      <td id=\"T_77b40_row30_col3\" class=\"data row30 col3\" >0.108614</td>\n",
       "      <td id=\"T_77b40_row30_col4\" class=\"data row30 col4\" >0.005618</td>\n",
       "      <td id=\"T_77b40_row30_col5\" class=\"data row30 col5\" >0.546816</td>\n",
       "    </tr>\n",
       "    <tr>\n",
       "      <th id=\"T_77b40_level0_row31\" class=\"row_heading level0 row31\" >해피엔딩 프로젝트</th>\n",
       "      <td id=\"T_77b40_row31_col0\" class=\"data row31 col0\" >0.000000</td>\n",
       "      <td id=\"T_77b40_row31_col1\" class=\"data row31 col1\" >0.044248</td>\n",
       "      <td id=\"T_77b40_row31_col2\" class=\"data row31 col2\" >0.318584</td>\n",
       "      <td id=\"T_77b40_row31_col3\" class=\"data row31 col3\" >0.079646</td>\n",
       "      <td id=\"T_77b40_row31_col4\" class=\"data row31 col4\" >0.141593</td>\n",
       "      <td id=\"T_77b40_row31_col5\" class=\"data row31 col5\" >0.415929</td>\n",
       "    </tr>\n",
       "  </tbody>\n",
       "</table>\n"
      ],
      "text/plain": [
       "<pandas.io.formats.style.Styler at 0x163b73a03b0>"
      ]
     },
     "metadata": {},
     "output_type": "display_data"
    },
    {
     "data": {
      "text/html": [
       "<div>\n",
       "<style scoped>\n",
       "    .dataframe tbody tr th:only-of-type {\n",
       "        vertical-align: middle;\n",
       "    }\n",
       "\n",
       "    .dataframe tbody tr th {\n",
       "        vertical-align: top;\n",
       "    }\n",
       "\n",
       "    .dataframe thead th {\n",
       "        text-align: right;\n",
       "    }\n",
       "</style>\n",
       "<table border=\"1\" class=\"dataframe\">\n",
       "  <thead>\n",
       "    <tr style=\"text-align: right;\">\n",
       "      <th></th>\n",
       "      <th>Rating Rank</th>\n",
       "    </tr>\n",
       "    <tr>\n",
       "      <th>Movie</th>\n",
       "      <th></th>\n",
       "    </tr>\n",
       "  </thead>\n",
       "  <tbody>\n",
       "    <tr>\n",
       "      <th>그대 어이가리</th>\n",
       "      <td>10 &gt; 8 &gt; 2 &gt; 4 &gt; 0</td>\n",
       "    </tr>\n",
       "    <tr>\n",
       "      <th>그대를 사랑합니다</th>\n",
       "      <td>4 &gt; 10 &gt; 6 &gt; 2 &gt; 0 &gt; 8</td>\n",
       "    </tr>\n",
       "    <tr>\n",
       "      <th>금발의 초원</th>\n",
       "      <td>10 &gt; 8 &gt; 4 &gt; 6 &gt; 2 &gt; 0</td>\n",
       "    </tr>\n",
       "    <tr>\n",
       "      <th>기억</th>\n",
       "      <td>4 &gt; 6 &gt; 2 &gt; 0</td>\n",
       "    </tr>\n",
       "    <tr>\n",
       "      <th>나빌레라</th>\n",
       "      <td>4 &gt; 6 &gt; 2 &gt; 0</td>\n",
       "    </tr>\n",
       "    <tr>\n",
       "      <th>내 머리 속의 지우개</th>\n",
       "      <td>4 &gt; 6 &gt; 10 &gt; 2 &gt; 0 &gt; 8</td>\n",
       "    </tr>\n",
       "    <tr>\n",
       "      <th>내일의 기억</th>\n",
       "      <td>4 &gt; 10 &gt; 8 &gt; 6 &gt; 2</td>\n",
       "    </tr>\n",
       "    <tr>\n",
       "      <th>노인들</th>\n",
       "      <td>4 &gt; 6 &gt; 2</td>\n",
       "    </tr>\n",
       "    <tr>\n",
       "      <th>노트북</th>\n",
       "      <td>4 &gt; 6 &gt; 2 &gt; 10 &gt; 0 &gt; 8</td>\n",
       "    </tr>\n",
       "    <tr>\n",
       "      <th>눈이 부시게</th>\n",
       "      <td>6 &gt; 4 &gt; 2 &gt; 0</td>\n",
       "    </tr>\n",
       "    <tr>\n",
       "      <th>더 파더</th>\n",
       "      <td>4 &gt; 10 &gt; 6 &gt; 8 &gt; 2 &gt; 0</td>\n",
       "    </tr>\n",
       "    <tr>\n",
       "      <th>딸에 대하여</th>\n",
       "      <td>4 &gt; 10 &gt; 8 &gt; 6 &gt; 2 &gt; 0</td>\n",
       "    </tr>\n",
       "    <tr>\n",
       "      <th>러블리, 스틸</th>\n",
       "      <td>4 &gt; 10 &gt; 6 &gt; 2 &gt; 8</td>\n",
       "    </tr>\n",
       "    <tr>\n",
       "      <th>레저 시커</th>\n",
       "      <td>4 &gt; 2 &gt; 6</td>\n",
       "    </tr>\n",
       "    <tr>\n",
       "      <th>로망</th>\n",
       "      <td>10 &gt; 4 &gt; 2 &gt; 8 &gt; 6 &gt; 0</td>\n",
       "    </tr>\n",
       "    <tr>\n",
       "      <th>사랑의 기적</th>\n",
       "      <td>4 &gt; 10 &gt; 6 &gt; 8 &gt; 2 &gt; 0</td>\n",
       "    </tr>\n",
       "    <tr>\n",
       "      <th>살인자의 기억_복수</th>\n",
       "      <td>4 &gt; 8 &gt; 2 &gt; 6 &gt; 10</td>\n",
       "    </tr>\n",
       "    <tr>\n",
       "      <th>세비지스</th>\n",
       "      <td>4 &gt; 2 &gt; 6</td>\n",
       "    </tr>\n",
       "    <tr>\n",
       "      <th>세상에서 가장 아름다운 이별</th>\n",
       "      <td>4 &gt; 6 &gt; 10 &gt; 2 &gt; 0 &gt; 8</td>\n",
       "    </tr>\n",
       "    <tr>\n",
       "      <th>소중한 사람</th>\n",
       "      <td>10 &gt; 4 &gt; 8 &gt; 2 &gt; 6</td>\n",
       "    </tr>\n",
       "    <tr>\n",
       "      <th>스틸 앨리스</th>\n",
       "      <td>4 &gt; 10 &gt; 8 &gt; 6 &gt; 2 &gt; 0</td>\n",
       "    </tr>\n",
       "    <tr>\n",
       "      <th>시</th>\n",
       "      <td>4 &gt; 6 &gt; 10 &gt; 2 &gt; 0 &gt; 8</td>\n",
       "    </tr>\n",
       "    <tr>\n",
       "      <th>어웨이 프롬 허</th>\n",
       "      <td>4 &gt; 10 &gt; 8 &gt; 6 &gt; 2 &gt; 0</td>\n",
       "    </tr>\n",
       "    <tr>\n",
       "      <th>엄마의 공책</th>\n",
       "      <td>10 &gt; 2 &gt; 4 &gt; 8 &gt; 6 &gt; 0</td>\n",
       "    </tr>\n",
       "    <tr>\n",
       "      <th>왓 데이 해드</th>\n",
       "      <td>4 &gt; 10 &gt; 8 &gt; 6 &gt; 2</td>\n",
       "    </tr>\n",
       "    <tr>\n",
       "      <th>이터널 메모리</th>\n",
       "      <td>4 &gt; 10 &gt; 6 &gt; 8 &gt; 2 &gt; 0</td>\n",
       "    </tr>\n",
       "    <tr>\n",
       "      <th>장수상회</th>\n",
       "      <td>4 &gt; 10 &gt; 2 &gt; 6 &gt; 8 &gt; 0</td>\n",
       "    </tr>\n",
       "    <tr>\n",
       "      <th>조금씩, 천천히 안녕</th>\n",
       "      <td>4 &gt; 10 &gt; 2 &gt; 8 &gt; 6 &gt; 0</td>\n",
       "    </tr>\n",
       "    <tr>\n",
       "      <th>천일의 약속</th>\n",
       "      <td>4 &gt; 6 &gt; 2</td>\n",
       "    </tr>\n",
       "    <tr>\n",
       "      <th>첫 키스만 50번째</th>\n",
       "      <td>4 &gt; 10 &gt; 6 &gt; 2 &gt; 8 &gt; 0</td>\n",
       "    </tr>\n",
       "    <tr>\n",
       "      <th>친정엄마</th>\n",
       "      <td>10 &gt; 4 &gt; 6 &gt; 2 &gt; 8 &gt; 0</td>\n",
       "    </tr>\n",
       "    <tr>\n",
       "      <th>해피엔딩 프로젝트</th>\n",
       "      <td>10 &gt; 4 &gt; 8 &gt; 6 &gt; 2</td>\n",
       "    </tr>\n",
       "  </tbody>\n",
       "</table>\n",
       "</div>"
      ],
      "text/plain": [
       "                            Rating Rank\n",
       "Movie                                  \n",
       "그대 어이가리              10 > 8 > 2 > 4 > 0\n",
       "그대를 사랑합니다        4 > 10 > 6 > 2 > 0 > 8\n",
       "금발의 초원           10 > 8 > 4 > 6 > 2 > 0\n",
       "기억                        4 > 6 > 2 > 0\n",
       "나빌레라                      4 > 6 > 2 > 0\n",
       "내 머리 속의 지우개      4 > 6 > 10 > 2 > 0 > 8\n",
       "내일의 기억               4 > 10 > 8 > 6 > 2\n",
       "노인들                           4 > 6 > 2\n",
       "노트북              4 > 6 > 2 > 10 > 0 > 8\n",
       "눈이 부시게                    6 > 4 > 2 > 0\n",
       "더 파더             4 > 10 > 6 > 8 > 2 > 0\n",
       "딸에 대하여           4 > 10 > 8 > 6 > 2 > 0\n",
       "러블리, 스틸              4 > 10 > 6 > 2 > 8\n",
       "레저 시커                         4 > 2 > 6\n",
       "로망               10 > 4 > 2 > 8 > 6 > 0\n",
       "사랑의 기적           4 > 10 > 6 > 8 > 2 > 0\n",
       "살인자의 기억_복수           4 > 8 > 2 > 6 > 10\n",
       "세비지스                          4 > 2 > 6\n",
       "세상에서 가장 아름다운 이별  4 > 6 > 10 > 2 > 0 > 8\n",
       "소중한 사람               10 > 4 > 8 > 2 > 6\n",
       "스틸 앨리스           4 > 10 > 8 > 6 > 2 > 0\n",
       "시                4 > 6 > 10 > 2 > 0 > 8\n",
       "어웨이 프롬 허         4 > 10 > 8 > 6 > 2 > 0\n",
       "엄마의 공책           10 > 2 > 4 > 8 > 6 > 0\n",
       "왓 데이 해드              4 > 10 > 8 > 6 > 2\n",
       "이터널 메모리          4 > 10 > 6 > 8 > 2 > 0\n",
       "장수상회             4 > 10 > 2 > 6 > 8 > 0\n",
       "조금씩, 천천히 안녕      4 > 10 > 2 > 8 > 6 > 0\n",
       "천일의 약속                        4 > 6 > 2\n",
       "첫 키스만 50번째       4 > 10 > 6 > 2 > 8 > 0\n",
       "친정엄마             10 > 4 > 6 > 2 > 8 > 0\n",
       "해피엔딩 프로젝트            10 > 4 > 8 > 6 > 2"
      ]
     },
     "metadata": {},
     "output_type": "display_data"
    }
   ],
   "source": [
    "# Result Analysis\n",
    "## 주제 분포\n",
    "TARGET_RESULT = 'Topics_byTokenLDA_CommentPrepAuto(1,3)_Topic10.xlsx'\n",
    "df_result = pd.read_excel(os.path.join(os.getcwd(), 'Result', 'TopicExtraction', TARGET_RESULT), sheet_name='DocumentTopic', index_col=0)\n",
    "df_result = pd.concat([df_freq, df_result.iloc[:,1:]], axis=1)\n",
    "df_topic_ratio, _ = LDA_resultstat(df_result, 'Movie', 'Related Topic', colname_prefix='Topic')\n",
    "\n",
    "## Rating 분포\n",
    "df_rating = df_result[df_result.Rating != -1]\n",
    "df_rating.Rating = df_rating.Rating.apply(lambda x: 10 if x>=9 else (8 if x>=7 else (6 if x>=5 else (4 if x>=3 else (2 if x>=1 else 0)))))\n",
    "df_rating_ratio, _ = LDA_resultstat(df_rating, 'Movie', 'Rating', colname_prefix='Rating')"
   ]
  },
  {
   "cell_type": "code",
   "execution_count": 37,
   "id": "7f17a5d1",
   "metadata": {
    "ExecuteTime": {
     "end_time": "2024-12-03T13:54:21.610727Z",
     "start_time": "2024-12-03T13:54:21.372897Z"
    }
   },
   "outputs": [
    {
     "name": "stdout",
     "output_type": "stream",
     "text": [
      "Rating0 -0.20212064775192495\n",
      "Rating2 -0.41297846716415454\n",
      "Rating4 0.3842977323595716\n",
      "Rating6 0.29518387655247574\n",
      "Rating8 0.05761892640067789\n",
      "Rating10 -0.4087278227374865\n"
     ]
    }
   ],
   "source": [
    "# Topic3과 Rating과의 상관성\n",
    "for col in df_rating_ratio.columns:\n",
    "    print(col, np.corrcoef(df_rating_ratio[col], df_topic_ratio.iloc[:,2])[0,1])"
   ]
  },
  {
   "cell_type": "code",
   "execution_count": 38,
   "id": "f671cd54",
   "metadata": {
    "ExecuteTime": {
     "end_time": "2024-12-03T13:54:25.326232Z",
     "start_time": "2024-12-03T13:54:25.064685Z"
    }
   },
   "outputs": [
    {
     "name": "stdout",
     "output_type": "stream",
     "text": [
      "Topic1 0.3127057907409572\n",
      "Topic2 -0.0026057699193265263\n",
      "Topic3 -0.4087278227374865\n",
      "Topic4 0.4492165093739546\n",
      "Topic5 -0.26445334651185526\n",
      "Topic6 0.09453467831745299\n",
      "Topic7 0.007553760724977583\n"
     ]
    }
   ],
   "source": [
    "# Top Rating과 Topic과의 상관성\n",
    "for col in df_topic_ratio.columns:\n",
    "    print(col, np.corrcoef(df_topic_ratio[col], df_rating_ratio.iloc[:,-1])[0,1])"
   ]
  },
  {
   "cell_type": "code",
   "execution_count": 19,
   "id": "42308ee9",
   "metadata": {
    "ExecuteTime": {
     "end_time": "2024-12-03T13:32:44.971759Z",
     "start_time": "2024-12-03T13:32:44.593530Z"
    }
   },
   "outputs": [
    {
     "data": {
      "application/vnd.plotly.v1+json": {
       "config": {
        "plotlyServerURL": "https://plotly.com"
       },
       "data": [
        {
         "name": "Like",
         "type": "bar",
         "x": [
          1991,
          2000,
          2002,
          2004,
          2005,
          2006,
          2007,
          2008,
          2010,
          2011,
          2012,
          2014,
          2015,
          2016,
          2017,
          2018,
          2019,
          2020,
          2021,
          2022,
          2023
         ],
         "y": [
          241,
          2196,
          19,
          5417,
          146,
          198,
          19,
          73,
          2270,
          564,
          57,
          977,
          1042,
          36,
          3513,
          99,
          1191,
          1089,
          299,
          272,
          498
         ]
        },
        {
         "name": "Dislike",
         "type": "bar",
         "x": [
          1991,
          2000,
          2002,
          2004,
          2005,
          2006,
          2007,
          2008,
          2010,
          2011,
          2012,
          2014,
          2015,
          2016,
          2017,
          2018,
          2019,
          2020,
          2021,
          2022,
          2023
         ],
         "y": [
          -31,
          -200,
          -5,
          -680,
          -8,
          -66,
          0,
          -43,
          -202,
          -156,
          -22,
          -329,
          -194,
          0,
          -518,
          -2,
          -137,
          -47,
          -16,
          -58,
          -80
         ]
        },
        {
         "marker": {
          "color": "white",
          "size": 8
         },
         "mode": "lines+markers",
         "name": "Overall",
         "type": "scatter",
         "x": [
          1991,
          2000,
          2002,
          2004,
          2005,
          2006,
          2007,
          2008,
          2010,
          2011,
          2012,
          2014,
          2015,
          2016,
          2017,
          2018,
          2019,
          2020,
          2021,
          2022,
          2023
         ],
         "y": [
          210,
          1996,
          14,
          4737,
          138,
          132,
          19,
          30,
          2068,
          408,
          35,
          648,
          848,
          36,
          2995,
          97,
          1054,
          1042,
          283,
          214,
          418
         ]
        }
       ],
       "layout": {
        "barmode": "relative",
        "font": {
         "size": 20
        },
        "height": 600,
        "legend": {
         "bgcolor": "grey",
         "font": {
          "color": "white",
          "size": 14
         }
        },
        "plot_bgcolor": "grey",
        "template": {
         "data": {
          "bar": [
           {
            "error_x": {
             "color": "#2a3f5f"
            },
            "error_y": {
             "color": "#2a3f5f"
            },
            "marker": {
             "line": {
              "color": "#E5ECF6",
              "width": 0.5
             },
             "pattern": {
              "fillmode": "overlay",
              "size": 10,
              "solidity": 0.2
             }
            },
            "type": "bar"
           }
          ],
          "barpolar": [
           {
            "marker": {
             "line": {
              "color": "#E5ECF6",
              "width": 0.5
             },
             "pattern": {
              "fillmode": "overlay",
              "size": 10,
              "solidity": 0.2
             }
            },
            "type": "barpolar"
           }
          ],
          "carpet": [
           {
            "aaxis": {
             "endlinecolor": "#2a3f5f",
             "gridcolor": "white",
             "linecolor": "white",
             "minorgridcolor": "white",
             "startlinecolor": "#2a3f5f"
            },
            "baxis": {
             "endlinecolor": "#2a3f5f",
             "gridcolor": "white",
             "linecolor": "white",
             "minorgridcolor": "white",
             "startlinecolor": "#2a3f5f"
            },
            "type": "carpet"
           }
          ],
          "choropleth": [
           {
            "colorbar": {
             "outlinewidth": 0,
             "ticks": ""
            },
            "type": "choropleth"
           }
          ],
          "contour": [
           {
            "colorbar": {
             "outlinewidth": 0,
             "ticks": ""
            },
            "colorscale": [
             [
              0,
              "#0d0887"
             ],
             [
              0.1111111111111111,
              "#46039f"
             ],
             [
              0.2222222222222222,
              "#7201a8"
             ],
             [
              0.3333333333333333,
              "#9c179e"
             ],
             [
              0.4444444444444444,
              "#bd3786"
             ],
             [
              0.5555555555555556,
              "#d8576b"
             ],
             [
              0.6666666666666666,
              "#ed7953"
             ],
             [
              0.7777777777777778,
              "#fb9f3a"
             ],
             [
              0.8888888888888888,
              "#fdca26"
             ],
             [
              1,
              "#f0f921"
             ]
            ],
            "type": "contour"
           }
          ],
          "contourcarpet": [
           {
            "colorbar": {
             "outlinewidth": 0,
             "ticks": ""
            },
            "type": "contourcarpet"
           }
          ],
          "heatmap": [
           {
            "colorbar": {
             "outlinewidth": 0,
             "ticks": ""
            },
            "colorscale": [
             [
              0,
              "#0d0887"
             ],
             [
              0.1111111111111111,
              "#46039f"
             ],
             [
              0.2222222222222222,
              "#7201a8"
             ],
             [
              0.3333333333333333,
              "#9c179e"
             ],
             [
              0.4444444444444444,
              "#bd3786"
             ],
             [
              0.5555555555555556,
              "#d8576b"
             ],
             [
              0.6666666666666666,
              "#ed7953"
             ],
             [
              0.7777777777777778,
              "#fb9f3a"
             ],
             [
              0.8888888888888888,
              "#fdca26"
             ],
             [
              1,
              "#f0f921"
             ]
            ],
            "type": "heatmap"
           }
          ],
          "heatmapgl": [
           {
            "colorbar": {
             "outlinewidth": 0,
             "ticks": ""
            },
            "colorscale": [
             [
              0,
              "#0d0887"
             ],
             [
              0.1111111111111111,
              "#46039f"
             ],
             [
              0.2222222222222222,
              "#7201a8"
             ],
             [
              0.3333333333333333,
              "#9c179e"
             ],
             [
              0.4444444444444444,
              "#bd3786"
             ],
             [
              0.5555555555555556,
              "#d8576b"
             ],
             [
              0.6666666666666666,
              "#ed7953"
             ],
             [
              0.7777777777777778,
              "#fb9f3a"
             ],
             [
              0.8888888888888888,
              "#fdca26"
             ],
             [
              1,
              "#f0f921"
             ]
            ],
            "type": "heatmapgl"
           }
          ],
          "histogram": [
           {
            "marker": {
             "pattern": {
              "fillmode": "overlay",
              "size": 10,
              "solidity": 0.2
             }
            },
            "type": "histogram"
           }
          ],
          "histogram2d": [
           {
            "colorbar": {
             "outlinewidth": 0,
             "ticks": ""
            },
            "colorscale": [
             [
              0,
              "#0d0887"
             ],
             [
              0.1111111111111111,
              "#46039f"
             ],
             [
              0.2222222222222222,
              "#7201a8"
             ],
             [
              0.3333333333333333,
              "#9c179e"
             ],
             [
              0.4444444444444444,
              "#bd3786"
             ],
             [
              0.5555555555555556,
              "#d8576b"
             ],
             [
              0.6666666666666666,
              "#ed7953"
             ],
             [
              0.7777777777777778,
              "#fb9f3a"
             ],
             [
              0.8888888888888888,
              "#fdca26"
             ],
             [
              1,
              "#f0f921"
             ]
            ],
            "type": "histogram2d"
           }
          ],
          "histogram2dcontour": [
           {
            "colorbar": {
             "outlinewidth": 0,
             "ticks": ""
            },
            "colorscale": [
             [
              0,
              "#0d0887"
             ],
             [
              0.1111111111111111,
              "#46039f"
             ],
             [
              0.2222222222222222,
              "#7201a8"
             ],
             [
              0.3333333333333333,
              "#9c179e"
             ],
             [
              0.4444444444444444,
              "#bd3786"
             ],
             [
              0.5555555555555556,
              "#d8576b"
             ],
             [
              0.6666666666666666,
              "#ed7953"
             ],
             [
              0.7777777777777778,
              "#fb9f3a"
             ],
             [
              0.8888888888888888,
              "#fdca26"
             ],
             [
              1,
              "#f0f921"
             ]
            ],
            "type": "histogram2dcontour"
           }
          ],
          "mesh3d": [
           {
            "colorbar": {
             "outlinewidth": 0,
             "ticks": ""
            },
            "type": "mesh3d"
           }
          ],
          "parcoords": [
           {
            "line": {
             "colorbar": {
              "outlinewidth": 0,
              "ticks": ""
             }
            },
            "type": "parcoords"
           }
          ],
          "pie": [
           {
            "automargin": true,
            "type": "pie"
           }
          ],
          "scatter": [
           {
            "fillpattern": {
             "fillmode": "overlay",
             "size": 10,
             "solidity": 0.2
            },
            "type": "scatter"
           }
          ],
          "scatter3d": [
           {
            "line": {
             "colorbar": {
              "outlinewidth": 0,
              "ticks": ""
             }
            },
            "marker": {
             "colorbar": {
              "outlinewidth": 0,
              "ticks": ""
             }
            },
            "type": "scatter3d"
           }
          ],
          "scattercarpet": [
           {
            "marker": {
             "colorbar": {
              "outlinewidth": 0,
              "ticks": ""
             }
            },
            "type": "scattercarpet"
           }
          ],
          "scattergeo": [
           {
            "marker": {
             "colorbar": {
              "outlinewidth": 0,
              "ticks": ""
             }
            },
            "type": "scattergeo"
           }
          ],
          "scattergl": [
           {
            "marker": {
             "colorbar": {
              "outlinewidth": 0,
              "ticks": ""
             }
            },
            "type": "scattergl"
           }
          ],
          "scattermapbox": [
           {
            "marker": {
             "colorbar": {
              "outlinewidth": 0,
              "ticks": ""
             }
            },
            "type": "scattermapbox"
           }
          ],
          "scatterpolar": [
           {
            "marker": {
             "colorbar": {
              "outlinewidth": 0,
              "ticks": ""
             }
            },
            "type": "scatterpolar"
           }
          ],
          "scatterpolargl": [
           {
            "marker": {
             "colorbar": {
              "outlinewidth": 0,
              "ticks": ""
             }
            },
            "type": "scatterpolargl"
           }
          ],
          "scatterternary": [
           {
            "marker": {
             "colorbar": {
              "outlinewidth": 0,
              "ticks": ""
             }
            },
            "type": "scatterternary"
           }
          ],
          "surface": [
           {
            "colorbar": {
             "outlinewidth": 0,
             "ticks": ""
            },
            "colorscale": [
             [
              0,
              "#0d0887"
             ],
             [
              0.1111111111111111,
              "#46039f"
             ],
             [
              0.2222222222222222,
              "#7201a8"
             ],
             [
              0.3333333333333333,
              "#9c179e"
             ],
             [
              0.4444444444444444,
              "#bd3786"
             ],
             [
              0.5555555555555556,
              "#d8576b"
             ],
             [
              0.6666666666666666,
              "#ed7953"
             ],
             [
              0.7777777777777778,
              "#fb9f3a"
             ],
             [
              0.8888888888888888,
              "#fdca26"
             ],
             [
              1,
              "#f0f921"
             ]
            ],
            "type": "surface"
           }
          ],
          "table": [
           {
            "cells": {
             "fill": {
              "color": "#EBF0F8"
             },
             "line": {
              "color": "white"
             }
            },
            "header": {
             "fill": {
              "color": "#C8D4E3"
             },
             "line": {
              "color": "white"
             }
            },
            "type": "table"
           }
          ]
         },
         "layout": {
          "annotationdefaults": {
           "arrowcolor": "#2a3f5f",
           "arrowhead": 0,
           "arrowwidth": 1
          },
          "autotypenumbers": "strict",
          "coloraxis": {
           "colorbar": {
            "outlinewidth": 0,
            "ticks": ""
           }
          },
          "colorscale": {
           "diverging": [
            [
             0,
             "#8e0152"
            ],
            [
             0.1,
             "#c51b7d"
            ],
            [
             0.2,
             "#de77ae"
            ],
            [
             0.3,
             "#f1b6da"
            ],
            [
             0.4,
             "#fde0ef"
            ],
            [
             0.5,
             "#f7f7f7"
            ],
            [
             0.6,
             "#e6f5d0"
            ],
            [
             0.7,
             "#b8e186"
            ],
            [
             0.8,
             "#7fbc41"
            ],
            [
             0.9,
             "#4d9221"
            ],
            [
             1,
             "#276419"
            ]
           ],
           "sequential": [
            [
             0,
             "#0d0887"
            ],
            [
             0.1111111111111111,
             "#46039f"
            ],
            [
             0.2222222222222222,
             "#7201a8"
            ],
            [
             0.3333333333333333,
             "#9c179e"
            ],
            [
             0.4444444444444444,
             "#bd3786"
            ],
            [
             0.5555555555555556,
             "#d8576b"
            ],
            [
             0.6666666666666666,
             "#ed7953"
            ],
            [
             0.7777777777777778,
             "#fb9f3a"
            ],
            [
             0.8888888888888888,
             "#fdca26"
            ],
            [
             1,
             "#f0f921"
            ]
           ],
           "sequentialminus": [
            [
             0,
             "#0d0887"
            ],
            [
             0.1111111111111111,
             "#46039f"
            ],
            [
             0.2222222222222222,
             "#7201a8"
            ],
            [
             0.3333333333333333,
             "#9c179e"
            ],
            [
             0.4444444444444444,
             "#bd3786"
            ],
            [
             0.5555555555555556,
             "#d8576b"
            ],
            [
             0.6666666666666666,
             "#ed7953"
            ],
            [
             0.7777777777777778,
             "#fb9f3a"
            ],
            [
             0.8888888888888888,
             "#fdca26"
            ],
            [
             1,
             "#f0f921"
            ]
           ]
          },
          "colorway": [
           "#636efa",
           "#EF553B",
           "#00cc96",
           "#ab63fa",
           "#FFA15A",
           "#19d3f3",
           "#FF6692",
           "#B6E880",
           "#FF97FF",
           "#FECB52"
          ],
          "font": {
           "color": "#2a3f5f"
          },
          "geo": {
           "bgcolor": "white",
           "lakecolor": "white",
           "landcolor": "#E5ECF6",
           "showlakes": true,
           "showland": true,
           "subunitcolor": "white"
          },
          "hoverlabel": {
           "align": "left"
          },
          "hovermode": "closest",
          "mapbox": {
           "style": "light"
          },
          "paper_bgcolor": "white",
          "plot_bgcolor": "#E5ECF6",
          "polar": {
           "angularaxis": {
            "gridcolor": "white",
            "linecolor": "white",
            "ticks": ""
           },
           "bgcolor": "#E5ECF6",
           "radialaxis": {
            "gridcolor": "white",
            "linecolor": "white",
            "ticks": ""
           }
          },
          "scene": {
           "xaxis": {
            "backgroundcolor": "#E5ECF6",
            "gridcolor": "white",
            "gridwidth": 2,
            "linecolor": "white",
            "showbackground": true,
            "ticks": "",
            "zerolinecolor": "white"
           },
           "yaxis": {
            "backgroundcolor": "#E5ECF6",
            "gridcolor": "white",
            "gridwidth": 2,
            "linecolor": "white",
            "showbackground": true,
            "ticks": "",
            "zerolinecolor": "white"
           },
           "zaxis": {
            "backgroundcolor": "#E5ECF6",
            "gridcolor": "white",
            "gridwidth": 2,
            "linecolor": "white",
            "showbackground": true,
            "ticks": "",
            "zerolinecolor": "white"
           }
          },
          "shapedefaults": {
           "line": {
            "color": "#2a3f5f"
           }
          },
          "ternary": {
           "aaxis": {
            "gridcolor": "white",
            "linecolor": "white",
            "ticks": ""
           },
           "baxis": {
            "gridcolor": "white",
            "linecolor": "white",
            "ticks": ""
           },
           "bgcolor": "#E5ECF6",
           "caxis": {
            "gridcolor": "white",
            "linecolor": "white",
            "ticks": ""
           }
          },
          "title": {
           "x": 0.05
          },
          "xaxis": {
           "automargin": true,
           "gridcolor": "white",
           "linecolor": "white",
           "ticks": "",
           "title": {
            "standoff": 15
           },
           "zerolinecolor": "white",
           "zerolinewidth": 2
          },
          "yaxis": {
           "automargin": true,
           "gridcolor": "white",
           "linecolor": "white",
           "ticks": "",
           "title": {
            "standoff": 15
           },
           "zerolinecolor": "white",
           "zerolinewidth": 2
          }
         }
        },
        "title": {
         "font": {
          "color": "black",
          "size": 25
         },
         "text": "Bar Plot",
         "x": 0.1,
         "y": 0.9
        },
        "width": 1000,
        "yaxis": {
         "range": [
          -5958.700000000001,
          5958.700000000001
         ]
        }
       }
      },
      "text/html": [
       "<div>                            <div id=\"8a1efed3-fa1c-42b3-b019-8d2134c8bc76\" class=\"plotly-graph-div\" style=\"height:600px; width:1000px;\"></div>            <script type=\"text/javascript\">                require([\"plotly\"], function(Plotly) {                    window.PLOTLYENV=window.PLOTLYENV || {};                                    if (document.getElementById(\"8a1efed3-fa1c-42b3-b019-8d2134c8bc76\")) {                    Plotly.newPlot(                        \"8a1efed3-fa1c-42b3-b019-8d2134c8bc76\",                        [{\"name\":\"Like\",\"x\":[1991,2000,2002,2004,2005,2006,2007,2008,2010,2011,2012,2014,2015,2016,2017,2018,2019,2020,2021,2022,2023],\"y\":[241,2196,19,5417,146,198,19,73,2270,564,57,977,1042,36,3513,99,1191,1089,299,272,498],\"type\":\"bar\"},{\"name\":\"Dislike\",\"x\":[1991,2000,2002,2004,2005,2006,2007,2008,2010,2011,2012,2014,2015,2016,2017,2018,2019,2020,2021,2022,2023],\"y\":[-31,-200,-5,-680,-8,-66,0,-43,-202,-156,-22,-329,-194,0,-518,-2,-137,-47,-16,-58,-80],\"type\":\"bar\"},{\"marker\":{\"color\":\"white\",\"size\":8},\"mode\":\"lines+markers\",\"name\":\"Overall\",\"x\":[1991,2000,2002,2004,2005,2006,2007,2008,2010,2011,2012,2014,2015,2016,2017,2018,2019,2020,2021,2022,2023],\"y\":[210,1996,14,4737,138,132,19,30,2068,408,35,648,848,36,2995,97,1054,1042,283,214,418],\"type\":\"scatter\"}],                        {\"template\":{\"data\":{\"histogram2dcontour\":[{\"type\":\"histogram2dcontour\",\"colorbar\":{\"outlinewidth\":0,\"ticks\":\"\"},\"colorscale\":[[0.0,\"#0d0887\"],[0.1111111111111111,\"#46039f\"],[0.2222222222222222,\"#7201a8\"],[0.3333333333333333,\"#9c179e\"],[0.4444444444444444,\"#bd3786\"],[0.5555555555555556,\"#d8576b\"],[0.6666666666666666,\"#ed7953\"],[0.7777777777777778,\"#fb9f3a\"],[0.8888888888888888,\"#fdca26\"],[1.0,\"#f0f921\"]]}],\"choropleth\":[{\"type\":\"choropleth\",\"colorbar\":{\"outlinewidth\":0,\"ticks\":\"\"}}],\"histogram2d\":[{\"type\":\"histogram2d\",\"colorbar\":{\"outlinewidth\":0,\"ticks\":\"\"},\"colorscale\":[[0.0,\"#0d0887\"],[0.1111111111111111,\"#46039f\"],[0.2222222222222222,\"#7201a8\"],[0.3333333333333333,\"#9c179e\"],[0.4444444444444444,\"#bd3786\"],[0.5555555555555556,\"#d8576b\"],[0.6666666666666666,\"#ed7953\"],[0.7777777777777778,\"#fb9f3a\"],[0.8888888888888888,\"#fdca26\"],[1.0,\"#f0f921\"]]}],\"heatmap\":[{\"type\":\"heatmap\",\"colorbar\":{\"outlinewidth\":0,\"ticks\":\"\"},\"colorscale\":[[0.0,\"#0d0887\"],[0.1111111111111111,\"#46039f\"],[0.2222222222222222,\"#7201a8\"],[0.3333333333333333,\"#9c179e\"],[0.4444444444444444,\"#bd3786\"],[0.5555555555555556,\"#d8576b\"],[0.6666666666666666,\"#ed7953\"],[0.7777777777777778,\"#fb9f3a\"],[0.8888888888888888,\"#fdca26\"],[1.0,\"#f0f921\"]]}],\"heatmapgl\":[{\"type\":\"heatmapgl\",\"colorbar\":{\"outlinewidth\":0,\"ticks\":\"\"},\"colorscale\":[[0.0,\"#0d0887\"],[0.1111111111111111,\"#46039f\"],[0.2222222222222222,\"#7201a8\"],[0.3333333333333333,\"#9c179e\"],[0.4444444444444444,\"#bd3786\"],[0.5555555555555556,\"#d8576b\"],[0.6666666666666666,\"#ed7953\"],[0.7777777777777778,\"#fb9f3a\"],[0.8888888888888888,\"#fdca26\"],[1.0,\"#f0f921\"]]}],\"contourcarpet\":[{\"type\":\"contourcarpet\",\"colorbar\":{\"outlinewidth\":0,\"ticks\":\"\"}}],\"contour\":[{\"type\":\"contour\",\"colorbar\":{\"outlinewidth\":0,\"ticks\":\"\"},\"colorscale\":[[0.0,\"#0d0887\"],[0.1111111111111111,\"#46039f\"],[0.2222222222222222,\"#7201a8\"],[0.3333333333333333,\"#9c179e\"],[0.4444444444444444,\"#bd3786\"],[0.5555555555555556,\"#d8576b\"],[0.6666666666666666,\"#ed7953\"],[0.7777777777777778,\"#fb9f3a\"],[0.8888888888888888,\"#fdca26\"],[1.0,\"#f0f921\"]]}],\"surface\":[{\"type\":\"surface\",\"colorbar\":{\"outlinewidth\":0,\"ticks\":\"\"},\"colorscale\":[[0.0,\"#0d0887\"],[0.1111111111111111,\"#46039f\"],[0.2222222222222222,\"#7201a8\"],[0.3333333333333333,\"#9c179e\"],[0.4444444444444444,\"#bd3786\"],[0.5555555555555556,\"#d8576b\"],[0.6666666666666666,\"#ed7953\"],[0.7777777777777778,\"#fb9f3a\"],[0.8888888888888888,\"#fdca26\"],[1.0,\"#f0f921\"]]}],\"mesh3d\":[{\"type\":\"mesh3d\",\"colorbar\":{\"outlinewidth\":0,\"ticks\":\"\"}}],\"scatter\":[{\"fillpattern\":{\"fillmode\":\"overlay\",\"size\":10,\"solidity\":0.2},\"type\":\"scatter\"}],\"parcoords\":[{\"type\":\"parcoords\",\"line\":{\"colorbar\":{\"outlinewidth\":0,\"ticks\":\"\"}}}],\"scatterpolargl\":[{\"type\":\"scatterpolargl\",\"marker\":{\"colorbar\":{\"outlinewidth\":0,\"ticks\":\"\"}}}],\"bar\":[{\"error_x\":{\"color\":\"#2a3f5f\"},\"error_y\":{\"color\":\"#2a3f5f\"},\"marker\":{\"line\":{\"color\":\"#E5ECF6\",\"width\":0.5},\"pattern\":{\"fillmode\":\"overlay\",\"size\":10,\"solidity\":0.2}},\"type\":\"bar\"}],\"scattergeo\":[{\"type\":\"scattergeo\",\"marker\":{\"colorbar\":{\"outlinewidth\":0,\"ticks\":\"\"}}}],\"scatterpolar\":[{\"type\":\"scatterpolar\",\"marker\":{\"colorbar\":{\"outlinewidth\":0,\"ticks\":\"\"}}}],\"histogram\":[{\"marker\":{\"pattern\":{\"fillmode\":\"overlay\",\"size\":10,\"solidity\":0.2}},\"type\":\"histogram\"}],\"scattergl\":[{\"type\":\"scattergl\",\"marker\":{\"colorbar\":{\"outlinewidth\":0,\"ticks\":\"\"}}}],\"scatter3d\":[{\"type\":\"scatter3d\",\"line\":{\"colorbar\":{\"outlinewidth\":0,\"ticks\":\"\"}},\"marker\":{\"colorbar\":{\"outlinewidth\":0,\"ticks\":\"\"}}}],\"scattermapbox\":[{\"type\":\"scattermapbox\",\"marker\":{\"colorbar\":{\"outlinewidth\":0,\"ticks\":\"\"}}}],\"scatterternary\":[{\"type\":\"scatterternary\",\"marker\":{\"colorbar\":{\"outlinewidth\":0,\"ticks\":\"\"}}}],\"scattercarpet\":[{\"type\":\"scattercarpet\",\"marker\":{\"colorbar\":{\"outlinewidth\":0,\"ticks\":\"\"}}}],\"carpet\":[{\"aaxis\":{\"endlinecolor\":\"#2a3f5f\",\"gridcolor\":\"white\",\"linecolor\":\"white\",\"minorgridcolor\":\"white\",\"startlinecolor\":\"#2a3f5f\"},\"baxis\":{\"endlinecolor\":\"#2a3f5f\",\"gridcolor\":\"white\",\"linecolor\":\"white\",\"minorgridcolor\":\"white\",\"startlinecolor\":\"#2a3f5f\"},\"type\":\"carpet\"}],\"table\":[{\"cells\":{\"fill\":{\"color\":\"#EBF0F8\"},\"line\":{\"color\":\"white\"}},\"header\":{\"fill\":{\"color\":\"#C8D4E3\"},\"line\":{\"color\":\"white\"}},\"type\":\"table\"}],\"barpolar\":[{\"marker\":{\"line\":{\"color\":\"#E5ECF6\",\"width\":0.5},\"pattern\":{\"fillmode\":\"overlay\",\"size\":10,\"solidity\":0.2}},\"type\":\"barpolar\"}],\"pie\":[{\"automargin\":true,\"type\":\"pie\"}]},\"layout\":{\"autotypenumbers\":\"strict\",\"colorway\":[\"#636efa\",\"#EF553B\",\"#00cc96\",\"#ab63fa\",\"#FFA15A\",\"#19d3f3\",\"#FF6692\",\"#B6E880\",\"#FF97FF\",\"#FECB52\"],\"font\":{\"color\":\"#2a3f5f\"},\"hovermode\":\"closest\",\"hoverlabel\":{\"align\":\"left\"},\"paper_bgcolor\":\"white\",\"plot_bgcolor\":\"#E5ECF6\",\"polar\":{\"bgcolor\":\"#E5ECF6\",\"angularaxis\":{\"gridcolor\":\"white\",\"linecolor\":\"white\",\"ticks\":\"\"},\"radialaxis\":{\"gridcolor\":\"white\",\"linecolor\":\"white\",\"ticks\":\"\"}},\"ternary\":{\"bgcolor\":\"#E5ECF6\",\"aaxis\":{\"gridcolor\":\"white\",\"linecolor\":\"white\",\"ticks\":\"\"},\"baxis\":{\"gridcolor\":\"white\",\"linecolor\":\"white\",\"ticks\":\"\"},\"caxis\":{\"gridcolor\":\"white\",\"linecolor\":\"white\",\"ticks\":\"\"}},\"coloraxis\":{\"colorbar\":{\"outlinewidth\":0,\"ticks\":\"\"}},\"colorscale\":{\"sequential\":[[0.0,\"#0d0887\"],[0.1111111111111111,\"#46039f\"],[0.2222222222222222,\"#7201a8\"],[0.3333333333333333,\"#9c179e\"],[0.4444444444444444,\"#bd3786\"],[0.5555555555555556,\"#d8576b\"],[0.6666666666666666,\"#ed7953\"],[0.7777777777777778,\"#fb9f3a\"],[0.8888888888888888,\"#fdca26\"],[1.0,\"#f0f921\"]],\"sequentialminus\":[[0.0,\"#0d0887\"],[0.1111111111111111,\"#46039f\"],[0.2222222222222222,\"#7201a8\"],[0.3333333333333333,\"#9c179e\"],[0.4444444444444444,\"#bd3786\"],[0.5555555555555556,\"#d8576b\"],[0.6666666666666666,\"#ed7953\"],[0.7777777777777778,\"#fb9f3a\"],[0.8888888888888888,\"#fdca26\"],[1.0,\"#f0f921\"]],\"diverging\":[[0,\"#8e0152\"],[0.1,\"#c51b7d\"],[0.2,\"#de77ae\"],[0.3,\"#f1b6da\"],[0.4,\"#fde0ef\"],[0.5,\"#f7f7f7\"],[0.6,\"#e6f5d0\"],[0.7,\"#b8e186\"],[0.8,\"#7fbc41\"],[0.9,\"#4d9221\"],[1,\"#276419\"]]},\"xaxis\":{\"gridcolor\":\"white\",\"linecolor\":\"white\",\"ticks\":\"\",\"title\":{\"standoff\":15},\"zerolinecolor\":\"white\",\"automargin\":true,\"zerolinewidth\":2},\"yaxis\":{\"gridcolor\":\"white\",\"linecolor\":\"white\",\"ticks\":\"\",\"title\":{\"standoff\":15},\"zerolinecolor\":\"white\",\"automargin\":true,\"zerolinewidth\":2},\"scene\":{\"xaxis\":{\"backgroundcolor\":\"#E5ECF6\",\"gridcolor\":\"white\",\"linecolor\":\"white\",\"showbackground\":true,\"ticks\":\"\",\"zerolinecolor\":\"white\",\"gridwidth\":2},\"yaxis\":{\"backgroundcolor\":\"#E5ECF6\",\"gridcolor\":\"white\",\"linecolor\":\"white\",\"showbackground\":true,\"ticks\":\"\",\"zerolinecolor\":\"white\",\"gridwidth\":2},\"zaxis\":{\"backgroundcolor\":\"#E5ECF6\",\"gridcolor\":\"white\",\"linecolor\":\"white\",\"showbackground\":true,\"ticks\":\"\",\"zerolinecolor\":\"white\",\"gridwidth\":2}},\"shapedefaults\":{\"line\":{\"color\":\"#2a3f5f\"}},\"annotationdefaults\":{\"arrowcolor\":\"#2a3f5f\",\"arrowhead\":0,\"arrowwidth\":1},\"geo\":{\"bgcolor\":\"white\",\"landcolor\":\"#E5ECF6\",\"subunitcolor\":\"white\",\"showland\":true,\"showlakes\":true,\"lakecolor\":\"white\"},\"title\":{\"x\":0.05},\"mapbox\":{\"style\":\"light\"}}},\"title\":{\"font\":{\"size\":25,\"color\":\"black\"},\"text\":\"Bar Plot\",\"x\":0.1,\"y\":0.9},\"font\":{\"size\":20},\"legend\":{\"font\":{\"size\":14,\"color\":\"white\"},\"bgcolor\":\"grey\"},\"yaxis\":{\"range\":[-5958.700000000001,5958.700000000001]},\"barmode\":\"relative\",\"width\":1000,\"height\":600,\"plot_bgcolor\":\"grey\"},                        {\"responsive\": true}                    ).then(function(){\n",
       "                            \n",
       "var gd = document.getElementById('8a1efed3-fa1c-42b3-b019-8d2134c8bc76');\n",
       "var x = new MutationObserver(function (mutations, observer) {{\n",
       "        var display = window.getComputedStyle(gd).display;\n",
       "        if (!display || display === 'none') {{\n",
       "            console.log([gd, 'removed!']);\n",
       "            Plotly.purge(gd);\n",
       "            observer.disconnect();\n",
       "        }}\n",
       "}});\n",
       "\n",
       "// Listen for the removal of the full notebook cells\n",
       "var notebookContainer = gd.closest('#notebook-container');\n",
       "if (notebookContainer) {{\n",
       "    x.observe(notebookContainer, {childList: true});\n",
       "}}\n",
       "\n",
       "// Listen for the clearing of the current output cell\n",
       "var outputEl = gd.closest('.output');\n",
       "if (outputEl) {{\n",
       "    x.observe(outputEl, {childList: true});\n",
       "}}\n",
       "\n",
       "                        })                };                });            </script>        </div>"
      ]
     },
     "metadata": {},
     "output_type": "display_data"
    }
   ],
   "source": [
    "# 긍부정 트랜드\n",
    "df_sentiment = df_result.copy()\n",
    "df_sentiment.Like = df_sentiment.Like.apply(lambda x: 1 if x > 0 else 0)\n",
    "df_sentiment.Dislike = df_sentiment.Dislike.apply(lambda x: -1 if x > 0 else 0)\n",
    "df_sent_time = df_sentiment.groupby('Opening')[['Like', 'Dislike']].sum()\n",
    "plot_bar(df_sent_time, summation=True, save_local=False)"
   ]
  },
  {
   "cell_type": "code",
   "execution_count": 20,
   "id": "7255e387",
   "metadata": {
    "ExecuteTime": {
     "end_time": "2024-12-03T13:32:51.461466Z",
     "start_time": "2024-12-03T13:32:51.118910Z"
    }
   },
   "outputs": [
    {
     "data": {
      "text/html": [
       "<style type=\"text/css\">\n",
       "#T_f53db_row0_col1, #T_f53db_row1_col1, #T_f53db_row2_col1, #T_f53db_row3_col1, #T_f53db_row4_col1, #T_f53db_row5_col1, #T_f53db_row6_col1, #T_f53db_row7_col1, #T_f53db_row8_col1, #T_f53db_row9_col1, #T_f53db_row10_col1, #T_f53db_row11_col1, #T_f53db_row12_col1, #T_f53db_row13_col1, #T_f53db_row14_col1, #T_f53db_row15_col1, #T_f53db_row16_col1, #T_f53db_row17_col1, #T_f53db_row18_col1, #T_f53db_row19_col1, #T_f53db_row20_col1, #T_f53db_row21_col1, #T_f53db_row22_col1, #T_f53db_row23_col1, #T_f53db_row24_col1, #T_f53db_row25_col1, #T_f53db_row26_col1, #T_f53db_row27_col1, #T_f53db_row28_col1, #T_f53db_row29_col1, #T_f53db_row30_col1, #T_f53db_row31_col1, #T_f53db_row32_col1, #T_f53db_row33_col1, #T_f53db_row34_col1 {\n",
       "  background-color: yellow;\n",
       "}\n",
       "</style>\n",
       "<table id=\"T_f53db\">\n",
       "  <thead>\n",
       "    <tr>\n",
       "      <th class=\"blank level0\" >&nbsp;</th>\n",
       "      <th id=\"T_f53db_level0_col0\" class=\"col_heading level0 col0\" >Sentiment-1</th>\n",
       "      <th id=\"T_f53db_level0_col1\" class=\"col_heading level0 col1\" >Sentiment1</th>\n",
       "    </tr>\n",
       "    <tr>\n",
       "      <th class=\"index_name level0\" >Movie</th>\n",
       "      <th class=\"blank col0\" >&nbsp;</th>\n",
       "      <th class=\"blank col1\" >&nbsp;</th>\n",
       "    </tr>\n",
       "  </thead>\n",
       "  <tbody>\n",
       "    <tr>\n",
       "      <th id=\"T_f53db_level0_row0\" class=\"row_heading level0 row0\" >그대 어이가리</th>\n",
       "      <td id=\"T_f53db_row0_col0\" class=\"data row0 col0\" >0.024590</td>\n",
       "      <td id=\"T_f53db_row0_col1\" class=\"data row0 col1\" >0.975410</td>\n",
       "    </tr>\n",
       "    <tr>\n",
       "      <th id=\"T_f53db_level0_row1\" class=\"row_heading level0 row1\" >그대를 사랑합니다</th>\n",
       "      <td id=\"T_f53db_row1_col0\" class=\"data row1 col0\" >0.000000</td>\n",
       "      <td id=\"T_f53db_row1_col1\" class=\"data row1 col1\" >1.000000</td>\n",
       "    </tr>\n",
       "    <tr>\n",
       "      <th id=\"T_f53db_level0_row2\" class=\"row_heading level0 row2\" >금발의 초원</th>\n",
       "      <td id=\"T_f53db_row2_col0\" class=\"data row2 col0\" >0.056338</td>\n",
       "      <td id=\"T_f53db_row2_col1\" class=\"data row2 col1\" >0.943662</td>\n",
       "    </tr>\n",
       "    <tr>\n",
       "      <th id=\"T_f53db_level0_row3\" class=\"row_heading level0 row3\" >기억</th>\n",
       "      <td id=\"T_f53db_row3_col0\" class=\"data row3 col0\" >0.000000</td>\n",
       "      <td id=\"T_f53db_row3_col1\" class=\"data row3 col1\" >1.000000</td>\n",
       "    </tr>\n",
       "    <tr>\n",
       "      <th id=\"T_f53db_level0_row4\" class=\"row_heading level0 row4\" >나빌레라</th>\n",
       "      <td id=\"T_f53db_row4_col0\" class=\"data row4 col0\" >0.000000</td>\n",
       "      <td id=\"T_f53db_row4_col1\" class=\"data row4 col1\" >1.000000</td>\n",
       "    </tr>\n",
       "    <tr>\n",
       "      <th id=\"T_f53db_level0_row5\" class=\"row_heading level0 row5\" >내 머리 속의 지우개</th>\n",
       "      <td id=\"T_f53db_row5_col0\" class=\"data row5 col0\" >0.001230</td>\n",
       "      <td id=\"T_f53db_row5_col1\" class=\"data row5 col1\" >0.998770</td>\n",
       "    </tr>\n",
       "    <tr>\n",
       "      <th id=\"T_f53db_level0_row6\" class=\"row_heading level0 row6\" >내일의 기억</th>\n",
       "      <td id=\"T_f53db_row6_col0\" class=\"data row6 col0\" >0.000000</td>\n",
       "      <td id=\"T_f53db_row6_col1\" class=\"data row6 col1\" >1.000000</td>\n",
       "    </tr>\n",
       "    <tr>\n",
       "      <th id=\"T_f53db_level0_row7\" class=\"row_heading level0 row7\" >노인들</th>\n",
       "      <td id=\"T_f53db_row7_col0\" class=\"data row7 col0\" >0.000000</td>\n",
       "      <td id=\"T_f53db_row7_col1\" class=\"data row7 col1\" >1.000000</td>\n",
       "    </tr>\n",
       "    <tr>\n",
       "      <th id=\"T_f53db_level0_row8\" class=\"row_heading level0 row8\" >노트북</th>\n",
       "      <td id=\"T_f53db_row8_col0\" class=\"data row8 col0\" >0.000000</td>\n",
       "      <td id=\"T_f53db_row8_col1\" class=\"data row8 col1\" >1.000000</td>\n",
       "    </tr>\n",
       "    <tr>\n",
       "      <th id=\"T_f53db_level0_row9\" class=\"row_heading level0 row9\" >눈이 부시게</th>\n",
       "      <td id=\"T_f53db_row9_col0\" class=\"data row9 col0\" >0.000000</td>\n",
       "      <td id=\"T_f53db_row9_col1\" class=\"data row9 col1\" >1.000000</td>\n",
       "    </tr>\n",
       "    <tr>\n",
       "      <th id=\"T_f53db_level0_row10\" class=\"row_heading level0 row10\" >더 파더</th>\n",
       "      <td id=\"T_f53db_row10_col0\" class=\"data row10 col0\" >0.004596</td>\n",
       "      <td id=\"T_f53db_row10_col1\" class=\"data row10 col1\" >0.995404</td>\n",
       "    </tr>\n",
       "    <tr>\n",
       "      <th id=\"T_f53db_level0_row11\" class=\"row_heading level0 row11\" >딸에 대하여</th>\n",
       "      <td id=\"T_f53db_row11_col0\" class=\"data row11 col0\" >0.055432</td>\n",
       "      <td id=\"T_f53db_row11_col1\" class=\"data row11 col1\" >0.944568</td>\n",
       "    </tr>\n",
       "    <tr>\n",
       "      <th id=\"T_f53db_level0_row12\" class=\"row_heading level0 row12\" >러블리, 스틸</th>\n",
       "      <td id=\"T_f53db_row12_col0\" class=\"data row12 col0\" >0.232877</td>\n",
       "      <td id=\"T_f53db_row12_col1\" class=\"data row12 col1\" >0.767123</td>\n",
       "    </tr>\n",
       "    <tr>\n",
       "      <th id=\"T_f53db_level0_row13\" class=\"row_heading level0 row13\" >레저 시커</th>\n",
       "      <td id=\"T_f53db_row13_col0\" class=\"data row13 col0\" >0.000000</td>\n",
       "      <td id=\"T_f53db_row13_col1\" class=\"data row13 col1\" >1.000000</td>\n",
       "    </tr>\n",
       "    <tr>\n",
       "      <th id=\"T_f53db_level0_row14\" class=\"row_heading level0 row14\" >로망</th>\n",
       "      <td id=\"T_f53db_row14_col0\" class=\"data row14 col0\" >0.010345</td>\n",
       "      <td id=\"T_f53db_row14_col1\" class=\"data row14 col1\" >0.989655</td>\n",
       "    </tr>\n",
       "    <tr>\n",
       "      <th id=\"T_f53db_level0_row15\" class=\"row_heading level0 row15\" >메멘토</th>\n",
       "      <td id=\"T_f53db_row15_col0\" class=\"data row15 col0\" >0.025023</td>\n",
       "      <td id=\"T_f53db_row15_col1\" class=\"data row15 col1\" >0.974977</td>\n",
       "    </tr>\n",
       "    <tr>\n",
       "      <th id=\"T_f53db_level0_row16\" class=\"row_heading level0 row16\" >사랑의 기적</th>\n",
       "      <td id=\"T_f53db_row16_col0\" class=\"data row16 col0\" >0.075697</td>\n",
       "      <td id=\"T_f53db_row16_col1\" class=\"data row16 col1\" >0.924303</td>\n",
       "    </tr>\n",
       "    <tr>\n",
       "      <th id=\"T_f53db_level0_row17\" class=\"row_heading level0 row17\" >살인자의 기억_복수</th>\n",
       "      <td id=\"T_f53db_row17_col0\" class=\"data row17 col0\" >0.086207</td>\n",
       "      <td id=\"T_f53db_row17_col1\" class=\"data row17 col1\" >0.913793</td>\n",
       "    </tr>\n",
       "    <tr>\n",
       "      <th id=\"T_f53db_level0_row18\" class=\"row_heading level0 row18\" >살인자의 기억법</th>\n",
       "      <td id=\"T_f53db_row18_col0\" class=\"data row18 col0\" >0.000000</td>\n",
       "      <td id=\"T_f53db_row18_col1\" class=\"data row18 col1\" >1.000000</td>\n",
       "    </tr>\n",
       "    <tr>\n",
       "      <th id=\"T_f53db_level0_row19\" class=\"row_heading level0 row19\" >세비지스</th>\n",
       "      <td id=\"T_f53db_row19_col0\" class=\"data row19 col0\" >0.000000</td>\n",
       "      <td id=\"T_f53db_row19_col1\" class=\"data row19 col1\" >1.000000</td>\n",
       "    </tr>\n",
       "    <tr>\n",
       "      <th id=\"T_f53db_level0_row20\" class=\"row_heading level0 row20\" >세상에서 가장 아름다운 이별</th>\n",
       "      <td id=\"T_f53db_row20_col0\" class=\"data row20 col0\" >0.000000</td>\n",
       "      <td id=\"T_f53db_row20_col1\" class=\"data row20 col1\" >1.000000</td>\n",
       "    </tr>\n",
       "    <tr>\n",
       "      <th id=\"T_f53db_level0_row21\" class=\"row_heading level0 row21\" >소중한 사람</th>\n",
       "      <td id=\"T_f53db_row21_col0\" class=\"data row21 col0\" >0.200000</td>\n",
       "      <td id=\"T_f53db_row21_col1\" class=\"data row21 col1\" >0.800000</td>\n",
       "    </tr>\n",
       "    <tr>\n",
       "      <th id=\"T_f53db_level0_row22\" class=\"row_heading level0 row22\" >스틸 앨리스</th>\n",
       "      <td id=\"T_f53db_row22_col0\" class=\"data row22 col0\" >0.191281</td>\n",
       "      <td id=\"T_f53db_row22_col1\" class=\"data row22 col1\" >0.808719</td>\n",
       "    </tr>\n",
       "    <tr>\n",
       "      <th id=\"T_f53db_level0_row23\" class=\"row_heading level0 row23\" >시</th>\n",
       "      <td id=\"T_f53db_row23_col0\" class=\"data row23 col0\" >0.000000</td>\n",
       "      <td id=\"T_f53db_row23_col1\" class=\"data row23 col1\" >1.000000</td>\n",
       "    </tr>\n",
       "    <tr>\n",
       "      <th id=\"T_f53db_level0_row24\" class=\"row_heading level0 row24\" >어웨이 프롬 허</th>\n",
       "      <td id=\"T_f53db_row24_col0\" class=\"data row24 col0\" >0.251799</td>\n",
       "      <td id=\"T_f53db_row24_col1\" class=\"data row24 col1\" >0.748201</td>\n",
       "    </tr>\n",
       "    <tr>\n",
       "      <th id=\"T_f53db_level0_row25\" class=\"row_heading level0 row25\" >엄마의 공책</th>\n",
       "      <td id=\"T_f53db_row25_col0\" class=\"data row25 col0\" >0.058480</td>\n",
       "      <td id=\"T_f53db_row25_col1\" class=\"data row25 col1\" >0.941520</td>\n",
       "    </tr>\n",
       "    <tr>\n",
       "      <th id=\"T_f53db_level0_row26\" class=\"row_heading level0 row26\" >왓 데이 해드</th>\n",
       "      <td id=\"T_f53db_row26_col0\" class=\"data row26 col0\" >0.010000</td>\n",
       "      <td id=\"T_f53db_row26_col1\" class=\"data row26 col1\" >0.990000</td>\n",
       "    </tr>\n",
       "    <tr>\n",
       "      <th id=\"T_f53db_level0_row27\" class=\"row_heading level0 row27\" >이터널 메모리</th>\n",
       "      <td id=\"T_f53db_row27_col0\" class=\"data row27 col0\" >0.000000</td>\n",
       "      <td id=\"T_f53db_row27_col1\" class=\"data row27 col1\" >1.000000</td>\n",
       "    </tr>\n",
       "    <tr>\n",
       "      <th id=\"T_f53db_level0_row28\" class=\"row_heading level0 row28\" >장수상회</th>\n",
       "      <td id=\"T_f53db_row28_col0\" class=\"data row28 col0\" >0.000000</td>\n",
       "      <td id=\"T_f53db_row28_col1\" class=\"data row28 col1\" >1.000000</td>\n",
       "    </tr>\n",
       "    <tr>\n",
       "      <th id=\"T_f53db_level0_row29\" class=\"row_heading level0 row29\" >조금씩, 천천히 안녕</th>\n",
       "      <td id=\"T_f53db_row29_col0\" class=\"data row29 col0\" >0.094118</td>\n",
       "      <td id=\"T_f53db_row29_col1\" class=\"data row29 col1\" >0.905882</td>\n",
       "    </tr>\n",
       "    <tr>\n",
       "      <th id=\"T_f53db_level0_row30\" class=\"row_heading level0 row30\" >천일의 약속</th>\n",
       "      <td id=\"T_f53db_row30_col0\" class=\"data row30 col0\" >0.000000</td>\n",
       "      <td id=\"T_f53db_row30_col1\" class=\"data row30 col1\" >1.000000</td>\n",
       "    </tr>\n",
       "    <tr>\n",
       "      <th id=\"T_f53db_level0_row31\" class=\"row_heading level0 row31\" >첫 키스만 50번째</th>\n",
       "      <td id=\"T_f53db_row31_col0\" class=\"data row31 col0\" >0.011824</td>\n",
       "      <td id=\"T_f53db_row31_col1\" class=\"data row31 col1\" >0.988176</td>\n",
       "    </tr>\n",
       "    <tr>\n",
       "      <th id=\"T_f53db_level0_row32\" class=\"row_heading level0 row32\" >친정엄마</th>\n",
       "      <td id=\"T_f53db_row32_col0\" class=\"data row32 col0\" >0.000000</td>\n",
       "      <td id=\"T_f53db_row32_col1\" class=\"data row32 col1\" >1.000000</td>\n",
       "    </tr>\n",
       "    <tr>\n",
       "      <th id=\"T_f53db_level0_row33\" class=\"row_heading level0 row33\" >카시오페아</th>\n",
       "      <td id=\"T_f53db_row33_col0\" class=\"data row33 col0\" >0.011029</td>\n",
       "      <td id=\"T_f53db_row33_col1\" class=\"data row33 col1\" >0.988971</td>\n",
       "    </tr>\n",
       "    <tr>\n",
       "      <th id=\"T_f53db_level0_row34\" class=\"row_heading level0 row34\" >해피엔딩 프로젝트</th>\n",
       "      <td id=\"T_f53db_row34_col0\" class=\"data row34 col0\" >0.181818</td>\n",
       "      <td id=\"T_f53db_row34_col1\" class=\"data row34 col1\" >0.818182</td>\n",
       "    </tr>\n",
       "  </tbody>\n",
       "</table>\n"
      ],
      "text/plain": [
       "<pandas.io.formats.style.Styler at 0x251142c8290>"
      ]
     },
     "metadata": {},
     "output_type": "display_data"
    },
    {
     "data": {
      "text/html": [
       "<div>\n",
       "<style scoped>\n",
       "    .dataframe tbody tr th:only-of-type {\n",
       "        vertical-align: middle;\n",
       "    }\n",
       "\n",
       "    .dataframe tbody tr th {\n",
       "        vertical-align: top;\n",
       "    }\n",
       "\n",
       "    .dataframe thead th {\n",
       "        text-align: right;\n",
       "    }\n",
       "</style>\n",
       "<table border=\"1\" class=\"dataframe\">\n",
       "  <thead>\n",
       "    <tr style=\"text-align: right;\">\n",
       "      <th></th>\n",
       "      <th>Sentiment Rank</th>\n",
       "    </tr>\n",
       "    <tr>\n",
       "      <th>Movie</th>\n",
       "      <th></th>\n",
       "    </tr>\n",
       "  </thead>\n",
       "  <tbody>\n",
       "    <tr>\n",
       "      <th>그대 어이가리</th>\n",
       "      <td>1 &gt; -1</td>\n",
       "    </tr>\n",
       "    <tr>\n",
       "      <th>그대를 사랑합니다</th>\n",
       "      <td>1</td>\n",
       "    </tr>\n",
       "    <tr>\n",
       "      <th>금발의 초원</th>\n",
       "      <td>1 &gt; -1</td>\n",
       "    </tr>\n",
       "    <tr>\n",
       "      <th>기억</th>\n",
       "      <td>1</td>\n",
       "    </tr>\n",
       "    <tr>\n",
       "      <th>나빌레라</th>\n",
       "      <td>1</td>\n",
       "    </tr>\n",
       "    <tr>\n",
       "      <th>내 머리 속의 지우개</th>\n",
       "      <td>1 &gt; -1</td>\n",
       "    </tr>\n",
       "    <tr>\n",
       "      <th>내일의 기억</th>\n",
       "      <td>1</td>\n",
       "    </tr>\n",
       "    <tr>\n",
       "      <th>노인들</th>\n",
       "      <td>1</td>\n",
       "    </tr>\n",
       "    <tr>\n",
       "      <th>노트북</th>\n",
       "      <td>1</td>\n",
       "    </tr>\n",
       "    <tr>\n",
       "      <th>눈이 부시게</th>\n",
       "      <td>1</td>\n",
       "    </tr>\n",
       "    <tr>\n",
       "      <th>더 파더</th>\n",
       "      <td>1 &gt; -1</td>\n",
       "    </tr>\n",
       "    <tr>\n",
       "      <th>딸에 대하여</th>\n",
       "      <td>1 &gt; -1</td>\n",
       "    </tr>\n",
       "    <tr>\n",
       "      <th>러블리, 스틸</th>\n",
       "      <td>1 &gt; -1</td>\n",
       "    </tr>\n",
       "    <tr>\n",
       "      <th>레저 시커</th>\n",
       "      <td>1</td>\n",
       "    </tr>\n",
       "    <tr>\n",
       "      <th>로망</th>\n",
       "      <td>1 &gt; -1</td>\n",
       "    </tr>\n",
       "    <tr>\n",
       "      <th>메멘토</th>\n",
       "      <td>1 &gt; -1</td>\n",
       "    </tr>\n",
       "    <tr>\n",
       "      <th>사랑의 기적</th>\n",
       "      <td>1 &gt; -1</td>\n",
       "    </tr>\n",
       "    <tr>\n",
       "      <th>살인자의 기억_복수</th>\n",
       "      <td>1 &gt; -1</td>\n",
       "    </tr>\n",
       "    <tr>\n",
       "      <th>살인자의 기억법</th>\n",
       "      <td>1</td>\n",
       "    </tr>\n",
       "    <tr>\n",
       "      <th>세비지스</th>\n",
       "      <td>1</td>\n",
       "    </tr>\n",
       "    <tr>\n",
       "      <th>세상에서 가장 아름다운 이별</th>\n",
       "      <td>1</td>\n",
       "    </tr>\n",
       "    <tr>\n",
       "      <th>소중한 사람</th>\n",
       "      <td>1 &gt; -1</td>\n",
       "    </tr>\n",
       "    <tr>\n",
       "      <th>스틸 앨리스</th>\n",
       "      <td>1 &gt; -1</td>\n",
       "    </tr>\n",
       "    <tr>\n",
       "      <th>시</th>\n",
       "      <td>1</td>\n",
       "    </tr>\n",
       "    <tr>\n",
       "      <th>어웨이 프롬 허</th>\n",
       "      <td>1 &gt; -1</td>\n",
       "    </tr>\n",
       "    <tr>\n",
       "      <th>엄마의 공책</th>\n",
       "      <td>1 &gt; -1</td>\n",
       "    </tr>\n",
       "    <tr>\n",
       "      <th>왓 데이 해드</th>\n",
       "      <td>1 &gt; -1</td>\n",
       "    </tr>\n",
       "    <tr>\n",
       "      <th>이터널 메모리</th>\n",
       "      <td>1</td>\n",
       "    </tr>\n",
       "    <tr>\n",
       "      <th>장수상회</th>\n",
       "      <td>1</td>\n",
       "    </tr>\n",
       "    <tr>\n",
       "      <th>조금씩, 천천히 안녕</th>\n",
       "      <td>1 &gt; -1</td>\n",
       "    </tr>\n",
       "    <tr>\n",
       "      <th>천일의 약속</th>\n",
       "      <td>1</td>\n",
       "    </tr>\n",
       "    <tr>\n",
       "      <th>첫 키스만 50번째</th>\n",
       "      <td>1 &gt; -1</td>\n",
       "    </tr>\n",
       "    <tr>\n",
       "      <th>친정엄마</th>\n",
       "      <td>1</td>\n",
       "    </tr>\n",
       "    <tr>\n",
       "      <th>카시오페아</th>\n",
       "      <td>1 &gt; -1</td>\n",
       "    </tr>\n",
       "    <tr>\n",
       "      <th>해피엔딩 프로젝트</th>\n",
       "      <td>1 &gt; -1</td>\n",
       "    </tr>\n",
       "  </tbody>\n",
       "</table>\n",
       "</div>"
      ],
      "text/plain": [
       "                Sentiment Rank\n",
       "Movie                         \n",
       "그대 어이가리                 1 > -1\n",
       "그대를 사랑합니다                    1\n",
       "금발의 초원                  1 > -1\n",
       "기억                           1\n",
       "나빌레라                         1\n",
       "내 머리 속의 지우개             1 > -1\n",
       "내일의 기억                       1\n",
       "노인들                          1\n",
       "노트북                          1\n",
       "눈이 부시게                       1\n",
       "더 파더                    1 > -1\n",
       "딸에 대하여                  1 > -1\n",
       "러블리, 스틸                 1 > -1\n",
       "레저 시커                        1\n",
       "로망                      1 > -1\n",
       "메멘토                     1 > -1\n",
       "사랑의 기적                  1 > -1\n",
       "살인자의 기억_복수              1 > -1\n",
       "살인자의 기억법                     1\n",
       "세비지스                         1\n",
       "세상에서 가장 아름다운 이별              1\n",
       "소중한 사람                  1 > -1\n",
       "스틸 앨리스                  1 > -1\n",
       "시                            1\n",
       "어웨이 프롬 허                1 > -1\n",
       "엄마의 공책                  1 > -1\n",
       "왓 데이 해드                 1 > -1\n",
       "이터널 메모리                      1\n",
       "장수상회                         1\n",
       "조금씩, 천천히 안녕             1 > -1\n",
       "천일의 약속                       1\n",
       "첫 키스만 50번째              1 > -1\n",
       "친정엄마                         1\n",
       "카시오페아                   1 > -1\n",
       "해피엔딩 프로젝트               1 > -1"
      ]
     },
     "metadata": {},
     "output_type": "display_data"
    }
   ],
   "source": [
    "# 긍부정 트랜드\n",
    "df_sentiment = df_result.copy()\n",
    "df_sentiment.Like = df_sentiment.Like.apply(lambda x: 0 if x == -1 else x)\n",
    "df_sentiment.Dislike = df_sentiment.Dislike.apply(lambda x: 0 if x == -1 else -x)\n",
    "df_sentiment['Sentiment'] = df_sentiment['Like'] + df_sentiment['Dislike']\n",
    "df_sentiment = df_sentiment[df_sentiment.Sentiment != 0]\n",
    "df_sentiment.Sentiment = df_sentiment.Sentiment.apply(lambda x: 1 if x>0 else -1)\n",
    "LDA_resultstat(df_sentiment, 'Movie', 'Sentiment', colname_prefix='Sentiment')"
   ]
  },
  {
   "cell_type": "markdown",
   "id": "a12b7f07",
   "metadata": {},
   "source": [
    "## BERTopic"
   ]
  },
  {
   "cell_type": "code",
   "execution_count": 11,
   "id": "7cfb3961-22ee-4436-b6d2-52d0d6972cbe",
   "metadata": {
    "ExecuteTime": {
     "end_time": "2024-12-03T13:30:38.068642Z",
     "start_time": "2024-12-03T13:30:37.788658Z"
    }
   },
   "outputs": [],
   "source": [
    "# # 원래의견 기준 BERTopic\n",
    "# save_name = SAVE_NAME_BERTopic.split('.')[0]+'_CommentAuto(1,2).xlsx'\n",
    "# NUM_TOPICS_BERT = topic_kw_LDA.shape[0]\n",
    "\n",
    "# topic_kw_BERT, topic_doc_BERT, \\\n",
    "# doc_topic_BERT, model_BERT = modeling_BERTopic(df_freq['Comment'], vectorizer_type='tfidf', \n",
    "#                                                ngram_range=NGRAM_RANGE,\n",
    "#                                                tfidf_maxcol=TFIDF_MAXCOL, \n",
    "#                                                # umap_metric=UMAP_METRIC, umap_randomseed=UMAP_SEED,\n",
    "#                                                num_topics=NUM_TOPICS_BERT, num_topicwords=NUM_TOPICWORDS, num_topicsamples=NUM_TOPICSAMPLES,\n",
    "#                                                save_local=SAVE_LOCAL, save_name=save_name)\n",
    "# display(topic_kw_BERT, topic_doc_BERT, doc_topic_BERT)"
   ]
  },
  {
   "cell_type": "code",
   "execution_count": 12,
   "id": "c73431f7",
   "metadata": {
    "ExecuteTime": {
     "end_time": "2024-12-03T13:30:38.349816Z",
     "start_time": "2024-12-03T13:30:38.069645Z"
    }
   },
   "outputs": [],
   "source": [
    "# # 토픽 유사성 구조 시각화\n",
    "# model_BERT.visualize_topics()"
   ]
  },
  {
   "cell_type": "code",
   "execution_count": 13,
   "id": "b2062d5f",
   "metadata": {
    "ExecuteTime": {
     "end_time": "2024-12-03T13:30:38.682968Z",
     "start_time": "2024-12-03T13:30:38.350814Z"
    }
   },
   "outputs": [],
   "source": [
    "# # Topic 별 Hierarchy를 출력하여 대략적 Topic의 갯수를 가늠하기 용이함\n",
    "# model_BERT.visualize_hierarchy(top_n_topics=50)"
   ]
  },
  {
   "cell_type": "code",
   "execution_count": 14,
   "id": "dd79349b",
   "metadata": {
    "ExecuteTime": {
     "end_time": "2024-12-03T13:30:39.018890Z",
     "start_time": "2024-12-03T13:30:38.683972Z"
    }
   },
   "outputs": [],
   "source": [
    "# # Topic을 대표하는 상위 단어 5개씩 출력\n",
    "# model_BERT.visualize_barchart(top_n_topics=50)"
   ]
  },
  {
   "cell_type": "code",
   "execution_count": 15,
   "id": "321e3c2e",
   "metadata": {
    "ExecuteTime": {
     "end_time": "2024-12-03T13:30:39.322904Z",
     "start_time": "2024-12-03T13:30:39.019889Z"
    }
   },
   "outputs": [],
   "source": [
    "# # Topic간 유사도를 Cosine Similarity로 계산후 Heatmap으로 표현\n",
    "# model_BERT.visualize_heatmap()"
   ]
  },
  {
   "cell_type": "code",
   "execution_count": 16,
   "id": "c5fed45b",
   "metadata": {
    "ExecuteTime": {
     "end_time": "2024-12-03T13:30:39.607742Z",
     "start_time": "2024-12-03T13:30:39.323903Z"
    }
   },
   "outputs": [],
   "source": [
    "# # 일자별로 어떤 토픽이 증가하고 줄어들었는지 트랜드 파악\n",
    "# topics_over_time = model_BERT.topics_over_time(docs=df['Comment'], timestamps=df.Date.to_list(), \n",
    "#                                                global_tuning=True, evolution_tuning=True)\n",
    "# model_BERT.visualize_topics_over_time(topics_over_time, top_n_topics=50)"
   ]
  },
  {
   "cell_type": "code",
   "execution_count": 17,
   "id": "1e375de2",
   "metadata": {
    "ExecuteTime": {
     "end_time": "2024-12-03T13:30:39.931102Z",
     "start_time": "2024-12-03T13:30:39.608746Z"
    }
   },
   "outputs": [],
   "source": [
    "# # Topic내 대표하는 단어들에 대해서 c-tf-idf로 계산해서 각 단어가 Topic에서 차지하는 중요도를 계산했던 것을 Rank 순서대로 출력\n",
    "# model_BERT.visualize_term_rank()"
   ]
  },
  {
   "cell_type": "code",
   "execution_count": null,
   "id": "ad99f912",
   "metadata": {},
   "outputs": [],
   "source": []
  },
  {
   "cell_type": "code",
   "execution_count": null,
   "id": "74be5847",
   "metadata": {},
   "outputs": [],
   "source": []
  },
  {
   "cell_type": "code",
   "execution_count": null,
   "id": "706656ab",
   "metadata": {},
   "outputs": [],
   "source": []
  }
 ],
 "metadata": {
  "hide_input": false,
  "kernelspec": {
   "display_name": "py312",
   "language": "python",
   "name": "py312"
  },
  "language_info": {
   "codemirror_mode": {
    "name": "ipython",
    "version": 3
   },
   "file_extension": ".py",
   "mimetype": "text/x-python",
   "name": "python",
   "nbconvert_exporter": "python",
   "pygments_lexer": "ipython3",
   "version": "3.12.3"
  },
  "toc": {
   "base_numbering": 1,
   "nav_menu": {},
   "number_sections": true,
   "sideBar": true,
   "skip_h1_title": false,
   "title_cell": "Table of Contents",
   "title_sidebar": "Contents",
   "toc_cell": false,
   "toc_position": {},
   "toc_section_display": true,
   "toc_window_display": false
  }
 },
 "nbformat": 4,
 "nbformat_minor": 5
}
