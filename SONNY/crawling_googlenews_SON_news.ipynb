{
 "cells": [
  {
   "cell_type": "code",
   "execution_count": 2,
   "id": "15556629",
   "metadata": {
    "ExecuteTime": {
     "end_time": "2023-09-06T05:24:51.994827Z",
     "start_time": "2023-09-06T05:24:50.488473Z"
    }
   },
   "outputs": [
    {
     "name": "stdout",
     "output_type": "stream",
     "text": [
      "Crawling is complete. The data is saved in google_news_data.csv\n"
     ]
    }
   ],
   "source": [
    "import os\n",
    "import requests\n",
    "from bs4 import BeautifulSoup as bs\n",
    "from tqdm import tqdm\n",
    "import pandas as pd\n",
    "from datetime import datetime\n",
    "# Define the URL and query parameters\n",
    "url = \"https://news.google.com/search?q=%EC%84%B8%EB%8C%80%EA%B0%88%EB%93%B1&hl=ko&gl=KR&ceid=KR%3Ako\"\n",
    "headers = {\n",
    "    'User-Agent': 'Mozilla/5.0 (Windows NT 6.1) AppleWebKit/537.36 (KHTML, like Gecko) Chrome/84.0.4147.135 Safari/537.36'\n",
    "}\n",
    "\n",
    "# Send a POST request to Google News\n",
    "response = requests.get(url, headers=headers)\n",
    "soup = bs(response.text, 'html.parser')\n",
    "\n",
    "# Extract news data\n",
    "google_news = []\n",
    "\n",
    "for con in soup.select('div.xrnccd'):\n",
    "    news_dict = {\n",
    "        'links': con.find('a')['href'],\n",
    "        'title': con.select_one('h3').get_text(),\n",
    "        'date': con.select_one('time').get_text(),\n",
    "        'press': con.select_one('.RD0gLb').get_text(),\n",
    "    }\n",
    "    google_news.append(news_dict)\n",
    "\n",
    "# Create a DataFrame and save it as a CSV file\n",
    "df = pd.DataFrame(google_news)\n",
    "df.to_csv(\"google_news_data_2.csv\", index=False, encoding='utf-8-sig')\n",
    "\n",
    "print(\"Crawling is complete. The data is saved in google_news_data.csv\")\n"
   ]
  }
 ],
 "metadata": {
  "hide_input": false,
  "kernelspec": {
   "display_name": "Python 3 (ipykernel)",
   "language": "python",
   "name": "python3"
  },
  "language_info": {
   "codemirror_mode": {
    "name": "ipython",
    "version": 3
   },
   "file_extension": ".py",
   "mimetype": "text/x-python",
   "name": "python",
   "nbconvert_exporter": "python",
   "pygments_lexer": "ipython3",
   "version": "3.9.12"
  },
  "toc": {
   "base_numbering": 1,
   "nav_menu": {},
   "number_sections": true,
   "sideBar": true,
   "skip_h1_title": false,
   "title_cell": "Table of Contents",
   "title_sidebar": "Contents",
   "toc_cell": false,
   "toc_position": {},
   "toc_section_display": true,
   "toc_window_display": false
  }
 },
 "nbformat": 4,
 "nbformat_minor": 5
}
