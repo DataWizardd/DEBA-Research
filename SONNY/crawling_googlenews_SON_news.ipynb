{
 "cells": [
  {
   "cell_type": "code",
   "execution_count": 1,
   "id": "88a95e63",
   "metadata": {
    "ExecuteTime": {
     "end_time": "2023-09-12T13:15:35.162879Z",
     "start_time": "2023-09-12T13:15:32.164253Z"
    }
   },
   "outputs": [
    {
     "name": "stdout",
     "output_type": "stream",
     "text": [
      "Defaulting to user installation because normal site-packages is not writeable\n",
      "Requirement already satisfied: requests in c:\\programdata\\anaconda3\\lib\\site-packages (2.27.1)\n",
      "Requirement already satisfied: urllib3<1.27,>=1.21.1 in c:\\programdata\\anaconda3\\lib\\site-packages (from requests) (1.26.9)\n",
      "Requirement already satisfied: certifi>=2017.4.17 in c:\\programdata\\anaconda3\\lib\\site-packages (from requests) (2021.10.8)\n",
      "Requirement already satisfied: charset-normalizer~=2.0.0 in c:\\programdata\\anaconda3\\lib\\site-packages (from requests) (2.0.4)\n",
      "Requirement already satisfied: idna<4,>=2.5 in c:\\programdata\\anaconda3\\lib\\site-packages (from requests) (3.3)\n",
      "Note: you may need to restart the kernel to use updated packages.\n"
     ]
    },
    {
     "name": "stderr",
     "output_type": "stream",
     "text": [
      "\n",
      "[notice] A new release of pip is available: 23.2 -> 23.2.1\n",
      "[notice] To update, run: python.exe -m pip install --upgrade pip\n"
     ]
    }
   ],
   "source": [
    "pip install requests"
   ]
  },
  {
   "cell_type": "code",
   "execution_count": 2,
   "id": "d95f59f1",
   "metadata": {
    "ExecuteTime": {
     "end_time": "2023-09-12T13:15:38.046216Z",
     "start_time": "2023-09-12T13:15:35.163871Z"
    }
   },
   "outputs": [
    {
     "name": "stdout",
     "output_type": "stream",
     "text": [
      "Defaulting to user installation because normal site-packages is not writeable\n",
      "Requirement already satisfied: BeautifulSoup4 in c:\\programdata\\anaconda3\\lib\\site-packages (4.11.1)\n",
      "Requirement already satisfied: soupsieve>1.2 in c:\\programdata\\anaconda3\\lib\\site-packages (from BeautifulSoup4) (2.3.1)\n",
      "Note: you may need to restart the kernel to use updated packages.\n"
     ]
    },
    {
     "name": "stderr",
     "output_type": "stream",
     "text": [
      "\n",
      "[notice] A new release of pip is available: 23.2 -> 23.2.1\n",
      "[notice] To update, run: python.exe -m pip install --upgrade pip\n"
     ]
    }
   ],
   "source": [
    "pip install BeautifulSoup4"
   ]
  },
  {
   "cell_type": "code",
   "execution_count": 3,
   "id": "990c2067",
   "metadata": {
    "ExecuteTime": {
     "end_time": "2023-09-12T13:15:38.635025Z",
     "start_time": "2023-09-12T13:15:38.047216Z"
    }
   },
   "outputs": [],
   "source": [
    "\n",
    "import requests\n",
    "from bs4 import BeautifulSoup\n",
    "import pandas as pd\n",
    "from tqdm import tqdm\n",
    "import os\n",
    "import lxml\n",
    "from bs4 import BeautifulSoup as bs\n",
    "from datetime import datetime"
   ]
  },
  {
   "cell_type": "code",
   "execution_count": 4,
   "id": "15556629",
   "metadata": {
    "ExecuteTime": {
     "end_time": "2023-09-12T13:15:40.279744Z",
     "start_time": "2023-09-12T13:15:38.636016Z"
    }
   },
   "outputs": [
    {
     "name": "stdout",
     "output_type": "stream",
     "text": [
      "Crawling is complete. The data is saved in crawling_google_news_SON.csv\n"
     ]
    }
   ],
   "source": [
    "\n",
    "# Define the URL and query parameters\n",
    "url = \"https://news.google.com/search?q=%EA%B3%A0%EB%A0%B9%ED%99%94&hl=ko&gl=KR&ceid=KR%3Ako\"\n",
    "headers = {\n",
    "    'User-Agent': 'Mozilla/5.0 (Windows NT 6.1) AppleWebKit/537.36 (KHTML, like Gecko) Chrome/84.0.4147.135 Safari/537.36'\n",
    "}\n",
    "\n",
    "# Send a POST request to Google News\n",
    "response = requests.get(url, headers=headers)\n",
    "soup = bs(response.text, 'html.parser')\n",
    "\n",
    "# Extract news data\n",
    "google_news = []\n",
    "\n",
    "for con in soup.select('div.xrnccd'):\n",
    "    news_dict = {\n",
    "        'links': con.find('a')['href'],\n",
    "        'title': con.select_one('h3').get_text(),\n",
    "        'date': con.find('time')['datetime'],\n",
    "        'press': con.select_one('.RD0gLb').get_text(),\n",
    "    }\n",
    "    google_news.append(news_dict)\n",
    "\n",
    "# Create a DataFrame and save it as a CSV file\n",
    "df = pd.DataFrame(google_news)\n",
    "df.to_csv(\"crawling_google_news_SON.csv\", index=False, encoding='utf-8-sig')\n",
    "\n",
    "print(\"Crawling is complete. The data is saved in crawling_google_news_SON.csv\")\n"
   ]
  },
  {
   "cell_type": "code",
   "execution_count": null,
   "id": "6ab3f6e5",
   "metadata": {},
   "outputs": [],
   "source": []
  }
 ],
 "metadata": {
  "hide_input": false,
  "kernelspec": {
   "display_name": "Python 3 (ipykernel)",
   "language": "python",
   "name": "python3"
  },
  "language_info": {
   "codemirror_mode": {
    "name": "ipython",
    "version": 3
   },
   "file_extension": ".py",
   "mimetype": "text/x-python",
   "name": "python",
   "nbconvert_exporter": "python",
   "pygments_lexer": "ipython3",
   "version": "3.9.12"
  },
  "toc": {
   "base_numbering": 1,
   "nav_menu": {},
   "number_sections": true,
   "sideBar": true,
   "skip_h1_title": false,
   "title_cell": "Table of Contents",
   "title_sidebar": "Contents",
   "toc_cell": false,
   "toc_position": {},
   "toc_section_display": true,
   "toc_window_display": false
  }
 },
 "nbformat": 4,
 "nbformat_minor": 5
}
