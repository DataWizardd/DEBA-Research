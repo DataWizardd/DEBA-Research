{
 "cells": [
  {
   "cell_type": "code",
   "execution_count": 1,
   "id": "31503ab5",
   "metadata": {
    "ExecuteTime": {
     "end_time": "2023-09-12T13:14:04.917198Z",
     "start_time": "2023-09-12T13:14:01.537990Z"
    }
   },
   "outputs": [
    {
     "name": "stdout",
     "output_type": "stream",
     "text": [
      "Defaulting to user installation because normal site-packages is not writeable\n",
      "Requirement already satisfied: requests in c:\\programdata\\anaconda3\\lib\\site-packages (2.27.1)\n",
      "Requirement already satisfied: urllib3<1.27,>=1.21.1 in c:\\programdata\\anaconda3\\lib\\site-packages (from requests) (1.26.9)\n",
      "Requirement already satisfied: certifi>=2017.4.17 in c:\\programdata\\anaconda3\\lib\\site-packages (from requests) (2021.10.8)\n",
      "Requirement already satisfied: charset-normalizer~=2.0.0 in c:\\programdata\\anaconda3\\lib\\site-packages (from requests) (2.0.4)\n",
      "Requirement already satisfied: idna<4,>=2.5 in c:\\programdata\\anaconda3\\lib\\site-packages (from requests) (3.3)\n",
      "Note: you may need to restart the kernel to use updated packages.\n"
     ]
    },
    {
     "name": "stderr",
     "output_type": "stream",
     "text": [
      "\n",
      "[notice] A new release of pip is available: 23.2 -> 23.2.1\n",
      "[notice] To update, run: python.exe -m pip install --upgrade pip\n"
     ]
    }
   ],
   "source": [
    "pip install requests"
   ]
  },
  {
   "cell_type": "code",
   "execution_count": 2,
   "id": "db1c661f",
   "metadata": {
    "ExecuteTime": {
     "end_time": "2023-09-12T13:14:07.871049Z",
     "start_time": "2023-09-12T13:14:04.919198Z"
    }
   },
   "outputs": [
    {
     "name": "stdout",
     "output_type": "stream",
     "text": [
      "Defaulting to user installation because normal site-packages is not writeableNote: you may need to restart the kernel to use updated packages.\n"
     ]
    },
    {
     "name": "stderr",
     "output_type": "stream",
     "text": [
      "\n",
      "[notice] A new release of pip is available: 23.2 -> 23.2.1\n",
      "[notice] To update, run: python.exe -m pip install --upgrade pip\n"
     ]
    },
    {
     "name": "stdout",
     "output_type": "stream",
     "text": [
      "\n",
      "Requirement already satisfied: BeautifulSoup4 in c:\\programdata\\anaconda3\\lib\\site-packages (4.11.1)\n",
      "Requirement already satisfied: soupsieve>1.2 in c:\\programdata\\anaconda3\\lib\\site-packages (from BeautifulSoup4) (2.3.1)\n"
     ]
    }
   ],
   "source": [
    "pip install BeautifulSoup4"
   ]
  },
  {
   "cell_type": "code",
   "execution_count": 3,
   "id": "b661c310",
   "metadata": {
    "ExecuteTime": {
     "end_time": "2023-09-12T13:14:08.589628Z",
     "start_time": "2023-09-12T13:14:07.873041Z"
    }
   },
   "outputs": [],
   "source": [
    "import requests\n",
    "from bs4 import BeautifulSoup\n",
    "import pandas as pd\n",
    "from tqdm import tqdm\n",
    "import os\n",
    "import lxml\n",
    "from bs4 import BeautifulSoup as bs\n",
    "from datetime import datetime,timedelta"
   ]
  },
  {
   "cell_type": "code",
   "execution_count": 4,
   "id": "50410bec",
   "metadata": {
    "ExecuteTime": {
     "end_time": "2023-09-12T13:15:10.739298Z",
     "start_time": "2023-09-12T13:14:44.144260Z"
    }
   },
   "outputs": [
    {
     "name": "stdout",
     "output_type": "stream",
     "text": [
      "Enter your search query: 고령화\n",
      "Crawling is complete. The data is saved in C:\\DATA\\DEBA\\SON\\crawling_google_search_SON.csv\n",
      "                                               links  \\\n",
      "0  https://www.hani.co.kr/arti/economy/economy_ge...   \n",
      "1        https://www.sedaily.com/NewsView/29S7E3M011   \n",
      "2  https://www.shinailbo.co.kr/news/articleView.h...   \n",
      "3  http://www.worktoday.co.kr/news/articleView.ht...   \n",
      "4  https://news.einfomax.co.kr/news/articleView.h...   \n",
      "\n",
      "                                      title  \\\n",
      "0                  '고령사회' 진입한 한국…일본보다 7년 빨라   \n",
      "1  극심한 고령화에…취업자 평균연령, 47세→2050년 54세로 - 서울경제   \n",
      "2         2050년 취업자 평균연령 '53.7세'…저출산·고령화 심각   \n",
      "3  \"일터가 빠르게 늙어간다 ... 저출산·고령화로 2050년 취업자 ...   \n",
      "4    한은 \"소득 불평등의 30%는 고령화 때문…사업·임대소득 격차 ...   \n",
      "\n",
      "                                            contents           date   press  \n",
      "0  저출산·고령화가 심화됨에 따라, 지난해 우리나라는 노인이 전체 인구의 14%를 웃도...   2018. 8. 27.     한겨레  \n",
      "1  저출산·고령화 심화로 2050년 국내 취업자 평균 연령이 약 54세까지 높아질 것이...  2023. 08. 15.  서울경제신문  \n",
      "2  저출산·고령화 현상이 심화된 탓으로 국가경쟁력 유지·강화를 위해선 정책마련이 필요하...  2023. 08. 15.    신아일보  \n",
      "3  저출산·고령화 현상 심화로 2050년 국내 취업자 평균연령은 약 54세까지 높아질 ...  2023. 08. 15.   워크투데이  \n",
      "4  이에 고령층 인구 비중이 높아질수록 경제 전반의 소득불평등도 심화하는 것으로 나타났...   2023. 6. 14.  연합인포맥스  \n"
     ]
    }
   ],
   "source": [
    "from datetime import datetime, timedelta\n",
    "from dateutil.relativedelta import relativedelta\n",
    "import requests\n",
    "from bs4 import BeautifulSoup\n",
    "import pandas as pd\n",
    "import os\n",
    "\n",
    "# 현재 날짜 구하기\n",
    "now_date = datetime.now()\n",
    "\n",
    "# 날짜정의\n",
    "start_date = datetime(2018, 1, 1)\n",
    "end_date = now_date\n",
    "cd_min = start_date.strftime('%m/%d/%Y')\n",
    "cd_max = end_date\n",
    "\n",
    "# 함수실행\n",
    "def google_news_data(query, save_path, num_pages=30):\n",
    "    google_news = []\n",
    "    \n",
    "    for page in range(num_pages):\n",
    "        # Calculate the start parameter for pagination\n",
    "        start_param = page * 10\n",
    "        \n",
    "        # Construct the URL for the current page\n",
    "        url = f\"https://www.google.com/search?q={query}&tbm=nws&tbs=cdr:1,cd_min:{cd_min},cd_max:{cd_max}&start={start_param}\"\n",
    "        \n",
    "        headers = {\n",
    "            'User-Agent': 'Mozilla/5.0 (Windows NT 6.1) AppleWebKit/537.36 (KHTML, like Gecko) Chrome/84.0.4147.135 Safari/537.36'\n",
    "        }\n",
    "\n",
    "        response = requests.get(url, headers=headers)\n",
    "        response.encoding = 'utf-8'\n",
    "        soup = BeautifulSoup(response.text, 'html.parser')\n",
    "\n",
    "        for con in soup.select('div.SoaBEf'):\n",
    "            news_dict = {\n",
    "                'links': con.find('a')['href'],\n",
    "                'title': con.select_one('div.MBeuO').get_text(),\n",
    "                'contents': con.select_one('.GI74Re').get_text(),\n",
    "                'date': con.select_one('.LfVVr').get_text(),\n",
    "                'press': con.select_one('.NUnG9d span').get_text(),\n",
    "            }\n",
    "            \n",
    "            # 형식별로 처리\n",
    "            for i in range(60):  \n",
    "                \n",
    "                if f'{i}시간 전' in news_dict['date']:\n",
    "                    news_dict['date'] = now_date.strftime('%Y. %m. %d.')  \n",
    "                \n",
    "                elif f'{i}분 전' in news_dict['date']:\n",
    "                    news_dict['date'] = now_date.strftime('%Y. %m. %d.')  \n",
    "                                          \n",
    "                elif f'{i}일 전' in news_dict['date']:\n",
    "                    news_dict['date'] = (now_date - timedelta(days=i)).strftime('%Y. %m. %d.')\n",
    "                                          \n",
    "                elif f'{i}주 전' in news_dict['date']:\n",
    "                    news_dict['date'] = (now_date - timedelta(weeks=i)).strftime('%Y. %m. %d.')\n",
    "                                          \n",
    "                elif '1개월 전' in news_dict['date']:\n",
    "                    news_dict['date'] = (now_date - timedelta(weeks=4)).strftime('%Y. %m. %d.')  # 수정\n",
    "            \n",
    "            google_news.append(news_dict)\n",
    "\n",
    "    df = pd.DataFrame(google_news)\n",
    "    save_file_path = os.path.join(save_path, \"crawling_google_search_SON.csv\")\n",
    "    df.to_csv(save_file_path, index=False, encoding='utf-8-sig')\n",
    "    print(f\"Crawling is complete. The data is saved in {save_file_path}\")\n",
    "\n",
    "    return df\n",
    "\n",
    "query = input('Enter your search query: ')\n",
    "save_path = 'C:\\\\DATA\\\\DEBA\\\\SON'\n",
    "df = google_news_data(query, save_path, num_pages=30)  \n",
    "print(df.head())\n"
   ]
  },
  {
   "cell_type": "code",
   "execution_count": null,
   "id": "588605ee",
   "metadata": {},
   "outputs": [],
   "source": []
  },
  {
   "cell_type": "code",
   "execution_count": null,
   "id": "782a3fee",
   "metadata": {},
   "outputs": [],
   "source": []
  },
  {
   "cell_type": "code",
   "execution_count": null,
   "id": "71423f72",
   "metadata": {},
   "outputs": [],
   "source": []
  },
  {
   "cell_type": "code",
   "execution_count": null,
   "id": "34c2191f",
   "metadata": {},
   "outputs": [],
   "source": []
  },
  {
   "cell_type": "code",
   "execution_count": null,
   "id": "5fce2b7b",
   "metadata": {},
   "outputs": [],
   "source": []
  },
  {
   "cell_type": "code",
   "execution_count": null,
   "id": "8ff78e1f",
   "metadata": {},
   "outputs": [],
   "source": []
  },
  {
   "cell_type": "code",
   "execution_count": null,
   "id": "2f26c209",
   "metadata": {},
   "outputs": [],
   "source": []
  },
  {
   "cell_type": "code",
   "execution_count": null,
   "id": "0afc272c",
   "metadata": {},
   "outputs": [],
   "source": []
  },
  {
   "cell_type": "code",
   "execution_count": null,
   "id": "9fe9fc38",
   "metadata": {},
   "outputs": [],
   "source": []
  }
 ],
 "metadata": {
  "hide_input": false,
  "kernelspec": {
   "display_name": "Python 3 (ipykernel)",
   "language": "python",
   "name": "python3"
  },
  "language_info": {
   "codemirror_mode": {
    "name": "ipython",
    "version": 3
   },
   "file_extension": ".py",
   "mimetype": "text/x-python",
   "name": "python",
   "nbconvert_exporter": "python",
   "pygments_lexer": "ipython3",
   "version": "3.9.12"
  },
  "toc": {
   "base_numbering": 1,
   "nav_menu": {},
   "number_sections": true,
   "sideBar": true,
   "skip_h1_title": false,
   "title_cell": "Table of Contents",
   "title_sidebar": "Contents",
   "toc_cell": false,
   "toc_position": {},
   "toc_section_display": true,
   "toc_window_display": false
  }
 },
 "nbformat": 4,
 "nbformat_minor": 5
}
