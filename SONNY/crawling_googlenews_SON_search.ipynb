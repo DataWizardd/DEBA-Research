{
 "cells": [
  {
   "cell_type": "code",
   "execution_count": 1,
   "id": "31503ab5",
   "metadata": {
    "ExecuteTime": {
     "end_time": "2023-09-08T12:27:50.518452Z",
     "start_time": "2023-09-08T12:27:47.477300Z"
    }
   },
   "outputs": [
    {
     "name": "stdout",
     "output_type": "stream",
     "text": [
      "Defaulting to user installation because normal site-packages is not writeable\n",
      "Requirement already satisfied: requests in c:\\programdata\\anaconda3\\lib\\site-packages (2.27.1)\n",
      "Requirement already satisfied: urllib3<1.27,>=1.21.1 in c:\\programdata\\anaconda3\\lib\\site-packages (from requests) (1.26.9)\n",
      "Requirement already satisfied: certifi>=2017.4.17 in c:\\programdata\\anaconda3\\lib\\site-packages (from requests) (2021.10.8)\n",
      "Requirement already satisfied: charset-normalizer~=2.0.0 in c:\\programdata\\anaconda3\\lib\\site-packages (from requests) (2.0.4)\n",
      "Requirement already satisfied: idna<4,>=2.5 in c:\\programdata\\anaconda3\\lib\\site-packages (from requests) (3.3)\n",
      "Note: you may need to restart the kernel to use updated packages.\n"
     ]
    },
    {
     "name": "stderr",
     "output_type": "stream",
     "text": [
      "\n",
      "[notice] A new release of pip is available: 23.2 -> 23.2.1\n",
      "[notice] To update, run: python.exe -m pip install --upgrade pip\n"
     ]
    }
   ],
   "source": [
    "pip install requests"
   ]
  },
  {
   "cell_type": "code",
   "execution_count": 2,
   "id": "db1c661f",
   "metadata": {
    "ExecuteTime": {
     "end_time": "2023-09-08T12:27:53.416217Z",
     "start_time": "2023-09-08T12:27:50.520452Z"
    }
   },
   "outputs": [
    {
     "name": "stdout",
     "output_type": "stream",
     "text": [
      "Defaulting to user installation because normal site-packages is not writeable\n",
      "Requirement already satisfied: BeautifulSoup4 in c:\\programdata\\anaconda3\\lib\\site-packages (4.11.1)\n",
      "Requirement already satisfied: soupsieve>1.2 in c:\\programdata\\anaconda3\\lib\\site-packages (from BeautifulSoup4) (2.3.1)\n",
      "Note: you may need to restart the kernel to use updated packages.\n"
     ]
    },
    {
     "name": "stderr",
     "output_type": "stream",
     "text": [
      "\n",
      "[notice] A new release of pip is available: 23.2 -> 23.2.1\n",
      "[notice] To update, run: python.exe -m pip install --upgrade pip\n"
     ]
    }
   ],
   "source": [
    "pip install BeautifulSoup4"
   ]
  },
  {
   "cell_type": "code",
   "execution_count": 3,
   "id": "b661c310",
   "metadata": {
    "ExecuteTime": {
     "end_time": "2023-09-08T12:27:54.476419Z",
     "start_time": "2023-09-08T12:27:53.418102Z"
    }
   },
   "outputs": [],
   "source": [
    "import requests\n",
    "from bs4 import BeautifulSoup\n",
    "import pandas as pd\n",
    "from tqdm import tqdm\n",
    "import os\n",
    "import lxml\n",
    "from bs4 import BeautifulSoup as bs\n",
    "from datetime import datetime,timedelta"
   ]
  },
  {
   "cell_type": "code",
   "execution_count": 5,
   "id": "50410bec",
   "metadata": {
    "ExecuteTime": {
     "end_time": "2023-09-08T12:29:38.923666Z",
     "start_time": "2023-09-08T12:28:38.837097Z"
    }
   },
   "outputs": [
    {
     "name": "stdout",
     "output_type": "stream",
     "text": [
      "Enter your search query: 세대갈등\n",
      "Crawling is complete. The data is saved in C:\\DATA\\DEBA\\SON\\crawling_google_search_SON.csv\n",
      "                                               links  \\\n",
      "0  https://www.hani.co.kr/arti/economy/economy_ge...   \n",
      "1  https://www.donga.com/news/Economy/article/all...   \n",
      "2    https://www.yna.co.kr/view/AKR20200407134500003   \n",
      "3  https://www.ntoday.co.kr/news/articleView.html...   \n",
      "4  http://www.todayenergy.kr/news/articleView.htm...   \n",
      "\n",
      "                                         title  \\\n",
      "0         팀장은 지도 세대, 막내는 내비게이션 세대…직장내 세대갈등 ...   \n",
      "1  막내 칼퇴에 팀장이 불편한 이유…상의, ‘직장 내 세대갈등 실태 보고서’ 발간   \n",
      "2            \"막내가 칼퇴?\" 직장인 세대차이, 윗세대가 더 많이 느낀다   \n",
      "3            [청플 Report] 잘못된 MZ 프레이밍이 낳은 세대 갈등   \n",
      "4                   SK이노베이션, 직장 내 세대 갈등 해결책 마련   \n",
      "\n",
      "                                            contents          date   press  \n",
      "0     직장내 세대갈등 보고서. 송채경화 기자. 구독. 등록 2020-04-08 16:29   2020. 4. 8.     한겨레  \n",
      "1  대한상의, 직장 내 세대갈등으로 본 기업문화 진단 직장인 64% \"세대차이 느껴\"…...   2020. 4. 8.    동아일보  \n",
      "2  윗세대로 갈수록 세대 차이 체감도는 높아졌다. 대한상공회의소는 8일 30개 대·중견...   2020. 4. 8.    연합뉴스  \n",
      "3  [청플 Report] 잘못된 MZ 프레이밍이 낳은 세대 갈등 ... 지난 4월 6일...  2023. 5. 15.   투데이신문  \n",
      "4  그동안 직장 내 세대간 갈등은 서적, 강연 등을 통해 수 차례 문제 제기돼 왔으나 ...   2021. 5. 9.  투데이에너지  \n"
     ]
    }
   ],
   "source": [
    "# 현재 날짜 구하기\n",
    "now_date = datetime.now()\n",
    "\n",
    "# 날짜정의\n",
    "start_date = datetime(2018, 1, 1)\n",
    "end_date = now_date\n",
    "cd_min = start_date.strftime('%m/%d/%Y')\n",
    "cd_max = end_date\n",
    "\n",
    "# 함수실행\n",
    "def google_news_data(query, save_path, num_pages=30):\n",
    "    google_news = []\n",
    "    \n",
    "    for page in range(num_pages):\n",
    "        # Calculate the start parameter for pagination\n",
    "        start_param = page * 10\n",
    "        \n",
    "        # Construct the URL for the current page\n",
    "        url = f\"https://www.google.com/search?q={query}&tbm=nws&tbs=cdr:1,cd_min:{cd_min},cd_max:{cd_max}&start={start_param}\"\n",
    "        \n",
    "        headers = {\n",
    "            'User-Agent': 'Mozilla/5.0 (Windows NT 6.1) AppleWebKit/537.36 (KHTML, like Gecko) Chrome/84.0.4147.135 Safari/537.36'\n",
    "        }\n",
    "\n",
    "        response = requests.get(url, headers=headers)\n",
    "        response.encoding = 'utf-8'\n",
    "        soup = BeautifulSoup(response.text, 'html.parser')\n",
    "\n",
    "        for con in soup.select('div.SoaBEf'):\n",
    "            news_dict = {\n",
    "                'links': con.find('a')['href'],\n",
    "                'title': con.select_one('div.MBeuO').get_text(),\n",
    "                'contents': con.select_one('.GI74Re').get_text(),\n",
    "                'date': con.select_one('.LfVVr').get_text(),\n",
    "                'press': con.select_one('.NUnG9d span').get_text(),\n",
    "            }\n",
    "            \n",
    "            # 형식별로 처리\n",
    "            for i in range(24):  # 최대 24시간까지 처리\n",
    "                if f'{i}시간 전' in news_dict['date']:\n",
    "                    news_dict['date'] = now_date.strftime('%Y. %m. %d.')  # 수정\n",
    "                                          \n",
    "                elif f'{i}일 전' in news_dict['date']:\n",
    "                    news_dict['date'] = (now_date - timedelta(days=i)).strftime('%Y. %m. %d.')\n",
    "                                          \n",
    "                elif f'{i}주 전' in news_dict['date']:\n",
    "                    news_dict['date'] = (now_date - timedelta(weeks=i)).strftime('%Y. %m. %d.')\n",
    "                                          \n",
    "                elif '1개월 전' in news_dict['date']:\n",
    "                    news_dict['date'] = (now_date - timedelta(weeks=4)).strftime('%Y. %m. %d.')  # 수정\n",
    "            \n",
    "            google_news.append(news_dict)\n",
    "\n",
    "    df = pd.DataFrame(google_news)\n",
    "    save_file_path = os.path.join(save_path, \"crawling_google_search_SON.csv\")\n",
    "    df.to_csv(save_file_path, index=False, encoding='utf-8-sig')\n",
    "    print(f\"Crawling is complete. The data is saved in {save_file_path}\")\n",
    "\n",
    "    return df\n",
    "\n",
    "query = input('Enter your search query: ')\n",
    "save_path = 'C:\\\\DATA\\\\DEBA\\\\SON'\n",
    "df = google_news_data(query, save_path, num_pages=30)  \n",
    "print(df.head())\n"
   ]
  },
  {
   "cell_type": "code",
   "execution_count": null,
   "id": "588605ee",
   "metadata": {},
   "outputs": [],
   "source": []
  },
  {
   "cell_type": "code",
   "execution_count": null,
   "id": "782a3fee",
   "metadata": {},
   "outputs": [],
   "source": []
  },
  {
   "cell_type": "code",
   "execution_count": null,
   "id": "71423f72",
   "metadata": {},
   "outputs": [],
   "source": []
  },
  {
   "cell_type": "code",
   "execution_count": null,
   "id": "34c2191f",
   "metadata": {},
   "outputs": [],
   "source": []
  },
  {
   "cell_type": "code",
   "execution_count": null,
   "id": "5fce2b7b",
   "metadata": {},
   "outputs": [],
   "source": []
  },
  {
   "cell_type": "code",
   "execution_count": null,
   "id": "8ff78e1f",
   "metadata": {},
   "outputs": [],
   "source": []
  },
  {
   "cell_type": "code",
   "execution_count": null,
   "id": "2f26c209",
   "metadata": {},
   "outputs": [],
   "source": []
  },
  {
   "cell_type": "code",
   "execution_count": null,
   "id": "0afc272c",
   "metadata": {},
   "outputs": [],
   "source": []
  },
  {
   "cell_type": "code",
   "execution_count": null,
   "id": "9fe9fc38",
   "metadata": {},
   "outputs": [],
   "source": []
  }
 ],
 "metadata": {
  "hide_input": false,
  "kernelspec": {
   "display_name": "Python 3 (ipykernel)",
   "language": "python",
   "name": "python3"
  },
  "language_info": {
   "codemirror_mode": {
    "name": "ipython",
    "version": 3
   },
   "file_extension": ".py",
   "mimetype": "text/x-python",
   "name": "python",
   "nbconvert_exporter": "python",
   "pygments_lexer": "ipython3",
   "version": "3.9.12"
  },
  "toc": {
   "base_numbering": 1,
   "nav_menu": {},
   "number_sections": true,
   "sideBar": true,
   "skip_h1_title": false,
   "title_cell": "Table of Contents",
   "title_sidebar": "Contents",
   "toc_cell": false,
   "toc_position": {},
   "toc_section_display": true,
   "toc_window_display": false
  }
 },
 "nbformat": 4,
 "nbformat_minor": 5
}
