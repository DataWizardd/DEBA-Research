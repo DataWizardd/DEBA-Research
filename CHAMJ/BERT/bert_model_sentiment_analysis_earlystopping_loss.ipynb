{
 "cells": [
  {
   "cell_type": "markdown",
   "metadata": {},
   "source": [
    "# 라이브러리"
   ]
  },
  {
   "cell_type": "code",
   "execution_count": 1,
   "metadata": {
    "ExecuteTime": {
     "end_time": "2023-11-08T07:58:21.453269Z",
     "start_time": "2023-11-08T07:58:17.705017Z"
    },
    "colab": {
     "base_uri": "https://localhost:8080/",
     "height": 101
    },
    "colab_type": "code",
    "id": "75dIz2fNWG8F",
    "outputId": "62b45af1-a914-45d9-a5ab-3efdfc3f690c"
   },
   "outputs": [],
   "source": [
    "import tensorflow as tf\n",
    "import torch\n",
    "\n",
    "from transformers import BertTokenizer\n",
    "from transformers import BertForSequenceClassification, AdamW, BertConfig\n",
    "from transformers import get_linear_schedule_with_warmup\n",
    "from torch.utils.data import TensorDataset, DataLoader, RandomSampler, SequentialSampler\n",
    "from sklearn.model_selection import train_test_split\n",
    "from tensorflow.keras.preprocessing.sequence import pad_sequences\n",
    "from scipy.special import softmax\n",
    "\n",
    "import pandas as pd\n",
    "import numpy as np\n",
    "import random\n",
    "import time\n",
    "import datetime"
   ]
  },
  {
   "cell_type": "markdown",
   "metadata": {
    "colab_type": "text",
    "id": "h_U3uMySBCIV"
   },
   "source": [
    "<br>\n",
    "<br>\n",
    "\n",
    "# **데이터 로드**"
   ]
  },
  {
   "cell_type": "code",
   "execution_count": 2,
   "metadata": {
    "ExecuteTime": {
     "end_time": "2023-11-08T07:58:21.624720Z",
     "start_time": "2023-11-08T07:58:21.454317Z"
    },
    "colab": {
     "base_uri": "https://localhost:8080/",
     "height": 129
    },
    "colab_type": "code",
    "id": "ImBtAkSyTW1r",
    "outputId": "bb0f4d70-8300-4122-c0ab-383e09fa41d1"
   },
   "outputs": [
    {
     "name": "stderr",
     "output_type": "stream",
     "text": [
      "fatal: destination path 'nsmc' already exists and is not an empty directory.\n"
     ]
    }
   ],
   "source": [
    "# 네이버 영화리뷰 감정분석 데이터 다운로드\n",
    "!git clone https://github.com/e9t/nsmc.git"
   ]
  },
  {
   "cell_type": "code",
   "execution_count": 3,
   "metadata": {
    "ExecuteTime": {
     "end_time": "2023-11-08T07:58:21.860737Z",
     "start_time": "2023-11-08T07:58:21.625721Z"
    },
    "colab": {
     "base_uri": "https://localhost:8080/",
     "height": 55
    },
    "colab_type": "code",
    "id": "0LPEdb2tWfIU",
    "outputId": "ea4f105a-f41e-4f05-b9f0-2a2d8d0e981b"
   },
   "outputs": [
    {
     "name": "stdout",
     "output_type": "stream",
     "text": [
      "(150000, 3)\n",
      "(50000, 3)\n"
     ]
    }
   ],
   "source": [
    "train = pd.read_csv(\"nsmc/ratings_train.txt\", sep='\\t')\n",
    "test = pd.read_csv(\"nsmc/ratings_test.txt\", sep='\\t')\n",
    "\n",
    "print(train.shape)\n",
    "print(test.shape)"
   ]
  },
  {
   "cell_type": "code",
   "execution_count": 4,
   "metadata": {
    "ExecuteTime": {
     "end_time": "2023-11-08T07:58:21.876241Z",
     "start_time": "2023-11-08T07:58:21.861738Z"
    },
    "colab": {
     "base_uri": "https://localhost:8080/",
     "height": 425
    },
    "colab_type": "code",
    "id": "tejY9ZhABYWl",
    "outputId": "896f7965-1e79-45f4-e983-5400907ec750"
   },
   "outputs": [
    {
     "data": {
      "text/html": [
       "<div>\n",
       "<style scoped>\n",
       "    .dataframe tbody tr th:only-of-type {\n",
       "        vertical-align: middle;\n",
       "    }\n",
       "\n",
       "    .dataframe tbody tr th {\n",
       "        vertical-align: top;\n",
       "    }\n",
       "\n",
       "    .dataframe thead th {\n",
       "        text-align: right;\n",
       "    }\n",
       "</style>\n",
       "<table border=\"1\" class=\"dataframe\">\n",
       "  <thead>\n",
       "    <tr style=\"text-align: right;\">\n",
       "      <th></th>\n",
       "      <th>id</th>\n",
       "      <th>document</th>\n",
       "      <th>label</th>\n",
       "    </tr>\n",
       "  </thead>\n",
       "  <tbody>\n",
       "    <tr>\n",
       "      <th>0</th>\n",
       "      <td>9976970</td>\n",
       "      <td>아 더빙.. 진짜 짜증나네요 목소리</td>\n",
       "      <td>0</td>\n",
       "    </tr>\n",
       "    <tr>\n",
       "      <th>1</th>\n",
       "      <td>3819312</td>\n",
       "      <td>흠...포스터보고 초딩영화줄....오버연기조차 가볍지 않구나</td>\n",
       "      <td>1</td>\n",
       "    </tr>\n",
       "    <tr>\n",
       "      <th>2</th>\n",
       "      <td>10265843</td>\n",
       "      <td>너무재밓었다그래서보는것을추천한다</td>\n",
       "      <td>0</td>\n",
       "    </tr>\n",
       "    <tr>\n",
       "      <th>3</th>\n",
       "      <td>9045019</td>\n",
       "      <td>교도소 이야기구먼 ..솔직히 재미는 없다..평점 조정</td>\n",
       "      <td>0</td>\n",
       "    </tr>\n",
       "    <tr>\n",
       "      <th>4</th>\n",
       "      <td>6483659</td>\n",
       "      <td>사이몬페그의 익살스런 연기가 돋보였던 영화!스파이더맨에서 늙어보이기만 했던 커스틴 ...</td>\n",
       "      <td>1</td>\n",
       "    </tr>\n",
       "    <tr>\n",
       "      <th>5</th>\n",
       "      <td>5403919</td>\n",
       "      <td>막 걸음마 뗀 3세부터 초등학교 1학년생인 8살용영화.ㅋㅋㅋ...별반개도 아까움.</td>\n",
       "      <td>0</td>\n",
       "    </tr>\n",
       "    <tr>\n",
       "      <th>6</th>\n",
       "      <td>7797314</td>\n",
       "      <td>원작의 긴장감을 제대로 살려내지못했다.</td>\n",
       "      <td>0</td>\n",
       "    </tr>\n",
       "    <tr>\n",
       "      <th>7</th>\n",
       "      <td>9443947</td>\n",
       "      <td>별 반개도 아깝다 욕나온다 이응경 길용우 연기생활이몇년인지..정말 발로해도 그것보단...</td>\n",
       "      <td>0</td>\n",
       "    </tr>\n",
       "    <tr>\n",
       "      <th>8</th>\n",
       "      <td>7156791</td>\n",
       "      <td>액션이 없는데도 재미 있는 몇안되는 영화</td>\n",
       "      <td>1</td>\n",
       "    </tr>\n",
       "    <tr>\n",
       "      <th>9</th>\n",
       "      <td>5912145</td>\n",
       "      <td>왜케 평점이 낮은건데? 꽤 볼만한데.. 헐리우드식 화려함에만 너무 길들여져 있나?</td>\n",
       "      <td>1</td>\n",
       "    </tr>\n",
       "  </tbody>\n",
       "</table>\n",
       "</div>"
      ],
      "text/plain": [
       "         id                                           document  label\n",
       "0   9976970                                아 더빙.. 진짜 짜증나네요 목소리      0\n",
       "1   3819312                  흠...포스터보고 초딩영화줄....오버연기조차 가볍지 않구나      1\n",
       "2  10265843                                  너무재밓었다그래서보는것을추천한다      0\n",
       "3   9045019                      교도소 이야기구먼 ..솔직히 재미는 없다..평점 조정      0\n",
       "4   6483659  사이몬페그의 익살스런 연기가 돋보였던 영화!스파이더맨에서 늙어보이기만 했던 커스틴 ...      1\n",
       "5   5403919      막 걸음마 뗀 3세부터 초등학교 1학년생인 8살용영화.ㅋㅋㅋ...별반개도 아까움.      0\n",
       "6   7797314                              원작의 긴장감을 제대로 살려내지못했다.      0\n",
       "7   9443947  별 반개도 아깝다 욕나온다 이응경 길용우 연기생활이몇년인지..정말 발로해도 그것보단...      0\n",
       "8   7156791                             액션이 없는데도 재미 있는 몇안되는 영화      1\n",
       "9   5912145      왜케 평점이 낮은건데? 꽤 볼만한데.. 헐리우드식 화려함에만 너무 길들여져 있나?      1"
      ]
     },
     "execution_count": 4,
     "metadata": {},
     "output_type": "execute_result"
    }
   ],
   "source": [
    "# 데이터 구성 확인\n",
    "train.head(10)"
   ]
  },
  {
   "cell_type": "markdown",
   "metadata": {
    "colab_type": "text",
    "id": "XgjMzosCDD35"
   },
   "source": [
    "<br>\n",
    "<br>\n",
    "\n",
    "# **전처리 - 훈련셋**"
   ]
  },
  {
   "cell_type": "code",
   "execution_count": 5,
   "metadata": {
    "ExecuteTime": {
     "end_time": "2023-11-08T07:58:21.891876Z",
     "start_time": "2023-11-08T07:58:21.877242Z"
    }
   },
   "outputs": [],
   "source": [
    "# 리뷰 문장 추출\n",
    "sentences = train['document']"
   ]
  },
  {
   "cell_type": "code",
   "execution_count": 6,
   "metadata": {
    "ExecuteTime": {
     "end_time": "2023-11-08T07:58:21.907582Z",
     "start_time": "2023-11-08T07:58:21.892878Z"
    }
   },
   "outputs": [],
   "source": [
    "# 라벨 추출\n",
    "labels = train['label'].values"
   ]
  },
  {
   "cell_type": "code",
   "execution_count": 7,
   "metadata": {
    "ExecuteTime": {
     "end_time": "2023-11-08T07:58:40.536331Z",
     "start_time": "2023-11-08T07:58:21.908569Z"
    }
   },
   "outputs": [],
   "source": [
    "# 배치 크기\n",
    "batch_size = 32\n",
    "\n",
    "# BERT의 입력 형식에 맞게 변환\n",
    "sentences = [\"[CLS] \" + str(sentence) + \" [SEP]\" for sentence in sentences]\n",
    "\n",
    "# BERT의 토큰화기를 사용하여 문장을 토큰화\n",
    "tokenizer = BertTokenizer.from_pretrained('bert-base-multilingual-cased', do_lower_case=False)\n",
    "tokenized_texts = [tokenizer.tokenize(sent) for sent in sentences]\n",
    "\n",
    "# 입력 토큰의 최대 길이\n",
    "MAX_LEN = 128\n",
    "\n",
    "# 토큰을 숫자 인덱스로 변환\n",
    "input_ids = [tokenizer.convert_tokens_to_ids(x) for x in tokenized_texts]\n",
    "\n",
    "# 최대 길이(MAX_LEN)에 맞게 시퀀스를 패딩하고 부족한 부분은 0으로 채움\n",
    "input_ids = pad_sequences(input_ids, maxlen=MAX_LEN, dtype=\"long\", truncating=\"post\", padding=\"post\")\n",
    "\n",
    "# 어텐션 마스크 초기화\n",
    "attention_masks = []\n",
    "\n",
    "# 패딩이 아닌 토큰에 대해 어텐션 마스크를 1로 설정하고 패딩 토큰에 대해 0으로 설정\n",
    "for seq in input_ids:\n",
    "    seq_mask = [float(i > 0) for i in seq]\n",
    "    attention_masks.append(seq_mask)\n",
    "\n",
    "# 훈련 세트와 검증 세트로 분리\n",
    "train_inputs, validation_inputs, train_labels, validation_labels = train_test_split(input_ids, labels, random_state=1234, test_size=0.1)\n",
    "\n",
    "# 어텐션 마스크도 훈련 세트와 검증 세트로 분리\n",
    "train_masks, validation_masks, _, _ = train_test_split(attention_masks, input_ids, random_state=1234, test_size=0.1)\n",
    "\n",
    "# 데이터를 파이토치 텐서로 변환\n",
    "train_inputs = torch.tensor(train_inputs)\n",
    "train_labels = torch.tensor(train_labels)\n",
    "train_masks = torch.tensor(train_masks)\n",
    "validation_inputs = torch.tensor(validation_inputs)\n",
    "validation_labels = torch.tensor(validation_labels)\n",
    "validation_masks = torch.tensor(validation_masks)\n",
    "\n",
    "\n",
    "\n",
    "# 입력, 마스크 및 라벨을 파이토치 DataLoader와 연결\n",
    "# 훈련 중에 배치 크기만큼 데이터를 검색할 수 있도록 함\n",
    "train_data = TensorDataset(train_inputs, train_masks, train_labels)\n",
    "train_sampler = RandomSampler(train_data)\n",
    "train_dataloader = DataLoader(train_data, sampler=train_sampler, batch_size=batch_size)\n",
    "\n",
    "validation_data = TensorDataset(validation_inputs, validation_masks, validation_labels)\n",
    "validation_sampler = SequentialSampler(validation_data)\n",
    "validation_dataloader = DataLoader(validation_data, sampler=validation_sampler, batch_size=batch_size)"
   ]
  },
  {
   "cell_type": "markdown",
   "metadata": {
    "colab_type": "text",
    "id": "zkqUHx51dffp"
   },
   "source": [
    "<br>\n",
    "<br>\n",
    "\n",
    "# **전처리 - 테스트셋**"
   ]
  },
  {
   "cell_type": "code",
   "execution_count": 8,
   "metadata": {
    "ExecuteTime": {
     "end_time": "2023-11-08T07:58:40.551986Z",
     "start_time": "2023-11-08T07:58:40.537334Z"
    }
   },
   "outputs": [],
   "source": [
    "sentences = test['document']"
   ]
  },
  {
   "cell_type": "code",
   "execution_count": 9,
   "metadata": {
    "ExecuteTime": {
     "end_time": "2023-11-08T07:58:40.566603Z",
     "start_time": "2023-11-08T07:58:40.551986Z"
    }
   },
   "outputs": [],
   "source": [
    "labels = test['label'].values"
   ]
  },
  {
   "cell_type": "code",
   "execution_count": 10,
   "metadata": {
    "ExecuteTime": {
     "end_time": "2023-11-08T07:58:47.642313Z",
     "start_time": "2023-11-08T07:58:40.567658Z"
    }
   },
   "outputs": [],
   "source": [
    "# 배치 사이즈\n",
    "batch_size = 32\n",
    "\n",
    "#BERT의 입력 형식에 맞게 변환\n",
    "sentences = [\"[CLS] \" + str(sentence) + \" [SEP]\" for sentence in sentences]\n",
    "\n",
    "# BERT의 토큰화기를 사용하여 문장을 토큰화\n",
    "tokenizer = BertTokenizer.from_pretrained('bert-base-multilingual-cased', do_lower_case=False)\n",
    "tokenized_texts = [tokenizer.tokenize(sent) for sent in sentences]\n",
    "\n",
    "# 입력 토큰의 최대 길이\n",
    "MAX_LEN = 128\n",
    "\n",
    "# 토큰을 숫자 인덱스로 변환\n",
    "input_ids = [tokenizer.convert_tokens_to_ids(x) for x in tokenized_texts]\n",
    "\n",
    "# 최대 길이(MAX_LEN)에 맞게 시퀀스를 패딩하고 부족한 부분은 0으로 채움\n",
    "input_ids = pad_sequences(input_ids, maxlen=MAX_LEN, dtype=\"long\", truncating=\"post\", padding=\"post\")\n",
    "\n",
    "attention_masks = []\n",
    "\n",
    "for seq in input_ids:\n",
    "    seq_mask = [float(i > 0) for i in seq]\n",
    "    attention_masks.append(seq_mask)\n",
    "\n",
    "# 데이터를 파이토치의 텐서로 변환\n",
    "test_inputs = torch.tensor(input_ids)\n",
    "test_labels = torch.tensor(labels)\n",
    "test_masks = torch.tensor(attention_masks)\n",
    "\n",
    "\n",
    "test_data = TensorDataset(test_inputs, test_masks, test_labels)\n",
    "test_sampler = RandomSampler(test_data)\n",
    "test_dataloader = DataLoader(test_data, sampler=test_sampler, batch_size=batch_size)\n"
   ]
  },
  {
   "cell_type": "markdown",
   "metadata": {
    "colab_type": "text",
    "id": "FBvpU-Hfgcth"
   },
   "source": [
    "<br>\n",
    "<br>\n",
    "\n",
    "# **모델 및 파라미터 생성**"
   ]
  },
  {
   "cell_type": "code",
   "execution_count": 11,
   "metadata": {
    "ExecuteTime": {
     "end_time": "2023-11-08T07:58:47.657452Z",
     "start_time": "2023-11-08T07:58:47.643314Z"
    }
   },
   "outputs": [
    {
     "name": "stdout",
     "output_type": "stream",
     "text": [
      "Found GPU at: /device:GPU:0\n"
     ]
    }
   ],
   "source": [
    "# GPU 디바이스 이름 구함\n",
    "device_name = tf.test.gpu_device_name()\n",
    "\n",
    "# GPU 디바이스 이름 검사\n",
    "if device_name == '/device:GPU:0':\n",
    "    print('Found GPU at: {}'.format(device_name))\n",
    "else:\n",
    "    raise SystemError('GPU device not found')"
   ]
  },
  {
   "cell_type": "code",
   "execution_count": 12,
   "metadata": {
    "ExecuteTime": {
     "end_time": "2023-11-08T07:58:47.719366Z",
     "start_time": "2023-11-08T07:58:47.658451Z"
    }
   },
   "outputs": [
    {
     "name": "stdout",
     "output_type": "stream",
     "text": [
      "nvcc: NVIDIA (R) Cuda compiler driver\n",
      "Copyright (c) 2005-2023 NVIDIA Corporation\n",
      "Built on Wed_Feb__8_05:53:42_Coordinated_Universal_Time_2023\n",
      "Cuda compilation tools, release 12.1, V12.1.66\n",
      "Build cuda_12.1.r12.1/compiler.32415258_0\n"
     ]
    }
   ],
   "source": [
    "!nvcc --version"
   ]
  },
  {
   "cell_type": "code",
   "execution_count": 13,
   "metadata": {
    "ExecuteTime": {
     "end_time": "2023-11-08T07:58:47.734764Z",
     "start_time": "2023-11-08T07:58:47.720321Z"
    }
   },
   "outputs": [],
   "source": [
    "# 디바이스 정의 \n",
    "device = torch.device(\"cuda\" if torch.cuda.is_available() else \"cpu\")"
   ]
  },
  {
   "cell_type": "code",
   "execution_count": 14,
   "metadata": {
    "ExecuteTime": {
     "end_time": "2023-11-08T07:58:52.004855Z",
     "start_time": "2023-11-08T07:58:47.735806Z"
    },
    "colab": {
     "base_uri": "https://localhost:8080/",
     "height": 1000,
     "referenced_widgets": [
      "ba3543867b3949b98a56b79766a7fe39",
      "7be0183b68c140f993db6df970e1b59e",
      "566d90a8747a41069a8a3e8809fcf1c7",
      "3706a29c1fd14cafb1527ba850d24dda",
      "3fa7bd6d2ebf435ca630fef08fe0e9a1",
      "b8a0fa47220f426d877ca05540befdfe",
      "b199891e7d7649d68480454645be2b8e",
      "dc40527794924690a1a50ee4a5683731",
      "d86637397e3f4c259bf6aff32a8ac917",
      "36bf4fd94daa477cb304f6e2f0e59585",
      "2b925cf0822f4bbfae8bd4b6d9ea3559",
      "50a457e2365d4d8f9b5cab009198b1c1",
      "931bdaf9d81f4c5c96be6a591f5d3a8a",
      "8fe822a741884e408b7b098bdd520391",
      "cc539678cb0f474385c29d29fec3aee4",
      "cc31bfb1dcfd4f0fba7dbcd02dab6671"
     ]
    },
    "colab_type": "code",
    "id": "MS2MXSiLg5zC",
    "outputId": "470e8fd8-02bd-453a-c5f2-e98282e815b6"
   },
   "outputs": [
    {
     "data": {
      "text/plain": [
       "BertForSequenceClassification(\n",
       "  (bert): BertModel(\n",
       "    (embeddings): BertEmbeddings(\n",
       "      (word_embeddings): Embedding(119547, 768, padding_idx=0)\n",
       "      (position_embeddings): Embedding(512, 768)\n",
       "      (token_type_embeddings): Embedding(2, 768)\n",
       "      (LayerNorm): LayerNorm((768,), eps=1e-12, elementwise_affine=True)\n",
       "      (dropout): Dropout(p=0.1, inplace=False)\n",
       "    )\n",
       "    (encoder): BertEncoder(\n",
       "      (layer): ModuleList(\n",
       "        (0-11): 12 x BertLayer(\n",
       "          (attention): BertAttention(\n",
       "            (self): BertSelfAttention(\n",
       "              (query): Linear(in_features=768, out_features=768, bias=True)\n",
       "              (key): Linear(in_features=768, out_features=768, bias=True)\n",
       "              (value): Linear(in_features=768, out_features=768, bias=True)\n",
       "              (dropout): Dropout(p=0.1, inplace=False)\n",
       "            )\n",
       "            (output): BertSelfOutput(\n",
       "              (dense): Linear(in_features=768, out_features=768, bias=True)\n",
       "              (LayerNorm): LayerNorm((768,), eps=1e-12, elementwise_affine=True)\n",
       "              (dropout): Dropout(p=0.1, inplace=False)\n",
       "            )\n",
       "          )\n",
       "          (intermediate): BertIntermediate(\n",
       "            (dense): Linear(in_features=768, out_features=3072, bias=True)\n",
       "          )\n",
       "          (output): BertOutput(\n",
       "            (dense): Linear(in_features=3072, out_features=768, bias=True)\n",
       "            (LayerNorm): LayerNorm((768,), eps=1e-12, elementwise_affine=True)\n",
       "            (dropout): Dropout(p=0.1, inplace=False)\n",
       "          )\n",
       "        )\n",
       "      )\n",
       "    )\n",
       "    (pooler): BertPooler(\n",
       "      (dense): Linear(in_features=768, out_features=768, bias=True)\n",
       "      (activation): Tanh()\n",
       "    )\n",
       "  )\n",
       "  (dropout): Dropout(p=0.1, inplace=False)\n",
       "  (classifier): Linear(in_features=768, out_features=2, bias=True)\n",
       ")"
      ]
     },
     "execution_count": 14,
     "metadata": {},
     "output_type": "execute_result"
    }
   ],
   "source": [
    "# 분류를 위한 BERT 모델 생성\n",
    "model = BertForSequenceClassification.from_pretrained(\"bert-base-multilingual-cased\", num_labels=2)\n",
    "model.cuda()"
   ]
  },
  {
   "cell_type": "code",
   "execution_count": 15,
   "metadata": {
    "ExecuteTime": {
     "end_time": "2023-11-08T07:58:52.177965Z",
     "start_time": "2023-11-08T07:58:52.005855Z"
    },
    "colab": {},
    "colab_type": "code",
    "id": "ZIdfbLTuWmxk"
   },
   "outputs": [],
   "source": [
    "# 옵티마이저 설정\n",
    "optimizer = AdamW(model.parameters(),\n",
    "                  lr = 2e-5, # 학습률\n",
    "                  eps = 1e-8 # 0으로 나누는 것을 방지하기 위한 epsilon 값\n",
    "                )\n",
    "\n",
    "# 에폭수\n",
    "epochs = 10\n",
    "\n",
    "# 총 훈련 스텝 : 배치반복 횟수 * 에폭\n",
    "total_steps = len(train_dataloader) * epochs\n",
    "\n",
    "# 처음에 학습률을 조금씩 변화시키는 스케줄러 생성\n",
    "scheduler = get_linear_schedule_with_warmup(optimizer, \n",
    "                                            num_warmup_steps = 0,\n",
    "                                            num_training_steps = total_steps)"
   ]
  },
  {
   "cell_type": "markdown",
   "metadata": {
    "colab_type": "text",
    "id": "gzCHV_ghj7DM"
   },
   "source": [
    "<br>\n",
    "<br>\n",
    "\n",
    "# **모델 학습**"
   ]
  },
  {
   "cell_type": "code",
   "execution_count": 16,
   "metadata": {
    "ExecuteTime": {
     "end_time": "2023-11-08T07:58:52.193008Z",
     "start_time": "2023-11-08T07:58:52.178719Z"
    },
    "colab": {},
    "colab_type": "code",
    "id": "S0-p6pPVXCRe"
   },
   "outputs": [],
   "source": [
    "# 정확도 계산 함수\n",
    "def flat_accuracy(preds, labels):\n",
    "    \n",
    "    pred_flat = np.argmax(preds, axis=0).flatten()\n",
    "    labels_flat = labels.flatten()\n",
    "\n",
    "    return np.sum(pred_flat == labels_flat) / len(labels_flat)"
   ]
  },
  {
   "cell_type": "code",
   "execution_count": 17,
   "metadata": {
    "ExecuteTime": {
     "end_time": "2023-11-08T07:58:52.207610Z",
     "start_time": "2023-11-08T07:58:52.193008Z"
    },
    "colab": {},
    "colab_type": "code",
    "id": "FJXISnJzCdLM"
   },
   "outputs": [],
   "source": [
    "# 시간 표시 함수\n",
    "def format_time(elapsed):\n",
    "\n",
    "    # 반올림\n",
    "    elapsed_rounded = int(round((elapsed)))\n",
    "    \n",
    "    # hh:mm:ss으로 형태 변경\n",
    "    return str(datetime.timedelta(seconds=elapsed_rounded))"
   ]
  },
  {
   "cell_type": "code",
   "execution_count": 18,
   "metadata": {
    "ExecuteTime": {
     "end_time": "2023-11-08T10:20:09.808704Z",
     "start_time": "2023-11-08T07:58:52.207610Z"
    },
    "colab": {
     "base_uri": "https://localhost:8080/",
     "height": 1000
    },
    "colab_type": "code",
    "id": "muU2kS2GCh4y",
    "outputId": "bf35c728-34de-4347-bc68-d280840ad75f",
    "scrolled": true
   },
   "outputs": [
    {
     "name": "stdout",
     "output_type": "stream",
     "text": [
      "\n",
      "======== Epoch 1 / 10 =======\n",
      "Training...\n"
     ]
    },
    {
     "name": "stderr",
     "output_type": "stream",
     "text": [
      "C:\\Users\\CHAMJ\\anaconda3\\envs\\py3_9\\lib\\site-packages\\transformers\\optimization.py:146: UserWarning: This overload of add_ is deprecated:\n",
      "\tadd_(Number alpha, Tensor other)\n",
      "Consider using one of the following signatures instead:\n",
      "\tadd_(Tensor other, *, Number alpha) (Triggered internally at C:\\actions-runner\\_work\\pytorch\\pytorch\\builder\\windows\\pytorch\\torch\\csrc\\utils\\python_arg_parser.cpp:1519.)\n",
      "  exp_avg.mul_(beta1).add_(1.0 - beta1, grad)\n"
     ]
    },
    {
     "name": "stdout",
     "output_type": "stream",
     "text": [
      " Batch   500 of 4,219. Elapsed: 0:01:36.\n",
      " Batch 1,000 of 4,219. Elapsed: 0:03:12.\n",
      " Batch 1,500 of 4,219. Elapsed: 0:04:49.\n",
      " Batch 2,000 of 4,219. Elapsed: 0:06:26.\n",
      " Batch 2,500 of 4,219. Elapsed: 0:08:03.\n",
      " Batch 3,000 of 4,219. Elapsed: 0:09:40.\n",
      " Batch 3,500 of 4,219. Elapsed: 0:11:17.\n",
      " Batch 4,000 of 4,219. Elapsed: 0:12:54.\n",
      "\n",
      " Average training loss: 0.38\n",
      " Training epoch took: 0:13:36\n",
      "\n",
      "Running Validation...\n",
      "Validation Loss: 0.33\n",
      "Validation Accuracy: 0.50\n",
      "\n",
      "======== Epoch 2 / 10 =======\n",
      "Training...\n",
      " Batch   500 of 4,219. Elapsed: 0:01:37.\n",
      " Batch 1,000 of 4,219. Elapsed: 0:03:14.\n",
      " Batch 1,500 of 4,219. Elapsed: 0:04:51.\n",
      " Batch 2,000 of 4,219. Elapsed: 0:06:28.\n",
      " Batch 2,500 of 4,219. Elapsed: 0:08:04.\n",
      " Batch 3,000 of 4,219. Elapsed: 0:09:41.\n",
      " Batch 3,500 of 4,219. Elapsed: 0:11:18.\n",
      " Batch 4,000 of 4,219. Elapsed: 0:12:55.\n",
      "\n",
      " Average training loss: 0.30\n",
      " Training epoch took: 0:13:37\n",
      "\n",
      "Running Validation...\n",
      "Validation Loss: 0.37\n",
      "Validation Accuracy: 0.50\n",
      "\n",
      "======== Epoch 3 / 10 =======\n",
      "Training...\n",
      " Batch   500 of 4,219. Elapsed: 0:01:37.\n",
      " Batch 1,000 of 4,219. Elapsed: 0:03:14.\n",
      " Batch 1,500 of 4,219. Elapsed: 0:04:50.\n",
      " Batch 2,000 of 4,219. Elapsed: 0:06:27.\n",
      " Batch 2,500 of 4,219. Elapsed: 0:08:04.\n",
      " Batch 3,000 of 4,219. Elapsed: 0:09:41.\n",
      " Batch 3,500 of 4,219. Elapsed: 0:11:17.\n",
      " Batch 4,000 of 4,219. Elapsed: 0:12:54.\n",
      "\n",
      " Average training loss: 0.24\n",
      " Training epoch took: 0:13:36\n",
      "\n",
      "Running Validation...\n",
      "Validation Loss: 0.31\n",
      "Validation Accuracy: 0.50\n",
      "\n",
      "======== Epoch 4 / 10 =======\n",
      "Training...\n",
      " Batch   500 of 4,219. Elapsed: 0:01:37.\n",
      " Batch 1,000 of 4,219. Elapsed: 0:03:14.\n",
      " Batch 1,500 of 4,219. Elapsed: 0:04:50.\n",
      " Batch 2,000 of 4,219. Elapsed: 0:06:27.\n",
      " Batch 2,500 of 4,219. Elapsed: 0:08:04.\n",
      " Batch 3,000 of 4,219. Elapsed: 0:09:40.\n",
      " Batch 3,500 of 4,219. Elapsed: 0:11:17.\n",
      " Batch 4,000 of 4,219. Elapsed: 0:12:54.\n",
      "\n",
      " Average training loss: 0.21\n",
      " Training epoch took: 0:13:36\n",
      "\n",
      "Running Validation...\n",
      "Validation Loss: 0.29\n",
      "Validation Accuracy: 0.50\n",
      "\n",
      "======== Epoch 5 / 10 =======\n",
      "Training...\n",
      " Batch   500 of 4,219. Elapsed: 0:01:37.\n",
      " Batch 1,000 of 4,219. Elapsed: 0:03:14.\n",
      " Batch 1,500 of 4,219. Elapsed: 0:04:51.\n",
      " Batch 2,000 of 4,219. Elapsed: 0:06:29.\n",
      " Batch 2,500 of 4,219. Elapsed: 0:08:06.\n",
      " Batch 3,000 of 4,219. Elapsed: 0:09:43.\n",
      " Batch 3,500 of 4,219. Elapsed: 0:11:21.\n",
      " Batch 4,000 of 4,219. Elapsed: 0:12:58.\n",
      "\n",
      " Average training loss: 0.17\n",
      " Training epoch took: 0:13:40\n",
      "\n",
      "Running Validation...\n",
      "Validation Loss: 0.26\n",
      "Validation Accuracy: 0.50\n",
      "\n",
      "======== Epoch 6 / 10 =======\n",
      "Training...\n",
      " Batch   500 of 4,219. Elapsed: 0:01:37.\n",
      " Batch 1,000 of 4,219. Elapsed: 0:03:15.\n",
      " Batch 1,500 of 4,219. Elapsed: 0:04:52.\n",
      " Batch 2,000 of 4,219. Elapsed: 0:06:29.\n",
      " Batch 2,500 of 4,219. Elapsed: 0:08:06.\n",
      " Batch 3,000 of 4,219. Elapsed: 0:09:44.\n",
      " Batch 3,500 of 4,219. Elapsed: 0:11:21.\n",
      " Batch 4,000 of 4,219. Elapsed: 0:12:58.\n",
      "\n",
      " Average training loss: 0.15\n",
      " Training epoch took: 0:13:41\n",
      "\n",
      "Running Validation...\n",
      "Validation Loss: 0.22\n",
      "Validation Accuracy: 0.50\n",
      "\n",
      "======== Epoch 7 / 10 =======\n",
      "Training...\n",
      " Batch   500 of 4,219. Elapsed: 0:01:37.\n",
      " Batch 1,000 of 4,219. Elapsed: 0:03:15.\n",
      " Batch 1,500 of 4,219. Elapsed: 0:04:52.\n",
      " Batch 2,000 of 4,219. Elapsed: 0:06:29.\n",
      " Batch 2,500 of 4,219. Elapsed: 0:08:06.\n",
      " Batch 3,000 of 4,219. Elapsed: 0:09:44.\n",
      " Batch 3,500 of 4,219. Elapsed: 0:11:21.\n",
      " Batch 4,000 of 4,219. Elapsed: 0:12:58.\n",
      "\n",
      " Average training loss: 0.14\n",
      " Training epoch took: 0:13:41\n",
      "\n",
      "Running Validation...\n",
      "Validation Loss: 0.20\n",
      "Validation Accuracy: 0.50\n",
      "\n",
      "======== Epoch 8 / 10 =======\n",
      "Training...\n",
      " Batch   500 of 4,219. Elapsed: 0:01:37.\n",
      " Batch 1,000 of 4,219. Elapsed: 0:03:15.\n",
      " Batch 1,500 of 4,219. Elapsed: 0:04:52.\n",
      " Batch 2,000 of 4,219. Elapsed: 0:06:29.\n",
      " Batch 2,500 of 4,219. Elapsed: 0:08:07.\n",
      " Batch 3,000 of 4,219. Elapsed: 0:09:44.\n",
      " Batch 3,500 of 4,219. Elapsed: 0:11:21.\n",
      " Batch 4,000 of 4,219. Elapsed: 0:12:59.\n",
      "\n",
      " Average training loss: 0.13\n",
      " Training epoch took: 0:13:41\n",
      "\n",
      "Running Validation...\n",
      "Validation Loss: 0.19\n",
      "Validation Accuracy: 0.50\n",
      "\n",
      "======== Epoch 9 / 10 =======\n",
      "Training...\n",
      " Batch   500 of 4,219. Elapsed: 0:01:37.\n",
      " Batch 1,000 of 4,219. Elapsed: 0:03:15.\n",
      " Batch 1,500 of 4,219. Elapsed: 0:04:52.\n",
      " Batch 2,000 of 4,219. Elapsed: 0:06:29.\n",
      " Batch 2,500 of 4,219. Elapsed: 0:08:07.\n",
      " Batch 3,000 of 4,219. Elapsed: 0:09:44.\n",
      " Batch 3,500 of 4,219. Elapsed: 0:11:21.\n",
      " Batch 4,000 of 4,219. Elapsed: 0:12:58.\n",
      "\n",
      " Average training loss: 0.12\n",
      " Training epoch took: 0:13:41\n",
      "\n",
      "Running Validation...\n",
      "Validation Loss: 0.22\n",
      "Validation Accuracy: 0.50\n",
      "\n",
      "======== Epoch 10 / 10 =======\n",
      "Training...\n",
      " Batch   500 of 4,219. Elapsed: 0:01:37.\n",
      " Batch 1,000 of 4,219. Elapsed: 0:03:14.\n",
      " Batch 1,500 of 4,219. Elapsed: 0:04:52.\n",
      " Batch 2,000 of 4,219. Elapsed: 0:06:29.\n",
      " Batch 2,500 of 4,219. Elapsed: 0:08:07.\n",
      " Batch 3,000 of 4,219. Elapsed: 0:09:44.\n",
      " Batch 3,500 of 4,219. Elapsed: 0:11:21.\n",
      " Batch 4,000 of 4,219. Elapsed: 0:12:59.\n",
      "\n",
      " Average training loss: 0.11\n",
      " Training epoch took: 0:13:41\n",
      "\n",
      "Running Validation...\n",
      "Validation Loss: 0.20\n",
      "Validation Accuracy: 0.50\n",
      "Early stop: validation loss does not improve for 2 epochs\n",
      "\n",
      "Training complete!\n"
     ]
    },
    {
     "data": {
      "image/png": "[encoded data removed]",
      "text/plain": [
       "<Figure size 800x500 with 1 Axes>"
      ]
     },
     "metadata": {},
     "output_type": "display_data"
    }
   ],
   "source": [
    "import random\n",
    "import numpy as np\n",
    "import torch\n",
    "import time\n",
    "import matplotlib.pyplot as plt\n",
    "\n",
    "# Set a fixed random seed\n",
    "seed_val = 42\n",
    "random.seed(seed_val)\n",
    "np.random.seed(seed_val)\n",
    "torch.manual_seed(seed_val)\n",
    "torch.cuda.manual_seed_all(seed_val)\n",
    "\n",
    "# Initialize gradients\n",
    "model.zero_grad()\n",
    "\n",
    "# Define parameters for early stopping based on validation loss\n",
    "early_stopping_patience = 2\n",
    "best_validation_loss = float('inf')\n",
    "patience = early_stopping_patience\n",
    "\n",
    "# Initialize the best accuracy\n",
    "best_accuracy = 0.0\n",
    "\n",
    "# Lists to store training and validation losses\n",
    "training_losses = []  \n",
    "validation_losses = []\n",
    "\n",
    "# Initialize variables for accuracy calculation\n",
    "eval_loss, eval_accuracy = 0, 0\n",
    "nb_eval_steps = 0\n",
    "\n",
    "# Repeat for a certain number of epochs\n",
    "for epoch_i in range(0, epochs):\n",
    "\n",
    "    # =======================================================\n",
    "    # Training\n",
    "    # =======================================================\n",
    "    print(\"\")\n",
    "    print('======== Epoch {:} / {:} ======='.format(epoch_i + 1, epochs))\n",
    "    print('Training...')\n",
    "\n",
    "    # Set start time\n",
    "    t0 = time.time()\n",
    "\n",
    "    # Initialize total loss\n",
    "    total_loss = 0\n",
    "\n",
    "    # Switch to training mode\n",
    "    model.train()\n",
    "\n",
    "    # Repeatedly fetch batches from the data loader\n",
    "    for step, batch in enumerate(train_dataloader):\n",
    "        # Display progress information\n",
    "        if step % 500 == 0 and not step == 0:\n",
    "            elapsed = format_time(time.time() - t0)\n",
    "            print(' Batch {:>5,} of {:>5,}. Elapsed: {:}.'.format(step, len(train_dataloader), elapsed))\n",
    "\n",
    "        # Put the batch on the GPU\n",
    "        batch = tuple(t.to(device) for t in batch)\n",
    "\n",
    "        # Extract data from the batch\n",
    "        b_input_ids, b_input_mask, b_labels = batch\n",
    "\n",
    "        # Perform Forward\n",
    "        outputs = model(b_input_ids,\n",
    "                        token_type_ids=None,\n",
    "                        attention_mask=b_input_mask,\n",
    "                        labels=b_labels)\n",
    "\n",
    "        # Get the loss\n",
    "        loss = outputs[0]\n",
    "\n",
    "        # Calculate the total loss\n",
    "        total_loss += loss.item()\n",
    "\n",
    "        # Compute gradients by performing a backward pass\n",
    "        loss.backward()\n",
    "\n",
    "        # Gradient clipping\n",
    "        torch.nn.utils.clip_grad_norm_(model.parameters(), 1.0)\n",
    "\n",
    "        # Update model's parameters using the gradients\n",
    "        optimizer.step()\n",
    "\n",
    "        # Initialize gradients\n",
    "        model.zero_grad()\n",
    "\n",
    "    # Calculate the average training loss\n",
    "    avg_train_loss = total_loss / len(train_dataloader)\n",
    "    training_losses.append(avg_train_loss)\n",
    "\n",
    "    print(\"\")\n",
    "    print(\" Average training loss: {0:.2f}\".format(avg_train_loss))\n",
    "    print(\" Training epoch took: {:}\".format(format_time(time.time() - t0)))\n",
    "\n",
    "    # =======================================================\n",
    "    # Validation\n",
    "    # =======================================================\n",
    "    print(\"\")\n",
    "    print(\"Running Validation...\")\n",
    "\n",
    "    # Set start time\n",
    "    t0 = time.time()\n",
    "\n",
    "    # Switch to evaluation mode\n",
    "    model.eval()\n",
    "\n",
    "    # Repeatedly fetch batches from the validation data loader\n",
    "    for batch in validation_dataloader:\n",
    "        # Put the batch on the GPU\n",
    "        batch = tuple(t.to(device) for t in batch)\n",
    "\n",
    "        # Extract data from the batch\n",
    "        b_input_ids, b_input_mask, b_labels = batch\n",
    "\n",
    "        # Do not calculate gradients during validation\n",
    "        with torch.no_grad():\n",
    "            # Perform Forward\n",
    "            outputs = model(b_input_ids,\n",
    "                            token_type_ids=None,\n",
    "                            attention_mask=b_input_mask,\n",
    "                            labels=b_labels)\n",
    "\n",
    "        # Get the logits and the loss\n",
    "        logits = outputs[0]\n",
    "\n",
    "        # Ensure that loss is a scalar (0-dimensional tensor) and accumulate the loss\n",
    "        eval_loss += loss.item()\n",
    "\n",
    "        # Move data to the CPU\n",
    "        logits = logits.detach().cpu().numpy()\n",
    "        label_ids = b_labels.to('cpu').numpy()\n",
    "\n",
    "        # Calculate accuracy by comparing output logits and labels\n",
    "        tmp_eval_accuracy = flat_accuracy(logits, label_ids)\n",
    "        eval_accuracy += tmp_eval_accuracy\n",
    "        nb_eval_steps += 1\n",
    "\n",
    "    # Calculate the average validation loss\n",
    "    avg_validation_loss = eval_loss / nb_eval_steps\n",
    "    validation_losses.append(avg_validation_loss)\n",
    "\n",
    "    # Calculate average validation accuracy\n",
    "    avg_validation_accuracy = eval_accuracy / nb_eval_steps\n",
    "\n",
    "    print(\"Validation Loss: {0:.2f}\".format(avg_validation_loss))\n",
    "    print(\"Validation Accuracy: {0:.2f}\".format(avg_validation_accuracy))\n",
    "\n",
    "    # Check for early stopping based on validation loss\n",
    "    if avg_validation_loss < best_validation_loss:\n",
    "        best_validation_loss = avg_validation_loss\n",
    "        patience = early_stopping_patience  # Reset patience\n",
    "    else:\n",
    "        patience -= 1  # Decrease patience\n",
    "\n",
    "    # Early stop when patience becomes 0\n",
    "    if patience == 0:\n",
    "        print(\"Early stop: validation loss does not improve for {} epochs\".format(early_stopping_patience))\n",
    "        break\n",
    "\n",
    "    # Check if the current accuracy is better than the best accuracy\n",
    "    if avg_validation_accuracy > best_accuracy:\n",
    "        best_accuracy = avg_validation_accuracy\n",
    "\n",
    "print(\"\")\n",
    "print(\"Training complete!\")\n",
    "\n",
    "# Plot training and validation loss\n",
    "plt.figure(figsize=(8, 5))\n",
    "plt.plot(training_losses, label='Training Loss', marker='o')\n",
    "plt.plot(validation_losses, label='Validation Loss', marker='o')\n",
    "plt.xlabel('Epoch')\n",
    "plt.ylabel('Loss')\n",
    "plt.legend()\n",
    "plt.title('Training and Validation Loss Over Epochs')\n",
    "plt.grid(True)\n",
    "plt.show()"
   ]
  },
  {
   "cell_type": "markdown",
   "metadata": {
    "ExecuteTime": {
     "end_time": "2023-11-08T10:40:58.055040Z",
     "start_time": "2023-11-08T10:40:58.039133Z"
    }
   },
   "source": [
    "############################\n",
    "############################\n",
    "############################\n",
    "############################\n",
    "############################\n",
    "############################\n",
    "############################\n",
    "############################\n",
    "############################\n",
    "############################\n",
    "############################\n",
    "############################\n",
    "############################\n",
    "############################"
   ]
  },
  {
   "cell_type": "markdown",
   "metadata": {
    "colab_type": "text",
    "id": "6BVbl4Zjatzn"
   },
   "source": [
    "<br>\n",
    "<br>\n",
    "\n",
    "# **테스트셋 평가**"
   ]
  },
  {
   "cell_type": "code",
   "execution_count": 21,
   "metadata": {
    "ExecuteTime": {
     "end_time": "2023-11-08T10:20:58.115386Z",
     "start_time": "2023-11-08T10:20:58.102385Z"
    }
   },
   "outputs": [
    {
     "ename": "SyntaxError",
     "evalue": "invalid syntax (190376046.py, line 30)",
     "output_type": "error",
     "traceback": [
      "\u001b[1;36m  Cell \u001b[1;32mIn[21], line 30\u001b[1;36m\u001b[0m\n\u001b[1;33m    batch = tuple(t.to(device) for t in batch)\u001b[0m\n\u001b[1;37m    ^\u001b[0m\n\u001b[1;31mSyntaxError\u001b[0m\u001b[1;31m:\u001b[0m invalid syntax\n"
     ]
    }
   ],
   "source": [
    "# Check for early stopping based on validation loss\n",
    "if avg_validation_loss < best_validation_loss:\n",
    "    best_validation_loss = avg_validation_loss\n",
    "    patience = early_stopping_patience  # Reset patience\n",
    "else:\n",
    "    patience -= 1  # Decrease patience\n",
    "\n",
    "# Early stop when patience becomes 0\n",
    "if patience == 0:\n",
    "    print(\"Early stop: validation loss does not improve for {} epochs\".format(early_stopping_patience))\n",
    "    \n",
    "    # 시작 시간 설정\n",
    "    t0 = time.time()\n",
    "\n",
    "    # 평가 모드로 변경\n",
    "    model.eval()\n",
    "\n",
    "    # 변수 초기화\n",
    "    eval_loss, eval_accuracy = 0, 0\n",
    "    nb_eval_steps, nb_eval_examples = 0, 0\n",
    "\n",
    "    # 데이터로더에서 배치만큼 반복하여 가져옴\n",
    "    for step, batch in enumerate(test_dataloader):\n",
    "        # 경과 정보 표시\n",
    "        if step % 100 == 0 and not step == 0:\n",
    "            elapsed = format_time(time.time() - t0)\n",
    "            print('  Batch {:>5,}  of  {:>5,}.    Elapsed: {:}.'.format(step, len(test_dataloader), elapsed)\n",
    "\n",
    "        # 배치를 GPU에 넣음\n",
    "        batch = tuple(t.to(device) for t in batch)\n",
    "\n",
    "        # 배치에서 데이터 추출\n",
    "        b_input_ids, b_input_mask, b_labels = batch\n",
    "\n",
    "        # 그래디언트 계산 안함\n",
    "        with torch.no_grad():\n",
    "            # Forward 수행\n",
    "            outputs = model(b_input_ids, \n",
    "                            token_type_ids=None, \n",
    "                            attention_mask=b_input_mask)\n",
    "\n",
    "        # 로스 구함\n",
    "        logits = outputs[0]\n",
    "\n",
    "        # CPU로 데이터 이동\n",
    "        logits = logits.detach().cpu().numpy()\n",
    "        label_ids = b_labels.to('cpu').numpy()\n",
    "\n",
    "        # 출력 로짓과 라벨을 비교하여 정확도 계산\n",
    "        tmp_eval_accuracy = flat_accuracy(logits, label_ids)\n",
    "        eval_accuracy += tmp_eval_accuracy\n",
    "        nb_eval_steps += 1\n",
    "\n",
    "    print(\"\")\n",
    "    print(\"Accuracy: {0:.2f}\".format(eval_accuracy/nb_eval_steps))\n",
    "    print(\"Test took: {:}\".format(format_time(time.time() - t0))\n",
    "\n",
    "    # 학습 완료 메시지 출력\n",
    "    print(\"Training complete!\")\n"
   ]
  },
  {
   "cell_type": "markdown",
   "metadata": {
    "colab_type": "text",
    "id": "U7SzL1IBe1Dm"
   },
   "source": [
    "<br>\n",
    "<br>\n",
    "\n",
    "# **새로운 문장 테스트**"
   ]
  },
  {
   "cell_type": "code",
   "execution_count": null,
   "metadata": {
    "ExecuteTime": {
     "end_time": "2023-11-08T10:20:10.611561Z",
     "start_time": "2023-11-08T10:20:10.611561Z"
    },
    "colab": {},
    "colab_type": "code",
    "id": "Tb4v_VfEfGQB"
   },
   "outputs": [],
   "source": [
    "# 입력 데이터 변환\n",
    "def convert_input_data(sentences):\n",
    "\n",
    "    # BERT의 토크나이저로 문장을 토큰으로 분리\n",
    "    tokenized_texts = [tokenizer.tokenize(sent) for sent in sentences]\n",
    "\n",
    "    # 입력 토큰의 최대 시퀀스 길이\n",
    "    MAX_LEN = 128\n",
    "\n",
    "    # 토큰을 숫자 인덱스로 변환\n",
    "    input_ids = [tokenizer.convert_tokens_to_ids(x) for x in tokenized_texts]\n",
    "    \n",
    "    # 문장을 MAX_LEN 길이에 맞게 자르고, 모자란 부분을 패딩 0으로 채움\n",
    "    input_ids = pad_sequences(input_ids, maxlen=MAX_LEN, dtype=\"long\", truncating=\"post\", padding=\"post\")\n",
    "\n",
    "    # 어텐션 마스크 초기화\n",
    "    attention_masks = []\n",
    "\n",
    "    # 어텐션 마스크를 패딩이 아니면 1, 패딩이면 0으로 설정\n",
    "    # 패딩 부분은 BERT 모델에서 어텐션을 수행하지 않아 속도 향상\n",
    "    for seq in input_ids:\n",
    "        seq_mask = [float(i>0) for i in seq]\n",
    "        attention_masks.append(seq_mask)\n",
    "\n",
    "    # 데이터를 파이토치의 텐서로 변환\n",
    "    inputs = torch.tensor(input_ids)\n",
    "    masks = torch.tensor(attention_masks)\n",
    "\n",
    "    return inputs, masks"
   ]
  },
  {
   "cell_type": "code",
   "execution_count": null,
   "metadata": {
    "ExecuteTime": {
     "end_time": "2023-11-08T10:20:10.612483Z",
     "start_time": "2023-11-08T10:20:10.612483Z"
    },
    "colab": {},
    "colab_type": "code",
    "id": "C12NL1Fvgv4E"
   },
   "outputs": [],
   "source": [
    "# 문장 테스트\n",
    "def test_sentences(sentences):\n",
    "\n",
    "    # 평가모드로 변경\n",
    "    model.eval()\n",
    "\n",
    "    # 문장을 입력 데이터로 변환\n",
    "    inputs, masks = convert_input_data(sentences)\n",
    "\n",
    "    # 데이터를 GPU에 넣음\n",
    "    b_input_ids = inputs.to(device)\n",
    "    b_input_mask = masks.to(device)\n",
    "            \n",
    "    # 그래디언트 계산 안함\n",
    "    with torch.no_grad():     \n",
    "        # Forward 수행\n",
    "        outputs = model(b_input_ids, \n",
    "                        token_type_ids=None, \n",
    "                        attention_mask=b_input_mask)\n",
    "\n",
    "    # 로스 구함\n",
    "    logits = outputs[0]\n",
    "\n",
    "    # CPU로 데이터 이동\n",
    "    logits = logits.detach().cpu().numpy()\n",
    "\n",
    "    return logits"
   ]
  },
  {
   "cell_type": "code",
   "execution_count": null,
   "metadata": {
    "ExecuteTime": {
     "end_time": "2023-11-08T10:20:10.613483Z",
     "start_time": "2023-11-08T10:20:10.613483Z"
    }
   },
   "outputs": [],
   "source": [
    "def predict_label_and_probabilities(sentence):\n",
    "    # 모델 평가 모드로 변경\n",
    "    model.eval()\n",
    "\n",
    "    # 문장을 입력 데이터로 변환\n",
    "    inputs, masks = convert_input_data([sentence])\n",
    "\n",
    "    # 데이터를 GPU에 넣음\n",
    "    b_input_ids = inputs.to(device)\n",
    "    b_input_mask = masks.to(device)\n",
    "\n",
    "    # 그래디언트 계산 안함\n",
    "    with torch.no_grad():\n",
    "        # Forward 수행\n",
    "        outputs = model(b_input_ids, token_type_ids=None, attention_mask=b_input_mask)\n",
    "\n",
    "    # 로스 구함\n",
    "    logits = outputs[0]\n",
    "\n",
    "    # 소프트맥스 함수를 사용하여 로짓을 확률로 변환\n",
    "    probabilities = softmax(logits.cpu().numpy(), axis=1)\n",
    "\n",
    "    # 긍정 클래스(예를 들면, 클래스 1)과 부정 클래스(예를 들면, 클래스 0)의 확률을 얻음\n",
    "    positive_probability = probabilities[0][1]  # 긍정 클래스(클래스 1)의 확률\n",
    "    negative_probability = probabilities[0][0]  # 부정 클래스(클래스 0)의 확률\n",
    "\n",
    "    # 가장 높은 확률을 가진 클래스의 라벨을 예측\n",
    "    predicted_label = np.argmax(probabilities)\n",
    "\n",
    "    return predicted_label, positive_probability, negative_probability, probabilities\n",
    "\n",
    "# 문장 테스트\n",
    "sentence = '인생에 다시 못볼 작품입니다.영화를 보게되어 영광입니다'\n",
    "predicted_label, positive_probability, negative_probability, probabilities = predict_label_and_probabilities(sentence)\n",
    "\n",
    "print(f'Predicted Label: {predicted_label}')\n",
    "print(f'Positive Probability: {positive_probability}')\n",
    "print(f'Negative Probability: {negative_probability}')\n",
    "print(f'Class Probabilities: {probabilities}')"
   ]
  },
  {
   "cell_type": "markdown",
   "metadata": {},
   "source": [
    "# 테스트 셋 결과확인"
   ]
  },
  {
   "cell_type": "code",
   "execution_count": null,
   "metadata": {
    "ExecuteTime": {
     "end_time": "2023-11-08T10:20:10.614482Z",
     "start_time": "2023-11-08T10:20:10.614482Z"
    }
   },
   "outputs": [],
   "source": [
    "import pandas as pd\n",
    "import random\n",
    "\n",
    "# 10개의 ==무작위 행 선택\n",
    "random_indices = random.sample(range(len(test)), 10)\n",
    "\n",
    "# 선택한 인덱스에 해당하는 행 추출\n",
    "selected_rows = test.iloc[random_indices]\n",
    "\n",
    "# 문장 평가\n",
    "logits = test_sentences(selected_rows['document'])\n",
    "\n",
    "# 소프트맥스 함수를 사용하여 로짓을 확률로 변환\n",
    "probabilities = softmax(logits, axis=1)\n",
    "\n",
    "# 긍정 클래스(예를 들면, 클래스 1)과 부정 클래스(예를 들면, 클래스 0)의 확률을 얻음\n",
    "positive_probabilities = probabilities[:, 1]  # 긍정 클래스(클래스 1)의 확률\n",
    "negative_probabilities = probabilities[:, 0]  # 부정 클래스(클래스 0)의 확률\n",
    "\n",
    "# 가장 높은 확률을 가진 클래스의 라벨을 예측\n",
    "predicted_labels = np.argmax(probabilities, axis=1)\n",
    "\n",
    "# 데이터프레임 생성\n",
    "data = {\n",
    "    '제목': selected_rows['document'],\n",
    "    '긍정확률': positive_probabilities,\n",
    "    '부정확률': negative_probabilities,\n",
    "    '긍부정': predicted_labels,\n",
    "}\n",
    "\n",
    "df = pd.DataFrame(data)\n",
    "\n",
    "# 데이터프레임 출력\n",
    "df"
   ]
  }
 ],
 "metadata": {
  "accelerator": "GPU",
  "colab": {
   "collapsed_sections": [],
   "name": "bert_naver_movie.ipynb",
   "provenance": []
  },
  "kernelspec": {
   "display_name": "Python 3 (ipykernel)",
   "language": "python",
   "name": "python3"
  },
  "language_info": {
   "codemirror_mode": {
    "name": "ipython",
    "version": 3
   },
   "file_extension": ".py",
   "mimetype": "text/x-python",
   "name": "python",
   "nbconvert_exporter": "python",
   "pygments_lexer": "ipython3",
   "version": "3.9.18"
  },
  "toc": {
   "base_numbering": 1,
   "nav_menu": {},
   "number_sections": true,
   "sideBar": true,
   "skip_h1_title": false,
   "title_cell": "Table of Contents",
   "title_sidebar": "Contents",
   "toc_cell": false,
   "toc_position": {
    "height": "calc(100% - 180px)",
    "left": "10px",
    "top": "150px",
    "width": "294.4px"
   },
   "toc_section_display": true,
   "toc_window_display": true
  },
  "widgets": {
   "application/vnd.jupyter.widget-state+json": {
    "24c7c4de897842daabfb4ab5bce59a5f": {
     "model_module": "@jupyter-widgets/base",
     "model_name": "LayoutModel",
     "state": {
      "_model_module": "@jupyter-widgets/base",
      "_model_module_version": "1.2.0",
      "_model_name": "LayoutModel",
      "_view_count": null,
      "_view_module": "@jupyter-widgets/base",
      "_view_module_version": "1.2.0",
      "_view_name": "LayoutView",
      "align_content": null,
      "align_items": null,
      "align_self": null,
      "border": null,
      "bottom": null,
      "display": null,
      "flex": null,
      "flex_flow": null,
      "grid_area": null,
      "grid_auto_columns": null,
      "grid_auto_flow": null,
      "grid_auto_rows": null,
      "grid_column": null,
      "grid_gap": null,
      "grid_row": null,
      "grid_template_areas": null,
      "grid_template_columns": null,
      "grid_template_rows": null,
      "height": null,
      "justify_content": null,
      "justify_items": null,
      "left": null,
      "margin": null,
      "max_height": null,
      "max_width": null,
      "min_height": null,
      "min_width": null,
      "object_fit": null,
      "object_position": null,
      "order": null,
      "overflow": null,
      "overflow_x": null,
      "overflow_y": null,
      "padding": null,
      "right": null,
      "top": null,
      "visibility": null,
      "width": null
     }
    },
    "283290212a5c48a087e649cb015d65e2": {
     "model_module": "@jupyter-widgets/controls",
     "model_name": "IntProgressModel",
     "state": {
      "_dom_classes": [],
      "_model_module": "@jupyter-widgets/controls",
      "_model_module_version": "1.5.0",
      "_model_name": "IntProgressModel",
      "_view_count": null,
      "_view_module": "@jupyter-widgets/controls",
      "_view_module_version": "1.5.0",
      "_view_name": "ProgressView",
      "bar_style": "success",
      "description": "Downloading",
      "description_tooltip": null,
      "layout": "IPY_MODEL_954cca3cf9f04ca8bbc7337f0301e04a",
      "max": 995526,
      "min": 0,
      "orientation": "horizontal",
      "style": "IPY_MODEL_afb83fc933ed4efd946df40e7044ef75",
      "value": 995526
     }
    },
    "2b925cf0822f4bbfae8bd4b6d9ea3559": {
     "model_module": "@jupyter-widgets/controls",
     "model_name": "IntProgressModel",
     "state": {
      "_dom_classes": [],
      "_model_module": "@jupyter-widgets/controls",
      "_model_module_version": "1.5.0",
      "_model_name": "IntProgressModel",
      "_view_count": null,
      "_view_module": "@jupyter-widgets/controls",
      "_view_module_version": "1.5.0",
      "_view_name": "ProgressView",
      "bar_style": "success",
      "description": "Downloading",
      "description_tooltip": null,
      "layout": "IPY_MODEL_8fe822a741884e408b7b098bdd520391",
      "max": 714314041,
      "min": 0,
      "orientation": "horizontal",
      "style": "IPY_MODEL_931bdaf9d81f4c5c96be6a591f5d3a8a",
      "value": 714314041
     }
    },
    "36bf4fd94daa477cb304f6e2f0e59585": {
     "model_module": "@jupyter-widgets/base",
     "model_name": "LayoutModel",
     "state": {
      "_model_module": "@jupyter-widgets/base",
      "_model_module_version": "1.2.0",
      "_model_name": "LayoutModel",
      "_view_count": null,
      "_view_module": "@jupyter-widgets/base",
      "_view_module_version": "1.2.0",
      "_view_name": "LayoutView",
      "align_content": null,
      "align_items": null,
      "align_self": null,
      "border": null,
      "bottom": null,
      "display": null,
      "flex": null,
      "flex_flow": null,
      "grid_area": null,
      "grid_auto_columns": null,
      "grid_auto_flow": null,
      "grid_auto_rows": null,
      "grid_column": null,
      "grid_gap": null,
      "grid_row": null,
      "grid_template_areas": null,
      "grid_template_columns": null,
      "grid_template_rows": null,
      "height": null,
      "justify_content": null,
      "justify_items": null,
      "left": null,
      "margin": null,
      "max_height": null,
      "max_width": null,
      "min_height": null,
      "min_width": null,
      "object_fit": null,
      "object_position": null,
      "order": null,
      "overflow": null,
      "overflow_x": null,
      "overflow_y": null,
      "padding": null,
      "right": null,
      "top": null,
      "visibility": null,
      "width": null
     }
    },
    "3706a29c1fd14cafb1527ba850d24dda": {
     "model_module": "@jupyter-widgets/controls",
     "model_name": "HTMLModel",
     "state": {
      "_dom_classes": [],
      "_model_module": "@jupyter-widgets/controls",
      "_model_module_version": "1.5.0",
      "_model_name": "HTMLModel",
      "_view_count": null,
      "_view_module": "@jupyter-widgets/controls",
      "_view_module_version": "1.5.0",
      "_view_name": "HTMLView",
      "description": "",
      "description_tooltip": null,
      "layout": "IPY_MODEL_dc40527794924690a1a50ee4a5683731",
      "placeholder": "​",
      "style": "IPY_MODEL_b199891e7d7649d68480454645be2b8e",
      "value": "100% 521/521 [00:00&lt;00:00, 7.98kB/s]"
     }
    },
    "3fa7bd6d2ebf435ca630fef08fe0e9a1": {
     "model_module": "@jupyter-widgets/controls",
     "model_name": "ProgressStyleModel",
     "state": {
      "_model_module": "@jupyter-widgets/controls",
      "_model_module_version": "1.5.0",
      "_model_name": "ProgressStyleModel",
      "_view_count": null,
      "_view_module": "@jupyter-widgets/base",
      "_view_module_version": "1.2.0",
      "_view_name": "StyleView",
      "bar_color": null,
      "description_width": "initial"
     }
    },
    "47e09c7e47554a92939c6d6cdaff9f4d": {
     "model_module": "@jupyter-widgets/controls",
     "model_name": "HTMLModel",
     "state": {
      "_dom_classes": [],
      "_model_module": "@jupyter-widgets/controls",
      "_model_module_version": "1.5.0",
      "_model_name": "HTMLModel",
      "_view_count": null,
      "_view_module": "@jupyter-widgets/controls",
      "_view_module_version": "1.5.0",
      "_view_name": "HTMLView",
      "description": "",
      "description_tooltip": null,
      "layout": "IPY_MODEL_c72b798f32c446b3b6cad9a12679b3ec",
      "placeholder": "​",
      "style": "IPY_MODEL_9f5bd34100b14dd28cc3dd45eac9ee96",
      "value": "100% 996k/996k [00:00&lt;00:00, 2.62MB/s]"
     }
    },
    "50a457e2365d4d8f9b5cab009198b1c1": {
     "model_module": "@jupyter-widgets/controls",
     "model_name": "HTMLModel",
     "state": {
      "_dom_classes": [],
      "_model_module": "@jupyter-widgets/controls",
      "_model_module_version": "1.5.0",
      "_model_name": "HTMLModel",
      "_view_count": null,
      "_view_module": "@jupyter-widgets/controls",
      "_view_module_version": "1.5.0",
      "_view_name": "HTMLView",
      "description": "",
      "description_tooltip": null,
      "layout": "IPY_MODEL_cc31bfb1dcfd4f0fba7dbcd02dab6671",
      "placeholder": "​",
      "style": "IPY_MODEL_cc539678cb0f474385c29d29fec3aee4",
      "value": "100% 714M/714M [00:19&lt;00:00, 36.5MB/s]"
     }
    },
    "566d90a8747a41069a8a3e8809fcf1c7": {
     "model_module": "@jupyter-widgets/controls",
     "model_name": "IntProgressModel",
     "state": {
      "_dom_classes": [],
      "_model_module": "@jupyter-widgets/controls",
      "_model_module_version": "1.5.0",
      "_model_name": "IntProgressModel",
      "_view_count": null,
      "_view_module": "@jupyter-widgets/controls",
      "_view_module_version": "1.5.0",
      "_view_name": "ProgressView",
      "bar_style": "success",
      "description": "Downloading",
      "description_tooltip": null,
      "layout": "IPY_MODEL_b8a0fa47220f426d877ca05540befdfe",
      "max": 521,
      "min": 0,
      "orientation": "horizontal",
      "style": "IPY_MODEL_3fa7bd6d2ebf435ca630fef08fe0e9a1",
      "value": 521
     }
    },
    "7be0183b68c140f993db6df970e1b59e": {
     "model_module": "@jupyter-widgets/base",
     "model_name": "LayoutModel",
     "state": {
      "_model_module": "@jupyter-widgets/base",
      "_model_module_version": "1.2.0",
      "_model_name": "LayoutModel",
      "_view_count": null,
      "_view_module": "@jupyter-widgets/base",
      "_view_module_version": "1.2.0",
      "_view_name": "LayoutView",
      "align_content": null,
      "align_items": null,
      "align_self": null,
      "border": null,
      "bottom": null,
      "display": null,
      "flex": null,
      "flex_flow": null,
      "grid_area": null,
      "grid_auto_columns": null,
      "grid_auto_flow": null,
      "grid_auto_rows": null,
      "grid_column": null,
      "grid_gap": null,
      "grid_row": null,
      "grid_template_areas": null,
      "grid_template_columns": null,
      "grid_template_rows": null,
      "height": null,
      "justify_content": null,
      "justify_items": null,
      "left": null,
      "margin": null,
      "max_height": null,
      "max_width": null,
      "min_height": null,
      "min_width": null,
      "object_fit": null,
      "object_position": null,
      "order": null,
      "overflow": null,
      "overflow_x": null,
      "overflow_y": null,
      "padding": null,
      "right": null,
      "top": null,
      "visibility": null,
      "width": null
     }
    },
    "8fe822a741884e408b7b098bdd520391": {
     "model_module": "@jupyter-widgets/base",
     "model_name": "LayoutModel",
     "state": {
      "_model_module": "@jupyter-widgets/base",
      "_model_module_version": "1.2.0",
      "_model_name": "LayoutModel",
      "_view_count": null,
      "_view_module": "@jupyter-widgets/base",
      "_view_module_version": "1.2.0",
      "_view_name": "LayoutView",
      "align_content": null,
      "align_items": null,
      "align_self": null,
      "border": null,
      "bottom": null,
      "display": null,
      "flex": null,
      "flex_flow": null,
      "grid_area": null,
      "grid_auto_columns": null,
      "grid_auto_flow": null,
      "grid_auto_rows": null,
      "grid_column": null,
      "grid_gap": null,
      "grid_row": null,
      "grid_template_areas": null,
      "grid_template_columns": null,
      "grid_template_rows": null,
      "height": null,
      "justify_content": null,
      "justify_items": null,
      "left": null,
      "margin": null,
      "max_height": null,
      "max_width": null,
      "min_height": null,
      "min_width": null,
      "object_fit": null,
      "object_position": null,
      "order": null,
      "overflow": null,
      "overflow_x": null,
      "overflow_y": null,
      "padding": null,
      "right": null,
      "top": null,
      "visibility": null,
      "width": null
     }
    },
    "931bdaf9d81f4c5c96be6a591f5d3a8a": {
     "model_module": "@jupyter-widgets/controls",
     "model_name": "ProgressStyleModel",
     "state": {
      "_model_module": "@jupyter-widgets/controls",
      "_model_module_version": "1.5.0",
      "_model_name": "ProgressStyleModel",
      "_view_count": null,
      "_view_module": "@jupyter-widgets/base",
      "_view_module_version": "1.2.0",
      "_view_name": "StyleView",
      "bar_color": null,
      "description_width": "initial"
     }
    },
    "954cca3cf9f04ca8bbc7337f0301e04a": {
     "model_module": "@jupyter-widgets/base",
     "model_name": "LayoutModel",
     "state": {
      "_model_module": "@jupyter-widgets/base",
      "_model_module_version": "1.2.0",
      "_model_name": "LayoutModel",
      "_view_count": null,
      "_view_module": "@jupyter-widgets/base",
      "_view_module_version": "1.2.0",
      "_view_name": "LayoutView",
      "align_content": null,
      "align_items": null,
      "align_self": null,
      "border": null,
      "bottom": null,
      "display": null,
      "flex": null,
      "flex_flow": null,
      "grid_area": null,
      "grid_auto_columns": null,
      "grid_auto_flow": null,
      "grid_auto_rows": null,
      "grid_column": null,
      "grid_gap": null,
      "grid_row": null,
      "grid_template_areas": null,
      "grid_template_columns": null,
      "grid_template_rows": null,
      "height": null,
      "justify_content": null,
      "justify_items": null,
      "left": null,
      "margin": null,
      "max_height": null,
      "max_width": null,
      "min_height": null,
      "min_width": null,
      "object_fit": null,
      "object_position": null,
      "order": null,
      "overflow": null,
      "overflow_x": null,
      "overflow_y": null,
      "padding": null,
      "right": null,
      "top": null,
      "visibility": null,
      "width": null
     }
    },
    "9f5bd34100b14dd28cc3dd45eac9ee96": {
     "model_module": "@jupyter-widgets/controls",
     "model_name": "DescriptionStyleModel",
     "state": {
      "_model_module": "@jupyter-widgets/controls",
      "_model_module_version": "1.5.0",
      "_model_name": "DescriptionStyleModel",
      "_view_count": null,
      "_view_module": "@jupyter-widgets/base",
      "_view_module_version": "1.2.0",
      "_view_name": "StyleView",
      "description_width": ""
     }
    },
    "afb83fc933ed4efd946df40e7044ef75": {
     "model_module": "@jupyter-widgets/controls",
     "model_name": "ProgressStyleModel",
     "state": {
      "_model_module": "@jupyter-widgets/controls",
      "_model_module_version": "1.5.0",
      "_model_name": "ProgressStyleModel",
      "_view_count": null,
      "_view_module": "@jupyter-widgets/base",
      "_view_module_version": "1.2.0",
      "_view_name": "StyleView",
      "bar_color": null,
      "description_width": "initial"
     }
    },
    "b199891e7d7649d68480454645be2b8e": {
     "model_module": "@jupyter-widgets/controls",
     "model_name": "DescriptionStyleModel",
     "state": {
      "_model_module": "@jupyter-widgets/controls",
      "_model_module_version": "1.5.0",
      "_model_name": "DescriptionStyleModel",
      "_view_count": null,
      "_view_module": "@jupyter-widgets/base",
      "_view_module_version": "1.2.0",
      "_view_name": "StyleView",
      "description_width": ""
     }
    },
    "b8a0fa47220f426d877ca05540befdfe": {
     "model_module": "@jupyter-widgets/base",
     "model_name": "LayoutModel",
     "state": {
      "_model_module": "@jupyter-widgets/base",
      "_model_module_version": "1.2.0",
      "_model_name": "LayoutModel",
      "_view_count": null,
      "_view_module": "@jupyter-widgets/base",
      "_view_module_version": "1.2.0",
      "_view_name": "LayoutView",
      "align_content": null,
      "align_items": null,
      "align_self": null,
      "border": null,
      "bottom": null,
      "display": null,
      "flex": null,
      "flex_flow": null,
      "grid_area": null,
      "grid_auto_columns": null,
      "grid_auto_flow": null,
      "grid_auto_rows": null,
      "grid_column": null,
      "grid_gap": null,
      "grid_row": null,
      "grid_template_areas": null,
      "grid_template_columns": null,
      "grid_template_rows": null,
      "height": null,
      "justify_content": null,
      "justify_items": null,
      "left": null,
      "margin": null,
      "max_height": null,
      "max_width": null,
      "min_height": null,
      "min_width": null,
      "object_fit": null,
      "object_position": null,
      "order": null,
      "overflow": null,
      "overflow_x": null,
      "overflow_y": null,
      "padding": null,
      "right": null,
      "top": null,
      "visibility": null,
      "width": null
     }
    },
    "ba3543867b3949b98a56b79766a7fe39": {
     "model_module": "@jupyter-widgets/controls",
     "model_name": "HBoxModel",
     "state": {
      "_dom_classes": [],
      "_model_module": "@jupyter-widgets/controls",
      "_model_module_version": "1.5.0",
      "_model_name": "HBoxModel",
      "_view_count": null,
      "_view_module": "@jupyter-widgets/controls",
      "_view_module_version": "1.5.0",
      "_view_name": "HBoxView",
      "box_style": "",
      "children": [
       "IPY_MODEL_566d90a8747a41069a8a3e8809fcf1c7",
       "IPY_MODEL_3706a29c1fd14cafb1527ba850d24dda"
      ],
      "layout": "IPY_MODEL_7be0183b68c140f993db6df970e1b59e"
     }
    },
    "c33742ffe86a43baaf623f55386f6b8f": {
     "model_module": "@jupyter-widgets/controls",
     "model_name": "HBoxModel",
     "state": {
      "_dom_classes": [],
      "_model_module": "@jupyter-widgets/controls",
      "_model_module_version": "1.5.0",
      "_model_name": "HBoxModel",
      "_view_count": null,
      "_view_module": "@jupyter-widgets/controls",
      "_view_module_version": "1.5.0",
      "_view_name": "HBoxView",
      "box_style": "",
      "children": [
       "IPY_MODEL_283290212a5c48a087e649cb015d65e2",
       "IPY_MODEL_47e09c7e47554a92939c6d6cdaff9f4d"
      ],
      "layout": "IPY_MODEL_24c7c4de897842daabfb4ab5bce59a5f"
     }
    },
    "c72b798f32c446b3b6cad9a12679b3ec": {
     "model_module": "@jupyter-widgets/base",
     "model_name": "LayoutModel",
     "state": {
      "_model_module": "@jupyter-widgets/base",
      "_model_module_version": "1.2.0",
      "_model_name": "LayoutModel",
      "_view_count": null,
      "_view_module": "@jupyter-widgets/base",
      "_view_module_version": "1.2.0",
      "_view_name": "LayoutView",
      "align_content": null,
      "align_items": null,
      "align_self": null,
      "border": null,
      "bottom": null,
      "display": null,
      "flex": null,
      "flex_flow": null,
      "grid_area": null,
      "grid_auto_columns": null,
      "grid_auto_flow": null,
      "grid_auto_rows": null,
      "grid_column": null,
      "grid_gap": null,
      "grid_row": null,
      "grid_template_areas": null,
      "grid_template_columns": null,
      "grid_template_rows": null,
      "height": null,
      "justify_content": null,
      "justify_items": null,
      "left": null,
      "margin": null,
      "max_height": null,
      "max_width": null,
      "min_height": null,
      "min_width": null,
      "object_fit": null,
      "object_position": null,
      "order": null,
      "overflow": null,
      "overflow_x": null,
      "overflow_y": null,
      "padding": null,
      "right": null,
      "top": null,
      "visibility": null,
      "width": null
     }
    },
    "cc31bfb1dcfd4f0fba7dbcd02dab6671": {
     "model_module": "@jupyter-widgets/base",
     "model_name": "LayoutModel",
     "state": {
      "_model_module": "@jupyter-widgets/base",
      "_model_module_version": "1.2.0",
      "_model_name": "LayoutModel",
      "_view_count": null,
      "_view_module": "@jupyter-widgets/base",
      "_view_module_version": "1.2.0",
      "_view_name": "LayoutView",
      "align_content": null,
      "align_items": null,
      "align_self": null,
      "border": null,
      "bottom": null,
      "display": null,
      "flex": null,
      "flex_flow": null,
      "grid_area": null,
      "grid_auto_columns": null,
      "grid_auto_flow": null,
      "grid_auto_rows": null,
      "grid_column": null,
      "grid_gap": null,
      "grid_row": null,
      "grid_template_areas": null,
      "grid_template_columns": null,
      "grid_template_rows": null,
      "height": null,
      "justify_content": null,
      "justify_items": null,
      "left": null,
      "margin": null,
      "max_height": null,
      "max_width": null,
      "min_height": null,
      "min_width": null,
      "object_fit": null,
      "object_position": null,
      "order": null,
      "overflow": null,
      "overflow_x": null,
      "overflow_y": null,
      "padding": null,
      "right": null,
      "top": null,
      "visibility": null,
      "width": null
     }
    },
    "cc539678cb0f474385c29d29fec3aee4": {
     "model_module": "@jupyter-widgets/controls",
     "model_name": "DescriptionStyleModel",
     "state": {
      "_model_module": "@jupyter-widgets/controls",
      "_model_module_version": "1.5.0",
      "_model_name": "DescriptionStyleModel",
      "_view_count": null,
      "_view_module": "@jupyter-widgets/base",
      "_view_module_version": "1.2.0",
      "_view_name": "StyleView",
      "description_width": ""
     }
    },
    "d86637397e3f4c259bf6aff32a8ac917": {
     "model_module": "@jupyter-widgets/controls",
     "model_name": "HBoxModel",
     "state": {
      "_dom_classes": [],
      "_model_module": "@jupyter-widgets/controls",
      "_model_module_version": "1.5.0",
      "_model_name": "HBoxModel",
      "_view_count": null,
      "_view_module": "@jupyter-widgets/controls",
      "_view_module_version": "1.5.0",
      "_view_name": "HBoxView",
      "box_style": "",
      "children": [
       "IPY_MODEL_2b925cf0822f4bbfae8bd4b6d9ea3559",
       "IPY_MODEL_50a457e2365d4d8f9b5cab009198b1c1"
      ],
      "layout": "IPY_MODEL_36bf4fd94daa477cb304f6e2f0e59585"
     }
    },
    "dc40527794924690a1a50ee4a5683731": {
     "model_module": "@jupyter-widgets/base",
     "model_name": "LayoutModel",
     "state": {
      "_model_module": "@jupyter-widgets/base",
      "_model_module_version": "1.2.0",
      "_model_name": "LayoutModel",
      "_view_count": null,
      "_view_module": "@jupyter-widgets/base",
      "_view_module_version": "1.2.0",
      "_view_name": "LayoutView",
      "align_content": null,
      "align_items": null,
      "align_self": null,
      "border": null,
      "bottom": null,
      "display": null,
      "flex": null,
      "flex_flow": null,
      "grid_area": null,
      "grid_auto_columns": null,
      "grid_auto_flow": null,
      "grid_auto_rows": null,
      "grid_column": null,
      "grid_gap": null,
      "grid_row": null,
      "grid_template_areas": null,
      "grid_template_columns": null,
      "grid_template_rows": null,
      "height": null,
      "justify_content": null,
      "justify_items": null,
      "left": null,
      "margin": null,
      "max_height": null,
      "max_width": null,
      "min_height": null,
      "min_width": null,
      "object_fit": null,
      "object_position": null,
      "order": null,
      "overflow": null,
      "overflow_x": null,
      "overflow_y": null,
      "padding": null,
      "right": null,
      "top": null,
      "visibility": null,
      "width": null
     }
    }
   }
  }
 },
 "nbformat": 4,
 "nbformat_minor": 4
}
