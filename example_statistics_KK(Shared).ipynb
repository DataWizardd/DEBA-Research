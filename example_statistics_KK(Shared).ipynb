{
 "cells": [
  {
   "cell_type": "markdown",
   "id": "755e47a3",
   "metadata": {},
   "source": [
    "# Data Analysis"
   ]
  },
  {
   "cell_type": "markdown",
   "id": "f0450752",
   "metadata": {},
   "source": [
    "## 글로벌과 한국의 Ageism 검색 트랜드 분석 및 24년도 전망\n",
    "\n",
    "- 구글에서 `Ageism 관련 검색` Trend가 `과거 10년전부터 현재까지` 어떠한지 분석하고 `인공지능으로 과거 데이터를 학습 후 24년 예측`\n",
    "\n",
    "> **\"전 세계적인 저출산/고령화 이슈로 Ageism 관심이 증가하고 있고 그 중에서 한국의 인구구조 급격한 변화로 그 관심이 더욱 증가되는 경향\"**\n",
    "> - **글로벌 관심도:** `92% 정확성`으로 `24년도에도 지속적 증가`할 것으로 예측\n",
    "> - **한국 관심도:** `95% 정확성`으로 `24년도에는 한국의 저출산 및 고령화로 급격하게 증가`할 것으로 예측\n",
    "\n",
    "<center><img src='Result/GT.png' width='1200'></center>"
   ]
  },
  {
   "cell_type": "markdown",
   "id": "968140db",
   "metadata": {},
   "source": [
    "## 한국의 Ageism 관련 뉴스 데이터\n",
    "\n",
    "- `한국의 구글과 네이버 뉴스`에서 Ageism 관련 검색어로 `보도되는 뉴스` 분석\n",
    "\n",
    "> **\"2013년 ~ 2023년까지 약 24만6213건의 뉴스가 발행되었고, 고령화(64.4%)가 Ageism 관련 검색어로 뉴스기사에 가장 많이 등장하는 단어이며, 매일경제(8.09%)가 가장 많이 Ageism 관련 기사를 발행\"**\n",
    "> - Ageism 관련 `검색어 약 40종`의 `방송사 5종 + 전국일간지 11종 + 경제일간지 8종 + 전문지 2종` 대상 `국제 + 경제 + 사회 + 문화` 데이터 수집\n",
    "> 1. `KBS, MBC, SBS, YTN, OBS`\n",
    "> 2. `경향신문, 국민일보, 내일신문, 동아일보, 문화일보, 서울신문, 세계일보, 조선일보, 중앙일보, 한겨례, 한국일보`\n",
    "> 3. `매일경제, 머니투데이, 서울경제, 아시아경제, 아주경제, 파이낸셜뉴스, 한국경제, 헤럴드경제`\n",
    "> 4. `디지털타임즈, 전자신문`\n",
    ">\n",
    "> - 전체 약 24만건 중 `고령화(64.4%) > 세대 갈등(11.9%) > 안락사(6.03%) > 노인 의료(5.23%) > 알츠하이머(4.78%)`이 Top5 Ageism 관련 검색어로 발행된 뉴스 \n",
    "> <center><img src='Result/News_StatKeywordFilter.png' width='800'></center>\n",
    ">\n",
    "> - `매일경제가 전체 약 24만건 중 가장 많은(8.09%) Ageism 뉴스를 발행`하고 뒤이어 헤럴드경제(7.75%) > 아시아경제(7.05%)가 뒤를 이음\n",
    ">\n",
    "> <center><img src='Result/News_StatPress.png' width='800'></center>"
   ]
  },
  {
   "cell_type": "markdown",
   "id": "427f4e8d",
   "metadata": {},
   "source": [
    "## 한국의 Ageism 뉴스 트랜드\n",
    "\n",
    "- `한국의 구글과 네이버 뉴스`에서 Ageism 관련 검색어로 `보도되는 뉴스` 분석\n",
    "\n",
    "> **\"한국은 가장 빠르게 고령화에 진입하는 국가기 때문에 Ageism 관련 뉴스의 발행 양도 빠르게 증가하는 중\"**\n",
    "> - `사회 분야 뉴스가 고령사회 진입 후 42.99%로 가장 많이 증가`했고 `경제(22.32%) > 국제(12.48%) > 문화(6.62%) 순서`로 증가 중\n",
    ">\n",
    "> <center><img src='Result/News_TrendCategory.png' width='800'></center>\n",
    ">\n",
    "> - 2018년 고령사회 진입 전 `월 평균 약 121.82건`이던 Ageism 뉴스는 고령사회 진입 후 `월 평균 171.96건으로 약 41.16% 증가` \n",
    ">\n",
    "> <center><img src='Result/News_TrendMeanStd.png' width='800'></center>\n",
    ">\n",
    "> **\"고령화, 노인소득, 노인주거, 노인혐오, 돌봄서비스, 세대갈등, 알츠하이머, 연령통합 등이 지속적 또는 최근 증가하는 Ageism 관심 검색어\"**\n",
    "> - 코로나 시기로 인해 `감소하는 고령화 검색은 노인의료와 노인혐오 등의 부정적 검색의 증가로 변화`\n",
    "> - `노인을 대상으로 한 경제적 부담`의 뉴스기사가 `전 연령대의 시민들에게 반복적으로 학습되어 갈등의 깊이를 넓혀`\n",
    "> - 사회적, 정책적, 경제적인 측면에서 `다양한 연령층 간의 이해관계를 개선하고 협력을 촉진하기 위한 정책의 필요성`이 지속적으로 표현\n",
    "> \n",
    "> <center><img src='Result/News_TrendKeyword1.png' width='800'></center>\n",
    "> <center><img src='Result/News_TrendKeyword2.png' width='800'></center>\n"
   ]
  },
  {
   "cell_type": "markdown",
   "id": "a3ece0b4",
   "metadata": {},
   "source": [
    "## 한국의 Ageism 뉴스 컨텐츠 한눈에\n",
    "\n",
    "> **\"고령사회 진입 전후로 건강에 대한 관심이 증가하는 노인들의 일자리, 생계, 안위, 건강 등으로 대상화 진행중\"**\n",
    "> - `고령사회 전`에는 `건강 > 치매 > 여성 > 한국 > 일자리 등` 특정 대상없이 `모든 연령대의 주요 관심사`를 뉴스에서 다루며 시민들에게 전달\n",
    "> - `고령사회 후`에는 `치매 > 노인 > 코로나 > 일자리 > 지원 등` 증가하는 `70대 이상의 연령대를 대상으로 하는 이슈들`을 뉴스에서 주로 전달 \n",
    "> \n",
    "> <center><img src='Result/News_TrendSummary.png' width='800'></center>\n",
    "\n",
    "---\n",
    "\n",
    "- `뉴스에 담겨있는 감정을 분석`하여 `대중에게 어떤 뉘앙스의 영향`을 미치고 있는지 `감성 분석`\n",
    "\n",
    "> **\"대중들에게 Ageism 관련 부정적 뉴스가 많이 전달되고 있지만 다양한 연령층을 통합하려는 노력들도 증가중\"**\n",
    "> - 고령사회에 진입하면서 `부정적 뉴스의 발행이 증가`되는 추세\n",
    "> - `사회분야`는 대상화되는 고령층에 대한 부정적 뉴스가 `가장 가파르게 증가`하고 있는 반면 `문화분야`는 `다양한 연령층의 이해관계를 개선`하기 위한 정책적 기획안이 늘어나며 `상대적으로 긍정적 뉴스 많아짐`\n",
    ">\n",
    "> <center><img src='Result/News_SentimentAll.png' width='800'></center>\n",
    ">\n",
    "> <center><img src='Result/News_SentimentSocial.png' width='800'></center>\n",
    "\n",
    "> - 고령화가 가장 빠르게 이뤄지고 있는 `대한민국의 경각심을 위해 부정적인 뉴스가 증가`되고 있으며, 코로나 이슈로 시작된 돌봄서비스와 같은 `복지에 대한 부담이 부정적인 뉴스`로 나타나고 있음\n",
    "> - 아울러 `상대적으로 사회적 부담에 대한 저출산과 1인가족 증가에 대한 가족과 세대구성에 대한 경각심`도 부정적인 뉴스로 증가되고 있음\n",
    "> <center><img src='Result/News_SentimentIssue1.png' width='800'></center>\n",
    ">\n",
    "> - 사회적 부담으로 느껴지는 증가하는 `고령층들의 사회 봉사가 줄어들어 점점 긍정적 뉴스기사는 감소`하는 중\n",
    "> - 이러한 단면들이 쌓여 `세대간 갈등이 증가`되고 있고 `연령 통합의 필요성에도 그렇지 않은 현 시대의 모습을 꼬집는 부정적 기사가 증가`하는 중\n",
    "> <center><img src='Result/News_SentimentIssue3.png' width='800'></center>\n",
    ">\n",
    "> - `모든 연령대가 공통적으로 경험할 노화는 다소 다양한 감성의 뉴스들이 골고루` 펼쳐지지만, `미래에 대한 대비나 준비가 노후는 부담이 되어 부정적`인 뉴스 빈도가 증가\n",
    "> <center><img src='Result/News_SentimentIssue4.png' width='800'></center>"
   ]
  },
  {
   "cell_type": "code",
   "execution_count": null,
   "id": "eaeee7ab",
   "metadata": {},
   "outputs": [],
   "source": []
  },
  {
   "cell_type": "code",
   "execution_count": null,
   "id": "db9a7652",
   "metadata": {},
   "outputs": [],
   "source": []
  },
  {
   "cell_type": "code",
   "execution_count": null,
   "id": "2cbed729",
   "metadata": {},
   "outputs": [],
   "source": []
  }
 ],
 "metadata": {
  "hide_input": false,
  "kernelspec": {
   "display_name": "Python 3 (ipykernel)",
   "language": "python",
   "name": "python3"
  },
  "language_info": {
   "codemirror_mode": {
    "name": "ipython",
    "version": 3
   },
   "file_extension": ".py",
   "mimetype": "text/x-python",
   "name": "python",
   "nbconvert_exporter": "python",
   "pygments_lexer": "ipython3",
   "version": "3.11.5"
  },
  "toc": {
   "base_numbering": 1,
   "nav_menu": {},
   "number_sections": true,
   "sideBar": true,
   "skip_h1_title": false,
   "title_cell": "Table of Contents",
   "title_sidebar": "Contents",
   "toc_cell": false,
   "toc_position": {
    "height": "calc(100% - 180px)",
    "left": "10px",
    "top": "150px",
    "width": "255.594px"
   },
   "toc_section_display": true,
   "toc_window_display": false
  },
  "varInspector": {
   "cols": {
    "lenName": 16,
    "lenType": 16,
    "lenVar": 40
   },
   "kernels_config": {
    "python": {
     "delete_cmd_postfix": "",
     "delete_cmd_prefix": "del ",
     "library": "var_list.py",
     "varRefreshCmd": "print(var_dic_list())"
    },
    "r": {
     "delete_cmd_postfix": ") ",
     "delete_cmd_prefix": "rm(",
     "library": "var_list.r",
     "varRefreshCmd": "cat(var_dic_list()) "
    }
   },
   "types_to_exclude": [
    "module",
    "function",
    "builtin_function_or_method",
    "instance",
    "_Feature"
   ],
   "window_display": false
  }
 },
 "nbformat": 4,
 "nbformat_minor": 5
}
