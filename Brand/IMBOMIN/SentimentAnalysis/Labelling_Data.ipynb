{
 "cells": [
  {
   "cell_type": "markdown",
   "id": "3808b0bb",
   "metadata": {},
   "source": [
    "# 라벨링데이터 통합  \n",
    "> - 통계청에서 공개한 긍부정 라벨링 데이터   \n",
    "https://www.data.go.kr/data/15075840/fileData.do"
   ]
  },
  {
   "cell_type": "code",
   "execution_count": 16,
   "id": "65cc4688",
   "metadata": {},
   "outputs": [],
   "source": [
    "# Ignore the warnings\n",
    "import warnings\n",
    "# warnings.filterwarnings('always')\n",
    "warnings.filterwarnings('ignore')\n",
    "\n",
    "import os\n",
    "import pandas as pd\n",
    "import numpy as np\n",
    "\n",
    "# Python path\n",
    "import sys\n",
    "base_folder = 'NLP'\n",
    "location_base = os.path.join(os.getcwd().split(base_folder)[0], base_folder)\n",
    "location_module = [os.path.join(location_base, 'Module')] \n",
    "for each in location_module:\n",
    "    if each not in sys.path:\n",
    "        sys.path.append(each)\n",
    "\n",
    "# Auto reload of library\n",
    "%reload_ext autoreload\n",
    "%autoreload 2"
   ]
  },
  {
   "cell_type": "code",
   "execution_count": 17,
   "id": "a6ab9e2d",
   "metadata": {},
   "outputs": [],
   "source": [
    "FOLDER_LOCATION = os.path.join(os.getcwd(), 'Data', '라벨링')\n",
    "FOLDER_NAME = True"
   ]
  },
  {
   "cell_type": "code",
   "execution_count": 18,
   "id": "e4bb2744",
   "metadata": {},
   "outputs": [],
   "source": [
    "from tqdm import tqdm as tqdm_iterator"
   ]
  },
  {
   "cell_type": "code",
   "execution_count": 19,
   "id": "96727aa8",
   "metadata": {},
   "outputs": [
    {
     "name": "stdout",
     "output_type": "stream",
     "text": [
      "Getting data from 3 folders...\n"
     ]
    },
    {
     "name": "stderr",
     "output_type": "stream",
     "text": [
      "0it [00:00, ?it/s]\n",
      "100%|██████████████████████████████████████████████████████████████████████████████████| 12/12 [00:00<00:00, 20.40it/s]\n",
      "100%|██████████████████████████████████████████████████████████████████████████████████| 12/12 [00:02<00:00,  5.36it/s]\n",
      "100%|████████████████████████████████████████████████████████████████████████████████████| 8/8 [00:00<00:00,  8.22it/s]\n"
     ]
    }
   ],
   "source": [
    "def get_data_from_path(folder_location, folder_name=False, concat_axis='row'):\n",
    "    # path_folder 하위의 모든 폴더위치와 내부 file 출력\n",
    "    df = pd.DataFrame()\n",
    "    print('Getting data from', len(os.listdir(folder_location)), 'folders...')\n",
    "    for (path, dir, files) in os.walk(folder_location):\n",
    "        for file in tqdm_iterator(files):\n",
    "            path_file = os.path.join(path, file)\n",
    "\n",
    "            ## 데이터 로딩\n",
    "            if path_file.split('.')[1] == 'xlsx':\n",
    "                df_sub = pd.read_excel(path_file)\n",
    "            elif path_file.split('.')[1] == 'csv':\n",
    "                df_sub = pd.read_csv(path_file)\n",
    "                \n",
    "            ## 키워드 태깅 여부\n",
    "            if folder_name:\n",
    "                df_sub['Folder_Name'] = os.path.basename(path)\n",
    "            \n",
    "            ## 정리\n",
    "            if concat_axis == 'col':\n",
    "                df = pd.concat([df, df_sub], axis=1)\n",
    "            elif concat_axis == 'row':\n",
    "                df = pd.concat([df, df_sub], axis=0)\n",
    "                \n",
    "    return df\n",
    "\n",
    "# 데이터로딩\n",
    "df_news = get_data_from_path(FOLDER_LOCATION, folder_name=FOLDER_NAME)\n",
    "df = df_news.copy()"
   ]
  },
  {
   "cell_type": "code",
   "execution_count": 20,
   "id": "6139e480",
   "metadata": {
    "scrolled": false
   },
   "outputs": [
    {
     "name": "stdout",
     "output_type": "stream",
     "text": [
      "<class 'pandas.core.frame.DataFrame'>\n",
      "Index: 7618 entries, 0 to 258\n",
      "Data columns (total 10 columns):\n",
      " #   Column       Non-Null Count  Dtype \n",
      "---  ------       --------------  ----- \n",
      " 0   날짜           7618 non-null   int64 \n",
      " 1   제목           7618 non-null   object\n",
      " 2   URL          7606 non-null   object\n",
      " 3   라벨러1         7618 non-null   int64 \n",
      " 4   라벨러2         7618 non-null   int64 \n",
      " 5   라벨러3         7618 non-null   int64 \n",
      " 6   라벨러4         7618 non-null   int64 \n",
      " 7   라벨러5         7618 non-null   int64 \n",
      " 8   라벨러6         7618 non-null   int64 \n",
      " 9   Folder_Name  7618 non-null   object\n",
      "dtypes: int64(7), object(3)\n",
      "memory usage: 654.7+ KB\n"
     ]
    }
   ],
   "source": [
    "df.info()"
   ]
  },
  {
   "cell_type": "code",
   "execution_count": 21,
   "id": "7c9f94ee",
   "metadata": {
    "scrolled": true
   },
   "outputs": [
    {
     "data": {
      "text/html": [
       "<div>\n",
       "<style scoped>\n",
       "    .dataframe tbody tr th:only-of-type {\n",
       "        vertical-align: middle;\n",
       "    }\n",
       "\n",
       "    .dataframe tbody tr th {\n",
       "        vertical-align: top;\n",
       "    }\n",
       "\n",
       "    .dataframe thead th {\n",
       "        text-align: right;\n",
       "    }\n",
       "</style>\n",
       "<table border=\"1\" class=\"dataframe\">\n",
       "  <thead>\n",
       "    <tr style=\"text-align: right;\">\n",
       "      <th></th>\n",
       "      <th>날짜</th>\n",
       "      <th>제목</th>\n",
       "      <th>URL</th>\n",
       "      <th>라벨러1</th>\n",
       "      <th>라벨러2</th>\n",
       "      <th>라벨러3</th>\n",
       "      <th>라벨러4</th>\n",
       "      <th>라벨러5</th>\n",
       "      <th>라벨러6</th>\n",
       "      <th>Folder_Name</th>\n",
       "    </tr>\n",
       "  </thead>\n",
       "  <tbody>\n",
       "    <tr>\n",
       "      <th>0</th>\n",
       "      <td>20180102</td>\n",
       "      <td>[신년사]손경식 CJ회장_ \"해외사업 공격적 확장_ 성장 가속화\"</td>\n",
       "      <td>http://news.naver.com/main/read.nhn?mode=LSD&amp;m...</td>\n",
       "      <td>3</td>\n",
       "      <td>3</td>\n",
       "      <td>3</td>\n",
       "      <td>4</td>\n",
       "      <td>3</td>\n",
       "      <td>3</td>\n",
       "      <td>2018</td>\n",
       "    </tr>\n",
       "    <tr>\n",
       "      <th>1</th>\n",
       "      <td>20180109</td>\n",
       "      <td>[취업과 창업]신입사원 연차 생기고 공공기관 채용 역대 최대</td>\n",
       "      <td>http://news.naver.com/main/read.nhn?mode=LSD&amp;m...</td>\n",
       "      <td>4</td>\n",
       "      <td>4</td>\n",
       "      <td>5</td>\n",
       "      <td>5</td>\n",
       "      <td>5</td>\n",
       "      <td>4</td>\n",
       "      <td>2018</td>\n",
       "    </tr>\n",
       "    <tr>\n",
       "      <th>2</th>\n",
       "      <td>20180109</td>\n",
       "      <td>2018년 채용연계형 인턴채용 문 열렸다</td>\n",
       "      <td>http://news.naver.com/main/read.nhn?mode=LSD&amp;m...</td>\n",
       "      <td>4</td>\n",
       "      <td>4</td>\n",
       "      <td>4</td>\n",
       "      <td>4</td>\n",
       "      <td>5</td>\n",
       "      <td>4</td>\n",
       "      <td>2018</td>\n",
       "    </tr>\n",
       "    <tr>\n",
       "      <th>3</th>\n",
       "      <td>20180109</td>\n",
       "      <td>무술년 채용연계형 인턴채용 스타트</td>\n",
       "      <td>http://news.naver.com/main/read.nhn?mode=LSD&amp;m...</td>\n",
       "      <td>4</td>\n",
       "      <td>3</td>\n",
       "      <td>4</td>\n",
       "      <td>4</td>\n",
       "      <td>5</td>\n",
       "      <td>4</td>\n",
       "      <td>2018</td>\n",
       "    </tr>\n",
       "    <tr>\n",
       "      <th>4</th>\n",
       "      <td>20180111</td>\n",
       "      <td>그냥 쉬었다 청년_ 30만명 역대 최고치</td>\n",
       "      <td>http://news.naver.com/main/read.nhn?mode=LSD&amp;m...</td>\n",
       "      <td>2</td>\n",
       "      <td>2</td>\n",
       "      <td>1</td>\n",
       "      <td>1</td>\n",
       "      <td>1</td>\n",
       "      <td>1</td>\n",
       "      <td>2018</td>\n",
       "    </tr>\n",
       "  </tbody>\n",
       "</table>\n",
       "</div>"
      ],
      "text/plain": [
       "         날짜                                    제목  \\\n",
       "0  20180102  [신년사]손경식 CJ회장_ \"해외사업 공격적 확장_ 성장 가속화\"   \n",
       "1  20180109     [취업과 창업]신입사원 연차 생기고 공공기관 채용 역대 최대   \n",
       "2  20180109                2018년 채용연계형 인턴채용 문 열렸다   \n",
       "3  20180109                    무술년 채용연계형 인턴채용 스타트   \n",
       "4  20180111                그냥 쉬었다 청년_ 30만명 역대 최고치   \n",
       "\n",
       "                                                 URL  라벨러1  라벨러2  라벨러3  라벨러4  \\\n",
       "0  http://news.naver.com/main/read.nhn?mode=LSD&m...     3     3     3     4   \n",
       "1  http://news.naver.com/main/read.nhn?mode=LSD&m...     4     4     5     5   \n",
       "2  http://news.naver.com/main/read.nhn?mode=LSD&m...     4     4     4     4   \n",
       "3  http://news.naver.com/main/read.nhn?mode=LSD&m...     4     3     4     4   \n",
       "4  http://news.naver.com/main/read.nhn?mode=LSD&m...     2     2     1     1   \n",
       "\n",
       "   라벨러5  라벨러6 Folder_Name  \n",
       "0     3     3        2018  \n",
       "1     5     4        2018  \n",
       "2     5     4        2018  \n",
       "3     5     4        2018  \n",
       "4     1     1        2018  "
      ]
     },
     "execution_count": 21,
     "metadata": {},
     "output_type": "execute_result"
    }
   ],
   "source": [
    "df.head()"
   ]
  },
  {
   "cell_type": "code",
   "execution_count": 22,
   "id": "9337624b",
   "metadata": {},
   "outputs": [],
   "source": [
    "df.to_csv('labelled_data.csv', index=False,  encoding='utf-8-sig')"
   ]
  },
  {
   "cell_type": "code",
   "execution_count": null,
   "id": "379c7a41",
   "metadata": {},
   "outputs": [],
   "source": []
  }
 ],
 "metadata": {
  "kernelspec": {
   "display_name": "Python 3 (ipykernel)",
   "language": "python",
   "name": "python3"
  },
  "language_info": {
   "codemirror_mode": {
    "name": "ipython",
    "version": 3
   },
   "file_extension": ".py",
   "mimetype": "text/x-python",
   "name": "python",
   "nbconvert_exporter": "python",
   "pygments_lexer": "ipython3",
   "version": "3.11.5"
  },
  "toc": {
   "base_numbering": 1,
   "nav_menu": {},
   "number_sections": true,
   "sideBar": true,
   "skip_h1_title": false,
   "title_cell": "Table of Contents",
   "title_sidebar": "Contents",
   "toc_cell": false,
   "toc_position": {},
   "toc_section_display": true,
   "toc_window_display": false
  }
 },
 "nbformat": 4,
 "nbformat_minor": 5
}
