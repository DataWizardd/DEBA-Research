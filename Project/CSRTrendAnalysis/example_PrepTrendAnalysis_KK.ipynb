{
 "cells": [
  {
   "cell_type": "markdown",
   "id": "f66fefe2-5f97-4982-8f87-a147525918fb",
   "metadata": {},
   "source": [
    "# Library"
   ]
  },
  {
   "cell_type": "code",
   "execution_count": 7,
   "id": "d48d4f90-14c8-48f3-a449-c25a52475344",
   "metadata": {
    "execution": {
     "iopub.execute_input": "2025-05-07T14:04:22.589602Z",
     "iopub.status.busy": "2025-05-07T14:04:22.589409Z",
     "iopub.status.idle": "2025-05-07T14:04:22.834712Z",
     "shell.execute_reply": "2025-05-07T14:04:22.834141Z",
     "shell.execute_reply.started": "2025-05-07T14:04:22.589587Z"
    }
   },
   "outputs": [
    {
     "name": "stdout",
     "output_type": "stream",
     "text": [
      "Cuda is Ready?  True\n",
      "\n",
      "Tensorflow Version:  2.19.0\n",
      "Keras Version:  3.9.2\n",
      "Torch Version:  2.7.0+cu126\n"
     ]
    }
   ],
   "source": [
    "# Ignore the warnings\n",
    "import warnings\n",
    "# warnings.filterwarnings('always')\n",
    "warnings.filterwarnings('ignore')\n",
    "\n",
    "# System related and data input controls\n",
    "import os\n",
    "\n",
    "# Auto reload of library\n",
    "%reload_ext autoreload\n",
    "%autoreload 2\n",
    "\n",
    "# Python path\n",
    "import sys\n",
    "base_folder = 'DataScience'\n",
    "location_base = os.path.join(os.getcwd().split(base_folder)[0], base_folder)\n",
    "location_module = [os.path.join(location_base, 'Module')] \n",
    "for each in location_module:\n",
    "    if each not in sys.path:\n",
    "        sys.path.append(each)\n",
    "\n",
    "from import_KK import *\n",
    "DeviceStrategy_CPU()\n",
    "from data_KK import *\n",
    "from description_KK import *\n",
    "from preprocessing_KK import *\n",
    "from preprocessing_text_KK import * ##\n",
    "from algorithm_textmining_KK import * ##\n",
    "from evaluation_KK import *\n",
    "from visualization_KK import *\n",
    "\n",
    "FONT_NAME = 'malgun'\n",
    "plt.rc('font', family=FONT_NAME) \n",
    "plt.rcParams['font.family'] = FONT_NAME\n",
    "mpl.rc('font', family=FONT_NAME)\n",
    "sns.set(font=FONT_NAME) \n",
    "sys_font = font_manager.findSystemFonts()\n",
    "FONT_PATHS = [path for path in sys_font if 'malgun' in path]\n",
    "if len(FONT_PATHS) != 0:\n",
    "    rc('font', family=font_manager.FontProperties(fname=FONT_PATHS[0]).get_name())"
   ]
  },
  {
   "cell_type": "markdown",
   "id": "f9868578-b333-460c-8af9-6c56a68bb760",
   "metadata": {},
   "source": [
    "# Hyperparameters"
   ]
  },
  {
   "cell_type": "code",
   "execution_count": 8,
   "id": "a30b90e9-0d76-4c81-bbee-ea4c79c6be0d",
   "metadata": {
    "execution": {
     "iopub.execute_input": "2025-05-07T14:04:25.609276Z",
     "iopub.status.busy": "2025-05-07T14:04:25.609082Z",
     "iopub.status.idle": "2025-05-07T14:04:25.826033Z",
     "shell.execute_reply": "2025-05-07T14:04:25.825499Z",
     "shell.execute_reply.started": "2025-05-07T14:04:25.609261Z"
    }
   },
   "outputs": [],
   "source": [
    "# 데이터 파리미터\n",
    "SOURCE_NAME = 'NaverNews_키워드전체카테고리사회.csv'\n",
    "TARGET = 'Title'\n",
    "CATEGORY = 'Year'\n",
    "NGRAM_RANGE = (1,1)\n",
    "TFIDF_MAXCOL = 10000\n",
    "TFIDF_DELLOWFREQ = False\n",
    "KEYBERT_TOPNKWD = 5\n",
    "NUM_SHOWKEYWORD = 200\n",
    "WINDOW_SIZE = 1\n",
    "TOKENIZER = 'KeyBERT'\n",
    "# 저장\n",
    "SAVE_LOCAL = True"
   ]
  },
  {
   "cell_type": "markdown",
   "id": "f3af427e-a15a-46fb-bef3-730065d50165",
   "metadata": {},
   "source": [
    "# Data & Preprocessing"
   ]
  },
  {
   "cell_type": "code",
   "execution_count": null,
   "id": "28bb11f9-60f8-4d59-a07a-5907ecb57aac",
   "metadata": {},
   "outputs": [],
   "source": [
    "# 데이터로딩\n",
    "df = get_data_from_path(os.path.join('/mnt/d', 'Research', 'SavedData', 'NaverNewsCSR', 'DataRaw'), \n",
    "                        folder_name=True, concat_axis='row', reset_index=True, date_column=None)\n",
    "## 불필요 변수 삭제\n",
    "if 'Folder_Name' in df.columns:\n",
    "    df.drop(columns=['Folder_Name', 'Sub_Category', '기관', '제목', '제목_원본', '본문', '기고자', '언론사', '키워드'], inplace=True)\n",
    "## 정리\n",
    "df = df.loc[:,['일자', 'Year', 'Month', 'Prep_Title', '특성추출(가중치순 상위 50개)']]\n",
    "df.rename(columns={'일자':'Date', 'Prep_Title':'TitlePrep', \n",
    "                   '특성추출(가중치순 상위 50개)':'KeywordRanking'}, inplace=True)\n",
    "## 저장\n",
    "df.to_csv(os.path.join('/mnt/d', 'Research', 'SavedData', 'NaverNewsCSR', 'Data', SOURCE_NAME), encoding='utf-8-sig', index=False)"
   ]
  },
  {
   "cell_type": "code",
   "execution_count": 3,
   "id": "58322073-e38c-45b0-ab04-e8e2c6879714",
   "metadata": {
    "execution": {
     "iopub.execute_input": "2025-05-06T14:52:07.587194Z",
     "iopub.status.busy": "2025-05-06T14:52:07.586986Z",
     "iopub.status.idle": "2025-05-07T09:15:26.355223Z",
     "shell.execute_reply": "2025-05-07T09:15:26.354694Z",
     "shell.execute_reply.started": "2025-05-06T14:52:07.587177Z"
    }
   },
   "outputs": [
    {
     "name": "stderr",
     "output_type": "stream",
     "text": [
      "  0%|                                                                                             | 0/5 [00:00<?, ?it/s]"
     ]
    },
    {
     "name": "stdout",
     "output_type": "stream",
     "text": [
      "Preprocessing...: TF-IDF 2025-05-06 23:52:11.971299\n",
      "Preprocessing...: KeyBERT 2025-05-06 23:52:20.169118\n"
     ]
    },
    {
     "name": "stderr",
     "output_type": "stream",
     "text": [
      " 20%|███████████████▊                                                               | 1/5 [1:46:10<7:04:41, 6370.25s/it]"
     ]
    },
    {
     "name": "stdout",
     "output_type": "stream",
     "text": [
      "Preprocessing...: TF-IDF 2025-05-07 01:38:22.216750\n",
      "Preprocessing...: KeyBERT 2025-05-07 01:38:26.641535\n"
     ]
    },
    {
     "name": "stderr",
     "output_type": "stream",
     "text": [
      " 40%|███████████████████████████████▌                                               | 2/5 [3:20:31<4:57:38, 5953.00s/it]"
     ]
    },
    {
     "name": "stdout",
     "output_type": "stream",
     "text": [
      "Preprocessing...: TF-IDF 2025-05-07 03:12:43.133654\n",
      "Preprocessing...: KeyBERT 2025-05-07 03:12:48.256916\n"
     ]
    },
    {
     "name": "stderr",
     "output_type": "stream",
     "text": [
      " 60%|███████████████████████████████████████████████▍                               | 3/5 [4:46:26<3:06:17, 5588.67s/it]"
     ]
    },
    {
     "name": "stdout",
     "output_type": "stream",
     "text": [
      "Preprocessing...: TF-IDF 2025-05-07 04:38:38.265741\n",
      "Preprocessing...: KeyBERT 2025-05-07 04:38:42.656371\n"
     ]
    },
    {
     "name": "stderr",
     "output_type": "stream",
     "text": [
      " 80%|███████████████████████████████████████████████████████████████▏               | 4/5 [6:18:32<1:32:44, 5564.14s/it]"
     ]
    },
    {
     "name": "stdout",
     "output_type": "stream",
     "text": [
      "Preprocessing...: TF-IDF 2025-05-07 06:10:44.792989\n",
      "Preprocessing...: KeyBERT 2025-05-07 06:10:47.927929\n"
     ]
    },
    {
     "name": "stderr",
     "output_type": "stream",
     "text": [
      "100%|█████████████████████████████████████████████████████████████████████████████████| 5/5 [7:44:05<00:00, 5569.11s/it]\n"
     ]
    },
    {
     "name": "stdout",
     "output_type": "stream",
     "text": [
      "Sentence to Keywords...: 2025-05-07 07:36:17.520546\n"
     ]
    },
    {
     "name": "stderr",
     "output_type": "stream",
     "text": [
      "100%|██████████████████████████████████████████████████████████████████████████| 912792/912792 [28:25<00:00, 535.22it/s]\n",
      "100%|████████████████████████████████████████████████████████████████████████| 912792/912792 [10:10:28<00:00, 24.92it/s]\n"
     ]
    },
    {
     "name": "stdout",
     "output_type": "stream",
     "text": [
      "Saving...: 2025-05-07 18:15:17.253435\n",
      "Results Concat!: 2025-05-07 18:15:26.283727\n"
     ]
    },
    {
     "data": {
      "text/html": [
       "<div>\n",
       "<style scoped>\n",
       "    .dataframe tbody tr th:only-of-type {\n",
       "        vertical-align: middle;\n",
       "    }\n",
       "\n",
       "    .dataframe tbody tr th {\n",
       "        vertical-align: top;\n",
       "    }\n",
       "\n",
       "    .dataframe thead th {\n",
       "        text-align: right;\n",
       "    }\n",
       "</style>\n",
       "<table border=\"1\" class=\"dataframe\">\n",
       "  <thead>\n",
       "    <tr style=\"text-align: right;\">\n",
       "      <th></th>\n",
       "      <th>Token by SoyNLP</th>\n",
       "      <th>Token by TF-IDF</th>\n",
       "      <th>Token by KeyBERT</th>\n",
       "    </tr>\n",
       "  </thead>\n",
       "  <tbody>\n",
       "    <tr>\n",
       "      <th>Length</th>\n",
       "      <td>0</td>\n",
       "      <td>50000</td>\n",
       "      <td>739025</td>\n",
       "    </tr>\n",
       "  </tbody>\n",
       "</table>\n",
       "</div>"
      ],
      "text/plain": [
       "        Token by SoyNLP  Token by TF-IDF  Token by KeyBERT\n",
       "Length                0            50000            739025"
      ]
     },
     "metadata": {},
     "output_type": "display_data"
    },
    {
     "data": {
      "text/html": [
       "<div>\n",
       "<style scoped>\n",
       "    .dataframe tbody tr th:only-of-type {\n",
       "        vertical-align: middle;\n",
       "    }\n",
       "\n",
       "    .dataframe tbody tr th {\n",
       "        vertical-align: top;\n",
       "    }\n",
       "\n",
       "    .dataframe thead th {\n",
       "        text-align: right;\n",
       "    }\n",
       "</style>\n",
       "<table border=\"1\" class=\"dataframe\">\n",
       "  <thead>\n",
       "    <tr style=\"text-align: right;\">\n",
       "      <th></th>\n",
       "      <th>category</th>\n",
       "      <th>category</th>\n",
       "      <th>word</th>\n",
       "      <th>score</th>\n",
       "      <th>category</th>\n",
       "      <th>word</th>\n",
       "      <th>score</th>\n",
       "    </tr>\n",
       "  </thead>\n",
       "  <tbody>\n",
       "    <tr>\n",
       "      <th>0</th>\n",
       "      <td>NaN</td>\n",
       "      <td>2020</td>\n",
       "      <td>코로나19</td>\n",
       "      <td>2671</td>\n",
       "      <td>2020</td>\n",
       "      <td>코로나19</td>\n",
       "      <td>8395</td>\n",
       "    </tr>\n",
       "    <tr>\n",
       "      <th>1</th>\n",
       "      <td>NaN</td>\n",
       "      <td>2020</td>\n",
       "      <td>코로나</td>\n",
       "      <td>2441</td>\n",
       "      <td>2020</td>\n",
       "      <td>코로나</td>\n",
       "      <td>6885</td>\n",
       "    </tr>\n",
       "    <tr>\n",
       "      <th>2</th>\n",
       "      <td>NaN</td>\n",
       "      <td>2020</td>\n",
       "      <td>확진</td>\n",
       "      <td>1985</td>\n",
       "      <td>2020</td>\n",
       "      <td>확진자</td>\n",
       "      <td>5892</td>\n",
       "    </tr>\n",
       "    <tr>\n",
       "      <th>3</th>\n",
       "      <td>NaN</td>\n",
       "      <td>2020</td>\n",
       "      <td>확진자</td>\n",
       "      <td>1952</td>\n",
       "      <td>2020</td>\n",
       "      <td>확진</td>\n",
       "      <td>5634</td>\n",
       "    </tr>\n",
       "    <tr>\n",
       "      <th>4</th>\n",
       "      <td>NaN</td>\n",
       "      <td>2020</td>\n",
       "      <td>검찰</td>\n",
       "      <td>1578</td>\n",
       "      <td>2020</td>\n",
       "      <td>속보</td>\n",
       "      <td>3894</td>\n",
       "    </tr>\n",
       "    <tr>\n",
       "      <th>5</th>\n",
       "      <td>NaN</td>\n",
       "      <td>2020</td>\n",
       "      <td>속보</td>\n",
       "      <td>1536</td>\n",
       "      <td>2020</td>\n",
       "      <td>윤석열</td>\n",
       "      <td>3599</td>\n",
       "    </tr>\n",
       "    <tr>\n",
       "      <th>6</th>\n",
       "      <td>NaN</td>\n",
       "      <td>2020</td>\n",
       "      <td>경찰</td>\n",
       "      <td>1385</td>\n",
       "      <td>2020</td>\n",
       "      <td>검찰</td>\n",
       "      <td>3288</td>\n",
       "    </tr>\n",
       "    <tr>\n",
       "      <th>7</th>\n",
       "      <td>NaN</td>\n",
       "      <td>2020</td>\n",
       "      <td>서울</td>\n",
       "      <td>1333</td>\n",
       "      <td>2020</td>\n",
       "      <td>경찰</td>\n",
       "      <td>3260</td>\n",
       "    </tr>\n",
       "    <tr>\n",
       "      <th>8</th>\n",
       "      <td>NaN</td>\n",
       "      <td>2020</td>\n",
       "      <td>윤석열</td>\n",
       "      <td>1295</td>\n",
       "      <td>2020</td>\n",
       "      <td>환자</td>\n",
       "      <td>2313</td>\n",
       "    </tr>\n",
       "    <tr>\n",
       "      <th>9</th>\n",
       "      <td>NaN</td>\n",
       "      <td>2020</td>\n",
       "      <td>포토</td>\n",
       "      <td>1159</td>\n",
       "      <td>2020</td>\n",
       "      <td>마스크</td>\n",
       "      <td>2285</td>\n",
       "    </tr>\n",
       "  </tbody>\n",
       "</table>\n",
       "</div>"
      ],
      "text/plain": [
       "  category category   word  score category   word  score\n",
       "0      NaN     2020  코로나19   2671     2020  코로나19   8395\n",
       "1      NaN     2020    코로나   2441     2020    코로나   6885\n",
       "2      NaN     2020     확진   1985     2020    확진자   5892\n",
       "3      NaN     2020    확진자   1952     2020     확진   5634\n",
       "4      NaN     2020     검찰   1578     2020     속보   3894\n",
       "5      NaN     2020     속보   1536     2020    윤석열   3599\n",
       "6      NaN     2020     경찰   1385     2020     검찰   3288\n",
       "7      NaN     2020     서울   1333     2020     경찰   3260\n",
       "8      NaN     2020    윤석열   1295     2020     환자   2313\n",
       "9      NaN     2020     포토   1159     2020    마스크   2285"
      ]
     },
     "metadata": {},
     "output_type": "display_data"
    }
   ],
   "source": [
    "# Preprocessing\n",
    "## 데이터로딩\n",
    "df = pd.read_csv(os.path.join('/mnt/d', 'Research', 'SavedData', 'NaverNewsCSR', 'Data', SOURCE_NAME), encoding='utf-8-sig')\n",
    "## 결측값처리\n",
    "df = df[~df[TARGET+'Prep'].isnull()]\n",
    "## 빈도추출\n",
    "## (1,1)\n",
    "word_freq, df_prep = preprocessing_wordfreq(df, colname_target=TARGET+'Prep', colname_category=None, language='kr',\n",
    "                                          ngram_range=(1,1),\n",
    "                                          tfidf_maxcol=TFIDF_MAXCOL, tfidf_dellowfreq=TFIDF_DELLOWFREQ,\n",
    "                                          keybert_topnkwd=KEYBERT_TOPNKWD,\n",
    "                                          num_showkeyword=NUM_SHOWKEYWORD, \n",
    "                                          save_local=SAVE_LOCAL)\n",
    "word_freq_categ, df_prepcateg = preprocessing_wordfreq(df, colname_target=TARGET+'Prep', colname_category=CATEGORY, language='kr',\n",
    "                                                    ngram_range=(1,1),\n",
    "                                                    tfidf_maxcol=TFIDF_MAXCOL, tfidf_dellowfreq=TFIDF_DELLOWFREQ,\n",
    "                                                    keybert_topnkwd=KEYBERT_TOPNKWD,\n",
    "                                                    num_showkeyword=NUM_SHOWKEYWORD, \n",
    "                                                    save_local=SAVE_LOCAL)\n",
    "## (1,2)\n",
    "word_freq, df_prep = preprocessing_wordfreq(df, colname_target=TARGET+'Prep', colname_category=None, language='kr',\n",
    "                                          ngram_range=(1,2),\n",
    "                                          tfidf_maxcol=TFIDF_MAXCOL, tfidf_dellowfreq=TFIDF_DELLOWFREQ,\n",
    "                                          keybert_topnkwd=KEYBERT_TOPNKWD,\n",
    "                                          num_showkeyword=NUM_SHOWKEYWORD, \n",
    "                                          save_local=SAVE_LOCAL)\n",
    "word_freq_categ, df_prepcateg = preprocessing_wordfreq(df, colname_target=TARGET+'Prep', colname_category=CATEGORY, language='kr',\n",
    "                                                    ngram_range=(1,2),\n",
    "                                                    tfidf_maxcol=TFIDF_MAXCOL, tfidf_dellowfreq=TFIDF_DELLOWFREQ,\n",
    "                                                    keybert_topnkwd=KEYBERT_TOPNKWD,\n",
    "                                                    num_showkeyword=NUM_SHOWKEYWORD, \n",
    "                                                    save_local=SAVE_LOCAL)"
   ]
  },
  {
   "cell_type": "markdown",
   "id": "32e777a9-3eb7-414d-b0a5-c294e5314d38",
   "metadata": {},
   "source": [
    "# Data Loading"
   ]
  },
  {
   "cell_type": "code",
   "execution_count": 10,
   "id": "51ea7a22-c2aa-4efc-bf99-398e612d80ce",
   "metadata": {
    "execution": {
     "iopub.execute_input": "2025-05-07T14:12:41.957203Z",
     "iopub.status.busy": "2025-05-07T14:12:41.957022Z",
     "iopub.status.idle": "2025-05-07T14:12:54.568060Z",
     "shell.execute_reply": "2025-05-07T14:12:54.567342Z",
     "shell.execute_reply.started": "2025-05-07T14:12:41.957193Z"
    },
    "scrolled": true
   },
   "outputs": [],
   "source": [
    "# 데이터로딩: 원본\n",
    "df_freq = pd.read_csv(os.path.join('/mnt/d', 'Research', 'SavedData', 'NaverNewsCSR', 'Data', \n",
    "                                   'df_prep_'+str(NGRAM_RANGE).replace(' ','')+'.csv'), encoding='utf-8-sig')\n",
    "df_freq_categ = pd.read_csv(os.path.join('/mnt/d', 'Research', 'SavedData', 'NaverNewsCSR', 'Data', \n",
    "                                         'df_prepcateg_'+str(NGRAM_RANGE).replace(' ','')+'.csv'), encoding='utf-8-sig')\n",
    "if NGRAM_RANGE[1] == 1:\n",
    "    wordfreq_location = os.path.join('.', 'Result', 'WordFreq', 'NgramRange1')\n",
    "elif NGRAM_RANGE[1] == 2:\n",
    "    wordfreq_location = os.path.join('.', 'Result', 'WordFreq', 'NgramRange2')\n",
    "word_freq = pd.read_csv(os.path.join(wordfreq_location, 'wf_'+TOKENIZER.lower()+'.csv'), encoding='utf-8-sig')\n",
    "word_freq_categ = pd.read_csv(os.path.join(wordfreq_location, 'wf_categ_'+TOKENIZER.lower()+'.csv'), encoding='utf-8-sig')\n",
    "\n",
    "# 동시발생 단어행렬 추출\n",
    "coword_direct, coword_undirect = preprocessing_sent2edgelist(df_prep[TARGET+'Prep'], \n",
    "                                                             window_size=WINDOW_SIZE, save_local=SAVE_LOCAL)\n",
    "coword_directcateg, coword_undirectcateg = preprocessing_sent2edgelist_bycateg(df_prep, \n",
    "                                                                               colname_target=TARGET+'Prep', colname_categ=CATEGORY, \n",
    "                                                                               window_size=WINDOW_SIZE, save_local=SAVE_LOCAL)"
   ]
  },
  {
   "cell_type": "code",
   "execution_count": null,
   "id": "00619d4b-ab5d-4128-9ddb-66d1e5715006",
   "metadata": {},
   "outputs": [],
   "source": []
  },
  {
   "cell_type": "code",
   "execution_count": null,
   "id": "cd1b4c69-c7e4-4bcd-807c-9bb1292d021c",
   "metadata": {},
   "outputs": [],
   "source": []
  },
  {
   "cell_type": "code",
   "execution_count": null,
   "id": "6b33c535-4ae6-4986-9a8a-25f3c7cc9335",
   "metadata": {},
   "outputs": [],
   "source": []
  }
 ],
 "metadata": {
  "kernelspec": {
   "display_name": "Python 3 (ipykernel)",
   "language": "python",
   "name": "python3"
  },
  "language_info": {
   "codemirror_mode": {
    "name": "ipython",
    "version": 3
   },
   "file_extension": ".py",
   "mimetype": "text/x-python",
   "name": "python",
   "nbconvert_exporter": "python",
   "pygments_lexer": "ipython3",
   "version": "3.12.2"
  }
 },
 "nbformat": 4,
 "nbformat_minor": 5
}
