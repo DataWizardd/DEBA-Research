{
 "cells": [
  {
   "cell_type": "markdown",
   "id": "4b0d0428-9683-4ef7-8187-c9b6d4a81bb1",
   "metadata": {},
   "source": [
    "# Library"
   ]
  },
  {
   "cell_type": "code",
   "execution_count": 1,
   "id": "2a5641a1-cf6c-4499-90af-35c17a580830",
   "metadata": {},
   "outputs": [],
   "source": [
    "import pandas as pd\n",
    "from transformers import AutoTokenizer, AutoModelForSequenceClassification, pipeline\n",
    "from tqdm import tqdm"
   ]
  },
  {
   "cell_type": "markdown",
   "id": "9a62860c-cc3d-40b2-a5f1-249c6ffb9232",
   "metadata": {},
   "source": [
    "# Data Load"
   ]
  },
  {
   "cell_type": "code",
   "execution_count": 11,
   "id": "1c01d0f5-2ffa-4f84-a988-642dfcf463a7",
   "metadata": {},
   "outputs": [],
   "source": [
    "data_path = r\"C:\\Users\\james\\J_Data_Lab\\Project-FXCast\\crawler\\data\\naver_finance_news_2023_prep.csv\"\n",
    "df = pd.read_csv(data_path)"
   ]
  },
  {
   "cell_type": "markdown",
   "id": "208929bb-75ef-474b-a204-ce1c2bb787f3",
   "metadata": {},
   "source": [
    "# Analyze Sentiment with Fine Tuning Model"
   ]
  },
  {
   "cell_type": "code",
   "execution_count": 3,
   "id": "4b019968-44be-4077-bfa5-9c16ace64a13",
   "metadata": {},
   "outputs": [],
   "source": [
    "# 파인 튜닝한 모델 불러오기\n",
    "model_name = \"DataWizardd/finbert-sentiment-ko\"\n",
    "tokenizer = AutoTokenizer.from_pretrained(model_name)\n",
    "model = AutoModelForSequenceClassification.from_pretrained(model_name)"
   ]
  },
  {
   "cell_type": "code",
   "execution_count": 4,
   "id": "90f9152b-cc46-4cad-9a77-8041a3f98dce",
   "metadata": {},
   "outputs": [
    {
     "name": "stderr",
     "output_type": "stream",
     "text": [
      "Device set to use cuda:0\n"
     ]
    }
   ],
   "source": [
    "sentiment_pipe = pipeline(\"text-classification\", model=model, tokenizer=tokenizer)"
   ]
  },
  {
   "cell_type": "code",
   "execution_count": 5,
   "id": "b9d19b22-b0c0-44b2-a146-4cee9cf08fba",
   "metadata": {},
   "outputs": [],
   "source": [
    "def analyze_sentiment(text):\n",
    "    if pd.isna(text) or not text.strip():\n",
    "        return (\"None\", 0.0)\n",
    "    result = sentiment_pipe(text, truncation=True)[0]\n",
    "    return result[\"label\"], result[\"score\"]"
   ]
  },
  {
   "cell_type": "code",
   "execution_count": 9,
   "id": "e481541f-0ca2-4ebf-bf80-55939518c423",
   "metadata": {},
   "outputs": [
    {
     "name": "stderr",
     "output_type": "stream",
     "text": [
      "100%|███████████████████████████████████████████████████████████████████████████████| 427/427 [00:02<00:00, 152.16it/s]\n"
     ]
    }
   ],
   "source": [
    "tqdm.pandas()\n",
    "df[[\"sentiment\", \"score\"]] = df[\"summary\"].progress_apply(lambda x: pd.Series(analyze_sentiment(x)))"
   ]
  },
  {
   "cell_type": "code",
   "execution_count": 12,
   "id": "50dfc9b9-7873-4d43-b39e-07f6d49cd48f",
   "metadata": {},
   "outputs": [],
   "source": [
    "save_path = r\"C:\\Users\\james\\J_Data_Lab\\Project-FXCast\\crawler\\data\\naver_finance_news_2023_sentiment.csv\"\n",
    "df.to_csv(save_path, index=False, encoding=\"utf-8-sig\")"
   ]
  },
  {
   "cell_type": "code",
   "execution_count": null,
   "id": "e86bb4a2-ec9b-4063-9351-c267fc3f6554",
   "metadata": {},
   "outputs": [],
   "source": []
  }
 ],
 "metadata": {
  "kernelspec": {
   "display_name": "Python (my_new_env)",
   "language": "python",
   "name": "my_new_env"
  },
  "language_info": {
   "codemirror_mode": {
    "name": "ipython",
    "version": 3
   },
   "file_extension": ".py",
   "mimetype": "text/x-python",
   "name": "python",
   "nbconvert_exporter": "python",
   "pygments_lexer": "ipython3",
   "version": "3.9.20"
  }
 },
 "nbformat": 4,
 "nbformat_minor": 5
}
