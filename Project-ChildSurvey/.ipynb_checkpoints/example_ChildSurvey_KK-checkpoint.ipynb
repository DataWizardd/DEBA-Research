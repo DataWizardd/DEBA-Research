{
 "cells": [
  {
   "cell_type": "markdown",
   "id": "3071077e",
   "metadata": {},
   "source": [
    "# Library"
   ]
  },
  {
   "cell_type": "code",
   "execution_count": 57,
   "id": "07ae3c05",
   "metadata": {
    "ExecuteTime": {
     "end_time": "2024-08-12T05:24:57.250830Z",
     "start_time": "2024-08-12T05:24:42.243709Z"
    }
   },
   "outputs": [
    {
     "name": "stderr",
     "output_type": "stream",
     "text": [
      "2024-08-12 14:24:46,965\tINFO worker.py:1453 -- Calling ray.init() again after it has already been called.\n",
      "[nltk_data] Downloading package stopwords to\n",
      "[nltk_data]     C:\\Users\\KK\\AppData\\Roaming\\nltk_data...\n",
      "[nltk_data]   Package stopwords is already up-to-date!\n",
      "[nltk_data] Downloading package punkt to\n",
      "[nltk_data]     C:\\Users\\KK\\AppData\\Roaming\\nltk_data...\n",
      "[nltk_data]   Package punkt is already up-to-date!\n",
      "2024-08-12 14:24:51,722\tINFO worker.py:1453 -- Calling ray.init() again after it has already been called.\n",
      "[nltk_data] Downloading package stopwords to\n",
      "[nltk_data]     C:\\Users\\KK\\AppData\\Roaming\\nltk_data...\n",
      "[nltk_data]   Package stopwords is already up-to-date!\n",
      "[nltk_data] Downloading package punkt to\n",
      "[nltk_data]     C:\\Users\\KK\\AppData\\Roaming\\nltk_data...\n",
      "[nltk_data]   Package punkt is already up-to-date!\n",
      "2024-08-12 14:24:56,575\tINFO worker.py:1453 -- Calling ray.init() again after it has already been called.\n",
      "[nltk_data] Downloading package stopwords to\n",
      "[nltk_data]     C:\\Users\\KK\\AppData\\Roaming\\nltk_data...\n",
      "[nltk_data]   Package stopwords is already up-to-date!\n",
      "[nltk_data] Downloading package punkt to\n",
      "[nltk_data]     C:\\Users\\KK\\AppData\\Roaming\\nltk_data...\n",
      "[nltk_data]   Package punkt is already up-to-date!\n"
     ]
    }
   ],
   "source": [
    "# Ignore the warnings\n",
    "import warnings\n",
    "# warnings.filterwarnings('always')\n",
    "warnings.filterwarnings('ignore')\n",
    "\n",
    "# System related and data input controls\n",
    "import os\n",
    "\n",
    "# Python path\n",
    "import sys\n",
    "base_folder = 'DataScience'\n",
    "location_base = os.path.join(os.getcwd().split(base_folder)[0], base_folder)\n",
    "location_module = [os.path.join(location_base, 'Module')] \n",
    "for each in location_module:\n",
    "    if each not in sys.path:\n",
    "        sys.path.append(each)\n",
    "\n",
    "# Auto reload of library\n",
    "%reload_ext autoreload\n",
    "%autoreload 2\n",
    "\n",
    "from preprocessing_KK import *\n",
    "from preprocessing_text_KK import * ##\n",
    "from algorithm_textmining_KK import * ##\n",
    "from algorithm_machinelearning_KK import *\n",
    "from algorithm_deeplearning_KK import *\n",
    "from evaluation_KK import *\n",
    "from visualization_KK import *"
   ]
  },
  {
   "cell_type": "markdown",
   "id": "268236ab",
   "metadata": {},
   "source": [
    "# Hyperparameters"
   ]
  },
  {
   "cell_type": "code",
   "execution_count": 2,
   "id": "5c52c8a1",
   "metadata": {
    "ExecuteTime": {
     "end_time": "2024-08-12T02:51:13.073434Z",
     "start_time": "2024-08-12T02:51:12.474137Z"
    }
   },
   "outputs": [],
   "source": [
    "TARGET = '의견'\n",
    "TOKENIZER = 'KeyBERT'"
   ]
  },
  {
   "cell_type": "markdown",
   "id": "5c5a3ced",
   "metadata": {},
   "source": [
    "# Data & Preprocessing"
   ]
  },
  {
   "cell_type": "code",
   "execution_count": 3,
   "id": "22967acf",
   "metadata": {
    "ExecuteTime": {
     "end_time": "2024-08-12T02:51:29.030162Z",
     "start_time": "2024-08-12T02:51:13.074433Z"
    }
   },
   "outputs": [
    {
     "name": "stderr",
     "output_type": "stream",
     "text": [
      "100%|██████████████████████████████████████████████████████████████████████████████| 469/469 [00:00<00:00, 1677.13it/s]\n"
     ]
    },
    {
     "name": "stdout",
     "output_type": "stream",
     "text": [
      "\r",
      "training ... (0 in 469 sents) use memory 1.090 Gb\r",
      "training was done. used memory 1.093 Gb\n",
      "\r",
      " cohesion probabilities ... (1 in 724)\r",
      "all cohesion probabilities was computed. # words = 501\n",
      "\r",
      "all branching entropies was computed # words = 1257\n",
      "\r",
      "all accessor variety was computed # words = 1257\n",
      "C:/Users/KK/anaconda3/Lib/site-packages/soynlp\n",
      "cannot access local variable 'f' where it is not associated with a value\n",
      "cannot access local variable 'f' where it is not associated with a value\n",
      "before postprocessing 653\n",
      "_noun_scores_ 225\n",
      "after postprocessing 144\n"
     ]
    }
   ],
   "source": [
    "# 데이터\n",
    "## 데이터로딩\n",
    "df = pd.read_excel(os.path.join(os.getcwd(), 'Data', '시민의견수렴 의견 전처리자료.xlsx'))\n",
    "## 변수 삭제\n",
    "colname_delete = ['의제 ID', '사용자 ID', '학교 ID', '환경', '이전 참가 여부', '특이사항', '의견 ID', '수정 시각']\n",
    "df.drop(columns=colname_delete, inplace=True)\n",
    "## 무의견 삭제\n",
    "df.dropna(subset=[TARGET], inplace=True)\n",
    "## 리인덱싱\n",
    "df = df.reset_index().iloc[:,1:]\n",
    "## 기초 전처리\n",
    "df[TARGET] = df[TARGET].progress_apply(lambda x: text_preprocessor(x, del_number=False, del_bracket_content=False))\n",
    "## 단어빈도 추출과 변환\n",
    "wf_soy, waf_soy, \\\n",
    "wf_tf, waf_tf, \\\n",
    "wf_kb, waf_kb, \\\n",
    "sent_keyword = preprocessing_wordfreq(df, colname_target=TARGET, colname_category=None,\n",
    "                                      num_showkeyword=100, save_local=False, save_name='wordfreq_')\n",
    "## 결합\n",
    "df = pd.concat([df, sent_keyword[[each for each in sent_keyword.columns if each.split('_')[1] == TOKENIZER]]], axis=1)"
   ]
  },
  {
   "cell_type": "markdown",
   "id": "2f10b9f1",
   "metadata": {},
   "source": [
    "# Descriptive"
   ]
  },
  {
   "cell_type": "code",
   "execution_count": 62,
   "id": "ebad8321",
   "metadata": {
    "ExecuteTime": {
     "end_time": "2024-08-12T05:32:14.201420Z",
     "start_time": "2024-08-12T05:31:52.302349Z"
    }
   },
   "outputs": [
    {
     "name": "stderr",
     "output_type": "stream",
     "text": [
      "2024-08-12 14:31:57,596\tINFO worker.py:1453 -- Calling ray.init() again after it has already been called.\n",
      "[nltk_data] Downloading package stopwords to\n",
      "[nltk_data]     C:\\Users\\KK\\AppData\\Roaming\\nltk_data...\n",
      "[nltk_data]   Package stopwords is already up-to-date!\n",
      "[nltk_data] Downloading package punkt to\n",
      "[nltk_data]     C:\\Users\\KK\\AppData\\Roaming\\nltk_data...\n",
      "[nltk_data]   Package punkt is already up-to-date!\n",
      "2024-08-12 14:32:02,706\tINFO worker.py:1453 -- Calling ray.init() again after it has already been called.\n",
      "[nltk_data] Downloading package stopwords to\n",
      "[nltk_data]     C:\\Users\\KK\\AppData\\Roaming\\nltk_data...\n",
      "[nltk_data]   Package stopwords is already up-to-date!\n",
      "[nltk_data] Downloading package punkt to\n",
      "[nltk_data]     C:\\Users\\KK\\AppData\\Roaming\\nltk_data...\n",
      "[nltk_data]   Package punkt is already up-to-date!\n",
      "2024-08-12 14:32:08,572\tINFO worker.py:1453 -- Calling ray.init() again after it has already been called.\n",
      "[nltk_data] Downloading package stopwords to\n",
      "[nltk_data]     C:\\Users\\KK\\AppData\\Roaming\\nltk_data...\n",
      "[nltk_data]   Package stopwords is already up-to-date!\n",
      "[nltk_data] Downloading package punkt to\n",
      "[nltk_data]     C:\\Users\\KK\\AppData\\Roaming\\nltk_data...\n",
      "[nltk_data]   Package punkt is already up-to-date!\n",
      "2024-08-12 14:32:13,833\tINFO worker.py:1453 -- Calling ray.init() again after it has already been called.\n",
      "[nltk_data] Downloading package stopwords to\n",
      "[nltk_data]     C:\\Users\\KK\\AppData\\Roaming\\nltk_data...\n",
      "[nltk_data]   Package stopwords is already up-to-date!\n",
      "[nltk_data] Downloading package punkt to\n",
      "[nltk_data]     C:\\Users\\KK\\AppData\\Roaming\\nltk_data...\n",
      "[nltk_data]   Package punkt is already up-to-date!\n"
     ]
    },
    {
     "data": {
      "text/html": [
       "<div>\n",
       "<style scoped>\n",
       "    .dataframe tbody tr th:only-of-type {\n",
       "        vertical-align: middle;\n",
       "    }\n",
       "\n",
       "    .dataframe tbody tr th {\n",
       "        vertical-align: top;\n",
       "    }\n",
       "\n",
       "    .dataframe thead th {\n",
       "        text-align: right;\n",
       "    }\n",
       "</style>\n",
       "<table border=\"1\" class=\"dataframe\">\n",
       "  <thead>\n",
       "    <tr style=\"text-align: right;\">\n",
       "      <th></th>\n",
       "      <th>Length</th>\n",
       "    </tr>\n",
       "  </thead>\n",
       "  <tbody>\n",
       "    <tr>\n",
       "      <th>count</th>\n",
       "      <td>469.0000</td>\n",
       "    </tr>\n",
       "    <tr>\n",
       "      <th>mean</th>\n",
       "      <td>7.8742</td>\n",
       "    </tr>\n",
       "    <tr>\n",
       "      <th>std</th>\n",
       "      <td>6.1754</td>\n",
       "    </tr>\n",
       "    <tr>\n",
       "      <th>min</th>\n",
       "      <td>1.0000</td>\n",
       "    </tr>\n",
       "    <tr>\n",
       "      <th>25%</th>\n",
       "      <td>4.0000</td>\n",
       "    </tr>\n",
       "    <tr>\n",
       "      <th>50%</th>\n",
       "      <td>6.0000</td>\n",
       "    </tr>\n",
       "    <tr>\n",
       "      <th>75%</th>\n",
       "      <td>9.0000</td>\n",
       "    </tr>\n",
       "    <tr>\n",
       "      <th>max</th>\n",
       "      <td>43.0000</td>\n",
       "    </tr>\n",
       "  </tbody>\n",
       "</table>\n",
       "</div>"
      ],
      "text/plain": [
       "        Length\n",
       "count 469.0000\n",
       "mean    7.8742\n",
       "std     6.1754\n",
       "min     1.0000\n",
       "25%     4.0000\n",
       "50%     6.0000\n",
       "75%     9.0000\n",
       "max    43.0000"
      ]
     },
     "metadata": {},
     "output_type": "display_data"
    },
    {
     "data": {
      "application/vnd.plotly.v1+json": {
       "config": {
        "plotlyServerURL": "https://plotly.com"
       },
       "data": [
        {
         "alignmentgroup": "True",
         "bingroup": "x",
         "hovertemplate": "Length=%{x}<br>count=%{y}<extra></extra>",
         "legendgroup": "",
         "marker": {
          "color": "#636efa",
          "opacity": 0.8,
          "pattern": {
           "shape": ""
          }
         },
         "name": "",
         "offsetgroup": "",
         "orientation": "v",
         "showlegend": false,
         "texttemplate": "%{value}",
         "type": "histogram",
         "x": [
          2,
          3,
          6,
          3,
          7,
          4,
          5,
          6,
          2,
          4,
          9,
          3,
          4,
          6,
          2,
          11,
          2,
          11,
          5,
          2,
          12,
          5,
          5,
          4,
          2,
          9,
          13,
          12,
          6,
          10,
          11,
          2,
          9,
          1,
          8,
          7,
          10,
          15,
          2,
          7,
          8,
          4,
          6,
          5,
          1,
          13,
          17,
          5,
          6,
          5,
          8,
          2,
          5,
          24,
          6,
          18,
          4,
          5,
          34,
          21,
          28,
          7,
          7,
          4,
          4,
          2,
          6,
          11,
          4,
          5,
          5,
          5,
          4,
          1,
          2,
          6,
          2,
          5,
          5,
          5,
          6,
          2,
          5,
          7,
          4,
          2,
          7,
          1,
          11,
          5,
          3,
          4,
          8,
          11,
          6,
          5,
          4,
          6,
          15,
          10,
          8,
          7,
          18,
          9,
          2,
          6,
          7,
          10,
          7,
          8,
          19,
          2,
          4,
          6,
          5,
          10,
          7,
          5,
          14,
          9,
          6,
          9,
          6,
          7,
          4,
          5,
          17,
          7,
          10,
          3,
          9,
          39,
          28,
          35,
          6,
          8,
          5,
          6,
          2,
          7,
          7,
          13,
          6,
          6,
          19,
          6,
          5,
          1,
          5,
          1,
          3,
          4,
          6,
          5,
          4,
          5,
          6,
          2,
          3,
          5,
          9,
          2,
          10,
          13,
          3,
          7,
          9,
          8,
          5,
          6,
          5,
          11,
          14,
          5,
          14,
          7,
          14,
          6,
          10,
          6,
          4,
          4,
          9,
          9,
          10,
          13,
          3,
          8,
          6,
          7,
          9,
          7,
          4,
          13,
          7,
          4,
          9,
          7,
          9,
          6,
          2,
          2,
          11,
          3,
          9,
          6,
          27,
          22,
          27,
          7,
          11,
          5,
          4,
          2,
          7,
          7,
          16,
          5,
          11,
          6,
          6,
          5,
          4,
          2,
          2,
          3,
          16,
          5,
          5,
          7,
          3,
          4,
          8,
          5,
          8,
          9,
          1,
          6,
          3,
          9,
          21,
          2,
          8,
          4,
          6,
          10,
          12,
          2,
          8,
          5,
          12,
          6,
          3,
          10,
          11,
          30,
          10,
          5,
          15,
          18,
          19,
          5,
          6,
          35,
          8,
          2,
          8,
          3,
          11,
          17,
          14,
          12,
          9,
          4,
          5,
          11,
          10,
          5,
          7,
          10,
          6,
          2,
          7,
          3,
          7,
          10,
          10,
          7,
          5,
          3,
          9,
          21,
          5,
          14,
          7,
          43,
          25,
          25,
          10,
          5,
          5,
          5,
          5,
          5,
          4,
          6,
          14,
          5,
          6,
          10,
          6,
          6,
          3,
          6,
          2,
          1,
          11,
          2,
          5,
          1,
          5,
          2,
          5,
          8,
          6,
          3,
          6,
          2,
          6,
          6,
          9,
          6,
          10,
          11,
          3,
          12,
          10,
          8,
          7,
          4,
          6,
          9,
          23,
          4,
          9,
          14,
          8,
          8,
          6,
          8,
          4,
          4,
          6,
          9,
          13,
          9,
          3,
          6,
          9,
          9,
          10,
          6,
          11,
          4,
          6,
          5,
          6,
          9,
          7,
          5,
          2,
          5,
          8,
          14,
          7,
          12,
          5,
          33,
          37,
          27,
          6,
          8,
          5,
          6,
          2,
          3,
          3,
          7,
          14,
          5,
          5,
          19,
          8,
          7,
          5,
          1,
          7,
          2,
          3,
          4,
          9,
          4,
          4,
          5,
          7,
          2,
          3,
          3,
          6,
          2,
          9,
          14,
          3,
          6,
          8,
          10,
          5,
          5,
          5,
          5,
          12,
          8,
          9,
          5,
          15,
          17,
          4,
          9,
          2,
          14,
          8,
          13,
          15,
          2,
          9,
          9,
          1,
          7,
          2,
          3,
          9,
          7,
          5,
          5,
          7,
          13,
          2,
          5,
          4,
          10,
          6,
          25,
          5,
          21,
          19,
          29,
          7,
          13,
          5,
          4,
          2,
          6,
          6,
          13,
          3,
          9,
          8,
          6,
          3
         ],
         "xaxis": "x",
         "yaxis": "y"
        },
        {
         "alignmentgroup": "True",
         "hovertemplate": "Length=%{x}<extra></extra>",
         "legendgroup": "",
         "marker": {
          "color": "#636efa"
         },
         "name": "",
         "notched": true,
         "offsetgroup": "",
         "showlegend": false,
         "type": "box",
         "x": [
          2,
          3,
          6,
          3,
          7,
          4,
          5,
          6,
          2,
          4,
          9,
          3,
          4,
          6,
          2,
          11,
          2,
          11,
          5,
          2,
          12,
          5,
          5,
          4,
          2,
          9,
          13,
          12,
          6,
          10,
          11,
          2,
          9,
          1,
          8,
          7,
          10,
          15,
          2,
          7,
          8,
          4,
          6,
          5,
          1,
          13,
          17,
          5,
          6,
          5,
          8,
          2,
          5,
          24,
          6,
          18,
          4,
          5,
          34,
          21,
          28,
          7,
          7,
          4,
          4,
          2,
          6,
          11,
          4,
          5,
          5,
          5,
          4,
          1,
          2,
          6,
          2,
          5,
          5,
          5,
          6,
          2,
          5,
          7,
          4,
          2,
          7,
          1,
          11,
          5,
          3,
          4,
          8,
          11,
          6,
          5,
          4,
          6,
          15,
          10,
          8,
          7,
          18,
          9,
          2,
          6,
          7,
          10,
          7,
          8,
          19,
          2,
          4,
          6,
          5,
          10,
          7,
          5,
          14,
          9,
          6,
          9,
          6,
          7,
          4,
          5,
          17,
          7,
          10,
          3,
          9,
          39,
          28,
          35,
          6,
          8,
          5,
          6,
          2,
          7,
          7,
          13,
          6,
          6,
          19,
          6,
          5,
          1,
          5,
          1,
          3,
          4,
          6,
          5,
          4,
          5,
          6,
          2,
          3,
          5,
          9,
          2,
          10,
          13,
          3,
          7,
          9,
          8,
          5,
          6,
          5,
          11,
          14,
          5,
          14,
          7,
          14,
          6,
          10,
          6,
          4,
          4,
          9,
          9,
          10,
          13,
          3,
          8,
          6,
          7,
          9,
          7,
          4,
          13,
          7,
          4,
          9,
          7,
          9,
          6,
          2,
          2,
          11,
          3,
          9,
          6,
          27,
          22,
          27,
          7,
          11,
          5,
          4,
          2,
          7,
          7,
          16,
          5,
          11,
          6,
          6,
          5,
          4,
          2,
          2,
          3,
          16,
          5,
          5,
          7,
          3,
          4,
          8,
          5,
          8,
          9,
          1,
          6,
          3,
          9,
          21,
          2,
          8,
          4,
          6,
          10,
          12,
          2,
          8,
          5,
          12,
          6,
          3,
          10,
          11,
          30,
          10,
          5,
          15,
          18,
          19,
          5,
          6,
          35,
          8,
          2,
          8,
          3,
          11,
          17,
          14,
          12,
          9,
          4,
          5,
          11,
          10,
          5,
          7,
          10,
          6,
          2,
          7,
          3,
          7,
          10,
          10,
          7,
          5,
          3,
          9,
          21,
          5,
          14,
          7,
          43,
          25,
          25,
          10,
          5,
          5,
          5,
          5,
          5,
          4,
          6,
          14,
          5,
          6,
          10,
          6,
          6,
          3,
          6,
          2,
          1,
          11,
          2,
          5,
          1,
          5,
          2,
          5,
          8,
          6,
          3,
          6,
          2,
          6,
          6,
          9,
          6,
          10,
          11,
          3,
          12,
          10,
          8,
          7,
          4,
          6,
          9,
          23,
          4,
          9,
          14,
          8,
          8,
          6,
          8,
          4,
          4,
          6,
          9,
          13,
          9,
          3,
          6,
          9,
          9,
          10,
          6,
          11,
          4,
          6,
          5,
          6,
          9,
          7,
          5,
          2,
          5,
          8,
          14,
          7,
          12,
          5,
          33,
          37,
          27,
          6,
          8,
          5,
          6,
          2,
          3,
          3,
          7,
          14,
          5,
          5,
          19,
          8,
          7,
          5,
          1,
          7,
          2,
          3,
          4,
          9,
          4,
          4,
          5,
          7,
          2,
          3,
          3,
          6,
          2,
          9,
          14,
          3,
          6,
          8,
          10,
          5,
          5,
          5,
          5,
          12,
          8,
          9,
          5,
          15,
          17,
          4,
          9,
          2,
          14,
          8,
          13,
          15,
          2,
          9,
          9,
          1,
          7,
          2,
          3,
          9,
          7,
          5,
          5,
          7,
          13,
          2,
          5,
          4,
          10,
          6,
          25,
          5,
          21,
          19,
          29,
          7,
          13,
          5,
          4,
          2,
          6,
          6,
          13,
          3,
          9,
          8,
          6,
          3
         ],
         "xaxis": "x2",
         "yaxis": "y2"
        }
       ],
       "layout": {
        "bargap": 0.1,
        "barmode": "relative",
        "font": {
         "color": "black",
         "size": 16
        },
        "height": 500,
        "legend": {
         "tracegroupgap": 0
        },
        "template": {
         "data": {
          "bar": [
           {
            "error_x": {
             "color": "#2a3f5f"
            },
            "error_y": {
             "color": "#2a3f5f"
            },
            "marker": {
             "line": {
              "color": "#E5ECF6",
              "width": 0.5
             },
             "pattern": {
              "fillmode": "overlay",
              "size": 10,
              "solidity": 0.2
             }
            },
            "type": "bar"
           }
          ],
          "barpolar": [
           {
            "marker": {
             "line": {
              "color": "#E5ECF6",
              "width": 0.5
             },
             "pattern": {
              "fillmode": "overlay",
              "size": 10,
              "solidity": 0.2
             }
            },
            "type": "barpolar"
           }
          ],
          "carpet": [
           {
            "aaxis": {
             "endlinecolor": "#2a3f5f",
             "gridcolor": "white",
             "linecolor": "white",
             "minorgridcolor": "white",
             "startlinecolor": "#2a3f5f"
            },
            "baxis": {
             "endlinecolor": "#2a3f5f",
             "gridcolor": "white",
             "linecolor": "white",
             "minorgridcolor": "white",
             "startlinecolor": "#2a3f5f"
            },
            "type": "carpet"
           }
          ],
          "choropleth": [
           {
            "colorbar": {
             "outlinewidth": 0,
             "ticks": ""
            },
            "type": "choropleth"
           }
          ],
          "contour": [
           {
            "colorbar": {
             "outlinewidth": 0,
             "ticks": ""
            },
            "colorscale": [
             [
              0,
              "#0d0887"
             ],
             [
              0.1111111111111111,
              "#46039f"
             ],
             [
              0.2222222222222222,
              "#7201a8"
             ],
             [
              0.3333333333333333,
              "#9c179e"
             ],
             [
              0.4444444444444444,
              "#bd3786"
             ],
             [
              0.5555555555555556,
              "#d8576b"
             ],
             [
              0.6666666666666666,
              "#ed7953"
             ],
             [
              0.7777777777777778,
              "#fb9f3a"
             ],
             [
              0.8888888888888888,
              "#fdca26"
             ],
             [
              1,
              "#f0f921"
             ]
            ],
            "type": "contour"
           }
          ],
          "contourcarpet": [
           {
            "colorbar": {
             "outlinewidth": 0,
             "ticks": ""
            },
            "type": "contourcarpet"
           }
          ],
          "heatmap": [
           {
            "colorbar": {
             "outlinewidth": 0,
             "ticks": ""
            },
            "colorscale": [
             [
              0,
              "#0d0887"
             ],
             [
              0.1111111111111111,
              "#46039f"
             ],
             [
              0.2222222222222222,
              "#7201a8"
             ],
             [
              0.3333333333333333,
              "#9c179e"
             ],
             [
              0.4444444444444444,
              "#bd3786"
             ],
             [
              0.5555555555555556,
              "#d8576b"
             ],
             [
              0.6666666666666666,
              "#ed7953"
             ],
             [
              0.7777777777777778,
              "#fb9f3a"
             ],
             [
              0.8888888888888888,
              "#fdca26"
             ],
             [
              1,
              "#f0f921"
             ]
            ],
            "type": "heatmap"
           }
          ],
          "heatmapgl": [
           {
            "colorbar": {
             "outlinewidth": 0,
             "ticks": ""
            },
            "colorscale": [
             [
              0,
              "#0d0887"
             ],
             [
              0.1111111111111111,
              "#46039f"
             ],
             [
              0.2222222222222222,
              "#7201a8"
             ],
             [
              0.3333333333333333,
              "#9c179e"
             ],
             [
              0.4444444444444444,
              "#bd3786"
             ],
             [
              0.5555555555555556,
              "#d8576b"
             ],
             [
              0.6666666666666666,
              "#ed7953"
             ],
             [
              0.7777777777777778,
              "#fb9f3a"
             ],
             [
              0.8888888888888888,
              "#fdca26"
             ],
             [
              1,
              "#f0f921"
             ]
            ],
            "type": "heatmapgl"
           }
          ],
          "histogram": [
           {
            "marker": {
             "pattern": {
              "fillmode": "overlay",
              "size": 10,
              "solidity": 0.2
             }
            },
            "type": "histogram"
           }
          ],
          "histogram2d": [
           {
            "colorbar": {
             "outlinewidth": 0,
             "ticks": ""
            },
            "colorscale": [
             [
              0,
              "#0d0887"
             ],
             [
              0.1111111111111111,
              "#46039f"
             ],
             [
              0.2222222222222222,
              "#7201a8"
             ],
             [
              0.3333333333333333,
              "#9c179e"
             ],
             [
              0.4444444444444444,
              "#bd3786"
             ],
             [
              0.5555555555555556,
              "#d8576b"
             ],
             [
              0.6666666666666666,
              "#ed7953"
             ],
             [
              0.7777777777777778,
              "#fb9f3a"
             ],
             [
              0.8888888888888888,
              "#fdca26"
             ],
             [
              1,
              "#f0f921"
             ]
            ],
            "type": "histogram2d"
           }
          ],
          "histogram2dcontour": [
           {
            "colorbar": {
             "outlinewidth": 0,
             "ticks": ""
            },
            "colorscale": [
             [
              0,
              "#0d0887"
             ],
             [
              0.1111111111111111,
              "#46039f"
             ],
             [
              0.2222222222222222,
              "#7201a8"
             ],
             [
              0.3333333333333333,
              "#9c179e"
             ],
             [
              0.4444444444444444,
              "#bd3786"
             ],
             [
              0.5555555555555556,
              "#d8576b"
             ],
             [
              0.6666666666666666,
              "#ed7953"
             ],
             [
              0.7777777777777778,
              "#fb9f3a"
             ],
             [
              0.8888888888888888,
              "#fdca26"
             ],
             [
              1,
              "#f0f921"
             ]
            ],
            "type": "histogram2dcontour"
           }
          ],
          "mesh3d": [
           {
            "colorbar": {
             "outlinewidth": 0,
             "ticks": ""
            },
            "type": "mesh3d"
           }
          ],
          "parcoords": [
           {
            "line": {
             "colorbar": {
              "outlinewidth": 0,
              "ticks": ""
             }
            },
            "type": "parcoords"
           }
          ],
          "pie": [
           {
            "automargin": true,
            "type": "pie"
           }
          ],
          "scatter": [
           {
            "fillpattern": {
             "fillmode": "overlay",
             "size": 10,
             "solidity": 0.2
            },
            "type": "scatter"
           }
          ],
          "scatter3d": [
           {
            "line": {
             "colorbar": {
              "outlinewidth": 0,
              "ticks": ""
             }
            },
            "marker": {
             "colorbar": {
              "outlinewidth": 0,
              "ticks": ""
             }
            },
            "type": "scatter3d"
           }
          ],
          "scattercarpet": [
           {
            "marker": {
             "colorbar": {
              "outlinewidth": 0,
              "ticks": ""
             }
            },
            "type": "scattercarpet"
           }
          ],
          "scattergeo": [
           {
            "marker": {
             "colorbar": {
              "outlinewidth": 0,
              "ticks": ""
             }
            },
            "type": "scattergeo"
           }
          ],
          "scattergl": [
           {
            "marker": {
             "colorbar": {
              "outlinewidth": 0,
              "ticks": ""
             }
            },
            "type": "scattergl"
           }
          ],
          "scattermapbox": [
           {
            "marker": {
             "colorbar": {
              "outlinewidth": 0,
              "ticks": ""
             }
            },
            "type": "scattermapbox"
           }
          ],
          "scatterpolar": [
           {
            "marker": {
             "colorbar": {
              "outlinewidth": 0,
              "ticks": ""
             }
            },
            "type": "scatterpolar"
           }
          ],
          "scatterpolargl": [
           {
            "marker": {
             "colorbar": {
              "outlinewidth": 0,
              "ticks": ""
             }
            },
            "type": "scatterpolargl"
           }
          ],
          "scatterternary": [
           {
            "marker": {
             "colorbar": {
              "outlinewidth": 0,
              "ticks": ""
             }
            },
            "type": "scatterternary"
           }
          ],
          "surface": [
           {
            "colorbar": {
             "outlinewidth": 0,
             "ticks": ""
            },
            "colorscale": [
             [
              0,
              "#0d0887"
             ],
             [
              0.1111111111111111,
              "#46039f"
             ],
             [
              0.2222222222222222,
              "#7201a8"
             ],
             [
              0.3333333333333333,
              "#9c179e"
             ],
             [
              0.4444444444444444,
              "#bd3786"
             ],
             [
              0.5555555555555556,
              "#d8576b"
             ],
             [
              0.6666666666666666,
              "#ed7953"
             ],
             [
              0.7777777777777778,
              "#fb9f3a"
             ],
             [
              0.8888888888888888,
              "#fdca26"
             ],
             [
              1,
              "#f0f921"
             ]
            ],
            "type": "surface"
           }
          ],
          "table": [
           {
            "cells": {
             "fill": {
              "color": "#EBF0F8"
             },
             "line": {
              "color": "white"
             }
            },
            "header": {
             "fill": {
              "color": "#C8D4E3"
             },
             "line": {
              "color": "white"
             }
            },
            "type": "table"
           }
          ]
         },
         "layout": {
          "annotationdefaults": {
           "arrowcolor": "#2a3f5f",
           "arrowhead": 0,
           "arrowwidth": 1
          },
          "autotypenumbers": "strict",
          "coloraxis": {
           "colorbar": {
            "outlinewidth": 0,
            "ticks": ""
           }
          },
          "colorscale": {
           "diverging": [
            [
             0,
             "#8e0152"
            ],
            [
             0.1,
             "#c51b7d"
            ],
            [
             0.2,
             "#de77ae"
            ],
            [
             0.3,
             "#f1b6da"
            ],
            [
             0.4,
             "#fde0ef"
            ],
            [
             0.5,
             "#f7f7f7"
            ],
            [
             0.6,
             "#e6f5d0"
            ],
            [
             0.7,
             "#b8e186"
            ],
            [
             0.8,
             "#7fbc41"
            ],
            [
             0.9,
             "#4d9221"
            ],
            [
             1,
             "#276419"
            ]
           ],
           "sequential": [
            [
             0,
             "#0d0887"
            ],
            [
             0.1111111111111111,
             "#46039f"
            ],
            [
             0.2222222222222222,
             "#7201a8"
            ],
            [
             0.3333333333333333,
             "#9c179e"
            ],
            [
             0.4444444444444444,
             "#bd3786"
            ],
            [
             0.5555555555555556,
             "#d8576b"
            ],
            [
             0.6666666666666666,
             "#ed7953"
            ],
            [
             0.7777777777777778,
             "#fb9f3a"
            ],
            [
             0.8888888888888888,
             "#fdca26"
            ],
            [
             1,
             "#f0f921"
            ]
           ],
           "sequentialminus": [
            [
             0,
             "#0d0887"
            ],
            [
             0.1111111111111111,
             "#46039f"
            ],
            [
             0.2222222222222222,
             "#7201a8"
            ],
            [
             0.3333333333333333,
             "#9c179e"
            ],
            [
             0.4444444444444444,
             "#bd3786"
            ],
            [
             0.5555555555555556,
             "#d8576b"
            ],
            [
             0.6666666666666666,
             "#ed7953"
            ],
            [
             0.7777777777777778,
             "#fb9f3a"
            ],
            [
             0.8888888888888888,
             "#fdca26"
            ],
            [
             1,
             "#f0f921"
            ]
           ]
          },
          "colorway": [
           "#636efa",
           "#EF553B",
           "#00cc96",
           "#ab63fa",
           "#FFA15A",
           "#19d3f3",
           "#FF6692",
           "#B6E880",
           "#FF97FF",
           "#FECB52"
          ],
          "font": {
           "color": "#2a3f5f"
          },
          "geo": {
           "bgcolor": "white",
           "lakecolor": "white",
           "landcolor": "#E5ECF6",
           "showlakes": true,
           "showland": true,
           "subunitcolor": "white"
          },
          "hoverlabel": {
           "align": "left"
          },
          "hovermode": "closest",
          "mapbox": {
           "style": "light"
          },
          "paper_bgcolor": "white",
          "plot_bgcolor": "#E5ECF6",
          "polar": {
           "angularaxis": {
            "gridcolor": "white",
            "linecolor": "white",
            "ticks": ""
           },
           "bgcolor": "#E5ECF6",
           "radialaxis": {
            "gridcolor": "white",
            "linecolor": "white",
            "ticks": ""
           }
          },
          "scene": {
           "xaxis": {
            "backgroundcolor": "#E5ECF6",
            "gridcolor": "white",
            "gridwidth": 2,
            "linecolor": "white",
            "showbackground": true,
            "ticks": "",
            "zerolinecolor": "white"
           },
           "yaxis": {
            "backgroundcolor": "#E5ECF6",
            "gridcolor": "white",
            "gridwidth": 2,
            "linecolor": "white",
            "showbackground": true,
            "ticks": "",
            "zerolinecolor": "white"
           },
           "zaxis": {
            "backgroundcolor": "#E5ECF6",
            "gridcolor": "white",
            "gridwidth": 2,
            "linecolor": "white",
            "showbackground": true,
            "ticks": "",
            "zerolinecolor": "white"
           }
          },
          "shapedefaults": {
           "line": {
            "color": "#2a3f5f"
           }
          },
          "ternary": {
           "aaxis": {
            "gridcolor": "white",
            "linecolor": "white",
            "ticks": ""
           },
           "baxis": {
            "gridcolor": "white",
            "linecolor": "white",
            "ticks": ""
           },
           "bgcolor": "#E5ECF6",
           "caxis": {
            "gridcolor": "white",
            "linecolor": "white",
            "ticks": ""
           }
          },
          "title": {
           "x": 0.05
          },
          "xaxis": {
           "automargin": true,
           "gridcolor": "white",
           "linecolor": "white",
           "ticks": "",
           "title": {
            "standoff": 15
           },
           "zerolinecolor": "white",
           "zerolinewidth": 2
          },
          "yaxis": {
           "automargin": true,
           "gridcolor": "white",
           "linecolor": "white",
           "ticks": "",
           "title": {
            "standoff": 15
           },
           "zerolinecolor": "white",
           "zerolinewidth": 2
          }
         }
        },
        "title": {
         "text": "Histogram of Sentence Token"
        },
        "width": 800,
        "xaxis": {
         "anchor": "y",
         "domain": [
          0,
          1
         ],
         "title": {
          "text": "Length"
         }
        },
        "xaxis2": {
         "anchor": "y2",
         "domain": [
          0,
          1
         ],
         "matches": "x",
         "showgrid": true,
         "showticklabels": false
        },
        "yaxis": {
         "anchor": "x",
         "domain": [
          0,
          0.8316
         ],
         "title": {
          "text": "Frequency"
         }
        },
        "yaxis2": {
         "anchor": "x2",
         "domain": [
          0.8416,
          1
         ],
         "matches": "y2",
         "showgrid": false,
         "showline": false,
         "showticklabels": false,
         "ticks": ""
        }
       }
      },
      "text/html": [
       "<div>                            <div id=\"318c6848-9dbc-47af-ad4b-763753df08b1\" class=\"plotly-graph-div\" style=\"height:500px; width:800px;\"></div>            <script type=\"text/javascript\">                require([\"plotly\"], function(Plotly) {                    window.PLOTLYENV=window.PLOTLYENV || {};                                    if (document.getElementById(\"318c6848-9dbc-47af-ad4b-763753df08b1\")) {                    Plotly.newPlot(                        \"318c6848-9dbc-47af-ad4b-763753df08b1\",                        [{\"alignmentgroup\":\"True\",\"bingroup\":\"x\",\"hovertemplate\":\"Length=%{x}\\u003cbr\\u003ecount=%{y}\\u003cextra\\u003e\\u003c\\u002fextra\\u003e\",\"legendgroup\":\"\",\"marker\":{\"color\":\"#636efa\",\"opacity\":0.8,\"pattern\":{\"shape\":\"\"}},\"name\":\"\",\"offsetgroup\":\"\",\"orientation\":\"v\",\"showlegend\":false,\"texttemplate\":\"%{value}\",\"x\":[2,3,6,3,7,4,5,6,2,4,9,3,4,6,2,11,2,11,5,2,12,5,5,4,2,9,13,12,6,10,11,2,9,1,8,7,10,15,2,7,8,4,6,5,1,13,17,5,6,5,8,2,5,24,6,18,4,5,34,21,28,7,7,4,4,2,6,11,4,5,5,5,4,1,2,6,2,5,5,5,6,2,5,7,4,2,7,1,11,5,3,4,8,11,6,5,4,6,15,10,8,7,18,9,2,6,7,10,7,8,19,2,4,6,5,10,7,5,14,9,6,9,6,7,4,5,17,7,10,3,9,39,28,35,6,8,5,6,2,7,7,13,6,6,19,6,5,1,5,1,3,4,6,5,4,5,6,2,3,5,9,2,10,13,3,7,9,8,5,6,5,11,14,5,14,7,14,6,10,6,4,4,9,9,10,13,3,8,6,7,9,7,4,13,7,4,9,7,9,6,2,2,11,3,9,6,27,22,27,7,11,5,4,2,7,7,16,5,11,6,6,5,4,2,2,3,16,5,5,7,3,4,8,5,8,9,1,6,3,9,21,2,8,4,6,10,12,2,8,5,12,6,3,10,11,30,10,5,15,18,19,5,6,35,8,2,8,3,11,17,14,12,9,4,5,11,10,5,7,10,6,2,7,3,7,10,10,7,5,3,9,21,5,14,7,43,25,25,10,5,5,5,5,5,4,6,14,5,6,10,6,6,3,6,2,1,11,2,5,1,5,2,5,8,6,3,6,2,6,6,9,6,10,11,3,12,10,8,7,4,6,9,23,4,9,14,8,8,6,8,4,4,6,9,13,9,3,6,9,9,10,6,11,4,6,5,6,9,7,5,2,5,8,14,7,12,5,33,37,27,6,8,5,6,2,3,3,7,14,5,5,19,8,7,5,1,7,2,3,4,9,4,4,5,7,2,3,3,6,2,9,14,3,6,8,10,5,5,5,5,12,8,9,5,15,17,4,9,2,14,8,13,15,2,9,9,1,7,2,3,9,7,5,5,7,13,2,5,4,10,6,25,5,21,19,29,7,13,5,4,2,6,6,13,3,9,8,6,3],\"xaxis\":\"x\",\"yaxis\":\"y\",\"type\":\"histogram\"},{\"alignmentgroup\":\"True\",\"hovertemplate\":\"Length=%{x}\\u003cextra\\u003e\\u003c\\u002fextra\\u003e\",\"legendgroup\":\"\",\"marker\":{\"color\":\"#636efa\"},\"name\":\"\",\"notched\":true,\"offsetgroup\":\"\",\"showlegend\":false,\"x\":[2,3,6,3,7,4,5,6,2,4,9,3,4,6,2,11,2,11,5,2,12,5,5,4,2,9,13,12,6,10,11,2,9,1,8,7,10,15,2,7,8,4,6,5,1,13,17,5,6,5,8,2,5,24,6,18,4,5,34,21,28,7,7,4,4,2,6,11,4,5,5,5,4,1,2,6,2,5,5,5,6,2,5,7,4,2,7,1,11,5,3,4,8,11,6,5,4,6,15,10,8,7,18,9,2,6,7,10,7,8,19,2,4,6,5,10,7,5,14,9,6,9,6,7,4,5,17,7,10,3,9,39,28,35,6,8,5,6,2,7,7,13,6,6,19,6,5,1,5,1,3,4,6,5,4,5,6,2,3,5,9,2,10,13,3,7,9,8,5,6,5,11,14,5,14,7,14,6,10,6,4,4,9,9,10,13,3,8,6,7,9,7,4,13,7,4,9,7,9,6,2,2,11,3,9,6,27,22,27,7,11,5,4,2,7,7,16,5,11,6,6,5,4,2,2,3,16,5,5,7,3,4,8,5,8,9,1,6,3,9,21,2,8,4,6,10,12,2,8,5,12,6,3,10,11,30,10,5,15,18,19,5,6,35,8,2,8,3,11,17,14,12,9,4,5,11,10,5,7,10,6,2,7,3,7,10,10,7,5,3,9,21,5,14,7,43,25,25,10,5,5,5,5,5,4,6,14,5,6,10,6,6,3,6,2,1,11,2,5,1,5,2,5,8,6,3,6,2,6,6,9,6,10,11,3,12,10,8,7,4,6,9,23,4,9,14,8,8,6,8,4,4,6,9,13,9,3,6,9,9,10,6,11,4,6,5,6,9,7,5,2,5,8,14,7,12,5,33,37,27,6,8,5,6,2,3,3,7,14,5,5,19,8,7,5,1,7,2,3,4,9,4,4,5,7,2,3,3,6,2,9,14,3,6,8,10,5,5,5,5,12,8,9,5,15,17,4,9,2,14,8,13,15,2,9,9,1,7,2,3,9,7,5,5,7,13,2,5,4,10,6,25,5,21,19,29,7,13,5,4,2,6,6,13,3,9,8,6,3],\"xaxis\":\"x2\",\"yaxis\":\"y2\",\"type\":\"box\"}],                        {\"template\":{\"data\":{\"histogram2dcontour\":[{\"type\":\"histogram2dcontour\",\"colorbar\":{\"outlinewidth\":0,\"ticks\":\"\"},\"colorscale\":[[0.0,\"#0d0887\"],[0.1111111111111111,\"#46039f\"],[0.2222222222222222,\"#7201a8\"],[0.3333333333333333,\"#9c179e\"],[0.4444444444444444,\"#bd3786\"],[0.5555555555555556,\"#d8576b\"],[0.6666666666666666,\"#ed7953\"],[0.7777777777777778,\"#fb9f3a\"],[0.8888888888888888,\"#fdca26\"],[1.0,\"#f0f921\"]]}],\"choropleth\":[{\"type\":\"choropleth\",\"colorbar\":{\"outlinewidth\":0,\"ticks\":\"\"}}],\"histogram2d\":[{\"type\":\"histogram2d\",\"colorbar\":{\"outlinewidth\":0,\"ticks\":\"\"},\"colorscale\":[[0.0,\"#0d0887\"],[0.1111111111111111,\"#46039f\"],[0.2222222222222222,\"#7201a8\"],[0.3333333333333333,\"#9c179e\"],[0.4444444444444444,\"#bd3786\"],[0.5555555555555556,\"#d8576b\"],[0.6666666666666666,\"#ed7953\"],[0.7777777777777778,\"#fb9f3a\"],[0.8888888888888888,\"#fdca26\"],[1.0,\"#f0f921\"]]}],\"heatmap\":[{\"type\":\"heatmap\",\"colorbar\":{\"outlinewidth\":0,\"ticks\":\"\"},\"colorscale\":[[0.0,\"#0d0887\"],[0.1111111111111111,\"#46039f\"],[0.2222222222222222,\"#7201a8\"],[0.3333333333333333,\"#9c179e\"],[0.4444444444444444,\"#bd3786\"],[0.5555555555555556,\"#d8576b\"],[0.6666666666666666,\"#ed7953\"],[0.7777777777777778,\"#fb9f3a\"],[0.8888888888888888,\"#fdca26\"],[1.0,\"#f0f921\"]]}],\"heatmapgl\":[{\"type\":\"heatmapgl\",\"colorbar\":{\"outlinewidth\":0,\"ticks\":\"\"},\"colorscale\":[[0.0,\"#0d0887\"],[0.1111111111111111,\"#46039f\"],[0.2222222222222222,\"#7201a8\"],[0.3333333333333333,\"#9c179e\"],[0.4444444444444444,\"#bd3786\"],[0.5555555555555556,\"#d8576b\"],[0.6666666666666666,\"#ed7953\"],[0.7777777777777778,\"#fb9f3a\"],[0.8888888888888888,\"#fdca26\"],[1.0,\"#f0f921\"]]}],\"contourcarpet\":[{\"type\":\"contourcarpet\",\"colorbar\":{\"outlinewidth\":0,\"ticks\":\"\"}}],\"contour\":[{\"type\":\"contour\",\"colorbar\":{\"outlinewidth\":0,\"ticks\":\"\"},\"colorscale\":[[0.0,\"#0d0887\"],[0.1111111111111111,\"#46039f\"],[0.2222222222222222,\"#7201a8\"],[0.3333333333333333,\"#9c179e\"],[0.4444444444444444,\"#bd3786\"],[0.5555555555555556,\"#d8576b\"],[0.6666666666666666,\"#ed7953\"],[0.7777777777777778,\"#fb9f3a\"],[0.8888888888888888,\"#fdca26\"],[1.0,\"#f0f921\"]]}],\"surface\":[{\"type\":\"surface\",\"colorbar\":{\"outlinewidth\":0,\"ticks\":\"\"},\"colorscale\":[[0.0,\"#0d0887\"],[0.1111111111111111,\"#46039f\"],[0.2222222222222222,\"#7201a8\"],[0.3333333333333333,\"#9c179e\"],[0.4444444444444444,\"#bd3786\"],[0.5555555555555556,\"#d8576b\"],[0.6666666666666666,\"#ed7953\"],[0.7777777777777778,\"#fb9f3a\"],[0.8888888888888888,\"#fdca26\"],[1.0,\"#f0f921\"]]}],\"mesh3d\":[{\"type\":\"mesh3d\",\"colorbar\":{\"outlinewidth\":0,\"ticks\":\"\"}}],\"scatter\":[{\"fillpattern\":{\"fillmode\":\"overlay\",\"size\":10,\"solidity\":0.2},\"type\":\"scatter\"}],\"parcoords\":[{\"type\":\"parcoords\",\"line\":{\"colorbar\":{\"outlinewidth\":0,\"ticks\":\"\"}}}],\"scatterpolargl\":[{\"type\":\"scatterpolargl\",\"marker\":{\"colorbar\":{\"outlinewidth\":0,\"ticks\":\"\"}}}],\"bar\":[{\"error_x\":{\"color\":\"#2a3f5f\"},\"error_y\":{\"color\":\"#2a3f5f\"},\"marker\":{\"line\":{\"color\":\"#E5ECF6\",\"width\":0.5},\"pattern\":{\"fillmode\":\"overlay\",\"size\":10,\"solidity\":0.2}},\"type\":\"bar\"}],\"scattergeo\":[{\"type\":\"scattergeo\",\"marker\":{\"colorbar\":{\"outlinewidth\":0,\"ticks\":\"\"}}}],\"scatterpolar\":[{\"type\":\"scatterpolar\",\"marker\":{\"colorbar\":{\"outlinewidth\":0,\"ticks\":\"\"}}}],\"histogram\":[{\"marker\":{\"pattern\":{\"fillmode\":\"overlay\",\"size\":10,\"solidity\":0.2}},\"type\":\"histogram\"}],\"scattergl\":[{\"type\":\"scattergl\",\"marker\":{\"colorbar\":{\"outlinewidth\":0,\"ticks\":\"\"}}}],\"scatter3d\":[{\"type\":\"scatter3d\",\"line\":{\"colorbar\":{\"outlinewidth\":0,\"ticks\":\"\"}},\"marker\":{\"colorbar\":{\"outlinewidth\":0,\"ticks\":\"\"}}}],\"scattermapbox\":[{\"type\":\"scattermapbox\",\"marker\":{\"colorbar\":{\"outlinewidth\":0,\"ticks\":\"\"}}}],\"scatterternary\":[{\"type\":\"scatterternary\",\"marker\":{\"colorbar\":{\"outlinewidth\":0,\"ticks\":\"\"}}}],\"scattercarpet\":[{\"type\":\"scattercarpet\",\"marker\":{\"colorbar\":{\"outlinewidth\":0,\"ticks\":\"\"}}}],\"carpet\":[{\"aaxis\":{\"endlinecolor\":\"#2a3f5f\",\"gridcolor\":\"white\",\"linecolor\":\"white\",\"minorgridcolor\":\"white\",\"startlinecolor\":\"#2a3f5f\"},\"baxis\":{\"endlinecolor\":\"#2a3f5f\",\"gridcolor\":\"white\",\"linecolor\":\"white\",\"minorgridcolor\":\"white\",\"startlinecolor\":\"#2a3f5f\"},\"type\":\"carpet\"}],\"table\":[{\"cells\":{\"fill\":{\"color\":\"#EBF0F8\"},\"line\":{\"color\":\"white\"}},\"header\":{\"fill\":{\"color\":\"#C8D4E3\"},\"line\":{\"color\":\"white\"}},\"type\":\"table\"}],\"barpolar\":[{\"marker\":{\"line\":{\"color\":\"#E5ECF6\",\"width\":0.5},\"pattern\":{\"fillmode\":\"overlay\",\"size\":10,\"solidity\":0.2}},\"type\":\"barpolar\"}],\"pie\":[{\"automargin\":true,\"type\":\"pie\"}]},\"layout\":{\"autotypenumbers\":\"strict\",\"colorway\":[\"#636efa\",\"#EF553B\",\"#00cc96\",\"#ab63fa\",\"#FFA15A\",\"#19d3f3\",\"#FF6692\",\"#B6E880\",\"#FF97FF\",\"#FECB52\"],\"font\":{\"color\":\"#2a3f5f\"},\"hovermode\":\"closest\",\"hoverlabel\":{\"align\":\"left\"},\"paper_bgcolor\":\"white\",\"plot_bgcolor\":\"#E5ECF6\",\"polar\":{\"bgcolor\":\"#E5ECF6\",\"angularaxis\":{\"gridcolor\":\"white\",\"linecolor\":\"white\",\"ticks\":\"\"},\"radialaxis\":{\"gridcolor\":\"white\",\"linecolor\":\"white\",\"ticks\":\"\"}},\"ternary\":{\"bgcolor\":\"#E5ECF6\",\"aaxis\":{\"gridcolor\":\"white\",\"linecolor\":\"white\",\"ticks\":\"\"},\"baxis\":{\"gridcolor\":\"white\",\"linecolor\":\"white\",\"ticks\":\"\"},\"caxis\":{\"gridcolor\":\"white\",\"linecolor\":\"white\",\"ticks\":\"\"}},\"coloraxis\":{\"colorbar\":{\"outlinewidth\":0,\"ticks\":\"\"}},\"colorscale\":{\"sequential\":[[0.0,\"#0d0887\"],[0.1111111111111111,\"#46039f\"],[0.2222222222222222,\"#7201a8\"],[0.3333333333333333,\"#9c179e\"],[0.4444444444444444,\"#bd3786\"],[0.5555555555555556,\"#d8576b\"],[0.6666666666666666,\"#ed7953\"],[0.7777777777777778,\"#fb9f3a\"],[0.8888888888888888,\"#fdca26\"],[1.0,\"#f0f921\"]],\"sequentialminus\":[[0.0,\"#0d0887\"],[0.1111111111111111,\"#46039f\"],[0.2222222222222222,\"#7201a8\"],[0.3333333333333333,\"#9c179e\"],[0.4444444444444444,\"#bd3786\"],[0.5555555555555556,\"#d8576b\"],[0.6666666666666666,\"#ed7953\"],[0.7777777777777778,\"#fb9f3a\"],[0.8888888888888888,\"#fdca26\"],[1.0,\"#f0f921\"]],\"diverging\":[[0,\"#8e0152\"],[0.1,\"#c51b7d\"],[0.2,\"#de77ae\"],[0.3,\"#f1b6da\"],[0.4,\"#fde0ef\"],[0.5,\"#f7f7f7\"],[0.6,\"#e6f5d0\"],[0.7,\"#b8e186\"],[0.8,\"#7fbc41\"],[0.9,\"#4d9221\"],[1,\"#276419\"]]},\"xaxis\":{\"gridcolor\":\"white\",\"linecolor\":\"white\",\"ticks\":\"\",\"title\":{\"standoff\":15},\"zerolinecolor\":\"white\",\"automargin\":true,\"zerolinewidth\":2},\"yaxis\":{\"gridcolor\":\"white\",\"linecolor\":\"white\",\"ticks\":\"\",\"title\":{\"standoff\":15},\"zerolinecolor\":\"white\",\"automargin\":true,\"zerolinewidth\":2},\"scene\":{\"xaxis\":{\"backgroundcolor\":\"#E5ECF6\",\"gridcolor\":\"white\",\"linecolor\":\"white\",\"showbackground\":true,\"ticks\":\"\",\"zerolinecolor\":\"white\",\"gridwidth\":2},\"yaxis\":{\"backgroundcolor\":\"#E5ECF6\",\"gridcolor\":\"white\",\"linecolor\":\"white\",\"showbackground\":true,\"ticks\":\"\",\"zerolinecolor\":\"white\",\"gridwidth\":2},\"zaxis\":{\"backgroundcolor\":\"#E5ECF6\",\"gridcolor\":\"white\",\"linecolor\":\"white\",\"showbackground\":true,\"ticks\":\"\",\"zerolinecolor\":\"white\",\"gridwidth\":2}},\"shapedefaults\":{\"line\":{\"color\":\"#2a3f5f\"}},\"annotationdefaults\":{\"arrowcolor\":\"#2a3f5f\",\"arrowhead\":0,\"arrowwidth\":1},\"geo\":{\"bgcolor\":\"white\",\"landcolor\":\"#E5ECF6\",\"subunitcolor\":\"white\",\"showland\":true,\"showlakes\":true,\"lakecolor\":\"white\"},\"title\":{\"x\":0.05},\"mapbox\":{\"style\":\"light\"}}},\"xaxis\":{\"anchor\":\"y\",\"domain\":[0.0,1.0],\"title\":{\"text\":\"Length\"}},\"yaxis\":{\"anchor\":\"x\",\"domain\":[0.0,0.8316],\"title\":{\"text\":\"Frequency\"}},\"xaxis2\":{\"anchor\":\"y2\",\"domain\":[0.0,1.0],\"matches\":\"x\",\"showticklabels\":false,\"showgrid\":true},\"yaxis2\":{\"anchor\":\"x2\",\"domain\":[0.8416,1.0],\"matches\":\"y2\",\"showticklabels\":false,\"showline\":false,\"ticks\":\"\",\"showgrid\":false},\"legend\":{\"tracegroupgap\":0},\"title\":{\"text\":\"Histogram of Sentence Token\"},\"barmode\":\"relative\",\"font\":{\"size\":16,\"color\":\"black\"},\"width\":800,\"height\":500,\"bargap\":0.1},                        {\"responsive\": true}                    ).then(function(){\n",
       "                            \n",
       "var gd = document.getElementById('318c6848-9dbc-47af-ad4b-763753df08b1');\n",
       "var x = new MutationObserver(function (mutations, observer) {{\n",
       "        var display = window.getComputedStyle(gd).display;\n",
       "        if (!display || display === 'none') {{\n",
       "            console.log([gd, 'removed!']);\n",
       "            Plotly.purge(gd);\n",
       "            observer.disconnect();\n",
       "        }}\n",
       "}});\n",
       "\n",
       "// Listen for the removal of the full notebook cells\n",
       "var notebookContainer = gd.closest('#notebook-container');\n",
       "if (notebookContainer) {{\n",
       "    x.observe(notebookContainer, {childList: true});\n",
       "}}\n",
       "\n",
       "// Listen for the clearing of the current output cell\n",
       "var outputEl = gd.closest('.output');\n",
       "if (outputEl) {{\n",
       "    x.observe(outputEl, {childList: true});\n",
       "}}\n",
       "\n",
       "                        })                };                });            </script>        </div>"
      ]
     },
     "metadata": {},
     "output_type": "display_data"
    }
   ],
   "source": [
    "# 문장 토큰 길이 분포 확인\n",
    "plot_histogram_senttoken(df['Token_'+TOKENIZER])    "
   ]
  },
  {
   "cell_type": "code",
   "execution_count": 94,
   "id": "1c5d9310",
   "metadata": {
    "ExecuteTime": {
     "end_time": "2024-08-12T06:12:01.111106Z",
     "start_time": "2024-08-12T06:11:40.208108Z"
    }
   },
   "outputs": [
    {
     "name": "stderr",
     "output_type": "stream",
     "text": [
      "2024-08-12 15:11:45,317\tINFO worker.py:1453 -- Calling ray.init() again after it has already been called.\n",
      "[nltk_data] Downloading package stopwords to\n",
      "[nltk_data]     C:\\Users\\KK\\AppData\\Roaming\\nltk_data...\n",
      "[nltk_data]   Package stopwords is already up-to-date!\n",
      "[nltk_data] Downloading package punkt to\n",
      "[nltk_data]     C:\\Users\\KK\\AppData\\Roaming\\nltk_data...\n",
      "[nltk_data]   Package punkt is already up-to-date!\n",
      "2024-08-12 15:11:50,488\tINFO worker.py:1453 -- Calling ray.init() again after it has already been called.\n",
      "[nltk_data] Downloading package stopwords to\n",
      "[nltk_data]     C:\\Users\\KK\\AppData\\Roaming\\nltk_data...\n",
      "[nltk_data]   Package stopwords is already up-to-date!\n",
      "[nltk_data] Downloading package punkt to\n",
      "[nltk_data]     C:\\Users\\KK\\AppData\\Roaming\\nltk_data...\n",
      "[nltk_data]   Package punkt is already up-to-date!\n",
      "2024-08-12 15:11:55,293\tINFO worker.py:1453 -- Calling ray.init() again after it has already been called.\n",
      "[nltk_data] Downloading package stopwords to\n",
      "[nltk_data]     C:\\Users\\KK\\AppData\\Roaming\\nltk_data...\n",
      "[nltk_data]   Package stopwords is already up-to-date!\n",
      "[nltk_data] Downloading package punkt to\n",
      "[nltk_data]     C:\\Users\\KK\\AppData\\Roaming\\nltk_data...\n",
      "[nltk_data]   Package punkt is already up-to-date!\n",
      "2024-08-12 15:12:00,286\tINFO worker.py:1453 -- Calling ray.init() again after it has already been called.\n",
      "[nltk_data] Downloading package stopwords to\n",
      "[nltk_data]     C:\\Users\\KK\\AppData\\Roaming\\nltk_data...\n",
      "[nltk_data]   Package stopwords is already up-to-date!\n",
      "[nltk_data] Downloading package punkt to\n",
      "[nltk_data]     C:\\Users\\KK\\AppData\\Roaming\\nltk_data...\n",
      "[nltk_data]   Package punkt is already up-to-date!\n"
     ]
    },
    {
     "data": {
      "text/plain": [
       "<gensim.models.keyedvectors.KeyedVectors at 0x218e4a8fe10>"
      ]
     },
     "metadata": {},
     "output_type": "display_data"
    },
    {
     "data": {
      "text/plain": [
       "array([[-0.01158714,  0.01803159,  0.00185557, ..., -0.02491627,\n",
       "         0.00861297,  0.00297081],\n",
       "       [-0.01786616,  0.01880977,  0.0025617 , ..., -0.01767569,\n",
       "        -0.00319574,  0.00214851],\n",
       "       [-0.00858834,  0.01736094, -0.00979757, ..., -0.01403456,\n",
       "         0.01478965, -0.00995971],\n",
       "       ...,\n",
       "       [ 0.0020048 ,  0.00892342, -0.00877009, ..., -0.00498464,\n",
       "         0.00040038, -0.00403263],\n",
       "       [ 0.00764379,  0.00150762, -0.00790589, ..., -0.00817687,\n",
       "         0.00253129, -0.00258557],\n",
       "       [-0.00965566,  0.00034161, -0.0021344 , ...,  0.00729543,\n",
       "         0.00294309, -0.00817752]], dtype=float32)"
      ]
     },
     "metadata": {},
     "output_type": "display_data"
    }
   ],
   "source": [
    "# 단어 벡티화\n",
    "df_wordvec, df_wordcorr, df_wordcorrpair, df_sentvec = preprocessing_word2vec(df['Token_'+TOKENIZER])\n",
    "\n",
    "from sklearn.manifold import TSNE\n",
    "\n",
    "tsne = TSNE(learning_rate = 100)  \n",
    "transformed = tsne.fit_transform(np.array([row for row in df_wordvec['word vector']]))\n",
    "\n",
    "cl = AgglomerativeClustering(10)\n",
    "cl.fit(transformed);\n",
    "\n",
    "x_axis_tsne = transformed[:, 0]  \n",
    "y_axis_tsne = transformed[:, 1]\n",
    "\n",
    "def plot_tsne_graph(vocabs, x_asix, y_asix):  \n",
    "    plt.figure(figsize=(15, 15))  \n",
    "    plt.scatter(x_asix, y_asix, marker = 's', s=150, c=cl.labels_)  \n",
    "    for i, v in enumerate(vocabs):  \n",
    "        plt.annotate(v, xy=(x_asix[i], y_asix[i]))\n",
    "\n",
    "plot_tsne_graph(list(df_wordvec.index), x_axis_tsne, y_axis_tsne)"
   ]
  },
  {
   "cell_type": "code",
   "execution_count": null,
   "id": "5b64d69a",
   "metadata": {},
   "outputs": [],
   "source": []
  },
  {
   "cell_type": "code",
   "execution_count": 125,
   "id": "fbca505f",
   "metadata": {
    "ExecuteTime": {
     "end_time": "2024-08-12T06:34:28.906495Z",
     "start_time": "2024-08-12T06:34:20.935541Z"
    }
   },
   "outputs": [
    {
     "name": "stdout",
     "output_type": "stream",
     "text": [
      "Requirement already satisfied: bokeh in c:\\users\\kk\\anaconda3\\lib\\site-packages (3.3.0)\n",
      "Requirement already satisfied: Jinja2>=2.9 in c:\\users\\kk\\anaconda3\\lib\\site-packages (from bokeh) (3.1.2)\n",
      "Requirement already satisfied: contourpy>=1 in c:\\users\\kk\\anaconda3\\lib\\site-packages (from bokeh) (1.0.5)\n",
      "Requirement already satisfied: numpy>=1.16 in c:\\users\\kk\\anaconda3\\lib\\site-packages (from bokeh) (1.24.4)\n",
      "Requirement already satisfied: packaging>=16.8 in c:\\users\\kk\\anaconda3\\lib\\site-packages (from bokeh) (23.1)\n",
      "Requirement already satisfied: pandas>=1.2 in c:\\users\\kk\\appdata\\roaming\\python\\python311\\site-packages (from bokeh) (2.1.2)\n",
      "Requirement already satisfied: pillow>=7.1.0 in c:\\users\\kk\\anaconda3\\lib\\site-packages (from bokeh) (10.0.1)\n",
      "Requirement already satisfied: PyYAML>=3.10 in c:\\users\\kk\\anaconda3\\lib\\site-packages (from bokeh) (6.0.1)\n",
      "Requirement already satisfied: tornado>=5.1 in c:\\users\\kk\\anaconda3\\lib\\site-packages (from bokeh) (6.3.3)\n",
      "Requirement already satisfied: xyzservices>=2021.09.1 in c:\\users\\kk\\anaconda3\\lib\\site-packages (from bokeh) (2022.9.0)\n",
      "Requirement already satisfied: MarkupSafe>=2.0 in c:\\users\\kk\\anaconda3\\lib\\site-packages (from Jinja2>=2.9->bokeh) (2.1.1)\n",
      "Requirement already satisfied: python-dateutil>=2.8.2 in c:\\users\\kk\\anaconda3\\lib\\site-packages (from pandas>=1.2->bokeh) (2.8.2)\n",
      "Requirement already satisfied: pytz>=2020.1 in c:\\users\\kk\\anaconda3\\lib\\site-packages (from pandas>=1.2->bokeh) (2023.3.post1)\n",
      "Requirement already satisfied: tzdata>=2022.1 in c:\\users\\kk\\anaconda3\\lib\\site-packages (from pandas>=1.2->bokeh) (2023.3)\n",
      "Requirement already satisfied: six>=1.5 in c:\\users\\kk\\anaconda3\\lib\\site-packages (from python-dateutil>=2.8.2->pandas>=1.2->bokeh) (1.16.0)\n"
     ]
    },
    {
     "name": "stderr",
     "output_type": "stream",
     "text": [
      "\n",
      "[notice] A new release of pip is available: 23.3.1 -> 24.2\n",
      "[notice] To update, run: python.exe -m pip install --upgrade pip\n"
     ]
    }
   ],
   "source": [
    "!pip install bokeh"
   ]
  },
  {
   "cell_type": "code",
   "execution_count": 129,
   "id": "5eb006cf",
   "metadata": {
    "ExecuteTime": {
     "end_time": "2024-08-12T06:36:08.842977Z",
     "start_time": "2024-08-12T06:36:06.576705Z"
    }
   },
   "outputs": [
    {
     "data": {
      "text/html": [
       "<style>\n",
       "        .bk-notebook-logo {\n",
       "            display: block;\n",
       "            width: 20px;\n",
       "            height: 20px;\n",
       "            background-image: url(data:image/png;base64,iVBORw0KGgoAAAANSUhEUgAAABQAAAAUCAYAAACNiR0NAAAABHNCSVQICAgIfAhkiAAAAAlwSFlzAAALEgAACxIB0t1+/AAAABx0RVh0U29mdHdhcmUAQWRvYmUgRmlyZXdvcmtzIENTNui8sowAAAOkSURBVDiNjZRtaJVlGMd/1/08zzln5zjP1LWcU9N0NkN8m2CYjpgQYQXqSs0I84OLIC0hkEKoPtiH3gmKoiJDU7QpLgoLjLIQCpEsNJ1vqUOdO7ppbuec5+V+rj4ctwzd8IIbbi6u+8f1539dt3A78eXC7QizUF7gyV1fD1Yqg4JWz84yffhm0qkFqBogB9rM8tZdtwVsPUhWhGcFJngGeWrPzHm5oaMmkfEg1usvLFyc8jLRqDOMru7AyC8saQr7GG7f5fvDeH7Ej8CM66nIF+8yngt6HWaKh7k49Soy9nXurCi1o3qUbS3zWfrYeQDTB/Qj6kX6Ybhw4B+bOYoLKCC9H3Nu/leUTZ1JdRWkkn2ldcCamzrcf47KKXdAJllSlxAOkRgyHsGC/zRday5Qld9DyoM4/q/rUoy/CXh3jzOu3bHUVZeU+DEn8FInkPBFlu3+nW3Nw0mk6vCDiWg8CeJaxEwuHS3+z5RgY+YBR6V1Z1nxSOfoaPa4LASWxxdNp+VWTk7+4vzaou8v8PN+xo+KY2xsw6une2frhw05CTYOmQvsEhjhWjn0bmXPjpE1+kplmmkP3suftwTubK9Vq22qKmrBhpY4jvd5afdRA3wGjFAgcnTK2s4hY0/GPNIb0nErGMCRxWOOX64Z8RAC4oCXdklmEvcL8o0BfkNK4lUg9HTl+oPlQxdNo3Mg4Nv175e/1LDGzZen30MEjRUtmXSfiTVu1kK8W4txyV6BMKlbgk3lMwYCiusNy9fVfvvwMxv8Ynl6vxoByANLTWplvuj/nF9m2+PDtt1eiHPBr1oIfhCChQMBw6Aw0UulqTKZdfVvfG7VcfIqLG9bcldL/+pdWTLxLUy8Qq38heUIjh4XlzZxzQm19lLFlr8vdQ97rjZVOLf8nclzckbcD4wxXMidpX30sFd37Fv/GtwwhzhxGVAprjbg0gCAEeIgwCZyTV2Z1REEW8O4py0wsjeloKoMr6iCY6dP92H6Vw/oTyICIthibxjm/DfN9lVz8IqtqKYLUXfoKVMVQVVJOElGjrnnUt9T9wbgp8AyYKaGlqingHZU/uG2NTZSVqwHQTWkx9hxjkpWDaCg6Ckj5qebgBVbT3V3NNXMSiWSDdGV3hrtzla7J+duwPOToIg42ChPQOQjspnSlp1V+Gjdged7+8UN5CRAV7a5EdFNwCjEaBR27b3W890TE7g24NAP/mMDXRWrGoFPQI9ls/MWO2dWFAar/xcOIImbbpA3zgAAAABJRU5ErkJggg==);\n",
       "        }\n",
       "    </style>\n",
       "    <div>\n",
       "        <a href=\"https://bokeh.org\" target=\"_blank\" class=\"bk-notebook-logo\"></a>\n",
       "        <span id=\"d239d364-5875-4811-becb-fe37ea2cae4f\">Loading BokehJS ...</span>\n",
       "    </div>\n"
      ]
     },
     "metadata": {},
     "output_type": "display_data"
    },
    {
     "data": {
      "application/javascript": [
       "(function(root) {\n",
       "  function now() {\n",
       "    return new Date();\n",
       "  }\n",
       "\n",
       "  const force = true;\n",
       "\n",
       "  if (typeof root._bokeh_onload_callbacks === \"undefined\" || force === true) {\n",
       "    root._bokeh_onload_callbacks = [];\n",
       "    root._bokeh_is_loading = undefined;\n",
       "  }\n",
       "\n",
       "const JS_MIME_TYPE = 'application/javascript';\n",
       "  const HTML_MIME_TYPE = 'text/html';\n",
       "  const EXEC_MIME_TYPE = 'application/vnd.bokehjs_exec.v0+json';\n",
       "  const CLASS_NAME = 'output_bokeh rendered_html';\n",
       "\n",
       "  /**\n",
       "   * Render data to the DOM node\n",
       "   */\n",
       "  function render(props, node) {\n",
       "    const script = document.createElement(\"script\");\n",
       "    node.appendChild(script);\n",
       "  }\n",
       "\n",
       "  /**\n",
       "   * Handle when an output is cleared or removed\n",
       "   */\n",
       "  function handleClearOutput(event, handle) {\n",
       "    function drop(id) {\n",
       "      const view = Bokeh.index.get_by_id(id)\n",
       "      if (view != null) {\n",
       "        view.model.document.clear()\n",
       "        Bokeh.index.delete(view)\n",
       "      }\n",
       "    }\n",
       "\n",
       "    const cell = handle.cell;\n",
       "\n",
       "    const id = cell.output_area._bokeh_element_id;\n",
       "    const server_id = cell.output_area._bokeh_server_id;\n",
       "\n",
       "    // Clean up Bokeh references\n",
       "    if (id != null) {\n",
       "      drop(id)\n",
       "    }\n",
       "\n",
       "    if (server_id !== undefined) {\n",
       "      // Clean up Bokeh references\n",
       "      const cmd_clean = \"from bokeh.io.state import curstate; print(curstate().uuid_to_server['\" + server_id + \"'].get_sessions()[0].document.roots[0]._id)\";\n",
       "      cell.notebook.kernel.execute(cmd_clean, {\n",
       "        iopub: {\n",
       "          output: function(msg) {\n",
       "            const id = msg.content.text.trim()\n",
       "            drop(id)\n",
       "          }\n",
       "        }\n",
       "      });\n",
       "      // Destroy server and session\n",
       "      const cmd_destroy = \"import bokeh.io.notebook as ion; ion.destroy_server('\" + server_id + \"')\";\n",
       "      cell.notebook.kernel.execute(cmd_destroy);\n",
       "    }\n",
       "  }\n",
       "\n",
       "  /**\n",
       "   * Handle when a new output is added\n",
       "   */\n",
       "  function handleAddOutput(event, handle) {\n",
       "    const output_area = handle.output_area;\n",
       "    const output = handle.output;\n",
       "\n",
       "    // limit handleAddOutput to display_data with EXEC_MIME_TYPE content only\n",
       "    if ((output.output_type != \"display_data\") || (!Object.prototype.hasOwnProperty.call(output.data, EXEC_MIME_TYPE))) {\n",
       "      return\n",
       "    }\n",
       "\n",
       "    const toinsert = output_area.element.find(\".\" + CLASS_NAME.split(' ')[0]);\n",
       "\n",
       "    if (output.metadata[EXEC_MIME_TYPE][\"id\"] !== undefined) {\n",
       "      toinsert[toinsert.length - 1].firstChild.textContent = output.data[JS_MIME_TYPE];\n",
       "      // store reference to embed id on output_area\n",
       "      output_area._bokeh_element_id = output.metadata[EXEC_MIME_TYPE][\"id\"];\n",
       "    }\n",
       "    if (output.metadata[EXEC_MIME_TYPE][\"server_id\"] !== undefined) {\n",
       "      const bk_div = document.createElement(\"div\");\n",
       "      bk_div.innerHTML = output.data[HTML_MIME_TYPE];\n",
       "      const script_attrs = bk_div.children[0].attributes;\n",
       "      for (let i = 0; i < script_attrs.length; i++) {\n",
       "        toinsert[toinsert.length - 1].firstChild.setAttribute(script_attrs[i].name, script_attrs[i].value);\n",
       "        toinsert[toinsert.length - 1].firstChild.textContent = bk_div.children[0].textContent\n",
       "      }\n",
       "      // store reference to server id on output_area\n",
       "      output_area._bokeh_server_id = output.metadata[EXEC_MIME_TYPE][\"server_id\"];\n",
       "    }\n",
       "  }\n",
       "\n",
       "  function register_renderer(events, OutputArea) {\n",
       "\n",
       "    function append_mime(data, metadata, element) {\n",
       "      // create a DOM node to render to\n",
       "      const toinsert = this.create_output_subarea(\n",
       "        metadata,\n",
       "        CLASS_NAME,\n",
       "        EXEC_MIME_TYPE\n",
       "      );\n",
       "      this.keyboard_manager.register_events(toinsert);\n",
       "      // Render to node\n",
       "      const props = {data: data, metadata: metadata[EXEC_MIME_TYPE]};\n",
       "      render(props, toinsert[toinsert.length - 1]);\n",
       "      element.append(toinsert);\n",
       "      return toinsert\n",
       "    }\n",
       "\n",
       "    /* Handle when an output is cleared or removed */\n",
       "    events.on('clear_output.CodeCell', handleClearOutput);\n",
       "    events.on('delete.Cell', handleClearOutput);\n",
       "\n",
       "    /* Handle when a new output is added */\n",
       "    events.on('output_added.OutputArea', handleAddOutput);\n",
       "\n",
       "    /**\n",
       "     * Register the mime type and append_mime function with output_area\n",
       "     */\n",
       "    OutputArea.prototype.register_mime_type(EXEC_MIME_TYPE, append_mime, {\n",
       "      /* Is output safe? */\n",
       "      safe: true,\n",
       "      /* Index of renderer in `output_area.display_order` */\n",
       "      index: 0\n",
       "    });\n",
       "  }\n",
       "\n",
       "  // register the mime type if in Jupyter Notebook environment and previously unregistered\n",
       "  if (root.Jupyter !== undefined) {\n",
       "    const events = require('base/js/events');\n",
       "    const OutputArea = require('notebook/js/outputarea').OutputArea;\n",
       "\n",
       "    if (OutputArea.prototype.mime_types().indexOf(EXEC_MIME_TYPE) == -1) {\n",
       "      register_renderer(events, OutputArea);\n",
       "    }\n",
       "  }\n",
       "  if (typeof (root._bokeh_timeout) === \"undefined\" || force === true) {\n",
       "    root._bokeh_timeout = Date.now() + 5000;\n",
       "    root._bokeh_failed_load = false;\n",
       "  }\n",
       "\n",
       "  const NB_LOAD_WARNING = {'data': {'text/html':\n",
       "     \"<div style='background-color: #fdd'>\\n\"+\n",
       "     \"<p>\\n\"+\n",
       "     \"BokehJS does not appear to have successfully loaded. If loading BokehJS from CDN, this \\n\"+\n",
       "     \"may be due to a slow or bad network connection. Possible fixes:\\n\"+\n",
       "     \"</p>\\n\"+\n",
       "     \"<ul>\\n\"+\n",
       "     \"<li>re-rerun `output_notebook()` to attempt to load from CDN again, or</li>\\n\"+\n",
       "     \"<li>use INLINE resources instead, as so:</li>\\n\"+\n",
       "     \"</ul>\\n\"+\n",
       "     \"<code>\\n\"+\n",
       "     \"from bokeh.resources import INLINE\\n\"+\n",
       "     \"output_notebook(resources=INLINE)\\n\"+\n",
       "     \"</code>\\n\"+\n",
       "     \"</div>\"}};\n",
       "\n",
       "  function display_loaded() {\n",
       "    const el = document.getElementById(\"d239d364-5875-4811-becb-fe37ea2cae4f\");\n",
       "    if (el != null) {\n",
       "      el.textContent = \"BokehJS is loading...\";\n",
       "    }\n",
       "    if (root.Bokeh !== undefined) {\n",
       "      if (el != null) {\n",
       "        el.textContent = \"BokehJS \" + root.Bokeh.version + \" successfully loaded.\";\n",
       "      }\n",
       "    } else if (Date.now() < root._bokeh_timeout) {\n",
       "      setTimeout(display_loaded, 100)\n",
       "    }\n",
       "  }\n",
       "\n",
       "  function run_callbacks() {\n",
       "    try {\n",
       "      root._bokeh_onload_callbacks.forEach(function(callback) {\n",
       "        if (callback != null)\n",
       "          callback();\n",
       "      });\n",
       "    } finally {\n",
       "      delete root._bokeh_onload_callbacks\n",
       "    }\n",
       "    console.debug(\"Bokeh: all callbacks have finished\");\n",
       "  }\n",
       "\n",
       "  function load_libs(css_urls, js_urls, callback) {\n",
       "    if (css_urls == null) css_urls = [];\n",
       "    if (js_urls == null) js_urls = [];\n",
       "\n",
       "    root._bokeh_onload_callbacks.push(callback);\n",
       "    if (root._bokeh_is_loading > 0) {\n",
       "      console.debug(\"Bokeh: BokehJS is being loaded, scheduling callback at\", now());\n",
       "      return null;\n",
       "    }\n",
       "    if (js_urls == null || js_urls.length === 0) {\n",
       "      run_callbacks();\n",
       "      return null;\n",
       "    }\n",
       "    console.debug(\"Bokeh: BokehJS not loaded, scheduling load and callback at\", now());\n",
       "    root._bokeh_is_loading = css_urls.length + js_urls.length;\n",
       "\n",
       "    function on_load() {\n",
       "      root._bokeh_is_loading--;\n",
       "      if (root._bokeh_is_loading === 0) {\n",
       "        console.debug(\"Bokeh: all BokehJS libraries/stylesheets loaded\");\n",
       "        run_callbacks()\n",
       "      }\n",
       "    }\n",
       "\n",
       "    function on_error(url) {\n",
       "      console.error(\"failed to load \" + url);\n",
       "    }\n",
       "\n",
       "    for (let i = 0; i < css_urls.length; i++) {\n",
       "      const url = css_urls[i];\n",
       "      const element = document.createElement(\"link\");\n",
       "      element.onload = on_load;\n",
       "      element.onerror = on_error.bind(null, url);\n",
       "      element.rel = \"stylesheet\";\n",
       "      element.type = \"text/css\";\n",
       "      element.href = url;\n",
       "      console.debug(\"Bokeh: injecting link tag for BokehJS stylesheet: \", url);\n",
       "      document.body.appendChild(element);\n",
       "    }\n",
       "\n",
       "    for (let i = 0; i < js_urls.length; i++) {\n",
       "      const url = js_urls[i];\n",
       "      const element = document.createElement('script');\n",
       "      element.onload = on_load;\n",
       "      element.onerror = on_error.bind(null, url);\n",
       "      element.async = false;\n",
       "      element.src = url;\n",
       "      console.debug(\"Bokeh: injecting script tag for BokehJS library: \", url);\n",
       "      document.head.appendChild(element);\n",
       "    }\n",
       "  };\n",
       "\n",
       "  function inject_raw_css(css) {\n",
       "    const element = document.createElement(\"style\");\n",
       "    element.appendChild(document.createTextNode(css));\n",
       "    document.body.appendChild(element);\n",
       "  }\n",
       "\n",
       "  const js_urls = [\"https://cdn.bokeh.org/bokeh/release/bokeh-3.3.0.min.js\", \"https://cdn.bokeh.org/bokeh/release/bokeh-gl-3.3.0.min.js\", \"https://cdn.bokeh.org/bokeh/release/bokeh-widgets-3.3.0.min.js\", \"https://cdn.bokeh.org/bokeh/release/bokeh-tables-3.3.0.min.js\", \"https://cdn.bokeh.org/bokeh/release/bokeh-mathjax-3.3.0.min.js\"];\n",
       "  const css_urls = [];\n",
       "\n",
       "  const inline_js = [    function(Bokeh) {\n",
       "      Bokeh.set_log_level(\"info\");\n",
       "    },\n",
       "function(Bokeh) {\n",
       "    }\n",
       "  ];\n",
       "\n",
       "  function run_inline_js() {\n",
       "    if (root.Bokeh !== undefined || force === true) {\n",
       "          for (let i = 0; i < inline_js.length; i++) {\n",
       "      inline_js[i].call(root, root.Bokeh);\n",
       "    }\n",
       "if (force === true) {\n",
       "        display_loaded();\n",
       "      }} else if (Date.now() < root._bokeh_timeout) {\n",
       "      setTimeout(run_inline_js, 100);\n",
       "    } else if (!root._bokeh_failed_load) {\n",
       "      console.log(\"Bokeh: BokehJS failed to load within specified timeout.\");\n",
       "      root._bokeh_failed_load = true;\n",
       "    } else if (force !== true) {\n",
       "      const cell = $(document.getElementById(\"d239d364-5875-4811-becb-fe37ea2cae4f\")).parents('.cell').data().cell;\n",
       "      cell.output_area.append_execute_result(NB_LOAD_WARNING)\n",
       "    }\n",
       "  }\n",
       "\n",
       "  if (root._bokeh_is_loading === 0) {\n",
       "    console.debug(\"Bokeh: BokehJS loaded, going straight to plotting\");\n",
       "    run_inline_js();\n",
       "  } else {\n",
       "    load_libs(css_urls, js_urls, function() {\n",
       "      console.debug(\"Bokeh: BokehJS plotting callback run at\", now());\n",
       "      run_inline_js();\n",
       "    });\n",
       "  }\n",
       "}(window));"
      ],
      "application/vnd.bokehjs_load.v0+json": "(function(root) {\n  function now() {\n    return new Date();\n  }\n\n  const force = true;\n\n  if (typeof root._bokeh_onload_callbacks === \"undefined\" || force === true) {\n    root._bokeh_onload_callbacks = [];\n    root._bokeh_is_loading = undefined;\n  }\n\n\n  if (typeof (root._bokeh_timeout) === \"undefined\" || force === true) {\n    root._bokeh_timeout = Date.now() + 5000;\n    root._bokeh_failed_load = false;\n  }\n\n  const NB_LOAD_WARNING = {'data': {'text/html':\n     \"<div style='background-color: #fdd'>\\n\"+\n     \"<p>\\n\"+\n     \"BokehJS does not appear to have successfully loaded. If loading BokehJS from CDN, this \\n\"+\n     \"may be due to a slow or bad network connection. Possible fixes:\\n\"+\n     \"</p>\\n\"+\n     \"<ul>\\n\"+\n     \"<li>re-rerun `output_notebook()` to attempt to load from CDN again, or</li>\\n\"+\n     \"<li>use INLINE resources instead, as so:</li>\\n\"+\n     \"</ul>\\n\"+\n     \"<code>\\n\"+\n     \"from bokeh.resources import INLINE\\n\"+\n     \"output_notebook(resources=INLINE)\\n\"+\n     \"</code>\\n\"+\n     \"</div>\"}};\n\n  function display_loaded() {\n    const el = document.getElementById(\"d239d364-5875-4811-becb-fe37ea2cae4f\");\n    if (el != null) {\n      el.textContent = \"BokehJS is loading...\";\n    }\n    if (root.Bokeh !== undefined) {\n      if (el != null) {\n        el.textContent = \"BokehJS \" + root.Bokeh.version + \" successfully loaded.\";\n      }\n    } else if (Date.now() < root._bokeh_timeout) {\n      setTimeout(display_loaded, 100)\n    }\n  }\n\n  function run_callbacks() {\n    try {\n      root._bokeh_onload_callbacks.forEach(function(callback) {\n        if (callback != null)\n          callback();\n      });\n    } finally {\n      delete root._bokeh_onload_callbacks\n    }\n    console.debug(\"Bokeh: all callbacks have finished\");\n  }\n\n  function load_libs(css_urls, js_urls, callback) {\n    if (css_urls == null) css_urls = [];\n    if (js_urls == null) js_urls = [];\n\n    root._bokeh_onload_callbacks.push(callback);\n    if (root._bokeh_is_loading > 0) {\n      console.debug(\"Bokeh: BokehJS is being loaded, scheduling callback at\", now());\n      return null;\n    }\n    if (js_urls == null || js_urls.length === 0) {\n      run_callbacks();\n      return null;\n    }\n    console.debug(\"Bokeh: BokehJS not loaded, scheduling load and callback at\", now());\n    root._bokeh_is_loading = css_urls.length + js_urls.length;\n\n    function on_load() {\n      root._bokeh_is_loading--;\n      if (root._bokeh_is_loading === 0) {\n        console.debug(\"Bokeh: all BokehJS libraries/stylesheets loaded\");\n        run_callbacks()\n      }\n    }\n\n    function on_error(url) {\n      console.error(\"failed to load \" + url);\n    }\n\n    for (let i = 0; i < css_urls.length; i++) {\n      const url = css_urls[i];\n      const element = document.createElement(\"link\");\n      element.onload = on_load;\n      element.onerror = on_error.bind(null, url);\n      element.rel = \"stylesheet\";\n      element.type = \"text/css\";\n      element.href = url;\n      console.debug(\"Bokeh: injecting link tag for BokehJS stylesheet: \", url);\n      document.body.appendChild(element);\n    }\n\n    for (let i = 0; i < js_urls.length; i++) {\n      const url = js_urls[i];\n      const element = document.createElement('script');\n      element.onload = on_load;\n      element.onerror = on_error.bind(null, url);\n      element.async = false;\n      element.src = url;\n      console.debug(\"Bokeh: injecting script tag for BokehJS library: \", url);\n      document.head.appendChild(element);\n    }\n  };\n\n  function inject_raw_css(css) {\n    const element = document.createElement(\"style\");\n    element.appendChild(document.createTextNode(css));\n    document.body.appendChild(element);\n  }\n\n  const js_urls = [\"https://cdn.bokeh.org/bokeh/release/bokeh-3.3.0.min.js\", \"https://cdn.bokeh.org/bokeh/release/bokeh-gl-3.3.0.min.js\", \"https://cdn.bokeh.org/bokeh/release/bokeh-widgets-3.3.0.min.js\", \"https://cdn.bokeh.org/bokeh/release/bokeh-tables-3.3.0.min.js\", \"https://cdn.bokeh.org/bokeh/release/bokeh-mathjax-3.3.0.min.js\"];\n  const css_urls = [];\n\n  const inline_js = [    function(Bokeh) {\n      Bokeh.set_log_level(\"info\");\n    },\nfunction(Bokeh) {\n    }\n  ];\n\n  function run_inline_js() {\n    if (root.Bokeh !== undefined || force === true) {\n          for (let i = 0; i < inline_js.length; i++) {\n      inline_js[i].call(root, root.Bokeh);\n    }\nif (force === true) {\n        display_loaded();\n      }} else if (Date.now() < root._bokeh_timeout) {\n      setTimeout(run_inline_js, 100);\n    } else if (!root._bokeh_failed_load) {\n      console.log(\"Bokeh: BokehJS failed to load within specified timeout.\");\n      root._bokeh_failed_load = true;\n    } else if (force !== true) {\n      const cell = $(document.getElementById(\"d239d364-5875-4811-becb-fe37ea2cae4f\")).parents('.cell').data().cell;\n      cell.output_area.append_execute_result(NB_LOAD_WARNING)\n    }\n  }\n\n  if (root._bokeh_is_loading === 0) {\n    console.debug(\"Bokeh: BokehJS loaded, going straight to plotting\");\n    run_inline_js();\n  } else {\n    load_libs(css_urls, js_urls, function() {\n      console.debug(\"Bokeh: BokehJS plotting callback run at\", now());\n      run_inline_js();\n    });\n  }\n}(window));"
     },
     "metadata": {},
     "output_type": "display_data"
    },
    {
     "ename": "AttributeError",
     "evalue": "unexpected attribute 'plot_width' to figure, similar attributes are outer_width, width or min_width",
     "output_type": "error",
     "traceback": [
      "\u001b[1;31m---------------------------------------------------------------------------\u001b[0m",
      "\u001b[1;31mAttributeError\u001b[0m                            Traceback (most recent call last)",
      "Cell \u001b[1;32mIn[129], line 15\u001b[0m\n\u001b[0;32m     12\u001b[0m output_notebook()\n\u001b[0;32m     13\u001b[0m plot_data \u001b[38;5;241m=\u001b[39m ColumnDataSource(tsne_df)\n\u001b[1;32m---> 15\u001b[0m tsne_plot \u001b[38;5;241m=\u001b[39m figure(title\u001b[38;5;241m=\u001b[39m\u001b[38;5;124m'\u001b[39m\u001b[38;5;124mt-SNE Word Embeddings\u001b[39m\u001b[38;5;124m'\u001b[39m,\n\u001b[0;32m     16\u001b[0m                    plot_width \u001b[38;5;241m=\u001b[39m \u001b[38;5;241m800\u001b[39m, plot_height \u001b[38;5;241m=\u001b[39m \u001b[38;5;241m800\u001b[39m, active_scroll\u001b[38;5;241m=\u001b[39m\u001b[38;5;124m'\u001b[39m\u001b[38;5;124mwheel_zoom\u001b[39m\u001b[38;5;124m'\u001b[39m)\n\u001b[0;32m     18\u001b[0m \u001b[38;5;66;03m# add a hover tool to display words on roll-over\u001b[39;00m\n\u001b[0;32m     20\u001b[0m tsne_plot\u001b[38;5;241m.\u001b[39madd_tools( HoverTool(tooltips \u001b[38;5;241m=\u001b[39m \u001b[38;5;124m'\u001b[39m\u001b[38;5;124m@word\u001b[39m\u001b[38;5;124m'\u001b[39m) )\n",
      "File \u001b[1;32m~\\anaconda3\\Lib\\site-packages\\bokeh\\plotting\\_figure.py:192\u001b[0m, in \u001b[0;36mfigure.__init__\u001b[1;34m(self, *arg, **kw)\u001b[0m\n\u001b[0;32m    190\u001b[0m \u001b[38;5;28;01mfor\u001b[39;00m name \u001b[38;5;129;01min\u001b[39;00m kw\u001b[38;5;241m.\u001b[39mkeys():\n\u001b[0;32m    191\u001b[0m     \u001b[38;5;28;01mif\u001b[39;00m name \u001b[38;5;129;01mnot\u001b[39;00m \u001b[38;5;129;01min\u001b[39;00m names:\n\u001b[1;32m--> 192\u001b[0m         \u001b[38;5;28mself\u001b[39m\u001b[38;5;241m.\u001b[39m_raise_attribute_error_with_matches(name, names \u001b[38;5;241m|\u001b[39m opts\u001b[38;5;241m.\u001b[39mproperties())\n\u001b[0;32m    194\u001b[0m \u001b[38;5;28msuper\u001b[39m()\u001b[38;5;241m.\u001b[39m\u001b[38;5;21m__init__\u001b[39m(\u001b[38;5;241m*\u001b[39marg, \u001b[38;5;241m*\u001b[39m\u001b[38;5;241m*\u001b[39mkw)\n\u001b[0;32m    196\u001b[0m \u001b[38;5;28mself\u001b[39m\u001b[38;5;241m.\u001b[39mx_range \u001b[38;5;241m=\u001b[39m get_range(opts\u001b[38;5;241m.\u001b[39mx_range)\n",
      "File \u001b[1;32m~\\anaconda3\\Lib\\site-packages\\bokeh\\core\\has_props.py:375\u001b[0m, in \u001b[0;36mHasProps._raise_attribute_error_with_matches\u001b[1;34m(self, name, properties)\u001b[0m\n\u001b[0;32m    372\u001b[0m \u001b[38;5;28;01mif\u001b[39;00m \u001b[38;5;129;01mnot\u001b[39;00m matches:\n\u001b[0;32m    373\u001b[0m     matches, text \u001b[38;5;241m=\u001b[39m \u001b[38;5;28msorted\u001b[39m(properties), \u001b[38;5;124m\"\u001b[39m\u001b[38;5;124mpossible\u001b[39m\u001b[38;5;124m\"\u001b[39m\n\u001b[1;32m--> 375\u001b[0m \u001b[38;5;28;01mraise\u001b[39;00m \u001b[38;5;167;01mAttributeError\u001b[39;00m(\u001b[38;5;124mf\u001b[39m\u001b[38;5;124m\"\u001b[39m\u001b[38;5;124munexpected attribute \u001b[39m\u001b[38;5;132;01m{\u001b[39;00mname\u001b[38;5;132;01m!r}\u001b[39;00m\u001b[38;5;124m to \u001b[39m\u001b[38;5;132;01m{\u001b[39;00m\u001b[38;5;28mself\u001b[39m\u001b[38;5;241m.\u001b[39m\u001b[38;5;18m__class__\u001b[39m\u001b[38;5;241m.\u001b[39m\u001b[38;5;18m__name__\u001b[39m\u001b[38;5;132;01m}\u001b[39;00m\u001b[38;5;124m, \u001b[39m\u001b[38;5;132;01m{\u001b[39;00mtext\u001b[38;5;132;01m}\u001b[39;00m\u001b[38;5;124m attributes are \u001b[39m\u001b[38;5;132;01m{\u001b[39;00mnice_join(matches)\u001b[38;5;132;01m}\u001b[39;00m\u001b[38;5;124m\"\u001b[39m)\n",
      "\u001b[1;31mAttributeError\u001b[0m: unexpected attribute 'plot_width' to figure, similar attributes are outer_width, width or min_width"
     ]
    }
   ],
   "source": [
    "import pickle\n",
    "\n",
    "tsne_df = pd.DataFrame(transformed, columns=['x_coord', 'y_coord'])  \n",
    "tsne_df\n",
    "\n",
    "tsne_df['word'] = list(df_wordvec.index) \n",
    "tsne_df\n",
    "\n",
    "from bokeh.plotting import figure, show, output_notebook  \n",
    "from bokeh.models import HoverTool, ColumnDataSource\n",
    "\n",
    "output_notebook()\n",
    "plot_data = ColumnDataSource(tsne_df)\n",
    "\n",
    "tsne_plot = figure(title='t-SNE Word Embeddings',\n",
    "                   plot_width = 800, plot_height = 800, active_scroll='wheel_zoom')\n",
    "\n",
    "# add a hover tool to display words on roll-over\n",
    "\n",
    "tsne_plot.add_tools( HoverTool(tooltips = '@word') )\n",
    "\n",
    "tsne_plot.circle(  \n",
    "\t'x_coord', 'y_coord', source=plot_data,  \n",
    "\tcolor='red', line_alpha=0.2, fill_alpha=0.1,  \n",
    "\tsize=10, hover_line_color='orange'  \n",
    ")\n",
    "\n",
    "# adjust visual elements of the plot\n",
    "\n",
    "tsne_plot.xaxis.visible = False  \n",
    "tsne_plot.yaxis.visible = False  \n",
    "tsne_plot.grid.grid_line_color = None  \n",
    "tsne_plot.outline_line_color = None\n",
    "\n",
    "# show time!\n",
    "\n",
    "show(tsne_plot);"
   ]
  },
  {
   "cell_type": "code",
   "execution_count": null,
   "id": "26c4bf90",
   "metadata": {},
   "outputs": [],
   "source": []
  },
  {
   "cell_type": "markdown",
   "id": "3cb6b490",
   "metadata": {},
   "source": [
    "# Modeling"
   ]
  },
  {
   "cell_type": "markdown",
   "id": "6e4ace9e",
   "metadata": {},
   "source": [
    "- Latent Dirichlet Allocation (LDA)는 토픽모델링에 이용되는 대표적인 알고리즘\n",
    "\n",
    "> - 토픽 모델링이 제공하는 토픽은 어떤 주제를 구성하는 단어들인지로 정의되며,\n",
    "> - 문서 집합에서 이 단어 집합을 찾아 우리의 문서가 어떤 토픽인지 알 수 있음\n",
    "\n",
    "- LDA 모델을 학습하기 전에 몇 개의 토픽으로 나눌 것인지 먼저 결정해야 한다. 일반적으로 perplexity와 coherence를 함께 고려해 토픽의 개수를 결정한다.\n",
    "\n",
    "> - perplexity: 모델이 얼마나 잘 예측하는지 나타내는 지표로, 낮은 perplexity 값은 모델이 문서에서 나타나는 단어를 더 잘 예측한다는 것을 의미한다.\n",
    "> - coherence: 발견된 토픽이 얼마나 의미있는지 나타내는 지표로, 높은 coherence 값은 토픽 내 단어들이 서로 관련성이 높다는 것을 의미한다.\n",
    "\n",
    "- LDAvis\n",
    "\n",
    "> (1) Intertopic Distance Map (via multidimensional scaling)\n",
    "> - 각 토픽이 가진 고차원의 단어들을 PCA로 2차원 축소 시각화\n",
    "> - 원크기: 토픽의 단어들이 얼마나 포함 및 분포되어 있는지\n",
    "> - 원거리: 토픽간의 유사성 (2개의 원이 겹친다면 유사한 토픽이라는 의미)\n",
    ">\n",
    "> (2) Top-30 Most Relevant Terms for Topic\n",
    "> - 토픽 별로 가장 자주 등장하는 단어들(람디=1)과 토픽 간 차이가 많이나는 단어들(람다=0)을 종합적으로 고려 "
   ]
  },
  {
   "cell_type": "code",
   "execution_count": 120,
   "id": "af6b39a7",
   "metadata": {
    "ExecuteTime": {
     "end_time": "2024-08-11T15:46:16.566176Z",
     "start_time": "2024-08-11T15:46:15.812270Z"
    }
   },
   "outputs": [
    {
     "name": "stderr",
     "output_type": "stream",
     "text": [
      "[Kss]: too few updates, training might not converge; consider increasing the number of passes or iterations to improve accuracy\n"
     ]
    },
    {
     "data": {
      "text/html": [
       "<div>\n",
       "<style scoped>\n",
       "    .dataframe tbody tr th:only-of-type {\n",
       "        vertical-align: middle;\n",
       "    }\n",
       "\n",
       "    .dataframe tbody tr th {\n",
       "        vertical-align: top;\n",
       "    }\n",
       "\n",
       "    .dataframe thead th {\n",
       "        text-align: right;\n",
       "    }\n",
       "</style>\n",
       "<table border=\"1\" class=\"dataframe\">\n",
       "  <thead>\n",
       "    <tr style=\"text-align: right;\">\n",
       "      <th></th>\n",
       "      <th>Related Keywords</th>\n",
       "      <th>Number of Sentences</th>\n",
       "      <th>Percentage</th>\n",
       "    </tr>\n",
       "  </thead>\n",
       "  <tbody>\n",
       "    <tr>\n",
       "      <th>Topic 1</th>\n",
       "      <td>'아동(23.5%)', '있는(14.7%)', '교육(9.8%)', '학교(9.8%)', '권리(7.8%)', '가족(6.9%)', '환경(6.9%)', '한다(6.9%)'...</td>\n",
       "      <td>94</td>\n",
       "      <td>0.2004</td>\n",
       "    </tr>\n",
       "    <tr>\n",
       "      <th>Topic 2</th>\n",
       "      <td>'놀이(21.6%)', '있는(18.2%)', '시설(11.4%)', '의견을(9.1%)', '아동의(9.1%)', '아동들이(8.0%)', '아동이(5.7%)', '위한(...</td>\n",
       "      <td>60</td>\n",
       "      <td>0.1279</td>\n",
       "    </tr>\n",
       "    <tr>\n",
       "      <th>Topic 3</th>\n",
       "      <td>'있는(20.5%)', '아동들이(16.9%)', '아동이(9.6%)', '위한(8.4%)', '환경(8.4%)', '한다(7.2%)', '있도록(7.2%)', '놀이(7....</td>\n",
       "      <td>73</td>\n",
       "      <td>0.1557</td>\n",
       "    </tr>\n",
       "    <tr>\n",
       "      <th>Topic 4</th>\n",
       "      <td>'교육(28.4%)', '활동(8.8%)', '아동이(8.8%)', '가족(7.8%)', '프로그램(7.8%)', '한다(7.8%)', '가족과(7.8%)', '있는(7.8...</td>\n",
       "      <td>83</td>\n",
       "      <td>0.1770</td>\n",
       "    </tr>\n",
       "    <tr>\n",
       "      <th>Topic 5</th>\n",
       "      <td>'지원(15.1%)', '아동(15.1%)', '한다(12.3%)', '환경(9.6%)', '있는(8.2%)', '체험(8.2%)', '학교(8.2%)', '교육(8.2%)...</td>\n",
       "      <td>77</td>\n",
       "      <td>0.1642</td>\n",
       "    </tr>\n",
       "    <tr>\n",
       "      <th>Topic 6</th>\n",
       "      <td>'놀이(28.6%)', '안전(13.2%)', '합니다(9.9%)', '아동(8.8%)', '의견을(7.7%)', '있는(7.7%)', '아동의(7.7%)', '주기(5.5...</td>\n",
       "      <td>82</td>\n",
       "      <td>0.1748</td>\n",
       "    </tr>\n",
       "  </tbody>\n",
       "</table>\n",
       "</div>"
      ],
      "text/plain": [
       "                                                                                            Related Keywords  \\\n",
       "Topic 1  '아동(23.5%)', '있는(14.7%)', '교육(9.8%)', '학교(9.8%)', '권리(7.8%)', '가족(6.9%)', '환경(6.9%)', '한다(6.9%)'...   \n",
       "Topic 2  '놀이(21.6%)', '있는(18.2%)', '시설(11.4%)', '의견을(9.1%)', '아동의(9.1%)', '아동들이(8.0%)', '아동이(5.7%)', '위한(...   \n",
       "Topic 3  '있는(20.5%)', '아동들이(16.9%)', '아동이(9.6%)', '위한(8.4%)', '환경(8.4%)', '한다(7.2%)', '있도록(7.2%)', '놀이(7....   \n",
       "Topic 4  '교육(28.4%)', '활동(8.8%)', '아동이(8.8%)', '가족(7.8%)', '프로그램(7.8%)', '한다(7.8%)', '가족과(7.8%)', '있는(7.8...   \n",
       "Topic 5  '지원(15.1%)', '아동(15.1%)', '한다(12.3%)', '환경(9.6%)', '있는(8.2%)', '체험(8.2%)', '학교(8.2%)', '교육(8.2%)...   \n",
       "Topic 6  '놀이(28.6%)', '안전(13.2%)', '합니다(9.9%)', '아동(8.8%)', '의견을(7.7%)', '있는(7.7%)', '아동의(7.7%)', '주기(5.5...   \n",
       "\n",
       "         Number of Sentences  Percentage  \n",
       "Topic 1                   94      0.2004  \n",
       "Topic 2                   60      0.1279  \n",
       "Topic 3                   73      0.1557  \n",
       "Topic 4                   83      0.1770  \n",
       "Topic 5                   77      0.1642  \n",
       "Topic 6                   82      0.1748  "
      ]
     },
     "metadata": {},
     "output_type": "display_data"
    },
    {
     "data": {
      "text/html": [
       "<div>\n",
       "<style scoped>\n",
       "    .dataframe tbody tr th:only-of-type {\n",
       "        vertical-align: middle;\n",
       "    }\n",
       "\n",
       "    .dataframe tbody tr th {\n",
       "        vertical-align: top;\n",
       "    }\n",
       "\n",
       "    .dataframe thead th {\n",
       "        text-align: right;\n",
       "    }\n",
       "</style>\n",
       "<table border=\"1\" class=\"dataframe\">\n",
       "  <thead>\n",
       "    <tr style=\"text-align: right;\">\n",
       "      <th></th>\n",
       "      <th>의견</th>\n",
       "      <th>Related Topic</th>\n",
       "      <th>Weight</th>\n",
       "      <th>Each Topic Weights</th>\n",
       "    </tr>\n",
       "  </thead>\n",
       "  <tbody>\n",
       "    <tr>\n",
       "      <th>0</th>\n",
       "      <td>돈 지원금 지급</td>\n",
       "      <td>6</td>\n",
       "      <td>0.4824</td>\n",
       "      <td>[(0, 0.04185477), (1, 0.35003775), (2, 0.0417701), (3, 0.041670702), (4, 0.04231225), (5, 0.4823...</td>\n",
       "    </tr>\n",
       "    <tr>\n",
       "      <th>1</th>\n",
       "      <td>가족 동반 체험</td>\n",
       "      <td>5</td>\n",
       "      <td>0.7901</td>\n",
       "      <td>[(0, 0.042288058), (1, 0.041698594), (2, 0.041756675), (3, 0.04240749), (4, 0.7901332), (5, 0.04...</td>\n",
       "    </tr>\n",
       "    <tr>\n",
       "      <th>2</th>\n",
       "      <td>생활비 지원 생리대 화장지 필수 용품 지원</td>\n",
       "      <td>2</td>\n",
       "      <td>0.8955</td>\n",
       "      <td>[(0, 0.020868378), (1, 0.89546853), (2, 0.02086884), (3, 0.020876529), (4, 0.021059468), (5, 0.0...</td>\n",
       "    </tr>\n",
       "    <tr>\n",
       "      <th>3</th>\n",
       "      <td>화목한 설문 조사</td>\n",
       "      <td>3</td>\n",
       "      <td>0.6429</td>\n",
       "      <td>[(0, 0.18996921), (1, 0.04190829), (2, 0.64285105), (3, 0.041671544), (4, 0.041730445), (5, 0.04...</td>\n",
       "    </tr>\n",
       "    <tr>\n",
       "      <th>4</th>\n",
       "      <td>가족과 즐거운 대화를 한다 가족과 지내는 방법을 알러준다</td>\n",
       "      <td>4</td>\n",
       "      <td>0.9069</td>\n",
       "      <td>[(0, 0.018602517), (1, 0.01855226), (2, 0.018686838), (3, 0.90690684), (4, 0.0187107), (5, 0.018...</td>\n",
       "    </tr>\n",
       "    <tr>\n",
       "      <th>...</th>\n",
       "      <td>...</td>\n",
       "      <td>...</td>\n",
       "      <td>...</td>\n",
       "      <td>...</td>\n",
       "    </tr>\n",
       "    <tr>\n",
       "      <th>464</th>\n",
       "      <td>건강한 음식 위생관리</td>\n",
       "      <td>6</td>\n",
       "      <td>0.7911</td>\n",
       "      <td>[(0, 0.04167147), (1, 0.041787755), (2, 0.04193278), (3, 0.041736625), (4, 0.041774947), (5, 0.7...</td>\n",
       "    </tr>\n",
       "    <tr>\n",
       "      <th>465</th>\n",
       "      <td>건강한 음식을 지원하고 마음건강을 위한 설문 조사 건강한 음식 지원</td>\n",
       "      <td>3</td>\n",
       "      <td>0.9237</td>\n",
       "      <td>[(0, 0.015206854), (1, 0.015264282), (2, 0.92372036), (3, 0.015173897), (4, 0.015292478), (5, 0....</td>\n",
       "    </tr>\n",
       "    <tr>\n",
       "      <th>466</th>\n",
       "      <td>친구관계 전자기기 사용 줄이기 주기적으로 학생들의 미디어 건강 프로그램을 하기</td>\n",
       "      <td>4</td>\n",
       "      <td>0.9240</td>\n",
       "      <td>[(0, 0.015193975), (1, 0.0151807), (2, 0.0152625125), (3, 0.92399836), (4, 0.015191797), (5, 0.0...</td>\n",
       "    </tr>\n",
       "    <tr>\n",
       "      <th>467</th>\n",
       "      <td>학교 밖 아동 관리 건강한 음식 지원</td>\n",
       "      <td>5</td>\n",
       "      <td>0.8950</td>\n",
       "      <td>[(0, 0.020982578), (1, 0.020940894), (2, 0.021013526), (3, 0.020893207), (4, 0.89495736), (5, 0....</td>\n",
       "    </tr>\n",
       "    <tr>\n",
       "      <th>468</th>\n",
       "      <td>운동을 해야 함 늘리기</td>\n",
       "      <td>3</td>\n",
       "      <td>0.8329</td>\n",
       "      <td>[(0, 0.033420797), (1, 0.033406023), (2, 0.8328682), (3, 0.033353887), (4, 0.033424683), (5, 0.0...</td>\n",
       "    </tr>\n",
       "  </tbody>\n",
       "</table>\n",
       "<p>469 rows × 4 columns</p>\n",
       "</div>"
      ],
      "text/plain": [
       "                                              의견  Related Topic  Weight  \\\n",
       "0                                       돈 지원금 지급              6  0.4824   \n",
       "1                                       가족 동반 체험              5  0.7901   \n",
       "2                        생활비 지원 생리대 화장지 필수 용품 지원              2  0.8955   \n",
       "3                                      화목한 설문 조사              3  0.6429   \n",
       "4                가족과 즐거운 대화를 한다 가족과 지내는 방법을 알러준다              4  0.9069   \n",
       "..                                           ...            ...     ...   \n",
       "464                                  건강한 음식 위생관리              6  0.7911   \n",
       "465        건강한 음식을 지원하고 마음건강을 위한 설문 조사 건강한 음식 지원              3  0.9237   \n",
       "466  친구관계 전자기기 사용 줄이기 주기적으로 학생들의 미디어 건강 프로그램을 하기              4  0.9240   \n",
       "467                         학교 밖 아동 관리 건강한 음식 지원              5  0.8950   \n",
       "468                                 운동을 해야 함 늘리기              3  0.8329   \n",
       "\n",
       "                                                                                      Each Topic Weights  \n",
       "0    [(0, 0.04185477), (1, 0.35003775), (2, 0.0417701), (3, 0.041670702), (4, 0.04231225), (5, 0.4823...  \n",
       "1    [(0, 0.042288058), (1, 0.041698594), (2, 0.041756675), (3, 0.04240749), (4, 0.7901332), (5, 0.04...  \n",
       "2    [(0, 0.020868378), (1, 0.89546853), (2, 0.02086884), (3, 0.020876529), (4, 0.021059468), (5, 0.0...  \n",
       "3    [(0, 0.18996921), (1, 0.04190829), (2, 0.64285105), (3, 0.041671544), (4, 0.041730445), (5, 0.04...  \n",
       "4    [(0, 0.018602517), (1, 0.01855226), (2, 0.018686838), (3, 0.90690684), (4, 0.0187107), (5, 0.018...  \n",
       "..                                                                                                   ...  \n",
       "464  [(0, 0.04167147), (1, 0.041787755), (2, 0.04193278), (3, 0.041736625), (4, 0.041774947), (5, 0.7...  \n",
       "465  [(0, 0.015206854), (1, 0.015264282), (2, 0.92372036), (3, 0.015173897), (4, 0.015292478), (5, 0....  \n",
       "466  [(0, 0.015193975), (1, 0.0151807), (2, 0.0152625125), (3, 0.92399836), (4, 0.015191797), (5, 0.0...  \n",
       "467  [(0, 0.020982578), (1, 0.020940894), (2, 0.021013526), (3, 0.020893207), (4, 0.89495736), (5, 0....  \n",
       "468  [(0, 0.033420797), (1, 0.033406023), (2, 0.8328682), (3, 0.033353887), (4, 0.033424683), (5, 0.0...  \n",
       "\n",
       "[469 rows x 4 columns]"
      ]
     },
     "metadata": {},
     "output_type": "display_data"
    }
   ],
   "source": [
    "# 주체 추출\n",
    "# topic_kw, doc_topic, model = modeling_LDA(df['Token_'+TOKENIZER], opt_numtopics=False, \n",
    "#                                           num_topics=2, num_topicwords=10, num_topicsamples=10,\n",
    "#                                           save_local=True, save_name='Topics_byLDA.csv')\n",
    "topic_kw, doc_topic, model = modeling_LDA(df[TARGET], opt_numtopics=False, \n",
    "                                          num_topics=6, num_topicwords=10, num_topicsamples=10,\n",
    "                                          save_local=True, save_name='Topics_byLDA.csv')\n",
    "display(topic_kw, doc_topic)\n",
    "\n",
    "# 토픽별 wordcloud (다른 카테고리 응용 추가)\n",
    "\n"
   ]
  },
  {
   "cell_type": "code",
   "execution_count": null,
   "id": "cc9b0b97",
   "metadata": {},
   "outputs": [],
   "source": []
  },
  {
   "cell_type": "code",
   "execution_count": null,
   "id": "7f3d1173",
   "metadata": {},
   "outputs": [],
   "source": []
  }
 ],
 "metadata": {
  "hide_input": false,
  "kernelspec": {
   "display_name": "Python 3 (ipykernel)",
   "language": "python",
   "name": "python3"
  },
  "language_info": {
   "codemirror_mode": {
    "name": "ipython",
    "version": 3
   },
   "file_extension": ".py",
   "mimetype": "text/x-python",
   "name": "python",
   "nbconvert_exporter": "python",
   "pygments_lexer": "ipython3",
   "version": "3.11.5"
  },
  "toc": {
   "base_numbering": 1,
   "nav_menu": {},
   "number_sections": true,
   "sideBar": true,
   "skip_h1_title": false,
   "title_cell": "Table of Contents",
   "title_sidebar": "Contents",
   "toc_cell": false,
   "toc_position": {
    "height": "calc(100% - 180px)",
    "left": "10px",
    "top": "150px",
    "width": "255.594px"
   },
   "toc_section_display": true,
   "toc_window_display": false
  }
 },
 "nbformat": 4,
 "nbformat_minor": 5
}
