{
 "cells": [
  {
   "cell_type": "markdown",
   "id": "3071077e",
   "metadata": {},
   "source": [
    "# Library"
   ]
  },
  {
   "cell_type": "code",
   "execution_count": 97,
   "id": "07ae3c05",
   "metadata": {
    "ExecuteTime": {
     "end_time": "2024-08-11T15:25:21.020811Z",
     "start_time": "2024-08-11T15:25:18.170040Z"
    }
   },
   "outputs": [
    {
     "name": "stderr",
     "output_type": "stream",
     "text": [
      "2024-08-12 00:25:20,564\tINFO worker.py:1453 -- Calling ray.init() again after it has already been called.\n",
      "[nltk_data] Downloading package stopwords to\n",
      "[nltk_data]     C:\\Users\\KK\\AppData\\Roaming\\nltk_data...\n",
      "[nltk_data]   Package stopwords is already up-to-date!\n",
      "[nltk_data] Downloading package punkt to\n",
      "[nltk_data]     C:\\Users\\KK\\AppData\\Roaming\\nltk_data...\n",
      "[nltk_data]   Package punkt is already up-to-date!\n"
     ]
    }
   ],
   "source": [
    "# Ignore the warnings\n",
    "import warnings\n",
    "# warnings.filterwarnings('always')\n",
    "warnings.filterwarnings('ignore')\n",
    "\n",
    "# System related and data input controls\n",
    "import os\n",
    "\n",
    "# Python path\n",
    "import sys\n",
    "base_folder = 'DataScience'\n",
    "location_base = os.path.join(os.getcwd().split(base_folder)[0], base_folder)\n",
    "location_module = [os.path.join(location_base, 'Module')] \n",
    "for each in location_module:\n",
    "    if each not in sys.path:\n",
    "        sys.path.append(each)\n",
    "\n",
    "# Auto reload of library\n",
    "%reload_ext autoreload\n",
    "%autoreload 2\n",
    "\n",
    "from preprocessing_KK import *\n",
    "from preprocessing_text_KK import * ##\n",
    "from algorithm_textmining_KK import * ##\n",
    "from algorithm_machinelearning_KK import *\n",
    "from algorithm_deeplearning_KK import *\n",
    "from evaluation_KK import *"
   ]
  },
  {
   "cell_type": "markdown",
   "id": "268236ab",
   "metadata": {},
   "source": [
    "# Hyperparameters"
   ]
  },
  {
   "cell_type": "code",
   "execution_count": 103,
   "id": "5c52c8a1",
   "metadata": {
    "ExecuteTime": {
     "end_time": "2024-08-11T15:28:40.195878Z",
     "start_time": "2024-08-11T15:28:39.750827Z"
    }
   },
   "outputs": [],
   "source": [
    "TARGET = '의견'\n",
    "TOKENIZER = 'KeyBERT'"
   ]
  },
  {
   "cell_type": "markdown",
   "id": "5c5a3ced",
   "metadata": {},
   "source": [
    "# Data & Preprocessing"
   ]
  },
  {
   "cell_type": "code",
   "execution_count": 110,
   "id": "22967acf",
   "metadata": {
    "ExecuteTime": {
     "end_time": "2024-08-11T15:39:44.514129Z",
     "start_time": "2024-08-11T15:39:38.003701Z"
    }
   },
   "outputs": [
    {
     "name": "stderr",
     "output_type": "stream",
     "text": [
      "100%|██████████████████████████████████████████████████████████████████████████████| 469/469 [00:00<00:00, 3891.46it/s]\n"
     ]
    },
    {
     "name": "stdout",
     "output_type": "stream",
     "text": [
      "\r",
      "training ... (0 in 469 sents) use memory 0.803 Gb\r",
      "training was done. used memory 0.805 Gb\n",
      "\r",
      " cohesion probabilities ... (1 in 724)\r",
      "all cohesion probabilities was computed. # words = 501\n",
      "\r",
      "all branching entropies was computed # words = 1257\n",
      "\r",
      "all accessor variety was computed # words = 1257\n",
      "C:/Users/KK/anaconda3/Lib/site-packages/soynlp\n",
      "cannot access local variable 'f' where it is not associated with a value\n",
      "cannot access local variable 'f' where it is not associated with a value\n",
      "before postprocessing 653\n",
      "_noun_scores_ 225\n",
      "after postprocessing 144\n"
     ]
    }
   ],
   "source": [
    "# 데이터\n",
    "## 데이터로딩\n",
    "df = pd.read_excel(os.path.join(os.getcwd(), 'Data', '시민의견수렴 의견 전처리자료.xlsx'))\n",
    "## 변수 삭제\n",
    "colname_delete = ['의제 ID', '사용자 ID', '학교 ID', '환경', '이전 참가 여부', '특이사항', '의견 ID', '수정 시각']\n",
    "df.drop(columns=colname_delete, inplace=True)\n",
    "## 무의견 삭제\n",
    "df.dropna(subset=[TARGET], inplace=True)\n",
    "## 리인덱싱\n",
    "df = df.reset_index().iloc[:,1:]\n",
    "## 기초 전처리\n",
    "df[TARGET] = df[TARGET].progress_apply(lambda x: text_preprocessor(x, del_number=False, del_bracket_content=False))\n",
    "## 단어빈도 추출과 변환\n",
    "wf_soy, waf_soy, \\\n",
    "wf_tf, waf_tf, \\\n",
    "wf_kb, waf_kb, \\\n",
    "sent_keyword = preprocessing_wordfreq(df, colname_target=TARGET, colname_category=None,\n",
    "                                      num_showkeyword=100, save_local=False, save_name='wordfreq_')\n",
    "## 결합\n",
    "df = pd.concat([df, sent_keyword[[each for each in sent_keyword.columns if each.split('_')[1] == TOKENIZER]]], axis=1)"
   ]
  },
  {
   "cell_type": "markdown",
   "id": "2f10b9f1",
   "metadata": {},
   "source": [
    "# Descriptive"
   ]
  },
  {
   "cell_type": "code",
   "execution_count": null,
   "id": "0cd9e20d",
   "metadata": {},
   "outputs": [],
   "source": []
  },
  {
   "cell_type": "code",
   "execution_count": null,
   "id": "1c5d9310",
   "metadata": {},
   "outputs": [],
   "source": []
  },
  {
   "cell_type": "markdown",
   "id": "3cb6b490",
   "metadata": {},
   "source": [
    "# Modeling"
   ]
  },
  {
   "cell_type": "markdown",
   "id": "6e4ace9e",
   "metadata": {},
   "source": [
    "- Latent Dirichlet Allocation (LDA)는 토픽모델링에 이용되는 대표적인 알고리즘\n",
    "\n",
    "> - 토픽 모델링이 제공하는 토픽은 어떤 주제를 구성하는 단어들인지로 정의되며,\n",
    "> - 문서 집합에서 이 단어 집합을 찾아 우리의 문서가 어떤 토픽인지 알 수 있음\n",
    "\n",
    "- LDA 모델을 학습하기 전에 몇 개의 토픽으로 나눌 것인지 먼저 결정해야 한다. 일반적으로 perplexity와 coherence를 함께 고려해 토픽의 개수를 결정한다.\n",
    "\n",
    "> - perplexity: 모델이 얼마나 잘 예측하는지 나타내는 지표로, 낮은 perplexity 값은 모델이 문서에서 나타나는 단어를 더 잘 예측한다는 것을 의미한다.\n",
    "> - coherence: 발견된 토픽이 얼마나 의미있는지 나타내는 지표로, 높은 coherence 값은 토픽 내 단어들이 서로 관련성이 높다는 것을 의미한다.\n",
    "\n",
    "- LDAvis\n",
    "\n",
    "> (1) Intertopic Distance Map (via multidimensional scaling)\n",
    "> - 각 토픽이 가진 고차원의 단어들을 PCA로 2차원 축소 시각화\n",
    "> - 원크기: 토픽의 단어들이 얼마나 포함 및 분포되어 있는지\n",
    "> - 원거리: 토픽간의 유사성 (2개의 원이 겹친다면 유사한 토픽이라는 의미)\n",
    ">\n",
    "> (2) Top-30 Most Relevant Terms for Topic\n",
    "> - 토픽 별로 가장 자주 등장하는 단어들(람디=1)과 토픽 간 차이가 많이나는 단어들(람다=0)을 종합적으로 고려 "
   ]
  },
  {
   "cell_type": "code",
   "execution_count": 120,
   "id": "af6b39a7",
   "metadata": {
    "ExecuteTime": {
     "end_time": "2024-08-11T15:46:16.566176Z",
     "start_time": "2024-08-11T15:46:15.812270Z"
    }
   },
   "outputs": [
    {
     "name": "stderr",
     "output_type": "stream",
     "text": [
      "[Kss]: too few updates, training might not converge; consider increasing the number of passes or iterations to improve accuracy\n"
     ]
    },
    {
     "data": {
      "text/html": [
       "<div>\n",
       "<style scoped>\n",
       "    .dataframe tbody tr th:only-of-type {\n",
       "        vertical-align: middle;\n",
       "    }\n",
       "\n",
       "    .dataframe tbody tr th {\n",
       "        vertical-align: top;\n",
       "    }\n",
       "\n",
       "    .dataframe thead th {\n",
       "        text-align: right;\n",
       "    }\n",
       "</style>\n",
       "<table border=\"1\" class=\"dataframe\">\n",
       "  <thead>\n",
       "    <tr style=\"text-align: right;\">\n",
       "      <th></th>\n",
       "      <th>Related Keywords</th>\n",
       "      <th>Number of Sentences</th>\n",
       "      <th>Percentage</th>\n",
       "    </tr>\n",
       "  </thead>\n",
       "  <tbody>\n",
       "    <tr>\n",
       "      <th>Topic 1</th>\n",
       "      <td>'아동(23.5%)', '있는(14.7%)', '교육(9.8%)', '학교(9.8%)', '권리(7.8%)', '가족(6.9%)', '환경(6.9%)', '한다(6.9%)'...</td>\n",
       "      <td>94</td>\n",
       "      <td>0.2004</td>\n",
       "    </tr>\n",
       "    <tr>\n",
       "      <th>Topic 2</th>\n",
       "      <td>'놀이(21.6%)', '있는(18.2%)', '시설(11.4%)', '의견을(9.1%)', '아동의(9.1%)', '아동들이(8.0%)', '아동이(5.7%)', '위한(...</td>\n",
       "      <td>60</td>\n",
       "      <td>0.1279</td>\n",
       "    </tr>\n",
       "    <tr>\n",
       "      <th>Topic 3</th>\n",
       "      <td>'있는(20.5%)', '아동들이(16.9%)', '아동이(9.6%)', '위한(8.4%)', '환경(8.4%)', '한다(7.2%)', '있도록(7.2%)', '놀이(7....</td>\n",
       "      <td>73</td>\n",
       "      <td>0.1557</td>\n",
       "    </tr>\n",
       "    <tr>\n",
       "      <th>Topic 4</th>\n",
       "      <td>'교육(28.4%)', '활동(8.8%)', '아동이(8.8%)', '가족(7.8%)', '프로그램(7.8%)', '한다(7.8%)', '가족과(7.8%)', '있는(7.8...</td>\n",
       "      <td>83</td>\n",
       "      <td>0.1770</td>\n",
       "    </tr>\n",
       "    <tr>\n",
       "      <th>Topic 5</th>\n",
       "      <td>'지원(15.1%)', '아동(15.1%)', '한다(12.3%)', '환경(9.6%)', '있는(8.2%)', '체험(8.2%)', '학교(8.2%)', '교육(8.2%)...</td>\n",
       "      <td>77</td>\n",
       "      <td>0.1642</td>\n",
       "    </tr>\n",
       "    <tr>\n",
       "      <th>Topic 6</th>\n",
       "      <td>'놀이(28.6%)', '안전(13.2%)', '합니다(9.9%)', '아동(8.8%)', '의견을(7.7%)', '있는(7.7%)', '아동의(7.7%)', '주기(5.5...</td>\n",
       "      <td>82</td>\n",
       "      <td>0.1748</td>\n",
       "    </tr>\n",
       "  </tbody>\n",
       "</table>\n",
       "</div>"
      ],
      "text/plain": [
       "                                                                                            Related Keywords  \\\n",
       "Topic 1  '아동(23.5%)', '있는(14.7%)', '교육(9.8%)', '학교(9.8%)', '권리(7.8%)', '가족(6.9%)', '환경(6.9%)', '한다(6.9%)'...   \n",
       "Topic 2  '놀이(21.6%)', '있는(18.2%)', '시설(11.4%)', '의견을(9.1%)', '아동의(9.1%)', '아동들이(8.0%)', '아동이(5.7%)', '위한(...   \n",
       "Topic 3  '있는(20.5%)', '아동들이(16.9%)', '아동이(9.6%)', '위한(8.4%)', '환경(8.4%)', '한다(7.2%)', '있도록(7.2%)', '놀이(7....   \n",
       "Topic 4  '교육(28.4%)', '활동(8.8%)', '아동이(8.8%)', '가족(7.8%)', '프로그램(7.8%)', '한다(7.8%)', '가족과(7.8%)', '있는(7.8...   \n",
       "Topic 5  '지원(15.1%)', '아동(15.1%)', '한다(12.3%)', '환경(9.6%)', '있는(8.2%)', '체험(8.2%)', '학교(8.2%)', '교육(8.2%)...   \n",
       "Topic 6  '놀이(28.6%)', '안전(13.2%)', '합니다(9.9%)', '아동(8.8%)', '의견을(7.7%)', '있는(7.7%)', '아동의(7.7%)', '주기(5.5...   \n",
       "\n",
       "         Number of Sentences  Percentage  \n",
       "Topic 1                   94      0.2004  \n",
       "Topic 2                   60      0.1279  \n",
       "Topic 3                   73      0.1557  \n",
       "Topic 4                   83      0.1770  \n",
       "Topic 5                   77      0.1642  \n",
       "Topic 6                   82      0.1748  "
      ]
     },
     "metadata": {},
     "output_type": "display_data"
    },
    {
     "data": {
      "text/html": [
       "<div>\n",
       "<style scoped>\n",
       "    .dataframe tbody tr th:only-of-type {\n",
       "        vertical-align: middle;\n",
       "    }\n",
       "\n",
       "    .dataframe tbody tr th {\n",
       "        vertical-align: top;\n",
       "    }\n",
       "\n",
       "    .dataframe thead th {\n",
       "        text-align: right;\n",
       "    }\n",
       "</style>\n",
       "<table border=\"1\" class=\"dataframe\">\n",
       "  <thead>\n",
       "    <tr style=\"text-align: right;\">\n",
       "      <th></th>\n",
       "      <th>의견</th>\n",
       "      <th>Related Topic</th>\n",
       "      <th>Weight</th>\n",
       "      <th>Each Topic Weights</th>\n",
       "    </tr>\n",
       "  </thead>\n",
       "  <tbody>\n",
       "    <tr>\n",
       "      <th>0</th>\n",
       "      <td>돈 지원금 지급</td>\n",
       "      <td>6</td>\n",
       "      <td>0.4824</td>\n",
       "      <td>[(0, 0.04185477), (1, 0.35003775), (2, 0.0417701), (3, 0.041670702), (4, 0.04231225), (5, 0.4823...</td>\n",
       "    </tr>\n",
       "    <tr>\n",
       "      <th>1</th>\n",
       "      <td>가족 동반 체험</td>\n",
       "      <td>5</td>\n",
       "      <td>0.7901</td>\n",
       "      <td>[(0, 0.042288058), (1, 0.041698594), (2, 0.041756675), (3, 0.04240749), (4, 0.7901332), (5, 0.04...</td>\n",
       "    </tr>\n",
       "    <tr>\n",
       "      <th>2</th>\n",
       "      <td>생활비 지원 생리대 화장지 필수 용품 지원</td>\n",
       "      <td>2</td>\n",
       "      <td>0.8955</td>\n",
       "      <td>[(0, 0.020868378), (1, 0.89546853), (2, 0.02086884), (3, 0.020876529), (4, 0.021059468), (5, 0.0...</td>\n",
       "    </tr>\n",
       "    <tr>\n",
       "      <th>3</th>\n",
       "      <td>화목한 설문 조사</td>\n",
       "      <td>3</td>\n",
       "      <td>0.6429</td>\n",
       "      <td>[(0, 0.18996921), (1, 0.04190829), (2, 0.64285105), (3, 0.041671544), (4, 0.041730445), (5, 0.04...</td>\n",
       "    </tr>\n",
       "    <tr>\n",
       "      <th>4</th>\n",
       "      <td>가족과 즐거운 대화를 한다 가족과 지내는 방법을 알러준다</td>\n",
       "      <td>4</td>\n",
       "      <td>0.9069</td>\n",
       "      <td>[(0, 0.018602517), (1, 0.01855226), (2, 0.018686838), (3, 0.90690684), (4, 0.0187107), (5, 0.018...</td>\n",
       "    </tr>\n",
       "    <tr>\n",
       "      <th>...</th>\n",
       "      <td>...</td>\n",
       "      <td>...</td>\n",
       "      <td>...</td>\n",
       "      <td>...</td>\n",
       "    </tr>\n",
       "    <tr>\n",
       "      <th>464</th>\n",
       "      <td>건강한 음식 위생관리</td>\n",
       "      <td>6</td>\n",
       "      <td>0.7911</td>\n",
       "      <td>[(0, 0.04167147), (1, 0.041787755), (2, 0.04193278), (3, 0.041736625), (4, 0.041774947), (5, 0.7...</td>\n",
       "    </tr>\n",
       "    <tr>\n",
       "      <th>465</th>\n",
       "      <td>건강한 음식을 지원하고 마음건강을 위한 설문 조사 건강한 음식 지원</td>\n",
       "      <td>3</td>\n",
       "      <td>0.9237</td>\n",
       "      <td>[(0, 0.015206854), (1, 0.015264282), (2, 0.92372036), (3, 0.015173897), (4, 0.015292478), (5, 0....</td>\n",
       "    </tr>\n",
       "    <tr>\n",
       "      <th>466</th>\n",
       "      <td>친구관계 전자기기 사용 줄이기 주기적으로 학생들의 미디어 건강 프로그램을 하기</td>\n",
       "      <td>4</td>\n",
       "      <td>0.9240</td>\n",
       "      <td>[(0, 0.015193975), (1, 0.0151807), (2, 0.0152625125), (3, 0.92399836), (4, 0.015191797), (5, 0.0...</td>\n",
       "    </tr>\n",
       "    <tr>\n",
       "      <th>467</th>\n",
       "      <td>학교 밖 아동 관리 건강한 음식 지원</td>\n",
       "      <td>5</td>\n",
       "      <td>0.8950</td>\n",
       "      <td>[(0, 0.020982578), (1, 0.020940894), (2, 0.021013526), (3, 0.020893207), (4, 0.89495736), (5, 0....</td>\n",
       "    </tr>\n",
       "    <tr>\n",
       "      <th>468</th>\n",
       "      <td>운동을 해야 함 늘리기</td>\n",
       "      <td>3</td>\n",
       "      <td>0.8329</td>\n",
       "      <td>[(0, 0.033420797), (1, 0.033406023), (2, 0.8328682), (3, 0.033353887), (4, 0.033424683), (5, 0.0...</td>\n",
       "    </tr>\n",
       "  </tbody>\n",
       "</table>\n",
       "<p>469 rows × 4 columns</p>\n",
       "</div>"
      ],
      "text/plain": [
       "                                              의견  Related Topic  Weight  \\\n",
       "0                                       돈 지원금 지급              6  0.4824   \n",
       "1                                       가족 동반 체험              5  0.7901   \n",
       "2                        생활비 지원 생리대 화장지 필수 용품 지원              2  0.8955   \n",
       "3                                      화목한 설문 조사              3  0.6429   \n",
       "4                가족과 즐거운 대화를 한다 가족과 지내는 방법을 알러준다              4  0.9069   \n",
       "..                                           ...            ...     ...   \n",
       "464                                  건강한 음식 위생관리              6  0.7911   \n",
       "465        건강한 음식을 지원하고 마음건강을 위한 설문 조사 건강한 음식 지원              3  0.9237   \n",
       "466  친구관계 전자기기 사용 줄이기 주기적으로 학생들의 미디어 건강 프로그램을 하기              4  0.9240   \n",
       "467                         학교 밖 아동 관리 건강한 음식 지원              5  0.8950   \n",
       "468                                 운동을 해야 함 늘리기              3  0.8329   \n",
       "\n",
       "                                                                                      Each Topic Weights  \n",
       "0    [(0, 0.04185477), (1, 0.35003775), (2, 0.0417701), (3, 0.041670702), (4, 0.04231225), (5, 0.4823...  \n",
       "1    [(0, 0.042288058), (1, 0.041698594), (2, 0.041756675), (3, 0.04240749), (4, 0.7901332), (5, 0.04...  \n",
       "2    [(0, 0.020868378), (1, 0.89546853), (2, 0.02086884), (3, 0.020876529), (4, 0.021059468), (5, 0.0...  \n",
       "3    [(0, 0.18996921), (1, 0.04190829), (2, 0.64285105), (3, 0.041671544), (4, 0.041730445), (5, 0.04...  \n",
       "4    [(0, 0.018602517), (1, 0.01855226), (2, 0.018686838), (3, 0.90690684), (4, 0.0187107), (5, 0.018...  \n",
       "..                                                                                                   ...  \n",
       "464  [(0, 0.04167147), (1, 0.041787755), (2, 0.04193278), (3, 0.041736625), (4, 0.041774947), (5, 0.7...  \n",
       "465  [(0, 0.015206854), (1, 0.015264282), (2, 0.92372036), (3, 0.015173897), (4, 0.015292478), (5, 0....  \n",
       "466  [(0, 0.015193975), (1, 0.0151807), (2, 0.0152625125), (3, 0.92399836), (4, 0.015191797), (5, 0.0...  \n",
       "467  [(0, 0.020982578), (1, 0.020940894), (2, 0.021013526), (3, 0.020893207), (4, 0.89495736), (5, 0....  \n",
       "468  [(0, 0.033420797), (1, 0.033406023), (2, 0.8328682), (3, 0.033353887), (4, 0.033424683), (5, 0.0...  \n",
       "\n",
       "[469 rows x 4 columns]"
      ]
     },
     "metadata": {},
     "output_type": "display_data"
    }
   ],
   "source": [
    "# 주체 추출\n",
    "# topic_kw, doc_topic, model = modeling_LDA(df['Token_'+TOKENIZER], opt_numtopics=False, \n",
    "#                                           num_topics=2, num_topicwords=10, num_topicsamples=10,\n",
    "#                                           save_local=True, save_name='Topics_byLDA.csv')\n",
    "topic_kw, doc_topic, model = modeling_LDA(df[TARGET], opt_numtopics=False, \n",
    "                                          num_topics=6, num_topicwords=10, num_topicsamples=10,\n",
    "                                          save_local=True, save_name='Topics_byLDA.csv')\n",
    "display(topic_kw, doc_topic)\n",
    "\n",
    "# 토픽별 wordcloud (다른 카테고리 응용 추가)\n",
    "\n"
   ]
  },
  {
   "cell_type": "code",
   "execution_count": null,
   "id": "cc9b0b97",
   "metadata": {},
   "outputs": [],
   "source": []
  },
  {
   "cell_type": "code",
   "execution_count": null,
   "id": "7f3d1173",
   "metadata": {},
   "outputs": [],
   "source": []
  }
 ],
 "metadata": {
  "hide_input": false,
  "kernelspec": {
   "display_name": "Python 3 (ipykernel)",
   "language": "python",
   "name": "python3"
  },
  "language_info": {
   "codemirror_mode": {
    "name": "ipython",
    "version": 3
   },
   "file_extension": ".py",
   "mimetype": "text/x-python",
   "name": "python",
   "nbconvert_exporter": "python",
   "pygments_lexer": "ipython3",
   "version": "3.11.5"
  },
  "toc": {
   "base_numbering": 1,
   "nav_menu": {},
   "number_sections": true,
   "sideBar": true,
   "skip_h1_title": false,
   "title_cell": "Table of Contents",
   "title_sidebar": "Contents",
   "toc_cell": false,
   "toc_position": {
    "height": "calc(100% - 180px)",
    "left": "10px",
    "top": "150px",
    "width": "255.594px"
   },
   "toc_section_display": true,
   "toc_window_display": false
  }
 },
 "nbformat": 4,
 "nbformat_minor": 5
}
